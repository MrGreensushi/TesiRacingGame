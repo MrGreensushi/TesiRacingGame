{
 "cells": [
  {
   "cell_type": "code",
   "execution_count": null,
   "metadata": {},
   "outputs": [],
   "source": [
    "import pandas as pd"
   ]
  },
  {
   "cell_type": "code",
   "execution_count": null,
   "metadata": {},
   "outputs": [],
   "source": [
    "PATH=r\"C:\\Users\\dansp\\OneDrive\\Desktop\\Tesi\\collectorResults\\MLP.txt\""
   ]
  },
  {
   "cell_type": "code",
   "execution_count": null,
   "metadata": {},
   "outputs": [],
   "source": [
    "df_gara=pd.read_csv(PATH, sep=\";\", header=None , decimal=',',\n",
    "                    names=[\"X_G\", \"Z_G\", \"VEL_X_G\",\"VEL_Z_G\",\"ROT_G\",\"X_T\", \"Z_T\", \"VEL_X_T\",\"VEL_Z_T\",\"ROT_T\"])"
   ]
  }
 ],
 "metadata": {
  "language_info": {
   "name": "python"
  },
  "orig_nbformat": 4
 },
 "nbformat": 4,
 "nbformat_minor": 2
}
