{
 "cells": [
  {
   "cell_type": "code",
   "execution_count": null,
   "id": "20fea2a4-8e09-4803-be40-899fe4695d84",
   "metadata": {},
   "outputs": [],
   "source": [
    "%load_ext autoreload\n",
    "%autoreload 2\n",
    "#%reload_ext autoreload"
   ]
  },
  {
   "cell_type": "code",
   "execution_count": 1,
   "id": "45d2e55b",
   "metadata": {
    "tags": []
   },
   "outputs": [],
   "source": [
    "import tensorflow as tf\n",
    "import tensorflow.keras.layers as layers\n",
    "import numpy as np\n",
    "import matplotlib.pyplot as plt\n",
    "import pandas as pd\n",
    "import Generator_OnlyVel as Generator \n",
    "import model_definitions"
   ]
  },
  {
   "attachments": {},
   "cell_type": "markdown",
   "id": "4b7f6852",
   "metadata": {},
   "source": [
    "### Open input file"
   ]
  },
  {
   "cell_type": "code",
   "execution_count": 9,
   "id": "41825ca2",
   "metadata": {},
   "outputs": [],
   "source": [
    "SEQUENCE_LENGTH=30\n",
    "ONE_CAR=True\n",
    "PATH=r\"C:\\Users\\dansp\\OneDrive\\Desktop\\Tesi\\Logs\\OneCar_Pos_Vel_Rot.txt\"\n",
    "BATCH_SIZE=256*5\n",
    "FEATURES=5 \n",
    "FEATURES_PREDICTED=3"
   ]
  },
  {
   "cell_type": "code",
   "execution_count": 10,
   "id": "0c7b14b0-98d5-49ff-8b88-14abd0632982",
   "metadata": {},
   "outputs": [
    {
     "name": "stdout",
     "output_type": "stream",
     "text": [
      "Max speed diff: 0.8\n",
      "Max x/z diff: 0.8\n",
      "Max rot diff: 2.8000000000000003\n"
     ]
    }
   ],
   "source": [
    "maxSpeed=40\n",
    "frequency=0.02\n",
    "maxdiff=maxSpeed*frequency\n",
    "maxAngularVelocity=140 #140 degrees for second\n",
    "maxAngDiff=maxAngularVelocity*frequency\n",
    "print(f\"Max speed diff: {maxdiff}\\nMax x/z diff: {maxdiff}\\nMax rot diff: {maxAngDiff}\")"
   ]
  },
  {
   "cell_type": "code",
   "execution_count": 11,
   "id": "252787ad-4829-467c-8bfa-c15a35435c94",
   "metadata": {},
   "outputs": [],
   "source": [
    "Generator.SEQUENCE_LENGTH=SEQUENCE_LENGTH\n",
    "Generator.FEATURES=FEATURES\n",
    "df=Generator.single_care_dataframe(PATH)"
   ]
  },
  {
   "cell_type": "code",
   "execution_count": 12,
   "id": "c606f34c",
   "metadata": {},
   "outputs": [
    {
     "name": "stdout",
     "output_type": "stream",
     "text": [
      "WARNING:tensorflow:Detecting that an object or model or tf.train.Checkpoint is being deleted with unrestored values. See the following logs for the specific values in question. To silence these warnings, use `status.expect_partial()`. See https://www.tensorflow.org/api_docs/python/tf/train/Checkpoint#restorefor details about the status object returned by the restore function.\n",
      "WARNING:tensorflow:Value in checkpoint could not be found in the restored object: (root).optimizer.iter\n",
      "WARNING:tensorflow:Value in checkpoint could not be found in the restored object: (root).optimizer.beta_1\n",
      "WARNING:tensorflow:Value in checkpoint could not be found in the restored object: (root).optimizer.beta_2\n",
      "WARNING:tensorflow:Value in checkpoint could not be found in the restored object: (root).optimizer.decay\n",
      "WARNING:tensorflow:Value in checkpoint could not be found in the restored object: (root).optimizer.learning_rate\n",
      "WARNING:tensorflow:Value in checkpoint could not be found in the restored object: (root).keras_api.metrics.0.total\n",
      "WARNING:tensorflow:Value in checkpoint could not be found in the restored object: (root).keras_api.metrics.0.count\n",
      "WARNING:tensorflow:Value in checkpoint could not be found in the restored object: (root).keras_api.metrics.1.total\n",
      "WARNING:tensorflow:Value in checkpoint could not be found in the restored object: (root).keras_api.metrics.1.count\n",
      "WARNING:tensorflow:Value in checkpoint could not be found in the restored object: (root).keras_api.metrics.2.total\n",
      "WARNING:tensorflow:Value in checkpoint could not be found in the restored object: (root).keras_api.metrics.2.count\n",
      "WARNING:tensorflow:Value in checkpoint could not be found in the restored object: (root).optimizer's state 'm' for (root).layer_with_weights-1.gamma\n",
      "WARNING:tensorflow:Value in checkpoint could not be found in the restored object: (root).optimizer's state 'm' for (root).layer_with_weights-1.beta\n",
      "WARNING:tensorflow:Value in checkpoint could not be found in the restored object: (root).optimizer's state 'm' for (root).layer_with_weights-3.gamma\n",
      "WARNING:tensorflow:Value in checkpoint could not be found in the restored object: (root).optimizer's state 'm' for (root).layer_with_weights-3.beta\n",
      "WARNING:tensorflow:Value in checkpoint could not be found in the restored object: (root).optimizer's state 'm' for (root).layer_with_weights-5.kernel\n",
      "WARNING:tensorflow:Value in checkpoint could not be found in the restored object: (root).optimizer's state 'm' for (root).layer_with_weights-5.bias\n",
      "WARNING:tensorflow:Value in checkpoint could not be found in the restored object: (root).optimizer's state 'm' for (root).variables.0\n",
      "WARNING:tensorflow:Value in checkpoint could not be found in the restored object: (root).optimizer's state 'm' for (root).variables.1\n",
      "WARNING:tensorflow:Value in checkpoint could not be found in the restored object: (root).optimizer's state 'm' for (root).variables.2\n",
      "WARNING:tensorflow:Value in checkpoint could not be found in the restored object: (root).optimizer's state 'm' for (root).variables.7\n",
      "WARNING:tensorflow:Value in checkpoint could not be found in the restored object: (root).optimizer's state 'm' for (root).variables.8\n",
      "WARNING:tensorflow:Value in checkpoint could not be found in the restored object: (root).optimizer's state 'm' for (root).variables.9\n",
      "WARNING:tensorflow:Value in checkpoint could not be found in the restored object: (root).optimizer's state 'm' for (root).variables.14\n",
      "WARNING:tensorflow:Value in checkpoint could not be found in the restored object: (root).optimizer's state 'm' for (root).variables.15\n",
      "WARNING:tensorflow:Value in checkpoint could not be found in the restored object: (root).optimizer's state 'm' for (root).variables.16\n",
      "WARNING:tensorflow:Value in checkpoint could not be found in the restored object: (root).optimizer's state 'v' for (root).layer_with_weights-1.gamma\n",
      "WARNING:tensorflow:Value in checkpoint could not be found in the restored object: (root).optimizer's state 'v' for (root).layer_with_weights-1.beta\n",
      "WARNING:tensorflow:Value in checkpoint could not be found in the restored object: (root).optimizer's state 'v' for (root).layer_with_weights-3.gamma\n",
      "WARNING:tensorflow:Value in checkpoint could not be found in the restored object: (root).optimizer's state 'v' for (root).layer_with_weights-3.beta\n",
      "WARNING:tensorflow:Value in checkpoint could not be found in the restored object: (root).optimizer's state 'v' for (root).layer_with_weights-5.kernel\n",
      "WARNING:tensorflow:Value in checkpoint could not be found in the restored object: (root).optimizer's state 'v' for (root).layer_with_weights-5.bias\n",
      "WARNING:tensorflow:Value in checkpoint could not be found in the restored object: (root).optimizer's state 'v' for (root).variables.0\n",
      "WARNING:tensorflow:Value in checkpoint could not be found in the restored object: (root).optimizer's state 'v' for (root).variables.1\n",
      "WARNING:tensorflow:Value in checkpoint could not be found in the restored object: (root).optimizer's state 'v' for (root).variables.2\n",
      "WARNING:tensorflow:Value in checkpoint could not be found in the restored object: (root).optimizer's state 'v' for (root).variables.7\n",
      "WARNING:tensorflow:Value in checkpoint could not be found in the restored object: (root).optimizer's state 'v' for (root).variables.8\n",
      "WARNING:tensorflow:Value in checkpoint could not be found in the restored object: (root).optimizer's state 'v' for (root).variables.9\n",
      "WARNING:tensorflow:Value in checkpoint could not be found in the restored object: (root).optimizer's state 'v' for (root).variables.14\n",
      "WARNING:tensorflow:Value in checkpoint could not be found in the restored object: (root).optimizer's state 'v' for (root).variables.15\n",
      "WARNING:tensorflow:Value in checkpoint could not be found in the restored object: (root).optimizer's state 'v' for (root).variables.16\n"
     ]
    }
   ],
   "source": [
    "def SubtractDF(df):\n",
    "    return df.groupby(\"RACE\",group_keys=False).apply(Generator.subtraction_columns)\n",
    "\n",
    "dfs=[]\n",
    "for i in range(len(df)):\n",
    "    dfs.append(SubtractDF(df[i]))\n",
    "\n",
    "united=dfs[0]\n",
    "for i in range(1,len(df)):\n",
    "    united=pd.concat([united,dfs[i] ],ignore_index=True)"
   ]
  },
  {
   "cell_type": "code",
   "execution_count": 13,
   "id": "e678fb09-6d88-4e8f-8793-5c52ad3987f1",
   "metadata": {},
   "outputs": [],
   "source": [
    "df_train,df_val,df_test= Generator.split_train_validation_test(united,[\"RACE\",\"GROUP\"])"
   ]
  },
  {
   "cell_type": "code",
   "execution_count": 14,
   "id": "f87d77fd-2c1d-4c38-9211-d08d8f3f8707",
   "metadata": {},
   "outputs": [
    {
     "data": {
      "text/html": [
       "<div>\n",
       "<style scoped>\n",
       "    .dataframe tbody tr th:only-of-type {\n",
       "        vertical-align: middle;\n",
       "    }\n",
       "\n",
       "    .dataframe tbody tr th {\n",
       "        vertical-align: top;\n",
       "    }\n",
       "\n",
       "    .dataframe thead th {\n",
       "        text-align: right;\n",
       "    }\n",
       "</style>\n",
       "<table border=\"1\" class=\"dataframe\">\n",
       "  <thead>\n",
       "    <tr style=\"text-align: right;\">\n",
       "      <th></th>\n",
       "      <th>X</th>\n",
       "      <th>Z</th>\n",
       "      <th>DIFF_VEL_X</th>\n",
       "      <th>DIFF_VEL_Z</th>\n",
       "      <th>DIFF_ROT</th>\n",
       "      <th>TIME</th>\n",
       "      <th>RACE</th>\n",
       "      <th>GROUP</th>\n",
       "    </tr>\n",
       "  </thead>\n",
       "  <tbody>\n",
       "    <tr>\n",
       "      <th>0</th>\n",
       "      <td>0.00000</td>\n",
       "      <td>0.000000</td>\n",
       "      <td>0.000000e+00</td>\n",
       "      <td>0.000000</td>\n",
       "      <td>0.000000e+00</td>\n",
       "      <td>0.00</td>\n",
       "      <td>0</td>\n",
       "      <td>0</td>\n",
       "    </tr>\n",
       "    <tr>\n",
       "      <th>1</th>\n",
       "      <td>-64.90002</td>\n",
       "      <td>3.429016</td>\n",
       "      <td>0.000000e+00</td>\n",
       "      <td>0.959571</td>\n",
       "      <td>0.000000e+00</td>\n",
       "      <td>0.06</td>\n",
       "      <td>0</td>\n",
       "      <td>0</td>\n",
       "    </tr>\n",
       "    <tr>\n",
       "      <th>2</th>\n",
       "      <td>-64.90002</td>\n",
       "      <td>3.538513</td>\n",
       "      <td>0.000000e+00</td>\n",
       "      <td>1.277536</td>\n",
       "      <td>0.000000e+00</td>\n",
       "      <td>0.06</td>\n",
       "      <td>0</td>\n",
       "      <td>0</td>\n",
       "    </tr>\n",
       "    <tr>\n",
       "      <th>3</th>\n",
       "      <td>-64.90002</td>\n",
       "      <td>3.722473</td>\n",
       "      <td>-3.956728e-11</td>\n",
       "      <td>1.284701</td>\n",
       "      <td>-1.505327e-09</td>\n",
       "      <td>0.06</td>\n",
       "      <td>0</td>\n",
       "      <td>0</td>\n",
       "    </tr>\n",
       "    <tr>\n",
       "      <th>4</th>\n",
       "      <td>-64.90002</td>\n",
       "      <td>3.982544</td>\n",
       "      <td>-5.000784e-10</td>\n",
       "      <td>1.224364</td>\n",
       "      <td>-5.415302e-09</td>\n",
       "      <td>0.06</td>\n",
       "      <td>0</td>\n",
       "      <td>0</td>\n",
       "    </tr>\n",
       "  </tbody>\n",
       "</table>\n",
       "</div>"
      ],
      "text/plain": [
       "          X         Z    DIFF_VEL_X  DIFF_VEL_Z      DIFF_ROT  TIME  RACE   \n",
       "0   0.00000  0.000000  0.000000e+00    0.000000  0.000000e+00  0.00     0  \\\n",
       "1 -64.90002  3.429016  0.000000e+00    0.959571  0.000000e+00  0.06     0   \n",
       "2 -64.90002  3.538513  0.000000e+00    1.277536  0.000000e+00  0.06     0   \n",
       "3 -64.90002  3.722473 -3.956728e-11    1.284701 -1.505327e-09  0.06     0   \n",
       "4 -64.90002  3.982544 -5.000784e-10    1.224364 -5.415302e-09  0.06     0   \n",
       "\n",
       "   GROUP  \n",
       "0      0  \n",
       "1      0  \n",
       "2      0  \n",
       "3      0  \n",
       "4      0  "
      ]
     },
     "execution_count": 14,
     "metadata": {},
     "output_type": "execute_result"
    }
   ],
   "source": [
    "df_train.head()"
   ]
  },
  {
   "cell_type": "code",
   "execution_count": 15,
   "id": "1e6c4e46-452c-46d6-9ce1-965c703e5be4",
   "metadata": {},
   "outputs": [
    {
     "name": "stdout",
     "output_type": "stream",
     "text": [
      "Length: 7294690 races: 448 n batches: 7240930 / 1280\n",
      "Length: 3647349 races: 448 n batches: 3593589 / 1280\n",
      "Length: 3648017 races: 448 n batches: 3594257 / 1280\n"
     ]
    }
   ],
   "source": [
    "gen_train=Generator.DataGenerator(BATCH_SIZE,df_train,16000)\n",
    "gen_val=Generator.DataGenerator(BATCH_SIZE,df_val,16000)\n",
    "gen_test=Generator.DataGenerator(BATCH_SIZE,df_test,16000)\n"
   ]
  },
  {
   "attachments": {},
   "cell_type": "markdown",
   "id": "1ce93477",
   "metadata": {
    "tags": []
   },
   "source": [
    "### Model definition"
   ]
  },
  {
   "attachments": {},
   "cell_type": "markdown",
   "id": "e9f400a4",
   "metadata": {},
   "source": [
    "#### Train and print"
   ]
  },
  {
   "cell_type": "code",
   "execution_count": 16,
   "id": "2d50ad3a",
   "metadata": {},
   "outputs": [],
   "source": [
    "if(ONE_CAR):\n",
    "    model_definitions.cars=1\n",
    "else:\n",
    "    model_definitions.cars=4\n",
    "model_definitions.features=FEATURES\n",
    "model_definitions.sequence_length=SEQUENCE_LENGTH\n",
    "model_definitions.feat_pred=FEATURES_PREDICTED"
   ]
  },
  {
   "attachments": {},
   "cell_type": "markdown",
   "id": "b1d92d02-082b-47d0-9a36-b42cf8349a43",
   "metadata": {
    "jp-MarkdownHeadingCollapsed": true,
    "tags": []
   },
   "source": [
    "### Rules Model"
   ]
  },
  {
   "cell_type": "code",
   "execution_count": null,
   "id": "cb53b762",
   "metadata": {},
   "outputs": [],
   "source": [
    "lstm,history=LSTM_Train(2,SEQUENCE_LENGTH,4,rules_train,rules_val,learning_rate=0.01,epoch=100, dropout=0.2, cells=6 )\n",
    "\n",
    "ev=lstm.evaluate(rules_test,verbose=0)\n",
    "print(f\"Loss: {ev[0]} MAE: {ev[1]} Accuracy: {ev[2]}\")"
   ]
  },
  {
   "cell_type": "code",
   "execution_count": null,
   "id": "bd1b77a7",
   "metadata": {},
   "outputs": [],
   "source": [
    "lstm2,history=LSTM_Train(2,SEQUENCE_LENGTH,4,rules_train,rules_val,learning_rate=0.002,epoch=100, dropout=0.02, cells=1)\n",
    "\n",
    "ev=lstm2.evaluate(rules_test,verbose=0)\n",
    "print(f\"Loss: {ev[0]} MAE: {ev[1]} Accuracy: {ev[2]}\")"
   ]
  },
  {
   "cell_type": "code",
   "execution_count": null,
   "id": "acc81020",
   "metadata": {},
   "outputs": [],
   "source": [
    "mlp,history=MLP_Train(2,SEQUENCE_LENGTH,4,rules_train,rules_val,learning_rate=0.001,epoch=100)\n",
    "\n",
    "ev=mlp.evaluate(rules_test,verbose=0)\n",
    "print(f\"Loss: {ev[0]} MAE: {ev[1]} Accuracy: {ev[2]}\")"
   ]
  },
  {
   "cell_type": "code",
   "execution_count": null,
   "id": "62dedac7",
   "metadata": {},
   "outputs": [],
   "source": [
    "siamese,history=LSTM_Siamese_Train(2,SEQUENCE_LENGTH,4,rules_train,rules_val,learning_rate=0.001,epoch=100, dropout=0.02, cells=2 )\n",
    "\n",
    "ev=siamese.evaluate(rules_test,verbose=0)\n",
    "print(f\"Loss: {ev[0]} MAE: {ev[1]} Accuracy: {ev[2]}\")"
   ]
  },
  {
   "attachments": {},
   "cell_type": "markdown",
   "id": "995fbcaa",
   "metadata": {
    "tags": []
   },
   "source": [
    "### Physichs Model"
   ]
  },
  {
   "attachments": {},
   "cell_type": "markdown",
   "id": "543ee461",
   "metadata": {},
   "source": [
    "Since physichs data can be very small, Each data is multiply by 10 "
   ]
  },
  {
   "cell_type": "code",
   "execution_count": 12,
   "id": "49bc5a7d",
   "metadata": {
    "collapsed": true,
    "jupyter": {
     "outputs_hidden": true
    },
    "tags": []
   },
   "outputs": [
    {
     "name": "stdout",
     "output_type": "stream",
     "text": [
      "Epoch 1/10\n",
      "5655/5655 [==============================] - 1957s 346ms/step - loss: 158.5340 - mean_absolute_error: 2.9998 - accuracy: 0.0000e+00 - val_loss: 0.3061 - val_mean_absolute_error: 0.3822 - val_accuracy: 9.2807e-08 - lr: 1.0000e-04\n",
      "Epoch 2/10\n",
      "5655/5655 [==============================] - 1947s 344ms/step - loss: 0.2575 - mean_absolute_error: 0.3322 - accuracy: 0.0000e+00 - val_loss: 0.2204 - val_mean_absolute_error: 0.2960 - val_accuracy: 0.0000e+00 - lr: 1.0000e-04\n",
      "Epoch 3/10\n",
      "5655/5655 [==============================] - 1963s 347ms/step - loss: 0.2581 - mean_absolute_error: 0.3241 - accuracy: 4.6051e-08 - val_loss: 0.2206 - val_mean_absolute_error: 0.2969 - val_accuracy: 0.0000e+00 - lr: 1.0000e-04\n",
      "Epoch 4/10\n",
      "5655/5655 [==============================] - ETA: 0s - loss: 0.2531 - mean_absolute_error: 0.3232 - accuracy: 4.6051e-08\n",
      "Epoch 4: ReduceLROnPlateau reducing learning rate to 4.999999873689376e-05.\n",
      "5655/5655 [==============================] - 1946s 344ms/step - loss: 0.2531 - mean_absolute_error: 0.3232 - accuracy: 4.6051e-08 - val_loss: 0.2203 - val_mean_absolute_error: 0.2953 - val_accuracy: 0.0000e+00 - lr: 1.0000e-04\n",
      "Epoch 5/10\n",
      "5655/5655 [==============================] - 1975s 349ms/step - loss: 0.2231 - mean_absolute_error: 0.2976 - accuracy: 1.8420e-07 - val_loss: 0.2192 - val_mean_absolute_error: 0.2933 - val_accuracy: 0.0000e+00 - lr: 5.0000e-05\n",
      "Epoch 6/10\n",
      "5655/5655 [==============================] - 1948s 344ms/step - loss: 0.2259 - mean_absolute_error: 0.3012 - accuracy: 1.3815e-07 - val_loss: 0.2212 - val_mean_absolute_error: 0.2984 - val_accuracy: 0.0000e+00 - lr: 5.0000e-05\n",
      "Epoch 7/10\n",
      "5655/5655 [==============================] - 1964s 347ms/step - loss: 0.2255 - mean_absolute_error: 0.3011 - accuracy: 9.2101e-08 - val_loss: 0.2193 - val_mean_absolute_error: 0.2936 - val_accuracy: 9.2807e-08 - lr: 5.0000e-05\n",
      "Epoch 8/10\n",
      "5655/5655 [==============================] - 1950s 345ms/step - loss: 0.2253 - mean_absolute_error: 0.3009 - accuracy: 0.0000e+00 - val_loss: 0.2185 - val_mean_absolute_error: 0.2913 - val_accuracy: 0.0000e+00 - lr: 5.0000e-05\n",
      "Epoch 9/10\n",
      "5655/5655 [==============================] - 1972s 349ms/step - loss: 0.2257 - mean_absolute_error: 0.3013 - accuracy: 4.6051e-08 - val_loss: 0.2188 - val_mean_absolute_error: 0.2924 - val_accuracy: 0.0000e+00 - lr: 5.0000e-05\n",
      "Epoch 10/10\n",
      "5655/5655 [==============================] - ETA: 0s - loss: 0.2253 - mean_absolute_error: 0.3009 - accuracy: 0.0000e+00\n",
      "Epoch 10: ReduceLROnPlateau reducing learning rate to 2.499999936844688e-05.\n",
      "5655/5655 [==============================] - 1944s 344ms/step - loss: 0.2253 - mean_absolute_error: 0.3009 - accuracy: 0.0000e+00 - val_loss: 0.2190 - val_mean_absolute_error: 0.2928 - val_accuracy: 0.0000e+00 - lr: 5.0000e-05\n",
      "Loss: 0.22041213512420654 MAE: 0.28580760955810547 Accuracy: 0.0\n",
      "INFO:tensorflow:Assets written to: saved_model/MLP0001_PosAssoluta\\assets\n"
     ]
    }
   ],
   "source": [
    "mlp_ph,history_mlp_ph=model_definitions.MLP_Train(gen_train,gen_val,learning_rate=0.0001,epoch=10,verbose=1,name=\"MLP\",path=\"logs_deltaFixedUpdate_Iloc\")\n",
    "\n",
    "ev=mlp_ph.evaluate(gen_test,verbose=0)\n",
    "print(f\"Loss: {ev[0]} MAE: {ev[1]} Accuracy: {ev[2]}\")\n",
    "tf.saved_model.save(mlp_ph,f'saved_model/MLP0001_PosAssoluta')"
   ]
  },
  {
   "cell_type": "code",
   "execution_count": 13,
   "id": "220477fd-dcf0-43ba-8a66-75e4d7745bca",
   "metadata": {
    "collapsed": true,
    "jupyter": {
     "outputs_hidden": true,
     "source_hidden": true
    },
    "tags": []
   },
   "outputs": [
    {
     "name": "stdout",
     "output_type": "stream",
     "text": [
      "Epoch 1/10\n",
      "5655/5655 [==============================] - 2340s 413ms/step - loss: 0.9373 - mean_absolute_error: 0.6307 - accuracy: 4.6051e-08 - val_loss: 0.7536 - val_mean_absolute_error: 0.5764 - val_accuracy: 9.2807e-08 - lr: 1.0000e-04\n",
      "Epoch 2/10\n",
      "5655/5655 [==============================] - 2301s 407ms/step - loss: 0.5683 - mean_absolute_error: 0.5047 - accuracy: 0.0000e+00 - val_loss: 0.4222 - val_mean_absolute_error: 0.4416 - val_accuracy: 0.0000e+00 - lr: 1.0000e-04\n",
      "Epoch 3/10\n",
      "5655/5655 [==============================] - 2333s 412ms/step - loss: 0.3508 - mean_absolute_error: 0.4066 - accuracy: 0.0000e+00 - val_loss: 0.2898 - val_mean_absolute_error: 0.3652 - val_accuracy: 0.0000e+00 - lr: 1.0000e-04\n",
      "Epoch 4/10\n",
      "5655/5655 [==============================] - 2304s 407ms/step - loss: 0.2785 - mean_absolute_error: 0.3564 - accuracy: 0.0000e+00 - val_loss: 0.2501 - val_mean_absolute_error: 0.3341 - val_accuracy: 0.0000e+00 - lr: 1.0000e-04\n",
      "Epoch 5/10\n",
      "5655/5655 [==============================] - 2358s 417ms/step - loss: 0.2492 - mean_absolute_error: 0.3322 - accuracy: 0.0000e+00 - val_loss: 0.2283 - val_mean_absolute_error: 0.3162 - val_accuracy: 9.2807e-08 - lr: 1.0000e-04\n",
      "Epoch 6/10\n",
      "5655/5655 [==============================] - 2466s 436ms/step - loss: 0.2300 - mean_absolute_error: 0.3151 - accuracy: 0.0000e+00 - val_loss: 0.2080 - val_mean_absolute_error: 0.2971 - val_accuracy: 1.8561e-07 - lr: 1.0000e-04\n",
      "Epoch 7/10\n",
      "5655/5655 [==============================] - 2512s 444ms/step - loss: 0.2161 - mean_absolute_error: 0.3028 - accuracy: 9.2101e-08 - val_loss: 0.1974 - val_mean_absolute_error: 0.2864 - val_accuracy: 0.0000e+00 - lr: 1.0000e-04\n",
      "Epoch 8/10\n",
      "5655/5655 [==============================] - 2464s 435ms/step - loss: 0.2077 - mean_absolute_error: 0.2960 - accuracy: 1.3815e-07 - val_loss: 0.1914 - val_mean_absolute_error: 0.2817 - val_accuracy: 1.8561e-07 - lr: 1.0000e-04\n",
      "Epoch 9/10\n",
      "5655/5655 [==============================] - ETA: 0s - loss: 0.2018 - mean_absolute_error: 0.2917 - accuracy: 9.2101e-08\n",
      "Epoch 9: ReduceLROnPlateau reducing learning rate to 4.999999873689376e-05.\n",
      "5655/5655 [==============================] - 2447s 432ms/step - loss: 0.2018 - mean_absolute_error: 0.2917 - accuracy: 9.2101e-08 - val_loss: 0.1879 - val_mean_absolute_error: 0.2795 - val_accuracy: 1.8561e-07 - lr: 1.0000e-04\n",
      "Epoch 10/10\n",
      "5655/5655 [==============================] - 2378s 420ms/step - loss: 0.1990 - mean_absolute_error: 0.2894 - accuracy: 4.6051e-08 - val_loss: 0.1838 - val_mean_absolute_error: 0.2764 - val_accuracy: 0.0000e+00 - lr: 5.0000e-05\n",
      "Loss: 0.17942017316818237 MAE: 0.27068328857421875 Accuracy: 9.277401602503232e-08\n"
     ]
    },
    {
     "name": "stderr",
     "output_type": "stream",
     "text": [
      "WARNING:absl:Found untraced functions such as _jit_compiled_convolution_op, lstm_cell_layer_call_fn, lstm_cell_layer_call_and_return_conditional_losses while saving (showing 3 of 3). These functions will not be directly callable after loading.\n"
     ]
    },
    {
     "name": "stdout",
     "output_type": "stream",
     "text": [
      "INFO:tensorflow:Assets written to: saved_model/CNN_LSTM32_1_32_PosAssoluta\\assets\n"
     ]
    },
    {
     "name": "stderr",
     "output_type": "stream",
     "text": [
      "INFO:tensorflow:Assets written to: saved_model/CNN_LSTM32_1_32_PosAssoluta\\assets\n"
     ]
    }
   ],
   "source": [
    "units=32\n",
    "kernel_size=1\n",
    "filters=32\n",
    "normalization=False\n",
    "cnn_lstm,history_cnn_lstm=model_definitions.CNN_LSTM_Train(gen_train,gen_val,learning_rate=0.0001,patience=10,name=f\"CNN{filters}_{kernel_size}LSTM{units}_Norm{normalization}\",\n",
    "                                                           path=\"logs_350SequenceLength\",epoch=10, dropout=0.2,units=units,kernel_size=kernel_size,\n",
    "                                                           filters=filters, normalization=normalization,verbose=1\n",
    "                                                          )\n",
    "\n",
    "ev=cnn_lstm.evaluate(gen_test,verbose=0)\n",
    "print(f\"Loss: {ev[0]} MAE: {ev[1]} Accuracy: {ev[2]}\")\n",
    "\n",
    "tf.saved_model.save(cnn_lstm,f'saved_model/CNN_LSTM{units}_{kernel_size}_{filters}_PosAssoluta')"
   ]
  },
  {
   "cell_type": "code",
   "execution_count": 26,
   "id": "9695dc32",
   "metadata": {
    "tags": []
   },
   "outputs": [
    {
     "name": "stdout",
     "output_type": "stream",
     "text": [
      "Epoch 1/5\n",
      "5655/5655 [==============================] - 2665s 470ms/step - loss: 0.8589 - mean_absolute_error: 0.6214 - accuracy: 0.0000e+00 - val_loss: 0.9392 - val_mean_absolute_error: 0.6785 - val_accuracy: 2.7842e-07 - lr: 1.0000e-05\n",
      "Epoch 2/5\n",
      "5655/5655 [==============================] - 2777s 491ms/step - loss: 0.6434 - mean_absolute_error: 0.5314 - accuracy: 9.2101e-08 - val_loss: 0.8209 - val_mean_absolute_error: 0.6206 - val_accuracy: 0.0000e+00 - lr: 1.0000e-05\n",
      "Epoch 3/5\n",
      "5655/5655 [==============================] - 2647s 468ms/step - loss: 0.6034 - mean_absolute_error: 0.5082 - accuracy: 4.6051e-08 - val_loss: 0.7608 - val_mean_absolute_error: 0.5913 - val_accuracy: 0.0000e+00 - lr: 1.0000e-05\n",
      "Epoch 4/5\n",
      "5655/5655 [==============================] - 2679s 474ms/step - loss: 0.5788 - mean_absolute_error: 0.4949 - accuracy: 1.3815e-07 - val_loss: 0.7231 - val_mean_absolute_error: 0.5725 - val_accuracy: 0.0000e+00 - lr: 1.0000e-05\n",
      "Epoch 5/5\n",
      "5655/5655 [==============================] - 2712s 479ms/step - loss: 0.5594 - mean_absolute_error: 0.4848 - accuracy: 0.0000e+00 - val_loss: 0.6953 - val_mean_absolute_error: 0.5608 - val_accuracy: 0.0000e+00 - lr: 1.0000e-05\n",
      "Loss: 0.6662136912345886 MAE: 0.5440927147865295 Accuracy: 0.0\n"
     ]
    }
   ],
   "source": [
    "lr =1e-5\n",
    "units=32\n",
    "cells=2\n",
    "normalization=False\n",
    "name=f\"LSTM{cells}_{units}_{lr}_Norm{normalization}\"\n",
    "lstm_ph,history_lstm_ph=model_definitions.LSTM_Train(gen_train,gen_val,learning_rate=lr,patience=6,name=name,path=\"logs_NoPos\",\n",
    "                                                     epoch=5, dropout=0.2, cells=cells,units=units, normalization=normalization,verbose=1)\n",
    "\n",
    "ev=lstm_ph.evaluate(gen_test,verbose=0)\n",
    "print(f\"Loss: {ev[0]} MAE: {ev[1]} Accuracy: {ev[2]}\")"
   ]
  },
  {
   "cell_type": "code",
   "execution_count": 27,
   "id": "f5df7839-f920-48fc-a703-e666e4b23d92",
   "metadata": {},
   "outputs": [
    {
     "name": "stderr",
     "output_type": "stream",
     "text": [
      "WARNING:absl:Found untraced functions such as lstm_cell_layer_call_fn, lstm_cell_layer_call_and_return_conditional_losses, lstm_cell_1_layer_call_fn, lstm_cell_1_layer_call_and_return_conditional_losses, lstm_cell_2_layer_call_fn while saving (showing 5 of 6). These functions will not be directly callable after loading.\n"
     ]
    },
    {
     "name": "stdout",
     "output_type": "stream",
     "text": [
      "INFO:tensorflow:Assets written to: saved_model/LSTM2_32_1e-05_NormFalse_PosAssoluta\\assets\n"
     ]
    },
    {
     "name": "stderr",
     "output_type": "stream",
     "text": [
      "INFO:tensorflow:Assets written to: saved_model/LSTM2_32_1e-05_NormFalse_PosAssoluta\\assets\n"
     ]
    }
   ],
   "source": [
    "tf.saved_model.save(lstm_ph,f'saved_model/{name}_PosAssoluta')"
   ]
  },
  {
   "cell_type": "code",
   "execution_count": 19,
   "id": "f7d2267f",
   "metadata": {},
   "outputs": [
    {
     "data": {
      "text/plain": [
       "<tensorflow.python.checkpoint.checkpoint.CheckpointLoadStatus at 0x294ec93b4f0>"
      ]
     },
     "execution_count": 19,
     "metadata": {},
     "output_type": "execute_result"
    }
   ],
   "source": [
    "model=model_definitions.CNN_LSTM_Model(0.2, units=32,filters=32,kernel_size=1, normalization=False)\n",
    "model.load_weights(\"saved_model\\CNN_LSTM32_1_32_PosAssoluta\")"
   ]
  },
  {
   "cell_type": "code",
   "execution_count": 20,
   "id": "615b66fa",
   "metadata": {},
   "outputs": [
    {
     "name": "stdout",
     "output_type": "stream",
     "text": [
      "Model: \"CNN32_1LSTM32\"\n",
      "_________________________________________________________________\n",
      " Layer (type)                Output Shape              Param #   \n",
      "=================================================================\n",
      " input_7 (InputLayer)        [(None, 30, 5)]           0         \n",
      "                                                                 \n",
      " conv1d (Conv1D)             (None, 30, 32)            192       \n",
      "                                                                 \n",
      " max_pooling1d (MaxPooling1D  (None, 30, 32)           0         \n",
      " )                                                               \n",
      "                                                                 \n",
      " lstm_30 (LSTM)              (None, 32)                8320      \n",
      "                                                                 \n",
      " dense_6 (Dense)             (None, 3)                 99        \n",
      "                                                                 \n",
      "=================================================================\n",
      "Total params: 8,611\n",
      "Trainable params: 8,611\n",
      "Non-trainable params: 0\n",
      "_________________________________________________________________\n"
     ]
    }
   ],
   "source": [
    "model.summary()"
   ]
  },
  {
   "cell_type": "code",
   "execution_count": null,
   "id": "8aef0b09",
   "metadata": {},
   "outputs": [],
   "source": [
    "y_p=model.predict(x_ten)\n",
    "\n",
    "y_p"
   ]
  },
  {
   "cell_type": "code",
   "execution_count": null,
   "id": "cf5ac715",
   "metadata": {},
   "outputs": [],
   "source": [
    "y=x.iloc[SEQUENCE_LENGTH+1]\n",
    "diff= y.values-y_p\n",
    "print(y)\n",
    "diff"
   ]
  }
 ],
 "metadata": {
  "kernelspec": {
   "display_name": "Python 3 (ipykernel)",
   "language": "python",
   "name": "python3"
  },
  "language_info": {
   "codemirror_mode": {
    "name": "ipython",
    "version": 3
   },
   "file_extension": ".py",
   "mimetype": "text/x-python",
   "name": "python",
   "nbconvert_exporter": "python",
   "pygments_lexer": "ipython3",
   "version": "3.10.9"
  }
 },
 "nbformat": 4,
 "nbformat_minor": 5
}
