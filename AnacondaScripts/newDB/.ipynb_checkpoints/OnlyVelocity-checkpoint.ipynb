{
 "cells": [
  {
   "cell_type": "code",
   "execution_count": 1,
   "id": "20fea2a4-8e09-4803-be40-899fe4695d84",
   "metadata": {
    "tags": []
   },
   "outputs": [],
   "source": [
    "%load_ext autoreload\n",
    "%autoreload 2\n",
    "#%reload_ext autoreload"
   ]
  },
  {
   "cell_type": "code",
   "execution_count": 1,
   "id": "45d2e55b",
   "metadata": {
    "tags": []
   },
   "outputs": [],
   "source": [
    "import tensorflow as tf\n",
    "import tensorflow.keras.layers as layers\n",
    "import numpy as np\n",
    "import matplotlib.pyplot as plt\n",
    "import pandas as pd\n",
    "import Generator\n",
    "import model_definitions"
   ]
  },
  {
   "cell_type": "markdown",
   "id": "4b7f6852",
   "metadata": {},
   "source": [
    "### Open input file"
   ]
  },
  {
   "cell_type": "code",
   "execution_count": 2,
   "id": "41825ca2",
   "metadata": {
    "tags": []
   },
   "outputs": [],
   "source": [
    "SEQUENCE_LENGTH=20\n",
    "ONE_CAR=True\n",
    "PATH=r\"D:\\Users\\Students\\Daniele\\records\\OneCar_db.txt\"\n",
    "BATCH_SIZE=256*2\n",
    "FEATURES=7 \n",
    "FEATURES_PREDICTED=7"
   ]
  },
  {
   "cell_type": "code",
   "execution_count": 3,
   "id": "0c7b14b0-98d5-49ff-8b88-14abd0632982",
   "metadata": {
    "tags": []
   },
   "outputs": [
    {
     "name": "stdout",
     "output_type": "stream",
     "text": [
      "Max speed diff: 0.8\n",
      "Max x/z diff: 0.8\n",
      "Max rot diff: 2.8000000000000003\n"
     ]
    }
   ],
   "source": [
    "maxSpeed=40\n",
    "frequency=0.02\n",
    "maxdiff=maxSpeed*frequency\n",
    "maxAngularVelocity=140 #140 degrees for second\n",
    "maxAngDiff=maxAngularVelocity*frequency\n",
    "print(f\"Max speed diff: {maxdiff}\\nMax x/z diff: {maxdiff}\\nMax rot diff: {maxAngDiff}\")"
   ]
  },
  {
   "cell_type": "code",
   "execution_count": 4,
   "id": "252787ad-4829-467c-8bfa-c15a35435c94",
   "metadata": {
    "tags": []
   },
   "outputs": [],
   "source": [
    "Generator.SEQUENCE_LENGTH=SEQUENCE_LENGTH\n",
    "Generator.FEATURES=FEATURES\n",
    "df=Generator.single_care_dataframe(PATH)"
   ]
  },
  {
   "cell_type": "code",
   "execution_count": 5,
   "id": "c606f34c",
   "metadata": {
    "tags": []
   },
   "outputs": [],
   "source": [
    "#def SubtractDF(df):\n",
    "#    return df.groupby(\"RACE\",group_keys=False).apply(Generator.subtraction_columns)\n",
    "\n",
    "dfs=[]\n",
    "for i in range(len(df)):\n",
    "    #dfs.append(SubtractDF(df[i]))\n",
    "    dfs.append(df[i])\n",
    "\n",
    "united=dfs[0]\n",
    "for i in range(1,len(df)):\n",
    "    united=pd.concat([united,dfs[i] ],ignore_index=True)"
   ]
  },
  {
   "cell_type": "code",
   "execution_count": 6,
   "id": "125a142c-90ad-41ed-bdd0-89476ac9e60c",
   "metadata": {
    "tags": []
   },
   "outputs": [
    {
     "data": {
      "text/html": [
       "<div>\n",
       "<style scoped>\n",
       "    .dataframe tbody tr th:only-of-type {\n",
       "        vertical-align: middle;\n",
       "    }\n",
       "\n",
       "    .dataframe tbody tr th {\n",
       "        vertical-align: top;\n",
       "    }\n",
       "\n",
       "    .dataframe thead th {\n",
       "        text-align: right;\n",
       "    }\n",
       "</style>\n",
       "<table border=\"1\" class=\"dataframe\">\n",
       "  <thead>\n",
       "    <tr style=\"text-align: right;\">\n",
       "      <th></th>\n",
       "      <th>X</th>\n",
       "      <th>Z</th>\n",
       "      <th>VEL_X</th>\n",
       "      <th>VEL_Z</th>\n",
       "      <th>ROT</th>\n",
       "      <th>ANG_VEL_Y</th>\n",
       "      <th>ACC_X</th>\n",
       "      <th>ACC_Z</th>\n",
       "      <th>TILE</th>\n",
       "      <th>TILE_IND</th>\n",
       "      <th>X_RELATIVE</th>\n",
       "      <th>Z_RELATIVE</th>\n",
       "      <th>TIME</th>\n",
       "      <th>RACE</th>\n",
       "      <th>GROUP</th>\n",
       "    </tr>\n",
       "  </thead>\n",
       "  <tbody>\n",
       "    <tr>\n",
       "      <th>5310813</th>\n",
       "      <td>352.4524</td>\n",
       "      <td>341.0737</td>\n",
       "      <td>18.46230</td>\n",
       "      <td>21.33041</td>\n",
       "      <td>39.00816</td>\n",
       "      <td>-0.682728</td>\n",
       "      <td>-27.192400</td>\n",
       "      <td>6.774998</td>\n",
       "      <td>8</td>\n",
       "      <td>16</td>\n",
       "      <td>0.399682</td>\n",
       "      <td>0.073825</td>\n",
       "      <td>833.86</td>\n",
       "      <td>167</td>\n",
       "      <td>2</td>\n",
       "    </tr>\n",
       "    <tr>\n",
       "      <th>5310814</th>\n",
       "      <td>353.5054</td>\n",
       "      <td>342.3614</td>\n",
       "      <td>17.36460</td>\n",
       "      <td>21.34036</td>\n",
       "      <td>37.25317</td>\n",
       "      <td>-0.106155</td>\n",
       "      <td>-8.307457</td>\n",
       "      <td>-10.763260</td>\n",
       "      <td>8</td>\n",
       "      <td>16</td>\n",
       "      <td>0.406702</td>\n",
       "      <td>0.082409</td>\n",
       "      <td>833.92</td>\n",
       "      <td>167</td>\n",
       "      <td>2</td>\n",
       "    </tr>\n",
       "    <tr>\n",
       "      <th>5310815</th>\n",
       "      <td>354.5380</td>\n",
       "      <td>343.6179</td>\n",
       "      <td>17.00015</td>\n",
       "      <td>20.87251</td>\n",
       "      <td>38.52879</td>\n",
       "      <td>0.344102</td>\n",
       "      <td>-15.758710</td>\n",
       "      <td>0.690460</td>\n",
       "      <td>8</td>\n",
       "      <td>16</td>\n",
       "      <td>0.413586</td>\n",
       "      <td>0.090786</td>\n",
       "      <td>833.98</td>\n",
       "      <td>167</td>\n",
       "      <td>2</td>\n",
       "    </tr>\n",
       "    <tr>\n",
       "      <th>5310816</th>\n",
       "      <td>355.5680</td>\n",
       "      <td>344.8341</td>\n",
       "      <td>17.28761</td>\n",
       "      <td>19.96328</td>\n",
       "      <td>40.64563</td>\n",
       "      <td>0.721059</td>\n",
       "      <td>6.752014</td>\n",
       "      <td>-15.577130</td>\n",
       "      <td>8</td>\n",
       "      <td>16</td>\n",
       "      <td>0.420453</td>\n",
       "      <td>0.098894</td>\n",
       "      <td>834.04</td>\n",
       "      <td>167</td>\n",
       "      <td>2</td>\n",
       "    </tr>\n",
       "    <tr>\n",
       "      <th>5310817</th>\n",
       "      <td>356.6223</td>\n",
       "      <td>345.9885</td>\n",
       "      <td>17.72273</td>\n",
       "      <td>18.85868</td>\n",
       "      <td>43.55552</td>\n",
       "      <td>0.893507</td>\n",
       "      <td>7.737160</td>\n",
       "      <td>-19.296360</td>\n",
       "      <td>8</td>\n",
       "      <td>16</td>\n",
       "      <td>0.427482</td>\n",
       "      <td>0.106590</td>\n",
       "      <td>834.10</td>\n",
       "      <td>167</td>\n",
       "      <td>2</td>\n",
       "    </tr>\n",
       "  </tbody>\n",
       "</table>\n",
       "</div>"
      ],
      "text/plain": [
       "                X         Z     VEL_X     VEL_Z       ROT  ANG_VEL_Y  \\\n",
       "5310813  352.4524  341.0737  18.46230  21.33041  39.00816  -0.682728   \n",
       "5310814  353.5054  342.3614  17.36460  21.34036  37.25317  -0.106155   \n",
       "5310815  354.5380  343.6179  17.00015  20.87251  38.52879   0.344102   \n",
       "5310816  355.5680  344.8341  17.28761  19.96328  40.64563   0.721059   \n",
       "5310817  356.6223  345.9885  17.72273  18.85868  43.55552   0.893507   \n",
       "\n",
       "             ACC_X      ACC_Z  TILE  TILE_IND  X_RELATIVE  Z_RELATIVE    TIME  \\\n",
       "5310813 -27.192400   6.774998     8        16    0.399682    0.073825  833.86   \n",
       "5310814  -8.307457 -10.763260     8        16    0.406702    0.082409  833.92   \n",
       "5310815 -15.758710   0.690460     8        16    0.413586    0.090786  833.98   \n",
       "5310816   6.752014 -15.577130     8        16    0.420453    0.098894  834.04   \n",
       "5310817   7.737160 -19.296360     8        16    0.427482    0.106590  834.10   \n",
       "\n",
       "         RACE  GROUP  \n",
       "5310813   167      2  \n",
       "5310814   167      2  \n",
       "5310815   167      2  \n",
       "5310816   167      2  \n",
       "5310817   167      2  "
      ]
     },
     "execution_count": 6,
     "metadata": {},
     "output_type": "execute_result"
    }
   ],
   "source": [
    "united.tail()"
   ]
  },
  {
   "cell_type": "code",
   "execution_count": 7,
   "id": "e678fb09-6d88-4e8f-8793-5c52ad3987f1",
   "metadata": {
    "tags": []
   },
   "outputs": [],
   "source": [
    "df_train,df_val,df_test= Generator.split_train_validation_test(united,[\"RACE\",\"GROUP\"])"
   ]
  },
  {
   "cell_type": "code",
   "execution_count": 8,
   "id": "f87d77fd-2c1d-4c38-9211-d08d8f3f8707",
   "metadata": {
    "tags": []
   },
   "outputs": [
    {
     "data": {
      "text/html": [
       "<div>\n",
       "<style scoped>\n",
       "    .dataframe tbody tr th:only-of-type {\n",
       "        vertical-align: middle;\n",
       "    }\n",
       "\n",
       "    .dataframe tbody tr th {\n",
       "        vertical-align: top;\n",
       "    }\n",
       "\n",
       "    .dataframe thead th {\n",
       "        text-align: right;\n",
       "    }\n",
       "</style>\n",
       "<table border=\"1\" class=\"dataframe\">\n",
       "  <thead>\n",
       "    <tr style=\"text-align: right;\">\n",
       "      <th></th>\n",
       "      <th>X</th>\n",
       "      <th>Z</th>\n",
       "      <th>VEL_X</th>\n",
       "      <th>VEL_Z</th>\n",
       "      <th>ROT</th>\n",
       "      <th>ANG_VEL_Y</th>\n",
       "      <th>ACC_X</th>\n",
       "      <th>ACC_Z</th>\n",
       "      <th>TILE</th>\n",
       "      <th>TILE_IND</th>\n",
       "      <th>X_RELATIVE</th>\n",
       "      <th>Z_RELATIVE</th>\n",
       "      <th>TIME</th>\n",
       "      <th>RACE</th>\n",
       "      <th>GROUP</th>\n",
       "    </tr>\n",
       "  </thead>\n",
       "  <tbody>\n",
       "    <tr>\n",
       "      <th>0</th>\n",
       "      <td>-91.80000</td>\n",
       "      <td>-15.80000</td>\n",
       "      <td>0.000000</td>\n",
       "      <td>0.000000</td>\n",
       "      <td>0.0000</td>\n",
       "      <td>0.000000</td>\n",
       "      <td>0.00000</td>\n",
       "      <td>0.00000</td>\n",
       "      <td>4</td>\n",
       "      <td>32</td>\n",
       "      <td>-0.124001</td>\n",
       "      <td>0.389333</td>\n",
       "      <td>0.00</td>\n",
       "      <td>0</td>\n",
       "      <td>0</td>\n",
       "    </tr>\n",
       "    <tr>\n",
       "      <th>1</th>\n",
       "      <td>-91.80005</td>\n",
       "      <td>-15.77100</td>\n",
       "      <td>0.000000</td>\n",
       "      <td>0.959571</td>\n",
       "      <td>0.0000</td>\n",
       "      <td>0.000000</td>\n",
       "      <td>0.00000</td>\n",
       "      <td>23.46909</td>\n",
       "      <td>4</td>\n",
       "      <td>32</td>\n",
       "      <td>-0.124001</td>\n",
       "      <td>0.389720</td>\n",
       "      <td>0.06</td>\n",
       "      <td>0</td>\n",
       "      <td>0</td>\n",
       "    </tr>\n",
       "    <tr>\n",
       "      <th>2</th>\n",
       "      <td>-91.80005</td>\n",
       "      <td>-15.66162</td>\n",
       "      <td>0.000000</td>\n",
       "      <td>2.237107</td>\n",
       "      <td>0.0000</td>\n",
       "      <td>0.000000</td>\n",
       "      <td>0.00000</td>\n",
       "      <td>20.28836</td>\n",
       "      <td>4</td>\n",
       "      <td>32</td>\n",
       "      <td>-0.124001</td>\n",
       "      <td>0.391178</td>\n",
       "      <td>0.12</td>\n",
       "      <td>0</td>\n",
       "      <td>0</td>\n",
       "    </tr>\n",
       "    <tr>\n",
       "      <th>3</th>\n",
       "      <td>-91.80005</td>\n",
       "      <td>-15.48218</td>\n",
       "      <td>0.000000</td>\n",
       "      <td>3.351997</td>\n",
       "      <td>0.0000</td>\n",
       "      <td>0.000000</td>\n",
       "      <td>0.00000</td>\n",
       "      <td>17.79330</td>\n",
       "      <td>4</td>\n",
       "      <td>32</td>\n",
       "      <td>-0.124001</td>\n",
       "      <td>0.393571</td>\n",
       "      <td>0.18</td>\n",
       "      <td>0</td>\n",
       "      <td>0</td>\n",
       "    </tr>\n",
       "    <tr>\n",
       "      <th>4</th>\n",
       "      <td>-91.83801</td>\n",
       "      <td>-15.25586</td>\n",
       "      <td>-1.078362</td>\n",
       "      <td>3.964947</td>\n",
       "      <td>358.5191</td>\n",
       "      <td>-0.712811</td>\n",
       "      <td>-14.55815</td>\n",
       "      <td>14.29321</td>\n",
       "      <td>4</td>\n",
       "      <td>32</td>\n",
       "      <td>-0.124507</td>\n",
       "      <td>0.396589</td>\n",
       "      <td>0.24</td>\n",
       "      <td>0</td>\n",
       "      <td>0</td>\n",
       "    </tr>\n",
       "  </tbody>\n",
       "</table>\n",
       "</div>"
      ],
      "text/plain": [
       "          X         Z     VEL_X     VEL_Z       ROT  ANG_VEL_Y     ACC_X  \\\n",
       "0 -91.80000 -15.80000  0.000000  0.000000    0.0000   0.000000   0.00000   \n",
       "1 -91.80005 -15.77100  0.000000  0.959571    0.0000   0.000000   0.00000   \n",
       "2 -91.80005 -15.66162  0.000000  2.237107    0.0000   0.000000   0.00000   \n",
       "3 -91.80005 -15.48218  0.000000  3.351997    0.0000   0.000000   0.00000   \n",
       "4 -91.83801 -15.25586 -1.078362  3.964947  358.5191  -0.712811 -14.55815   \n",
       "\n",
       "      ACC_Z  TILE  TILE_IND  X_RELATIVE  Z_RELATIVE  TIME  RACE  GROUP  \n",
       "0   0.00000     4        32   -0.124001    0.389333  0.00     0      0  \n",
       "1  23.46909     4        32   -0.124001    0.389720  0.06     0      0  \n",
       "2  20.28836     4        32   -0.124001    0.391178  0.12     0      0  \n",
       "3  17.79330     4        32   -0.124001    0.393571  0.18     0      0  \n",
       "4  14.29321     4        32   -0.124507    0.396589  0.24     0      0  "
      ]
     },
     "execution_count": 8,
     "metadata": {},
     "output_type": "execute_result"
    }
   ],
   "source": [
    "df_train.head()"
   ]
  },
  {
   "cell_type": "code",
   "execution_count": 9,
   "id": "1e6c4e46-452c-46d6-9ce1-965c703e5be4",
   "metadata": {
    "tags": []
   },
   "outputs": [
    {
     "name": "stdout",
     "output_type": "stream",
     "text": [
      "Length: 2655284 races: 168 n batches: 2641844 / 1\n",
      "Length: 1327653 races: 168 n batches: 1314213 / 1\n",
      "Length: 1327881 races: 168 n batches: 1314441 / 1\n"
     ]
    }
   ],
   "source": [
    "gen_train=Generator.DataGenerator(BATCH_SIZE,df_train,16000)\n",
    "gen_val=Generator.DataGenerator(BATCH_SIZE,df_val,16000)\n",
    "gen_test=Generator.DataGenerator(BATCH_SIZE,df_test,16000)\n"
   ]
  },
  {
   "cell_type": "code",
   "execution_count": 14,
   "id": "5ba788fa-8aaf-4878-9ef8-29a427d59810",
   "metadata": {
    "tags": []
   },
   "outputs": [
    {
     "data": {
      "text/plain": [
       "X               507.502400\n",
       "Z               368.759400\n",
       "VEL_X            34.636370\n",
       "VEL_Z            37.388150\n",
       "ROT             359.993600\n",
       "ANG_VEL_Y         2.159812\n",
       "ACC_X           556.678300\n",
       "ACC_Z          1324.802000\n",
       "TILE             19.000000\n",
       "TILE_IND         32.000000\n",
       "X_RELATIVE        0.500001\n",
       "Z_RELATIVE        0.696202\n",
       "TIME          12418.100000\n",
       "RACE            167.000000\n",
       "GROUP             2.000000\n",
       "dtype: float64"
      ]
     },
     "execution_count": 14,
     "metadata": {},
     "output_type": "execute_result"
    }
   ],
   "source": [
    "df_train.max()\n"
   ]
  },
  {
   "cell_type": "markdown",
   "id": "1ce93477",
   "metadata": {
    "tags": []
   },
   "source": [
    "### Model definition"
   ]
  },
  {
   "cell_type": "markdown",
   "id": "e9f400a4",
   "metadata": {},
   "source": [
    "#### Train and print"
   ]
  },
  {
   "cell_type": "code",
   "execution_count": 45,
   "id": "2d50ad3a",
   "metadata": {
    "tags": []
   },
   "outputs": [],
   "source": [
    "if(ONE_CAR):\n",
    "    model_definitions.cars=1\n",
    "else:\n",
    "    model_definitions.cars=4\n",
    "model_definitions.features=FEATURES\n",
    "model_definitions.sequence_length=SEQUENCE_LENGTH\n",
    "model_definitions.feat_pred=FEATURES_PREDICTED"
   ]
  },
  {
   "cell_type": "markdown",
   "id": "b1d92d02-082b-47d0-9a36-b42cf8349a43",
   "metadata": {
    "jp-MarkdownHeadingCollapsed": true,
    "tags": []
   },
   "source": [
    "### Rules Model"
   ]
  },
  {
   "cell_type": "code",
   "execution_count": null,
   "id": "cb53b762",
   "metadata": {},
   "outputs": [],
   "source": [
    "lstm,history=LSTM_Train(2,SEQUENCE_LENGTH,4,rules_train,rules_val,learning_rate=0.01,epoch=100, dropout=0.2, cells=6 )\n",
    "\n",
    "ev=lstm.evaluate(rules_test,verbose=0)\n",
    "print(f\"Loss: {ev[0]} MAE: {ev[1]} Accuracy: {ev[2]}\")"
   ]
  },
  {
   "cell_type": "code",
   "execution_count": null,
   "id": "bd1b77a7",
   "metadata": {},
   "outputs": [],
   "source": [
    "lstm2,history=LSTM_Train(2,SEQUENCE_LENGTH,4,rules_train,rules_val,learning_rate=0.002,epoch=100, dropout=0.02, cells=1)\n",
    "\n",
    "ev=lstm2.evaluate(rules_test,verbose=0)\n",
    "print(f\"Loss: {ev[0]} MAE: {ev[1]} Accuracy: {ev[2]}\")"
   ]
  },
  {
   "cell_type": "code",
   "execution_count": null,
   "id": "acc81020",
   "metadata": {},
   "outputs": [],
   "source": [
    "mlp,history=MLP_Train(2,SEQUENCE_LENGTH,4,rules_train,rules_val,learning_rate=0.001,epoch=100)\n",
    "\n",
    "ev=mlp.evaluate(rules_test,verbose=0)\n",
    "print(f\"Loss: {ev[0]} MAE: {ev[1]} Accuracy: {ev[2]}\")"
   ]
  },
  {
   "cell_type": "code",
   "execution_count": null,
   "id": "62dedac7",
   "metadata": {},
   "outputs": [],
   "source": [
    "siamese,history=LSTM_Siamese_Train(2,SEQUENCE_LENGTH,4,rules_train,rules_val,learning_rate=0.001,epoch=100, dropout=0.02, cells=2 )\n",
    "\n",
    "ev=siamese.evaluate(rules_test,verbose=0)\n",
    "print(f\"Loss: {ev[0]} MAE: {ev[1]} Accuracy: {ev[2]}\")"
   ]
  },
  {
   "cell_type": "markdown",
   "id": "995fbcaa",
   "metadata": {
    "tags": []
   },
   "source": [
    "### Physichs Model"
   ]
  },
  {
   "cell_type": "markdown",
   "id": "543ee461",
   "metadata": {},
   "source": [
    "Since physichs data can be very small, Each data is multiply by 10 "
   ]
  },
  {
   "cell_type": "code",
   "execution_count": 40,
   "id": "49bc5a7d",
   "metadata": {
    "tags": []
   },
   "outputs": [
    {
     "name": "stdout",
     "output_type": "stream",
     "text": [
      "Epoch 1/10\n",
      "2062/2062 [==============================] - 552s 267ms/step - loss: 10.6587 - mean_absolute_error: 1.7272 - accuracy: 1.0825e-07 - val_loss: 2.2738 - val_mean_absolute_error: 0.8728 - val_accuracy: 3.2666e-07 - lr: 1.0000e-04\n",
      "Epoch 2/10\n",
      "2062/2062 [==============================] - 549s 266ms/step - loss: 1.5650 - mean_absolute_error: 0.6889 - accuracy: 5.9538e-07 - val_loss: 1.2075 - val_mean_absolute_error: 0.5596 - val_accuracy: 6.5331e-07 - lr: 1.0000e-04\n",
      "Epoch 3/10\n",
      "2062/2062 [==============================] - 549s 266ms/step - loss: 0.9492 - mean_absolute_error: 0.4581 - accuracy: 5.9538e-07 - val_loss: 0.8598 - val_mean_absolute_error: 0.3900 - val_accuracy: 1.4155e-06 - lr: 1.0000e-04\n",
      "Epoch 4/10\n",
      "2062/2062 [==============================] - 550s 267ms/step - loss: 0.7497 - mean_absolute_error: 0.3422 - accuracy: 1.2449e-06 - val_loss: 0.7421 - val_mean_absolute_error: 0.3100 - val_accuracy: 9.7997e-07 - lr: 1.0000e-04\n",
      "Epoch 5/10\n",
      "2062/2062 [==============================] - 551s 267ms/step - loss: 0.6781 - mean_absolute_error: 0.2870 - accuracy: 1.1366e-06 - val_loss: 0.6964 - val_mean_absolute_error: 0.2708 - val_accuracy: 6.5331e-07 - lr: 1.0000e-04\n",
      "Epoch 6/10\n",
      "2062/2062 [==============================] - 553s 268ms/step - loss: 0.6495 - mean_absolute_error: 0.2597 - accuracy: 1.0284e-06 - val_loss: 0.6768 - val_mean_absolute_error: 0.2510 - val_accuracy: 4.3554e-07 - lr: 1.0000e-04\n",
      "Epoch 7/10\n",
      "2062/2062 [==============================] - 551s 267ms/step - loss: 0.6363 - mean_absolute_error: 0.2449 - accuracy: 1.6238e-06 - val_loss: 0.6669 - val_mean_absolute_error: 0.2389 - val_accuracy: 1.9599e-06 - lr: 1.0000e-04\n",
      "Epoch 8/10\n",
      "2062/2062 [==============================] - 552s 268ms/step - loss: 0.6288 - mean_absolute_error: 0.2357 - accuracy: 1.6238e-06 - val_loss: 0.6605 - val_mean_absolute_error: 0.2304 - val_accuracy: 2.0688e-06 - lr: 1.0000e-04\n",
      "Epoch 9/10\n",
      "2062/2062 [==============================] - 553s 268ms/step - loss: 0.6242 - mean_absolute_error: 0.2294 - accuracy: 1.1908e-06 - val_loss: 0.6563 - val_mean_absolute_error: 0.2252 - val_accuracy: 1.4155e-06 - lr: 1.0000e-04\n",
      "Epoch 10/10\n",
      "2062/2062 [==============================] - ETA: 0s - loss: 0.6210 - mean_absolute_error: 0.2249 - accuracy: 1.5696e-06\n",
      "Epoch 10: ReduceLROnPlateau reducing learning rate to 4.999999873689376e-05.\n",
      "2062/2062 [==============================] - 553s 268ms/step - loss: 0.6210 - mean_absolute_error: 0.2249 - accuracy: 1.5696e-06 - val_loss: 0.6535 - val_mean_absolute_error: 0.2209 - val_accuracy: 1.5244e-06 - lr: 1.0000e-04\n",
      "Loss: 0.6481804251670837 MAE: 0.21861782670021057 Accuracy: 1.4155052667774726e-06\n",
      "INFO:tensorflow:Assets written to: saved_model/MLP0001_PosAssoluta\\assets\n"
     ]
    }
   ],
   "source": [
    "mlp_ph,history_mlp_ph=model_definitions.MLP_Train(gen_train,gen_val,learning_rate=0.0001,epoch=10,verbose=1,name=\"MLP\",path=\"logs\")\n",
    "\n",
    "ev=mlp_ph.evaluate(gen_test,verbose=0)\n",
    "print(f\"Loss: {ev[0]} MAE: {ev[1]} Accuracy: {ev[2]}\")\n",
    "tf.saved_model.save(mlp_ph,f'saved_model/MLP0001_PosAssoluta')"
   ]
  },
  {
   "cell_type": "code",
   "execution_count": 13,
   "id": "220477fd-dcf0-43ba-8a66-75e4d7745bca",
   "metadata": {
    "collapsed": true,
    "jupyter": {
     "outputs_hidden": true,
     "source_hidden": true
    },
    "tags": []
   },
   "outputs": [
    {
     "name": "stdout",
     "output_type": "stream",
     "text": [
      "Epoch 1/10\n",
      "5655/5655 [==============================] - 2340s 413ms/step - loss: 0.9373 - mean_absolute_error: 0.6307 - accuracy: 4.6051e-08 - val_loss: 0.7536 - val_mean_absolute_error: 0.5764 - val_accuracy: 9.2807e-08 - lr: 1.0000e-04\n",
      "Epoch 2/10\n",
      "5655/5655 [==============================] - 2301s 407ms/step - loss: 0.5683 - mean_absolute_error: 0.5047 - accuracy: 0.0000e+00 - val_loss: 0.4222 - val_mean_absolute_error: 0.4416 - val_accuracy: 0.0000e+00 - lr: 1.0000e-04\n",
      "Epoch 3/10\n",
      "5655/5655 [==============================] - 2333s 412ms/step - loss: 0.3508 - mean_absolute_error: 0.4066 - accuracy: 0.0000e+00 - val_loss: 0.2898 - val_mean_absolute_error: 0.3652 - val_accuracy: 0.0000e+00 - lr: 1.0000e-04\n",
      "Epoch 4/10\n",
      "5655/5655 [==============================] - 2304s 407ms/step - loss: 0.2785 - mean_absolute_error: 0.3564 - accuracy: 0.0000e+00 - val_loss: 0.2501 - val_mean_absolute_error: 0.3341 - val_accuracy: 0.0000e+00 - lr: 1.0000e-04\n",
      "Epoch 5/10\n",
      "5655/5655 [==============================] - 2358s 417ms/step - loss: 0.2492 - mean_absolute_error: 0.3322 - accuracy: 0.0000e+00 - val_loss: 0.2283 - val_mean_absolute_error: 0.3162 - val_accuracy: 9.2807e-08 - lr: 1.0000e-04\n",
      "Epoch 6/10\n",
      "5655/5655 [==============================] - 2466s 436ms/step - loss: 0.2300 - mean_absolute_error: 0.3151 - accuracy: 0.0000e+00 - val_loss: 0.2080 - val_mean_absolute_error: 0.2971 - val_accuracy: 1.8561e-07 - lr: 1.0000e-04\n",
      "Epoch 7/10\n",
      "5655/5655 [==============================] - 2512s 444ms/step - loss: 0.2161 - mean_absolute_error: 0.3028 - accuracy: 9.2101e-08 - val_loss: 0.1974 - val_mean_absolute_error: 0.2864 - val_accuracy: 0.0000e+00 - lr: 1.0000e-04\n",
      "Epoch 8/10\n",
      "5655/5655 [==============================] - 2464s 435ms/step - loss: 0.2077 - mean_absolute_error: 0.2960 - accuracy: 1.3815e-07 - val_loss: 0.1914 - val_mean_absolute_error: 0.2817 - val_accuracy: 1.8561e-07 - lr: 1.0000e-04\n",
      "Epoch 9/10\n",
      "5655/5655 [==============================] - ETA: 0s - loss: 0.2018 - mean_absolute_error: 0.2917 - accuracy: 9.2101e-08\n",
      "Epoch 9: ReduceLROnPlateau reducing learning rate to 4.999999873689376e-05.\n",
      "5655/5655 [==============================] - 2447s 432ms/step - loss: 0.2018 - mean_absolute_error: 0.2917 - accuracy: 9.2101e-08 - val_loss: 0.1879 - val_mean_absolute_error: 0.2795 - val_accuracy: 1.8561e-07 - lr: 1.0000e-04\n",
      "Epoch 10/10\n",
      "5655/5655 [==============================] - 2378s 420ms/step - loss: 0.1990 - mean_absolute_error: 0.2894 - accuracy: 4.6051e-08 - val_loss: 0.1838 - val_mean_absolute_error: 0.2764 - val_accuracy: 0.0000e+00 - lr: 5.0000e-05\n",
      "Loss: 0.17942017316818237 MAE: 0.27068328857421875 Accuracy: 9.277401602503232e-08\n"
     ]
    },
    {
     "name": "stderr",
     "output_type": "stream",
     "text": [
      "WARNING:absl:Found untraced functions such as _jit_compiled_convolution_op, lstm_cell_layer_call_fn, lstm_cell_layer_call_and_return_conditional_losses while saving (showing 3 of 3). These functions will not be directly callable after loading.\n"
     ]
    },
    {
     "name": "stdout",
     "output_type": "stream",
     "text": [
      "INFO:tensorflow:Assets written to: saved_model/CNN_LSTM32_1_32_PosAssoluta\\assets\n"
     ]
    },
    {
     "name": "stderr",
     "output_type": "stream",
     "text": [
      "INFO:tensorflow:Assets written to: saved_model/CNN_LSTM32_1_32_PosAssoluta\\assets\n"
     ]
    }
   ],
   "source": [
    "units=32\n",
    "kernel_size=1\n",
    "filters=32\n",
    "normalization=False\n",
    "cnn_lstm,history_cnn_lstm=model_definitions.CNN_LSTM_Train(gen_train,gen_val,learning_rate=0.0001,patience=10,name=f\"CNN{filters}_{kernel_size}LSTM{units}_Norm{normalization}\",\n",
    "                                                           path=\"logs_350SequenceLength\",epoch=10, dropout=0.2,units=units,kernel_size=kernel_size,\n",
    "                                                           filters=filters, normalization=normalization,verbose=1\n",
    "                                                          )\n",
    "\n",
    "ev=cnn_lstm.evaluate(gen_test,verbose=0)\n",
    "print(f\"Loss: {ev[0]} MAE: {ev[1]} Accuracy: {ev[2]}\")\n",
    "\n",
    "tf.saved_model.save(cnn_lstm,f'saved_model/CNN_LSTM{units}_{kernel_size}_{filters}_PosAssoluta')"
   ]
  },
  {
   "cell_type": "code",
   "execution_count": 46,
   "id": "9695dc32",
   "metadata": {
    "tags": []
   },
   "outputs": [
    {
     "name": "stdout",
     "output_type": "stream",
     "text": [
      "Epoch 1/100\n",
      "2062/2062 [==============================] - 553s 267ms/step - loss: 88.7580 - mean_absolute_error: 6.2279 - accuracy: 0.0000e+00 - val_loss: 50.2275 - val_mean_absolute_error: 4.6615 - val_accuracy: 0.0000e+00 - lr: 1.0000e-04\n",
      "Epoch 2/100\n",
      "2062/2062 [==============================] - 552s 267ms/step - loss: 34.7029 - mean_absolute_error: 3.7851 - accuracy: 0.0000e+00 - val_loss: 20.3536 - val_mean_absolute_error: 2.8223 - val_accuracy: 0.0000e+00 - lr: 1.0000e-04\n",
      "Epoch 3/100\n",
      "2062/2062 [==============================] - 554s 269ms/step - loss: 13.1502 - mean_absolute_error: 2.2193 - accuracy: 1.0825e-07 - val_loss: 7.7751 - val_mean_absolute_error: 1.6381 - val_accuracy: 3.2666e-07 - lr: 1.0000e-04\n",
      "Epoch 4/100\n",
      "2062/2062 [==============================] - 552s 267ms/step - loss: 4.6471 - mean_absolute_error: 1.2649 - accuracy: 5.4126e-08 - val_loss: 4.5808 - val_mean_absolute_error: 1.1905 - val_accuracy: 1.0889e-07 - lr: 1.0000e-04\n",
      "Epoch 5/100\n",
      "2062/2062 [==============================] - 552s 268ms/step - loss: 2.0700 - mean_absolute_error: 0.8251 - accuracy: 2.7063e-07 - val_loss: 4.4105 - val_mean_absolute_error: 1.1554 - val_accuracy: 2.1777e-07 - lr: 1.0000e-04\n",
      "Epoch 6/100\n",
      "2062/2062 [==============================] - 552s 268ms/step - loss: 1.3825 - mean_absolute_error: 0.6544 - accuracy: 5.9538e-07 - val_loss: 4.4870 - val_mean_absolute_error: 1.1358 - val_accuracy: 1.0889e-07 - lr: 1.0000e-04\n",
      "Epoch 7/100\n",
      "2062/2062 [==============================] - ETA: 0s - loss: 1.1368 - mean_absolute_error: 0.5798 - accuracy: 5.9538e-07\n",
      "Epoch 7: ReduceLROnPlateau reducing learning rate to 4.999999873689376e-05.\n",
      "2062/2062 [==============================] - 552s 268ms/step - loss: 1.1368 - mean_absolute_error: 0.5798 - accuracy: 5.9538e-07 - val_loss: 4.5686 - val_mean_absolute_error: 1.1328 - val_accuracy: 1.0889e-07 - lr: 1.0000e-04\n",
      "Epoch 8/100\n",
      "2062/2062 [==============================] - 551s 267ms/step - loss: 1.0697 - mean_absolute_error: 0.5561 - accuracy: 3.2475e-07 - val_loss: 3.2371 - val_mean_absolute_error: 0.9578 - val_accuracy: 1.0889e-07 - lr: 5.0000e-05\n",
      "Epoch 9/100\n",
      "2062/2062 [==============================] - 552s 267ms/step - loss: 1.0118 - mean_absolute_error: 0.5370 - accuracy: 2.7063e-07 - val_loss: 3.2212 - val_mean_absolute_error: 0.9572 - val_accuracy: 3.2666e-07 - lr: 5.0000e-05\n",
      "Epoch 10/100\n",
      "2062/2062 [==============================] - 552s 268ms/step - loss: 0.9628 - mean_absolute_error: 0.5212 - accuracy: 5.4126e-07 - val_loss: 3.3266 - val_mean_absolute_error: 0.9712 - val_accuracy: 2.1777e-07 - lr: 5.0000e-05\n",
      "Epoch 11/100\n",
      "2062/2062 [==============================] - 551s 267ms/step - loss: 0.9278 - mean_absolute_error: 0.5082 - accuracy: 5.9538e-07 - val_loss: 3.3494 - val_mean_absolute_error: 0.9749 - val_accuracy: 1.0889e-07 - lr: 5.0000e-05\n",
      "Epoch 12/100\n",
      "2062/2062 [==============================] - 552s 268ms/step - loss: 0.8954 - mean_absolute_error: 0.4966 - accuracy: 9.2014e-07 - val_loss: 3.3912 - val_mean_absolute_error: 0.9800 - val_accuracy: 4.3554e-07 - lr: 5.0000e-05\n",
      "Epoch 13/100\n",
      "2062/2062 [==============================] - ETA: 0s - loss: 0.8676 - mean_absolute_error: 0.4861 - accuracy: 7.0363e-07\n",
      "Epoch 13: ReduceLROnPlateau reducing learning rate to 2.499999936844688e-05.\n",
      "2062/2062 [==============================] - 552s 267ms/step - loss: 0.8676 - mean_absolute_error: 0.4861 - accuracy: 7.0363e-07 - val_loss: 3.4753 - val_mean_absolute_error: 0.9926 - val_accuracy: 6.5331e-07 - lr: 5.0000e-05\n",
      "Epoch 14/100\n",
      "2062/2062 [==============================] - 552s 268ms/step - loss: 0.8737 - mean_absolute_error: 0.4877 - accuracy: 5.4126e-07 - val_loss: 2.6968 - val_mean_absolute_error: 0.8839 - val_accuracy: 2.1777e-07 - lr: 2.5000e-05\n",
      "Epoch 15/100\n",
      "2062/2062 [==============================] - 551s 267ms/step - loss: 0.8587 - mean_absolute_error: 0.4827 - accuracy: 4.3301e-07 - val_loss: 2.7630 - val_mean_absolute_error: 0.8954 - val_accuracy: 6.5331e-07 - lr: 2.5000e-05\n",
      "Epoch 16/100\n",
      "2062/2062 [==============================] - 551s 267ms/step - loss: 0.8447 - mean_absolute_error: 0.4780 - accuracy: 5.9538e-07 - val_loss: 2.8120 - val_mean_absolute_error: 0.9029 - val_accuracy: 3.2666e-07 - lr: 2.5000e-05\n",
      "Epoch 17/100\n",
      "2062/2062 [==============================] - 551s 267ms/step - loss: 0.8309 - mean_absolute_error: 0.4733 - accuracy: 3.2475e-07 - val_loss: 2.8313 - val_mean_absolute_error: 0.9079 - val_accuracy: 5.4443e-07 - lr: 2.5000e-05\n",
      "Epoch 18/100\n",
      "2062/2062 [==============================] - 552s 267ms/step - loss: 0.8201 - mean_absolute_error: 0.4693 - accuracy: 4.3301e-07 - val_loss: 2.8299 - val_mean_absolute_error: 0.9093 - val_accuracy: 3.2666e-07 - lr: 2.5000e-05\n",
      "Epoch 19/100\n",
      "2062/2062 [==============================] - ETA: 0s - loss: 0.8101 - mean_absolute_error: 0.4652 - accuracy: 4.3301e-07\n",
      "Epoch 19: ReduceLROnPlateau reducing learning rate to 1.249999968422344e-05.\n",
      "2062/2062 [==============================] - 552s 268ms/step - loss: 0.8101 - mean_absolute_error: 0.4652 - accuracy: 4.3301e-07 - val_loss: 2.9443 - val_mean_absolute_error: 0.9287 - val_accuracy: 4.3554e-07 - lr: 2.5000e-05\n",
      "Epoch 20/100\n",
      "2062/2062 [==============================] - 553s 268ms/step - loss: 0.8289 - mean_absolute_error: 0.4705 - accuracy: 2.7063e-07 - val_loss: 2.7012 - val_mean_absolute_error: 0.8873 - val_accuracy: 0.0000e+00 - lr: 1.2500e-05\n",
      "Loss: 2.6620938777923584 MAE: 0.8840721249580383 Accuracy: 5.444250632535841e-07\n",
      "INFO:tensorflow:Assets written to: saved_model/LSTM3_64_0.0001_NormFalse\\assets\n"
     ]
    }
   ],
   "source": [
    "lr =1e-4\n",
    "units=64\n",
    "cells=3\n",
    "normalization=False\n",
    "name=f\"LSTM{cells}_{units}_{lr}_Norm{normalization}\"\n",
    "lstm_ph,history_lstm_ph=model_definitions.LSTM_Train(gen_train,gen_val,learning_rate=lr,patience=6,name=name,path=\"logs\",\n",
    "                                                     epoch=100, dropout=0.2, cells=cells,units=units, normalization=normalization,verbose=1)\n",
    "\n",
    "ev=lstm_ph.evaluate(gen_test,verbose=0)\n",
    "print(f\"Loss: {ev[0]} MAE: {ev[1]} Accuracy: {ev[2]}\")\n",
    "tf.saved_model.save(mlp_ph,f'saved_model/{name}')"
   ]
  },
  {
   "cell_type": "code",
   "execution_count": 27,
   "id": "f5df7839-f920-48fc-a703-e666e4b23d92",
   "metadata": {},
   "outputs": [
    {
     "name": "stderr",
     "output_type": "stream",
     "text": [
      "WARNING:absl:Found untraced functions such as lstm_cell_layer_call_fn, lstm_cell_layer_call_and_return_conditional_losses, lstm_cell_1_layer_call_fn, lstm_cell_1_layer_call_and_return_conditional_losses, lstm_cell_2_layer_call_fn while saving (showing 5 of 6). These functions will not be directly callable after loading.\n"
     ]
    },
    {
     "name": "stdout",
     "output_type": "stream",
     "text": [
      "INFO:tensorflow:Assets written to: saved_model/LSTM2_32_1e-05_NormFalse_PosAssoluta\\assets\n"
     ]
    },
    {
     "name": "stderr",
     "output_type": "stream",
     "text": [
      "INFO:tensorflow:Assets written to: saved_model/LSTM2_32_1e-05_NormFalse_PosAssoluta\\assets\n"
     ]
    }
   ],
   "source": [
    "tf.saved_model.save(lstm_ph,f'saved_model/{name}_PosAssoluta')"
   ]
  },
  {
   "cell_type": "code",
   "execution_count": 19,
   "id": "f7d2267f",
   "metadata": {},
   "outputs": [
    {
     "data": {
      "text/plain": [
       "<tensorflow.python.checkpoint.checkpoint.CheckpointLoadStatus at 0x294ec93b4f0>"
      ]
     },
     "execution_count": 19,
     "metadata": {},
     "output_type": "execute_result"
    }
   ],
   "source": [
    "model=model_definitions.CNN_LSTM_Model(0.2, units=32,filters=32,kernel_size=1, normalization=False)\n",
    "model.load_weights(\"saved_model\\CNN_LSTM32_1_32_PosAssoluta\")"
   ]
  },
  {
   "cell_type": "code",
   "execution_count": 20,
   "id": "615b66fa",
   "metadata": {},
   "outputs": [
    {
     "name": "stdout",
     "output_type": "stream",
     "text": [
      "Model: \"CNN32_1LSTM32\"\n",
      "_________________________________________________________________\n",
      " Layer (type)                Output Shape              Param #   \n",
      "=================================================================\n",
      " input_7 (InputLayer)        [(None, 30, 5)]           0         \n",
      "                                                                 \n",
      " conv1d (Conv1D)             (None, 30, 32)            192       \n",
      "                                                                 \n",
      " max_pooling1d (MaxPooling1D  (None, 30, 32)           0         \n",
      " )                                                               \n",
      "                                                                 \n",
      " lstm_30 (LSTM)              (None, 32)                8320      \n",
      "                                                                 \n",
      " dense_6 (Dense)             (None, 3)                 99        \n",
      "                                                                 \n",
      "=================================================================\n",
      "Total params: 8,611\n",
      "Trainable params: 8,611\n",
      "Non-trainable params: 0\n",
      "_________________________________________________________________\n"
     ]
    }
   ],
   "source": [
    "model.summary()"
   ]
  },
  {
   "cell_type": "code",
   "execution_count": null,
   "id": "8aef0b09",
   "metadata": {},
   "outputs": [],
   "source": [
    "import tf2onnx\n",
    "import onnx\n",
    "input_signature=(tf.TensorSpec([None,30,5],tf.float32,name='x'))\n",
    "onnx_model,_=tf2onnx.converter.from_keras(model,input_signature,opset=9)"
   ]
  },
  {
   "cell_type": "code",
   "execution_count": null,
   "id": "cf5ac715",
   "metadata": {},
   "outputs": [],
   "source": []
  }
 ],
 "metadata": {
  "kernelspec": {
   "display_name": "Python 3 (ipykernel)",
   "language": "python",
   "name": "python3"
  },
  "language_info": {
   "codemirror_mode": {
    "name": "ipython",
    "version": 3
   },
   "file_extension": ".py",
   "mimetype": "text/x-python",
   "name": "python",
   "nbconvert_exporter": "python",
   "pygments_lexer": "ipython3",
   "version": "3.9.16"
  }
 },
 "nbformat": 4,
 "nbformat_minor": 5
}
