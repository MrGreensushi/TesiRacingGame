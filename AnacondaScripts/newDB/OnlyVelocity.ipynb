{
 "cells": [
  {
   "cell_type": "code",
   "execution_count": 1,
   "id": "20fea2a4-8e09-4803-be40-899fe4695d84",
   "metadata": {
    "tags": []
   },
   "outputs": [],
   "source": [
    "%load_ext autoreload\n",
    "%autoreload 2\n",
    "#%reload_ext autoreload"
   ]
  },
  {
   "cell_type": "code",
   "execution_count": 12,
   "id": "45d2e55b",
   "metadata": {
    "tags": []
   },
   "outputs": [],
   "source": [
    "import tensorflow as tf\n",
    "import tensorflow.keras.layers as layers\n",
    "import numpy as np\n",
    "import matplotlib.pyplot as plt\n",
    "import pandas as pd\n",
    "import Generator as Generator \n",
    "import model_definitions"
   ]
  },
  {
   "cell_type": "markdown",
   "id": "4b7f6852",
   "metadata": {},
   "source": [
    "### Open input file"
   ]
  },
  {
   "cell_type": "code",
   "execution_count": 24,
   "id": "41825ca2",
   "metadata": {
    "tags": []
   },
   "outputs": [],
   "source": [
    "SEQUENCE_LENGTH=20\n",
    "ONE_CAR=True\n",
    "PATH=r\"D:\\Users\\Students\\Daniele\\records\\OneCar_db.txt\"\n",
    "BATCH_SIZE=256*2\n",
    "FEATURES=7 \n",
    "FEATURES_PREDICTED=3"
   ]
  },
  {
   "cell_type": "code",
   "execution_count": 25,
   "id": "0c7b14b0-98d5-49ff-8b88-14abd0632982",
   "metadata": {
    "tags": []
   },
   "outputs": [
    {
     "name": "stdout",
     "output_type": "stream",
     "text": [
      "Max speed diff: 0.8\n",
      "Max x/z diff: 0.8\n",
      "Max rot diff: 2.8000000000000003\n"
     ]
    }
   ],
   "source": [
    "maxSpeed=40\n",
    "frequency=0.02\n",
    "maxdiff=maxSpeed*frequency\n",
    "maxAngularVelocity=140 #140 degrees for second\n",
    "maxAngDiff=maxAngularVelocity*frequency\n",
    "print(f\"Max speed diff: {maxdiff}\\nMax x/z diff: {maxdiff}\\nMax rot diff: {maxAngDiff}\")"
   ]
  },
  {
   "cell_type": "code",
   "execution_count": null,
   "id": "252787ad-4829-467c-8bfa-c15a35435c94",
   "metadata": {
    "tags": []
   },
   "outputs": [],
   "source": [
    "Generator.SEQUENCE_LENGTH=SEQUENCE_LENGTH\n",
    "Generator.FEATURES=FEATURES\n",
    "df=Generator.single_care_dataframe(PATH)"
   ]
  },
  {
   "cell_type": "code",
   "execution_count": null,
   "id": "c606f34c",
   "metadata": {
    "tags": []
   },
   "outputs": [],
   "source": [
    "#def SubtractDF(df):\n",
    "#    return df.groupby(\"RACE\",group_keys=False).apply(Generator.subtraction_columns)\n",
    "\n",
    "dfs=[]\n",
    "for i in range(len(df)):\n",
    "    #dfs.append(SubtractDF(df[i]))\n",
    "    dfs.append(df[i])\n",
    "\n",
    "united=dfs[0]\n",
    "for i in range(1,len(df)):\n",
    "    united=pd.concat([united,dfs[i] ],ignore_index=True)"
   ]
  },
  {
   "cell_type": "code",
   "execution_count": null,
   "id": "125a142c-90ad-41ed-bdd0-89476ac9e60c",
   "metadata": {
    "tags": []
   },
   "outputs": [],
   "source": [
    "united.tail()"
   ]
  },
  {
   "cell_type": "code",
   "execution_count": null,
   "id": "e678fb09-6d88-4e8f-8793-5c52ad3987f1",
   "metadata": {
    "tags": []
   },
   "outputs": [],
   "source": [
    "df_train,df_val,df_test= Generator.split_train_validation_test(united,[\"RACE\",\"GROUP\"])"
   ]
  },
  {
   "cell_type": "code",
   "execution_count": null,
   "id": "f87d77fd-2c1d-4c38-9211-d08d8f3f8707",
   "metadata": {
    "tags": []
   },
   "outputs": [],
   "source": [
    "df_train.head()"
   ]
  },
  {
   "cell_type": "code",
   "execution_count": null,
   "id": "1e6c4e46-452c-46d6-9ce1-965c703e5be4",
   "metadata": {
    "tags": []
   },
   "outputs": [],
   "source": [
    "gen_train=Generator.DataGenerator(BATCH_SIZE,df_train,16000)\n",
    "gen_val=Generator.DataGenerator(BATCH_SIZE,df_val,16000)\n",
    "gen_test=Generator.DataGenerator(BATCH_SIZE,df_test,16000)\n"
   ]
  },
  {
   "cell_type": "markdown",
   "id": "1ce93477",
   "metadata": {
    "tags": []
   },
   "source": [
    "### Model definition"
   ]
  },
  {
   "cell_type": "markdown",
   "id": "e9f400a4",
   "metadata": {},
   "source": [
    "#### Train and print"
   ]
  },
  {
   "cell_type": "code",
   "execution_count": null,
   "id": "2d50ad3a",
   "metadata": {
    "tags": []
   },
   "outputs": [],
   "source": [
    "if(ONE_CAR):\n",
    "    model_definitions.cars=1\n",
    "else:\n",
    "    model_definitions.cars=4\n",
    "model_definitions.features=FEATURES\n",
    "model_definitions.sequence_length=SEQUENCE_LENGTH\n",
    "model_definitions.feat_pred=FEATURES_PREDICTED"
   ]
  },
  {
   "cell_type": "markdown",
   "id": "b1d92d02-082b-47d0-9a36-b42cf8349a43",
   "metadata": {
    "jp-MarkdownHeadingCollapsed": true,
    "tags": []
   },
   "source": [
    "### Rules Model"
   ]
  },
  {
   "cell_type": "code",
   "execution_count": null,
   "id": "cb53b762",
   "metadata": {},
   "outputs": [],
   "source": [
    "lstm,history=LSTM_Train(2,SEQUENCE_LENGTH,4,rules_train,rules_val,learning_rate=0.01,epoch=100, dropout=0.2, cells=6 )\n",
    "\n",
    "ev=lstm.evaluate(rules_test,verbose=0)\n",
    "print(f\"Loss: {ev[0]} MAE: {ev[1]} Accuracy: {ev[2]}\")"
   ]
  },
  {
   "cell_type": "code",
   "execution_count": null,
   "id": "bd1b77a7",
   "metadata": {},
   "outputs": [],
   "source": [
    "lstm2,history=LSTM_Train(2,SEQUENCE_LENGTH,4,rules_train,rules_val,learning_rate=0.002,epoch=100, dropout=0.02, cells=1)\n",
    "\n",
    "ev=lstm2.evaluate(rules_test,verbose=0)\n",
    "print(f\"Loss: {ev[0]} MAE: {ev[1]} Accuracy: {ev[2]}\")"
   ]
  },
  {
   "cell_type": "code",
   "execution_count": null,
   "id": "acc81020",
   "metadata": {},
   "outputs": [],
   "source": [
    "mlp,history=MLP_Train(2,SEQUENCE_LENGTH,4,rules_train,rules_val,learning_rate=0.001,epoch=100)\n",
    "\n",
    "ev=mlp.evaluate(rules_test,verbose=0)\n",
    "print(f\"Loss: {ev[0]} MAE: {ev[1]} Accuracy: {ev[2]}\")"
   ]
  },
  {
   "cell_type": "code",
   "execution_count": null,
   "id": "62dedac7",
   "metadata": {},
   "outputs": [],
   "source": [
    "siamese,history=LSTM_Siamese_Train(2,SEQUENCE_LENGTH,4,rules_train,rules_val,learning_rate=0.001,epoch=100, dropout=0.02, cells=2 )\n",
    "\n",
    "ev=siamese.evaluate(rules_test,verbose=0)\n",
    "print(f\"Loss: {ev[0]} MAE: {ev[1]} Accuracy: {ev[2]}\")"
   ]
  },
  {
   "cell_type": "markdown",
   "id": "995fbcaa",
   "metadata": {
    "tags": []
   },
   "source": [
    "### Physichs Model"
   ]
  },
  {
   "cell_type": "markdown",
   "id": "543ee461",
   "metadata": {},
   "source": [
    "Since physichs data can be very small, Each data is multiply by 10 "
   ]
  },
  {
   "cell_type": "code",
   "execution_count": 11,
   "id": "49bc5a7d",
   "metadata": {
    "collapsed": true,
    "jupyter": {
     "outputs_hidden": true
    },
    "tags": []
   },
   "outputs": [
    {
     "name": "stdout",
     "output_type": "stream",
     "text": [
      "Epoch 1/10\n",
      "5158/5158 [==============================] - 496s 96ms/step - loss: 14.2417 - mean_absolute_error: 1.8190 - accuracy: 1.2622e-07 - val_loss: 1.2071 - val_mean_absolute_error: 0.7566 - val_accuracy: 0.0000e+00 - lr: 1.0000e-04\n",
      "Epoch 2/10\n",
      "5158/5158 [==============================] - 496s 96ms/step - loss: 0.5284 - mean_absolute_error: 0.4881 - accuracy: 6.3110e-07 - val_loss: 0.2291 - val_mean_absolute_error: 0.3358 - val_accuracy: 1.0153e-06 - lr: 1.0000e-04\n",
      "Epoch 3/10\n",
      "5158/5158 [==============================] - 500s 97ms/step - loss: 0.1611 - mean_absolute_error: 0.2807 - accuracy: 1.7671e-06 - val_loss: 0.1318 - val_mean_absolute_error: 0.2546 - val_accuracy: 2.2844e-06 - lr: 1.0000e-04\n",
      "Epoch 4/10\n",
      "5158/5158 [==============================] - 500s 97ms/step - loss: 0.1165 - mean_absolute_error: 0.2401 - accuracy: 2.1457e-06 - val_loss: 0.1093 - val_mean_absolute_error: 0.2323 - val_accuracy: 1.2691e-06 - lr: 1.0000e-04\n",
      "Epoch 5/10\n",
      "5158/5158 [==============================] - 498s 97ms/step - loss: 0.1015 - mean_absolute_error: 0.2241 - accuracy: 1.8933e-06 - val_loss: 0.0983 - val_mean_absolute_error: 0.2201 - val_accuracy: 2.5382e-06 - lr: 1.0000e-04\n",
      "Epoch 6/10\n",
      "5158/5158 [==============================] - 502s 97ms/step - loss: 0.0936 - mean_absolute_error: 0.2152 - accuracy: 2.0195e-06 - val_loss: 0.0929 - val_mean_absolute_error: 0.2146 - val_accuracy: 1.0153e-06 - lr: 1.0000e-04\n",
      "Epoch 7/10\n",
      "5157/5158 [============================>.] - ETA: 0s - loss: 0.0887 - mean_absolute_error: 0.2091 - accuracy: 1.2624e-06\n",
      "Epoch 7: ReduceLROnPlateau reducing learning rate to 4.999999873689376e-05.\n",
      "5158/5158 [==============================] - 496s 96ms/step - loss: 0.0887 - mean_absolute_error: 0.2091 - accuracy: 1.2622e-06 - val_loss: 0.0910 - val_mean_absolute_error: 0.2145 - val_accuracy: 7.6145e-07 - lr: 1.0000e-04\n",
      "Epoch 8/10\n",
      "5158/5158 [==============================] - 498s 96ms/step - loss: 0.0841 - mean_absolute_error: 0.2026 - accuracy: 2.9031e-06 - val_loss: 0.0851 - val_mean_absolute_error: 0.2036 - val_accuracy: 2.0305e-06 - lr: 5.0000e-05\n",
      "Epoch 9/10\n",
      "5158/5158 [==============================] - 499s 97ms/step - loss: 0.0820 - mean_absolute_error: 0.1999 - accuracy: 2.5244e-06 - val_loss: 0.0828 - val_mean_absolute_error: 0.2005 - val_accuracy: 3.8073e-06 - lr: 5.0000e-05\n",
      "Epoch 10/10\n",
      "5158/5158 [==============================] - 500s 97ms/step - loss: 0.0802 - mean_absolute_error: 0.1974 - accuracy: 3.1555e-06 - val_loss: 0.0812 - val_mean_absolute_error: 0.1981 - val_accuracy: 2.5382e-06 - lr: 5.0000e-05\n",
      "Loss: 0.07773538678884506 MAE: 0.1940382719039917 Accuracy: 2.2834665287518874e-06\n",
      "INFO:tensorflow:Assets written to: saved_model/MLP0001_PosAssoluta\\assets\n"
     ]
    }
   ],
   "source": [
    "mlp_ph,history_mlp_ph=model_definitions.MLP_Train(gen_train,gen_val,learning_rate=0.0001,epoch=10,verbose=1,name=\"MLP\",path=\"logs\")\n",
    "\n",
    "ev=mlp_ph.evaluate(gen_test,verbose=0)\n",
    "print(f\"Loss: {ev[0]} MAE: {ev[1]} Accuracy: {ev[2]}\")\n",
    "tf.saved_model.save(mlp_ph,f'saved_model/MLP0001_PosAssoluta')"
   ]
  },
  {
   "cell_type": "code",
   "execution_count": 13,
   "id": "220477fd-dcf0-43ba-8a66-75e4d7745bca",
   "metadata": {
    "collapsed": true,
    "jupyter": {
     "outputs_hidden": true,
     "source_hidden": true
    },
    "tags": []
   },
   "outputs": [
    {
     "name": "stdout",
     "output_type": "stream",
     "text": [
      "Epoch 1/10\n",
      "5655/5655 [==============================] - 2340s 413ms/step - loss: 0.9373 - mean_absolute_error: 0.6307 - accuracy: 4.6051e-08 - val_loss: 0.7536 - val_mean_absolute_error: 0.5764 - val_accuracy: 9.2807e-08 - lr: 1.0000e-04\n",
      "Epoch 2/10\n",
      "5655/5655 [==============================] - 2301s 407ms/step - loss: 0.5683 - mean_absolute_error: 0.5047 - accuracy: 0.0000e+00 - val_loss: 0.4222 - val_mean_absolute_error: 0.4416 - val_accuracy: 0.0000e+00 - lr: 1.0000e-04\n",
      "Epoch 3/10\n",
      "5655/5655 [==============================] - 2333s 412ms/step - loss: 0.3508 - mean_absolute_error: 0.4066 - accuracy: 0.0000e+00 - val_loss: 0.2898 - val_mean_absolute_error: 0.3652 - val_accuracy: 0.0000e+00 - lr: 1.0000e-04\n",
      "Epoch 4/10\n",
      "5655/5655 [==============================] - 2304s 407ms/step - loss: 0.2785 - mean_absolute_error: 0.3564 - accuracy: 0.0000e+00 - val_loss: 0.2501 - val_mean_absolute_error: 0.3341 - val_accuracy: 0.0000e+00 - lr: 1.0000e-04\n",
      "Epoch 5/10\n",
      "5655/5655 [==============================] - 2358s 417ms/step - loss: 0.2492 - mean_absolute_error: 0.3322 - accuracy: 0.0000e+00 - val_loss: 0.2283 - val_mean_absolute_error: 0.3162 - val_accuracy: 9.2807e-08 - lr: 1.0000e-04\n",
      "Epoch 6/10\n",
      "5655/5655 [==============================] - 2466s 436ms/step - loss: 0.2300 - mean_absolute_error: 0.3151 - accuracy: 0.0000e+00 - val_loss: 0.2080 - val_mean_absolute_error: 0.2971 - val_accuracy: 1.8561e-07 - lr: 1.0000e-04\n",
      "Epoch 7/10\n",
      "5655/5655 [==============================] - 2512s 444ms/step - loss: 0.2161 - mean_absolute_error: 0.3028 - accuracy: 9.2101e-08 - val_loss: 0.1974 - val_mean_absolute_error: 0.2864 - val_accuracy: 0.0000e+00 - lr: 1.0000e-04\n",
      "Epoch 8/10\n",
      "5655/5655 [==============================] - 2464s 435ms/step - loss: 0.2077 - mean_absolute_error: 0.2960 - accuracy: 1.3815e-07 - val_loss: 0.1914 - val_mean_absolute_error: 0.2817 - val_accuracy: 1.8561e-07 - lr: 1.0000e-04\n",
      "Epoch 9/10\n",
      "5655/5655 [==============================] - ETA: 0s - loss: 0.2018 - mean_absolute_error: 0.2917 - accuracy: 9.2101e-08\n",
      "Epoch 9: ReduceLROnPlateau reducing learning rate to 4.999999873689376e-05.\n",
      "5655/5655 [==============================] - 2447s 432ms/step - loss: 0.2018 - mean_absolute_error: 0.2917 - accuracy: 9.2101e-08 - val_loss: 0.1879 - val_mean_absolute_error: 0.2795 - val_accuracy: 1.8561e-07 - lr: 1.0000e-04\n",
      "Epoch 10/10\n",
      "5655/5655 [==============================] - 2378s 420ms/step - loss: 0.1990 - mean_absolute_error: 0.2894 - accuracy: 4.6051e-08 - val_loss: 0.1838 - val_mean_absolute_error: 0.2764 - val_accuracy: 0.0000e+00 - lr: 5.0000e-05\n",
      "Loss: 0.17942017316818237 MAE: 0.27068328857421875 Accuracy: 9.277401602503232e-08\n"
     ]
    },
    {
     "name": "stderr",
     "output_type": "stream",
     "text": [
      "WARNING:absl:Found untraced functions such as _jit_compiled_convolution_op, lstm_cell_layer_call_fn, lstm_cell_layer_call_and_return_conditional_losses while saving (showing 3 of 3). These functions will not be directly callable after loading.\n"
     ]
    },
    {
     "name": "stdout",
     "output_type": "stream",
     "text": [
      "INFO:tensorflow:Assets written to: saved_model/CNN_LSTM32_1_32_PosAssoluta\\assets\n"
     ]
    },
    {
     "name": "stderr",
     "output_type": "stream",
     "text": [
      "INFO:tensorflow:Assets written to: saved_model/CNN_LSTM32_1_32_PosAssoluta\\assets\n"
     ]
    }
   ],
   "source": [
    "units=32\n",
    "kernel_size=1\n",
    "filters=32\n",
    "normalization=False\n",
    "cnn_lstm,history_cnn_lstm=model_definitions.CNN_LSTM_Train(gen_train,gen_val,learning_rate=0.0001,patience=10,name=f\"CNN{filters}_{kernel_size}LSTM{units}_Norm{normalization}\",\n",
    "                                                           path=\"logs_350SequenceLength\",epoch=10, dropout=0.2,units=units,kernel_size=kernel_size,\n",
    "                                                           filters=filters, normalization=normalization,verbose=1\n",
    "                                                          )\n",
    "\n",
    "ev=cnn_lstm.evaluate(gen_test,verbose=0)\n",
    "print(f\"Loss: {ev[0]} MAE: {ev[1]} Accuracy: {ev[2]}\")\n",
    "\n",
    "tf.saved_model.save(cnn_lstm,f'saved_model/CNN_LSTM{units}_{kernel_size}_{filters}_PosAssoluta')"
   ]
  },
  {
   "cell_type": "code",
   "execution_count": 23,
   "id": "9695dc32",
   "metadata": {
    "tags": []
   },
   "outputs": [
    {
     "name": "stdout",
     "output_type": "stream",
     "text": [
      "Epoch 1/10\n",
      "   7/5158 [..............................] - ETA: 5:31 - loss: 239.6912 - mean_absolute_error: 11.3693 - accuracy: 0.0000e+00"
     ]
    },
    {
     "ename": "UnknownError",
     "evalue": "Graph execution error:\n\n2 root error(s) found.\n  (0) UNKNOWN:  RuntimeError: generator raised StopIteration\nTraceback (most recent call last):\n\n  File \"C:\\ProgramData\\Anaconda3\\envs\\tf_gpu\\lib\\site-packages\\keras\\engine\\data_adapter.py\", line 1050, in generator_fn\n    yield x[i]\n\n  File \"D:\\Users\\Students\\Daniele\\Github\\TesiRacingGame\\AnacondaScripts\\newDB\\Generator.py\", line 130, in __getitem__\n    x,y=next(self.generator)\n\nStopIteration\n\n\nThe above exception was the direct cause of the following exception:\n\n\nTraceback (most recent call last):\n\n  File \"C:\\ProgramData\\Anaconda3\\envs\\tf_gpu\\lib\\site-packages\\tensorflow\\python\\ops\\script_ops.py\", line 271, in __call__\n    ret = func(*args)\n\n  File \"C:\\ProgramData\\Anaconda3\\envs\\tf_gpu\\lib\\site-packages\\tensorflow\\python\\autograph\\impl\\api.py\", line 642, in wrapper\n    return func(*args, **kwargs)\n\n  File \"C:\\ProgramData\\Anaconda3\\envs\\tf_gpu\\lib\\site-packages\\tensorflow\\python\\data\\ops\\dataset_ops.py\", line 1035, in generator_py_func\n    values = next(generator_state.get_iterator(iterator_id))\n\n  File \"C:\\ProgramData\\Anaconda3\\envs\\tf_gpu\\lib\\site-packages\\keras\\engine\\data_adapter.py\", line 903, in wrapped_generator\n    for data in generator_fn():\n\nRuntimeError: generator raised StopIteration\n\n\n\t [[{{node PyFunc}}]]\n\t [[IteratorGetNext]]\n\t [[IteratorGetNext/_4]]\n  (1) UNKNOWN:  RuntimeError: generator raised StopIteration\nTraceback (most recent call last):\n\n  File \"C:\\ProgramData\\Anaconda3\\envs\\tf_gpu\\lib\\site-packages\\keras\\engine\\data_adapter.py\", line 1050, in generator_fn\n    yield x[i]\n\n  File \"D:\\Users\\Students\\Daniele\\Github\\TesiRacingGame\\AnacondaScripts\\newDB\\Generator.py\", line 130, in __getitem__\n    x,y=next(self.generator)\n\nStopIteration\n\n\nThe above exception was the direct cause of the following exception:\n\n\nTraceback (most recent call last):\n\n  File \"C:\\ProgramData\\Anaconda3\\envs\\tf_gpu\\lib\\site-packages\\tensorflow\\python\\ops\\script_ops.py\", line 271, in __call__\n    ret = func(*args)\n\n  File \"C:\\ProgramData\\Anaconda3\\envs\\tf_gpu\\lib\\site-packages\\tensorflow\\python\\autograph\\impl\\api.py\", line 642, in wrapper\n    return func(*args, **kwargs)\n\n  File \"C:\\ProgramData\\Anaconda3\\envs\\tf_gpu\\lib\\site-packages\\tensorflow\\python\\data\\ops\\dataset_ops.py\", line 1035, in generator_py_func\n    values = next(generator_state.get_iterator(iterator_id))\n\n  File \"C:\\ProgramData\\Anaconda3\\envs\\tf_gpu\\lib\\site-packages\\keras\\engine\\data_adapter.py\", line 903, in wrapped_generator\n    for data in generator_fn():\n\nRuntimeError: generator raised StopIteration\n\n\n\t [[{{node PyFunc}}]]\n\t [[IteratorGetNext]]\n0 successful operations.\n0 derived errors ignored. [Op:__inference_train_function_421349]",
     "output_type": "error",
     "traceback": [
      "\u001b[1;31m---------------------------------------------------------------------------\u001b[0m",
      "\u001b[1;31mUnknownError\u001b[0m                              Traceback (most recent call last)",
      "Cell \u001b[1;32mIn[23], line 6\u001b[0m\n\u001b[0;32m      4\u001b[0m normalization\u001b[38;5;241m=\u001b[39m\u001b[38;5;28;01mFalse\u001b[39;00m\n\u001b[0;32m      5\u001b[0m name\u001b[38;5;241m=\u001b[39m\u001b[38;5;124mf\u001b[39m\u001b[38;5;124m\"\u001b[39m\u001b[38;5;124mLSTM\u001b[39m\u001b[38;5;132;01m{\u001b[39;00mcells\u001b[38;5;132;01m}\u001b[39;00m\u001b[38;5;124m_\u001b[39m\u001b[38;5;132;01m{\u001b[39;00munits\u001b[38;5;132;01m}\u001b[39;00m\u001b[38;5;124m_\u001b[39m\u001b[38;5;132;01m{\u001b[39;00mlr\u001b[38;5;132;01m}\u001b[39;00m\u001b[38;5;124m_Norm\u001b[39m\u001b[38;5;132;01m{\u001b[39;00mnormalization\u001b[38;5;132;01m}\u001b[39;00m\u001b[38;5;124m\"\u001b[39m\n\u001b[1;32m----> 6\u001b[0m lstm_ph,history_lstm_ph\u001b[38;5;241m=\u001b[39m\u001b[43mmodel_definitions\u001b[49m\u001b[38;5;241;43m.\u001b[39;49m\u001b[43mLSTM_Train\u001b[49m\u001b[43m(\u001b[49m\u001b[43mgen_train\u001b[49m\u001b[43m,\u001b[49m\u001b[43mgen_val\u001b[49m\u001b[43m,\u001b[49m\u001b[43mlearning_rate\u001b[49m\u001b[38;5;241;43m=\u001b[39;49m\u001b[43mlr\u001b[49m\u001b[43m,\u001b[49m\u001b[43mpatience\u001b[49m\u001b[38;5;241;43m=\u001b[39;49m\u001b[38;5;241;43m6\u001b[39;49m\u001b[43m,\u001b[49m\u001b[43mname\u001b[49m\u001b[38;5;241;43m=\u001b[39;49m\u001b[43mname\u001b[49m\u001b[43m,\u001b[49m\u001b[43mpath\u001b[49m\u001b[38;5;241;43m=\u001b[39;49m\u001b[38;5;124;43m\"\u001b[39;49m\u001b[38;5;124;43mlogs\u001b[39;49m\u001b[38;5;124;43m\"\u001b[39;49m\u001b[43m,\u001b[49m\n\u001b[0;32m      7\u001b[0m \u001b[43m                                                     \u001b[49m\u001b[43mepoch\u001b[49m\u001b[38;5;241;43m=\u001b[39;49m\u001b[38;5;241;43m10\u001b[39;49m\u001b[43m,\u001b[49m\u001b[43m \u001b[49m\u001b[43mdropout\u001b[49m\u001b[38;5;241;43m=\u001b[39;49m\u001b[38;5;241;43m0.2\u001b[39;49m\u001b[43m,\u001b[49m\u001b[43m \u001b[49m\u001b[43mcells\u001b[49m\u001b[38;5;241;43m=\u001b[39;49m\u001b[43mcells\u001b[49m\u001b[43m,\u001b[49m\u001b[43munits\u001b[49m\u001b[38;5;241;43m=\u001b[39;49m\u001b[43munits\u001b[49m\u001b[43m,\u001b[49m\u001b[43m \u001b[49m\u001b[43mnormalization\u001b[49m\u001b[38;5;241;43m=\u001b[39;49m\u001b[43mnormalization\u001b[49m\u001b[43m,\u001b[49m\u001b[43mverbose\u001b[49m\u001b[38;5;241;43m=\u001b[39;49m\u001b[38;5;241;43m1\u001b[39;49m\u001b[43m)\u001b[49m\n\u001b[0;32m      9\u001b[0m ev\u001b[38;5;241m=\u001b[39mlstm_ph\u001b[38;5;241m.\u001b[39mevaluate(gen_test,verbose\u001b[38;5;241m=\u001b[39m\u001b[38;5;241m0\u001b[39m)\n\u001b[0;32m     10\u001b[0m \u001b[38;5;28mprint\u001b[39m(\u001b[38;5;124mf\u001b[39m\u001b[38;5;124m\"\u001b[39m\u001b[38;5;124mLoss: \u001b[39m\u001b[38;5;132;01m{\u001b[39;00mev[\u001b[38;5;241m0\u001b[39m]\u001b[38;5;132;01m}\u001b[39;00m\u001b[38;5;124m MAE: \u001b[39m\u001b[38;5;132;01m{\u001b[39;00mev[\u001b[38;5;241m1\u001b[39m]\u001b[38;5;132;01m}\u001b[39;00m\u001b[38;5;124m Accuracy: \u001b[39m\u001b[38;5;132;01m{\u001b[39;00mev[\u001b[38;5;241m2\u001b[39m]\u001b[38;5;132;01m}\u001b[39;00m\u001b[38;5;124m\"\u001b[39m)\n",
      "File \u001b[1;32mD:\\Users\\Students\\Daniele\\Github\\TesiRacingGame\\AnacondaScripts\\newDB\\model_definitions.py:100\u001b[0m, in \u001b[0;36mLSTM_Train\u001b[1;34m(train, val, learning_rate, verbose, epoch, patience, name, path, dropout, cells, units, normalization)\u001b[0m\n\u001b[0;32m     96\u001b[0m \u001b[38;5;28;01mdef\u001b[39;00m \u001b[38;5;21mLSTM_Train\u001b[39m(train,val,learning_rate\u001b[38;5;241m=\u001b[39m\u001b[38;5;241m0.01\u001b[39m,verbose\u001b[38;5;241m=\u001b[39m\u001b[38;5;241m0\u001b[39m,epoch\u001b[38;5;241m=\u001b[39m\u001b[38;5;241m10\u001b[39m, patience\u001b[38;5;241m=\u001b[39m\u001b[38;5;241m5\u001b[39m,name\u001b[38;5;241m=\u001b[39m\u001b[38;5;124m\"\u001b[39m\u001b[38;5;124mlogs\u001b[39m\u001b[38;5;124m\"\u001b[39m,path\u001b[38;5;241m=\u001b[39m\u001b[38;5;124m\"\u001b[39m\u001b[38;5;124mlogs\u001b[39m\u001b[38;5;124m\"\u001b[39m,\n\u001b[0;32m     97\u001b[0m                dropout\u001b[38;5;241m=\u001b[39m\u001b[38;5;241m0.2\u001b[39m, cells\u001b[38;5;241m=\u001b[39m\u001b[38;5;241m3\u001b[39m,units\u001b[38;5;241m=\u001b[39m\u001b[38;5;241m32\u001b[39m, normalization\u001b[38;5;241m=\u001b[39m\u001b[38;5;28;01mFalse\u001b[39;00m):\n\u001b[0;32m     99\u001b[0m     model \u001b[38;5;241m=\u001b[39m LSTM_Model(dropout,cells\u001b[38;5;241m=\u001b[39mcells,units\u001b[38;5;241m=\u001b[39munits, normalization\u001b[38;5;241m=\u001b[39mnormalization)\n\u001b[1;32m--> 100\u001b[0m     history \u001b[38;5;241m=\u001b[39m \u001b[43mcompile_and_fit\u001b[49m\u001b[43m(\u001b[49m\u001b[43mmodel\u001b[49m\u001b[43m,\u001b[49m\u001b[43mtrain\u001b[49m\u001b[43m,\u001b[49m\u001b[43mval\u001b[49m\u001b[43m,\u001b[49m\u001b[43mepochs\u001b[49m\u001b[38;5;241;43m=\u001b[39;49m\u001b[43mepoch\u001b[49m\u001b[43m,\u001b[49m\u001b[43mlearning_rate\u001b[49m\u001b[38;5;241;43m=\u001b[39;49m\u001b[43mlearning_rate\u001b[49m\u001b[43m,\u001b[49m\u001b[43mverbose\u001b[49m\u001b[38;5;241;43m=\u001b[39;49m\u001b[43mverbose\u001b[49m\u001b[43m,\u001b[49m\u001b[43mpatience\u001b[49m\u001b[38;5;241;43m=\u001b[39;49m\u001b[43mpatience\u001b[49m\u001b[43m,\u001b[49m\u001b[43mname\u001b[49m\u001b[38;5;241;43m=\u001b[39;49m\u001b[43mname\u001b[49m\u001b[43m,\u001b[49m\u001b[43mpath\u001b[49m\u001b[38;5;241;43m=\u001b[39;49m\u001b[43mpath\u001b[49m\u001b[43m)\u001b[49m\n\u001b[0;32m    102\u001b[0m     \u001b[38;5;66;03m#Print_Train(history,\"LSTM\")\u001b[39;00m\n\u001b[0;32m    104\u001b[0m     \u001b[38;5;28;01mreturn\u001b[39;00m model,history\n",
      "File \u001b[1;32mD:\\Users\\Students\\Daniele\\Github\\TesiRacingGame\\AnacondaScripts\\newDB\\model_definitions.py:79\u001b[0m, in \u001b[0;36mcompile_and_fit\u001b[1;34m(model, train, val, patience, epochs, learning_rate, summary, verbose, name, path)\u001b[0m\n\u001b[0;32m     72\u001b[0m tensorboard_callback \u001b[38;5;241m=\u001b[39m tf\u001b[38;5;241m.\u001b[39mkeras\u001b[38;5;241m.\u001b[39mcallbacks\u001b[38;5;241m.\u001b[39mTensorBoard(log_dir\u001b[38;5;241m=\u001b[39m\u001b[38;5;124mf\u001b[39m\u001b[38;5;124m\"\u001b[39m\u001b[38;5;124m./\u001b[39m\u001b[38;5;132;01m{\u001b[39;00mpath\u001b[38;5;132;01m}\u001b[39;00m\u001b[38;5;124m/\u001b[39m\u001b[38;5;132;01m{\u001b[39;00mname\u001b[38;5;132;01m}\u001b[39;00m\u001b[38;5;124m\"\u001b[39m)\n\u001b[0;32m     75\u001b[0m model\u001b[38;5;241m.\u001b[39mcompile(loss\u001b[38;5;241m=\u001b[39mtf\u001b[38;5;241m.\u001b[39mlosses\u001b[38;5;241m.\u001b[39mMeanSquaredError(),\n\u001b[0;32m     76\u001b[0m             optimizer\u001b[38;5;241m=\u001b[39mtf\u001b[38;5;241m.\u001b[39moptimizers\u001b[38;5;241m.\u001b[39mAdam(learning_rate\u001b[38;5;241m=\u001b[39mlearning_rate),\n\u001b[0;32m     77\u001b[0m             metrics\u001b[38;5;241m=\u001b[39m[tf\u001b[38;5;241m.\u001b[39mmetrics\u001b[38;5;241m.\u001b[39mMeanAbsoluteError(),tf\u001b[38;5;241m.\u001b[39mkeras\u001b[38;5;241m.\u001b[39mmetrics\u001b[38;5;241m.\u001b[39mAccuracy()])\n\u001b[1;32m---> 79\u001b[0m history \u001b[38;5;241m=\u001b[39m \u001b[43mmodel\u001b[49m\u001b[38;5;241;43m.\u001b[39;49m\u001b[43mfit\u001b[49m\u001b[43m(\u001b[49m\u001b[43mtrain\u001b[49m\u001b[43m,\u001b[49m\u001b[43m \u001b[49m\u001b[43mepochs\u001b[49m\u001b[38;5;241;43m=\u001b[39;49m\u001b[43mepochs\u001b[49m\u001b[43m,\u001b[49m\n\u001b[0;32m     80\u001b[0m \u001b[43m                  \u001b[49m\u001b[43mvalidation_data\u001b[49m\u001b[38;5;241;43m=\u001b[39;49m\u001b[43mval\u001b[49m\u001b[43m,\u001b[49m\n\u001b[0;32m     81\u001b[0m \u001b[43m                  \u001b[49m\u001b[43mverbose\u001b[49m\u001b[38;5;241;43m=\u001b[39;49m\u001b[43mverbose\u001b[49m\u001b[43m,\u001b[49m\n\u001b[0;32m     82\u001b[0m \u001b[43m                  \u001b[49m\u001b[43mcallbacks\u001b[49m\u001b[38;5;241;43m=\u001b[39;49m\u001b[43m[\u001b[49m\u001b[43mearly_stopping\u001b[49m\u001b[43m,\u001b[49m\u001b[43mreduce_lr\u001b[49m\u001b[43m,\u001b[49m\u001b[43mtensorboard_callback\u001b[49m\u001b[43m]\u001b[49m\u001b[43m)\u001b[49m\n\u001b[0;32m     83\u001b[0m \u001b[38;5;28;01mif\u001b[39;00m(summary):\n\u001b[0;32m     84\u001b[0m     model\u001b[38;5;241m.\u001b[39msummary()\n",
      "File \u001b[1;32mC:\\ProgramData\\Anaconda3\\envs\\tf_gpu\\lib\\site-packages\\keras\\utils\\traceback_utils.py:70\u001b[0m, in \u001b[0;36mfilter_traceback.<locals>.error_handler\u001b[1;34m(*args, **kwargs)\u001b[0m\n\u001b[0;32m     67\u001b[0m     filtered_tb \u001b[38;5;241m=\u001b[39m _process_traceback_frames(e\u001b[38;5;241m.\u001b[39m__traceback__)\n\u001b[0;32m     68\u001b[0m     \u001b[38;5;66;03m# To get the full stack trace, call:\u001b[39;00m\n\u001b[0;32m     69\u001b[0m     \u001b[38;5;66;03m# `tf.debugging.disable_traceback_filtering()`\u001b[39;00m\n\u001b[1;32m---> 70\u001b[0m     \u001b[38;5;28;01mraise\u001b[39;00m e\u001b[38;5;241m.\u001b[39mwith_traceback(filtered_tb) \u001b[38;5;28;01mfrom\u001b[39;00m \u001b[38;5;28;01mNone\u001b[39;00m\n\u001b[0;32m     71\u001b[0m \u001b[38;5;28;01mfinally\u001b[39;00m:\n\u001b[0;32m     72\u001b[0m     \u001b[38;5;28;01mdel\u001b[39;00m filtered_tb\n",
      "File \u001b[1;32mC:\\ProgramData\\Anaconda3\\envs\\tf_gpu\\lib\\site-packages\\tensorflow\\python\\eager\\execute.py:54\u001b[0m, in \u001b[0;36mquick_execute\u001b[1;34m(op_name, num_outputs, inputs, attrs, ctx, name)\u001b[0m\n\u001b[0;32m     52\u001b[0m \u001b[38;5;28;01mtry\u001b[39;00m:\n\u001b[0;32m     53\u001b[0m   ctx\u001b[38;5;241m.\u001b[39mensure_initialized()\n\u001b[1;32m---> 54\u001b[0m   tensors \u001b[38;5;241m=\u001b[39m pywrap_tfe\u001b[38;5;241m.\u001b[39mTFE_Py_Execute(ctx\u001b[38;5;241m.\u001b[39m_handle, device_name, op_name,\n\u001b[0;32m     55\u001b[0m                                       inputs, attrs, num_outputs)\n\u001b[0;32m     56\u001b[0m \u001b[38;5;28;01mexcept\u001b[39;00m core\u001b[38;5;241m.\u001b[39m_NotOkStatusException \u001b[38;5;28;01mas\u001b[39;00m e:\n\u001b[0;32m     57\u001b[0m   \u001b[38;5;28;01mif\u001b[39;00m name \u001b[38;5;129;01mis\u001b[39;00m \u001b[38;5;129;01mnot\u001b[39;00m \u001b[38;5;28;01mNone\u001b[39;00m:\n",
      "\u001b[1;31mUnknownError\u001b[0m: Graph execution error:\n\n2 root error(s) found.\n  (0) UNKNOWN:  RuntimeError: generator raised StopIteration\nTraceback (most recent call last):\n\n  File \"C:\\ProgramData\\Anaconda3\\envs\\tf_gpu\\lib\\site-packages\\keras\\engine\\data_adapter.py\", line 1050, in generator_fn\n    yield x[i]\n\n  File \"D:\\Users\\Students\\Daniele\\Github\\TesiRacingGame\\AnacondaScripts\\newDB\\Generator.py\", line 130, in __getitem__\n    x,y=next(self.generator)\n\nStopIteration\n\n\nThe above exception was the direct cause of the following exception:\n\n\nTraceback (most recent call last):\n\n  File \"C:\\ProgramData\\Anaconda3\\envs\\tf_gpu\\lib\\site-packages\\tensorflow\\python\\ops\\script_ops.py\", line 271, in __call__\n    ret = func(*args)\n\n  File \"C:\\ProgramData\\Anaconda3\\envs\\tf_gpu\\lib\\site-packages\\tensorflow\\python\\autograph\\impl\\api.py\", line 642, in wrapper\n    return func(*args, **kwargs)\n\n  File \"C:\\ProgramData\\Anaconda3\\envs\\tf_gpu\\lib\\site-packages\\tensorflow\\python\\data\\ops\\dataset_ops.py\", line 1035, in generator_py_func\n    values = next(generator_state.get_iterator(iterator_id))\n\n  File \"C:\\ProgramData\\Anaconda3\\envs\\tf_gpu\\lib\\site-packages\\keras\\engine\\data_adapter.py\", line 903, in wrapped_generator\n    for data in generator_fn():\n\nRuntimeError: generator raised StopIteration\n\n\n\t [[{{node PyFunc}}]]\n\t [[IteratorGetNext]]\n\t [[IteratorGetNext/_4]]\n  (1) UNKNOWN:  RuntimeError: generator raised StopIteration\nTraceback (most recent call last):\n\n  File \"C:\\ProgramData\\Anaconda3\\envs\\tf_gpu\\lib\\site-packages\\keras\\engine\\data_adapter.py\", line 1050, in generator_fn\n    yield x[i]\n\n  File \"D:\\Users\\Students\\Daniele\\Github\\TesiRacingGame\\AnacondaScripts\\newDB\\Generator.py\", line 130, in __getitem__\n    x,y=next(self.generator)\n\nStopIteration\n\n\nThe above exception was the direct cause of the following exception:\n\n\nTraceback (most recent call last):\n\n  File \"C:\\ProgramData\\Anaconda3\\envs\\tf_gpu\\lib\\site-packages\\tensorflow\\python\\ops\\script_ops.py\", line 271, in __call__\n    ret = func(*args)\n\n  File \"C:\\ProgramData\\Anaconda3\\envs\\tf_gpu\\lib\\site-packages\\tensorflow\\python\\autograph\\impl\\api.py\", line 642, in wrapper\n    return func(*args, **kwargs)\n\n  File \"C:\\ProgramData\\Anaconda3\\envs\\tf_gpu\\lib\\site-packages\\tensorflow\\python\\data\\ops\\dataset_ops.py\", line 1035, in generator_py_func\n    values = next(generator_state.get_iterator(iterator_id))\n\n  File \"C:\\ProgramData\\Anaconda3\\envs\\tf_gpu\\lib\\site-packages\\keras\\engine\\data_adapter.py\", line 903, in wrapped_generator\n    for data in generator_fn():\n\nRuntimeError: generator raised StopIteration\n\n\n\t [[{{node PyFunc}}]]\n\t [[IteratorGetNext]]\n0 successful operations.\n0 derived errors ignored. [Op:__inference_train_function_421349]"
     ]
    }
   ],
   "source": [
    "lr =1e-4\n",
    "units=8\n",
    "cells=1\n",
    "normalization=False\n",
    "name=f\"LSTM{cells}_{units}_{lr}_Norm{normalization}\"\n",
    "lstm_ph,history_lstm_ph=model_definitions.LSTM_Train(gen_train,gen_val,learning_rate=lr,patience=6,name=name,path=\"logs\",\n",
    "                                                     epoch=10, dropout=0.2, cells=cells,units=units, normalization=normalization,verbose=1)\n",
    "\n",
    "ev=lstm_ph.evaluate(gen_test,verbose=0)\n",
    "print(f\"Loss: {ev[0]} MAE: {ev[1]} Accuracy: {ev[2]}\")\n",
    "tf.saved_model.save(lstm_ph,f'saved_model/vel/{name}')"
   ]
  },
  {
   "cell_type": "code",
   "execution_count": 11,
   "id": "f5df7839-f920-48fc-a703-e666e4b23d92",
   "metadata": {
    "tags": []
   },
   "outputs": [
    {
     "ename": "NameError",
     "evalue": "name 'lstm_ph' is not defined",
     "output_type": "error",
     "traceback": [
      "\u001b[1;31m---------------------------------------------------------------------------\u001b[0m",
      "\u001b[1;31mNameError\u001b[0m                                 Traceback (most recent call last)",
      "Cell \u001b[1;32mIn[11], line 1\u001b[0m\n\u001b[1;32m----> 1\u001b[0m tf\u001b[38;5;241m.\u001b[39msaved_model\u001b[38;5;241m.\u001b[39msave(\u001b[43mlstm_ph\u001b[49m,\u001b[38;5;124mf\u001b[39m\u001b[38;5;124m'\u001b[39m\u001b[38;5;124msaved_model/vel/\u001b[39m\u001b[38;5;132;01m{\u001b[39;00mname\u001b[38;5;132;01m}\u001b[39;00m\u001b[38;5;124m'\u001b[39m)\n",
      "\u001b[1;31mNameError\u001b[0m: name 'lstm_ph' is not defined"
     ]
    }
   ],
   "source": [
    "tf.saved_model.save(lstm_ph,f'saved_model/vel/{name}')"
   ]
  },
  {
   "cell_type": "code",
   "execution_count": 19,
   "id": "f7d2267f",
   "metadata": {},
   "outputs": [
    {
     "data": {
      "text/plain": [
       "<tensorflow.python.checkpoint.checkpoint.CheckpointLoadStatus at 0x294ec93b4f0>"
      ]
     },
     "execution_count": 19,
     "metadata": {},
     "output_type": "execute_result"
    }
   ],
   "source": [
    "model=model_definitions.CNN_LSTM_Model(0.2, units=32,filters=32,kernel_size=1, normalization=False)\n",
    "model.load_weights(\"saved_model\\CNN_LSTM32_1_32_PosAssoluta\")"
   ]
  },
  {
   "cell_type": "code",
   "execution_count": 20,
   "id": "615b66fa",
   "metadata": {},
   "outputs": [
    {
     "name": "stdout",
     "output_type": "stream",
     "text": [
      "Model: \"CNN32_1LSTM32\"\n",
      "_________________________________________________________________\n",
      " Layer (type)                Output Shape              Param #   \n",
      "=================================================================\n",
      " input_7 (InputLayer)        [(None, 30, 5)]           0         \n",
      "                                                                 \n",
      " conv1d (Conv1D)             (None, 30, 32)            192       \n",
      "                                                                 \n",
      " max_pooling1d (MaxPooling1D  (None, 30, 32)           0         \n",
      " )                                                               \n",
      "                                                                 \n",
      " lstm_30 (LSTM)              (None, 32)                8320      \n",
      "                                                                 \n",
      " dense_6 (Dense)             (None, 3)                 99        \n",
      "                                                                 \n",
      "=================================================================\n",
      "Total params: 8,611\n",
      "Trainable params: 8,611\n",
      "Non-trainable params: 0\n",
      "_________________________________________________________________\n"
     ]
    }
   ],
   "source": [
    "model.summary()"
   ]
  },
  {
   "cell_type": "code",
   "execution_count": null,
   "id": "8aef0b09",
   "metadata": {},
   "outputs": [],
   "source": [
    "import tf2onnx\n",
    "import onnx\n",
    "input_signature=(tf.TensorSpec([None,30,5],tf.float32,name='x'))\n",
    "onnx_model,_=tf2onnx.converter.from_keras(model,input_signature,opset=9)"
   ]
  },
  {
   "cell_type": "code",
   "execution_count": 13,
   "id": "cf5ac715",
   "metadata": {
    "tags": []
   },
   "outputs": [
    {
     "ename": "ValueError",
     "evalue": "in user code:\n\n    File \"C:\\ProgramData\\Anaconda3\\envs\\tf_gpu\\lib\\site-packages\\keras\\engine\\training.py\", line 2041, in predict_function  *\n        return step_function(self, iterator)\n    File \"C:\\ProgramData\\Anaconda3\\envs\\tf_gpu\\lib\\site-packages\\keras\\engine\\training.py\", line 2027, in step_function  **\n        outputs = model.distribute_strategy.run(run_step, args=(data,))\n    File \"C:\\ProgramData\\Anaconda3\\envs\\tf_gpu\\lib\\site-packages\\keras\\engine\\training.py\", line 2015, in run_step  **\n        outputs = model.predict_step(data)\n    File \"C:\\ProgramData\\Anaconda3\\envs\\tf_gpu\\lib\\site-packages\\keras\\engine\\training.py\", line 1983, in predict_step\n        return self(x, training=False)\n    File \"C:\\ProgramData\\Anaconda3\\envs\\tf_gpu\\lib\\site-packages\\keras\\utils\\traceback_utils.py\", line 70, in error_handler\n        raise e.with_traceback(filtered_tb) from None\n    File \"C:\\ProgramData\\Anaconda3\\envs\\tf_gpu\\lib\\site-packages\\keras\\engine\\input_spec.py\", line 216, in assert_input_compatibility\n        raise ValueError(\n\n    ValueError: Layer \"sequential\" expects 1 input(s), but it received 2 input tensors. Inputs received: [<tf.Tensor 'IteratorGetNext:0' shape=(32, 20, 7) dtype=float64>, <tf.Tensor 'IteratorGetNext:1' shape=(32, 3) dtype=float64>]\n",
     "output_type": "error",
     "traceback": [
      "\u001b[1;31m---------------------------------------------------------------------------\u001b[0m",
      "\u001b[1;31mValueError\u001b[0m                                Traceback (most recent call last)",
      "Cell \u001b[1;32mIn[13], line 1\u001b[0m\n\u001b[1;32m----> 1\u001b[0m \u001b[43mmlp_ph\u001b[49m\u001b[38;5;241;43m.\u001b[39;49m\u001b[43mpredict\u001b[49m\u001b[43m(\u001b[49m\u001b[43mgen_test\u001b[49m\u001b[43m[\u001b[49m\u001b[38;5;241;43m0\u001b[39;49m\u001b[43m]\u001b[49m\u001b[43m)\u001b[49m\n",
      "File \u001b[1;32mC:\\ProgramData\\Anaconda3\\envs\\tf_gpu\\lib\\site-packages\\keras\\utils\\traceback_utils.py:70\u001b[0m, in \u001b[0;36mfilter_traceback.<locals>.error_handler\u001b[1;34m(*args, **kwargs)\u001b[0m\n\u001b[0;32m     67\u001b[0m     filtered_tb \u001b[38;5;241m=\u001b[39m _process_traceback_frames(e\u001b[38;5;241m.\u001b[39m__traceback__)\n\u001b[0;32m     68\u001b[0m     \u001b[38;5;66;03m# To get the full stack trace, call:\u001b[39;00m\n\u001b[0;32m     69\u001b[0m     \u001b[38;5;66;03m# `tf.debugging.disable_traceback_filtering()`\u001b[39;00m\n\u001b[1;32m---> 70\u001b[0m     \u001b[38;5;28;01mraise\u001b[39;00m e\u001b[38;5;241m.\u001b[39mwith_traceback(filtered_tb) \u001b[38;5;28;01mfrom\u001b[39;00m \u001b[38;5;28;01mNone\u001b[39;00m\n\u001b[0;32m     71\u001b[0m \u001b[38;5;28;01mfinally\u001b[39;00m:\n\u001b[0;32m     72\u001b[0m     \u001b[38;5;28;01mdel\u001b[39;00m filtered_tb\n",
      "File \u001b[1;32m~\\AppData\\Local\\Temp\\__autograph_generated_filezlm7pqto.py:15\u001b[0m, in \u001b[0;36mouter_factory.<locals>.inner_factory.<locals>.tf__predict_function\u001b[1;34m(iterator)\u001b[0m\n\u001b[0;32m     13\u001b[0m \u001b[38;5;28;01mtry\u001b[39;00m:\n\u001b[0;32m     14\u001b[0m     do_return \u001b[38;5;241m=\u001b[39m \u001b[38;5;28;01mTrue\u001b[39;00m\n\u001b[1;32m---> 15\u001b[0m     retval_ \u001b[38;5;241m=\u001b[39m ag__\u001b[38;5;241m.\u001b[39mconverted_call(ag__\u001b[38;5;241m.\u001b[39mld(step_function), (ag__\u001b[38;5;241m.\u001b[39mld(\u001b[38;5;28mself\u001b[39m), ag__\u001b[38;5;241m.\u001b[39mld(iterator)), \u001b[38;5;28;01mNone\u001b[39;00m, fscope)\n\u001b[0;32m     16\u001b[0m \u001b[38;5;28;01mexcept\u001b[39;00m:\n\u001b[0;32m     17\u001b[0m     do_return \u001b[38;5;241m=\u001b[39m \u001b[38;5;28;01mFalse\u001b[39;00m\n",
      "\u001b[1;31mValueError\u001b[0m: in user code:\n\n    File \"C:\\ProgramData\\Anaconda3\\envs\\tf_gpu\\lib\\site-packages\\keras\\engine\\training.py\", line 2041, in predict_function  *\n        return step_function(self, iterator)\n    File \"C:\\ProgramData\\Anaconda3\\envs\\tf_gpu\\lib\\site-packages\\keras\\engine\\training.py\", line 2027, in step_function  **\n        outputs = model.distribute_strategy.run(run_step, args=(data,))\n    File \"C:\\ProgramData\\Anaconda3\\envs\\tf_gpu\\lib\\site-packages\\keras\\engine\\training.py\", line 2015, in run_step  **\n        outputs = model.predict_step(data)\n    File \"C:\\ProgramData\\Anaconda3\\envs\\tf_gpu\\lib\\site-packages\\keras\\engine\\training.py\", line 1983, in predict_step\n        return self(x, training=False)\n    File \"C:\\ProgramData\\Anaconda3\\envs\\tf_gpu\\lib\\site-packages\\keras\\utils\\traceback_utils.py\", line 70, in error_handler\n        raise e.with_traceback(filtered_tb) from None\n    File \"C:\\ProgramData\\Anaconda3\\envs\\tf_gpu\\lib\\site-packages\\keras\\engine\\input_spec.py\", line 216, in assert_input_compatibility\n        raise ValueError(\n\n    ValueError: Layer \"sequential\" expects 1 input(s), but it received 2 input tensors. Inputs received: [<tf.Tensor 'IteratorGetNext:0' shape=(32, 20, 7) dtype=float64>, <tf.Tensor 'IteratorGetNext:1' shape=(32, 3) dtype=float64>]\n"
     ]
    }
   ],
   "source": [
    "mlp_ph.predict(gen_test[0])"
   ]
  }
 ],
 "metadata": {
  "kernelspec": {
   "display_name": "Python 3 (ipykernel)",
   "language": "python",
   "name": "python3"
  },
  "language_info": {
   "codemirror_mode": {
    "name": "ipython",
    "version": 3
   },
   "file_extension": ".py",
   "mimetype": "text/x-python",
   "name": "python",
   "nbconvert_exporter": "python",
   "pygments_lexer": "ipython3",
   "version": "3.9.16"
  }
 },
 "nbformat": 4,
 "nbformat_minor": 5
}
