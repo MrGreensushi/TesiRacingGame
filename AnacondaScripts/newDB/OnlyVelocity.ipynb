{
 "cells": [
  {
   "cell_type": "code",
   "execution_count": 2,
   "id": "20fea2a4-8e09-4803-be40-899fe4695d84",
   "metadata": {
    "tags": []
   },
   "outputs": [],
   "source": [
    "%load_ext autoreload\n",
    "%autoreload 2\n",
    "#%reload_ext autoreload"
   ]
  },
  {
   "cell_type": "code",
   "execution_count": 1,
   "id": "45d2e55b",
   "metadata": {
    "tags": []
   },
   "outputs": [],
   "source": [
    "import tensorflow as tf\n",
    "import tensorflow.keras.layers as layers\n",
    "import numpy as np\n",
    "import matplotlib.pyplot as plt\n",
    "import pandas as pd\n",
    "import Generator\n",
    "import model_definitions"
   ]
  },
  {
   "cell_type": "markdown",
   "id": "4b7f6852",
   "metadata": {},
   "source": [
    "### Open input file"
   ]
  },
  {
   "cell_type": "code",
   "execution_count": 2,
   "id": "41825ca2",
   "metadata": {
    "tags": []
   },
   "outputs": [],
   "source": [
    "SEQUENCE_LENGTH=20\n",
    "ONE_CAR=True\n",
    "PATH=r\"D:\\Users\\Students\\Daniele\\records\\OneCar_db.txt\"\n",
    "BATCH_SIZE=256*2\n",
    "FEATURES=7 \n",
    "FEATURES_PREDICTED=3\n",
    "DISCARD=5"
   ]
  },
  {
   "cell_type": "code",
   "execution_count": 3,
   "id": "0c7b14b0-98d5-49ff-8b88-14abd0632982",
   "metadata": {
    "tags": []
   },
   "outputs": [
    {
     "name": "stdout",
     "output_type": "stream",
     "text": [
      "Max speed diff: 0.8\n",
      "Max x/z diff: 0.8\n",
      "Max rot diff: 2.8000000000000003\n"
     ]
    }
   ],
   "source": [
    "maxSpeed=40\n",
    "frequency=0.02\n",
    "maxdiff=maxSpeed*frequency\n",
    "maxAngularVelocity=140 #140 degrees for second\n",
    "maxAngDiff=maxAngularVelocity*frequency\n",
    "print(f\"Max speed diff: {maxdiff}\\nMax x/z diff: {maxdiff}\\nMax rot diff: {maxAngDiff}\")"
   ]
  },
  {
   "cell_type": "code",
   "execution_count": 4,
   "id": "252787ad-4829-467c-8bfa-c15a35435c94",
   "metadata": {
    "tags": []
   },
   "outputs": [],
   "source": [
    "Generator.SEQUENCE_LENGTH=SEQUENCE_LENGTH\n",
    "Generator.FEATURES=FEATURES\n",
    "Generator.DISCARD=DISCARD\n",
    "df=Generator.single_care_dataframe(PATH)"
   ]
  },
  {
   "cell_type": "code",
   "execution_count": 5,
   "id": "c606f34c",
   "metadata": {
    "tags": []
   },
   "outputs": [],
   "source": [
    "def SubtractDF(df):\n",
    "    return df.groupby(\"RACE\",group_keys=False).apply(Generator.subtraction_columns)\n",
    "\n",
    "dfs=[]\n",
    "for i in range(len(df)):\n",
    "    dfs.append(SubtractDF(df[i]))\n",
    "    #dfs.append(df[i])\n",
    "\n",
    "united=dfs[0]\n",
    "for i in range(1,len(df)):\n",
    "    united=pd.concat([united,dfs[i] ],ignore_index=True)"
   ]
  },
  {
   "cell_type": "code",
   "execution_count": 6,
   "id": "125a142c-90ad-41ed-bdd0-89476ac9e60c",
   "metadata": {
    "tags": []
   },
   "outputs": [
    {
     "data": {
      "text/html": [
       "<div>\n",
       "<style scoped>\n",
       "    .dataframe tbody tr th:only-of-type {\n",
       "        vertical-align: middle;\n",
       "    }\n",
       "\n",
       "    .dataframe tbody tr th {\n",
       "        vertical-align: top;\n",
       "    }\n",
       "\n",
       "    .dataframe thead th {\n",
       "        text-align: right;\n",
       "    }\n",
       "</style>\n",
       "<table border=\"1\" class=\"dataframe\">\n",
       "  <thead>\n",
       "    <tr style=\"text-align: right;\">\n",
       "      <th></th>\n",
       "      <th>X</th>\n",
       "      <th>Z</th>\n",
       "      <th>VEL_X</th>\n",
       "      <th>VEL_Z</th>\n",
       "      <th>ROT</th>\n",
       "      <th>ANG_VEL_Y</th>\n",
       "      <th>ACC_X</th>\n",
       "      <th>ACC_Z</th>\n",
       "      <th>TILE</th>\n",
       "      <th>TILE_IND</th>\n",
       "      <th>X_RELATIVE</th>\n",
       "      <th>Z_RELATIVE</th>\n",
       "      <th>TIME</th>\n",
       "      <th>RACE</th>\n",
       "      <th>GROUP</th>\n",
       "    </tr>\n",
       "  </thead>\n",
       "  <tbody>\n",
       "    <tr>\n",
       "      <th>5310813</th>\n",
       "      <td>5.5585</td>\n",
       "      <td>4.1559</td>\n",
       "      <td>0.70930</td>\n",
       "      <td>0.18634</td>\n",
       "      <td>0.13008</td>\n",
       "      <td>-0.028081</td>\n",
       "      <td>-1.381588</td>\n",
       "      <td>1.713180</td>\n",
       "      <td>8</td>\n",
       "      <td>16</td>\n",
       "      <td>0.280890</td>\n",
       "      <td>-0.021667</td>\n",
       "      <td>0.22</td>\n",
       "      <td>167</td>\n",
       "      <td>10</td>\n",
       "    </tr>\n",
       "    <tr>\n",
       "      <th>5310814</th>\n",
       "      <td>5.6789</td>\n",
       "      <td>4.1709</td>\n",
       "      <td>0.41373</td>\n",
       "      <td>-0.06862</td>\n",
       "      <td>0.41472</td>\n",
       "      <td>0.071998</td>\n",
       "      <td>-2.260208</td>\n",
       "      <td>-0.257397</td>\n",
       "      <td>8</td>\n",
       "      <td>16</td>\n",
       "      <td>0.318749</td>\n",
       "      <td>0.006139</td>\n",
       "      <td>0.22</td>\n",
       "      <td>167</td>\n",
       "      <td>10</td>\n",
       "    </tr>\n",
       "    <tr>\n",
       "      <th>5310815</th>\n",
       "      <td>5.6559</td>\n",
       "      <td>4.0909</td>\n",
       "      <td>-1.09178</td>\n",
       "      <td>-0.23122</td>\n",
       "      <td>-0.69446</td>\n",
       "      <td>-0.768151</td>\n",
       "      <td>-13.461109</td>\n",
       "      <td>3.683377</td>\n",
       "      <td>8</td>\n",
       "      <td>16</td>\n",
       "      <td>0.356455</td>\n",
       "      <td>0.033412</td>\n",
       "      <td>0.22</td>\n",
       "      <td>167</td>\n",
       "      <td>10</td>\n",
       "    </tr>\n",
       "    <tr>\n",
       "      <th>5310816</th>\n",
       "      <td>4.9543</td>\n",
       "      <td>4.3687</td>\n",
       "      <td>-4.54340</td>\n",
       "      <td>2.16567</td>\n",
       "      <td>-11.03359</td>\n",
       "      <td>0.065644</td>\n",
       "      <td>-7.969290</td>\n",
       "      <td>4.537201</td>\n",
       "      <td>8</td>\n",
       "      <td>16</td>\n",
       "      <td>0.389484</td>\n",
       "      <td>0.062536</td>\n",
       "      <td>0.22</td>\n",
       "      <td>167</td>\n",
       "      <td>10</td>\n",
       "    </tr>\n",
       "    <tr>\n",
       "      <th>5310817</th>\n",
       "      <td>3.9566</td>\n",
       "      <td>4.6490</td>\n",
       "      <td>-3.28609</td>\n",
       "      <td>-0.29356</td>\n",
       "      <td>-3.04057</td>\n",
       "      <td>1.133997</td>\n",
       "      <td>23.822023</td>\n",
       "      <td>-24.215317</td>\n",
       "      <td>8</td>\n",
       "      <td>16</td>\n",
       "      <td>0.415861</td>\n",
       "      <td>0.093529</td>\n",
       "      <td>0.22</td>\n",
       "      <td>167</td>\n",
       "      <td>10</td>\n",
       "    </tr>\n",
       "  </tbody>\n",
       "</table>\n",
       "</div>"
      ],
      "text/plain": [
       "              X       Z    VEL_X    VEL_Z       ROT  ANG_VEL_Y      ACC_X  \\\n",
       "5310813  5.5585  4.1559  0.70930  0.18634   0.13008  -0.028081  -1.381588   \n",
       "5310814  5.6789  4.1709  0.41373 -0.06862   0.41472   0.071998  -2.260208   \n",
       "5310815  5.6559  4.0909 -1.09178 -0.23122  -0.69446  -0.768151 -13.461109   \n",
       "5310816  4.9543  4.3687 -4.54340  2.16567 -11.03359   0.065644  -7.969290   \n",
       "5310817  3.9566  4.6490 -3.28609 -0.29356  -3.04057   1.133997  23.822023   \n",
       "\n",
       "             ACC_Z  TILE  TILE_IND  X_RELATIVE  Z_RELATIVE  TIME  RACE  GROUP  \n",
       "5310813   1.713180     8        16    0.280890   -0.021667  0.22   167     10  \n",
       "5310814  -0.257397     8        16    0.318749    0.006139  0.22   167     10  \n",
       "5310815   3.683377     8        16    0.356455    0.033412  0.22   167     10  \n",
       "5310816   4.537201     8        16    0.389484    0.062536  0.22   167     10  \n",
       "5310817 -24.215317     8        16    0.415861    0.093529  0.22   167     10  "
      ]
     },
     "execution_count": 6,
     "metadata": {},
     "output_type": "execute_result"
    }
   ],
   "source": [
    "united.tail()"
   ]
  },
  {
   "cell_type": "code",
   "execution_count": 7,
   "id": "e678fb09-6d88-4e8f-8793-5c52ad3987f1",
   "metadata": {
    "tags": []
   },
   "outputs": [],
   "source": [
    "df_train,df_val,df_test= Generator.split_train_validation_test(united,[\"RACE\",\"GROUP\"])"
   ]
  },
  {
   "cell_type": "code",
   "execution_count": 8,
   "id": "f87d77fd-2c1d-4c38-9211-d08d8f3f8707",
   "metadata": {
    "tags": []
   },
   "outputs": [
    {
     "data": {
      "text/html": [
       "<div>\n",
       "<style scoped>\n",
       "    .dataframe tbody tr th:only-of-type {\n",
       "        vertical-align: middle;\n",
       "    }\n",
       "\n",
       "    .dataframe tbody tr th {\n",
       "        vertical-align: top;\n",
       "    }\n",
       "\n",
       "    .dataframe thead th {\n",
       "        text-align: right;\n",
       "    }\n",
       "</style>\n",
       "<table border=\"1\" class=\"dataframe\">\n",
       "  <thead>\n",
       "    <tr style=\"text-align: right;\">\n",
       "      <th></th>\n",
       "      <th>X</th>\n",
       "      <th>Z</th>\n",
       "      <th>VEL_X</th>\n",
       "      <th>VEL_Z</th>\n",
       "      <th>ROT</th>\n",
       "      <th>ANG_VEL_Y</th>\n",
       "      <th>ACC_X</th>\n",
       "      <th>ACC_Z</th>\n",
       "      <th>TILE</th>\n",
       "      <th>TILE_IND</th>\n",
       "      <th>X_RELATIVE</th>\n",
       "      <th>Z_RELATIVE</th>\n",
       "      <th>TIME</th>\n",
       "      <th>RACE</th>\n",
       "      <th>GROUP</th>\n",
       "    </tr>\n",
       "  </thead>\n",
       "  <tbody>\n",
       "    <tr>\n",
       "      <th>0</th>\n",
       "      <td>0.00000</td>\n",
       "      <td>0.00000</td>\n",
       "      <td>0.000000</td>\n",
       "      <td>0.000000</td>\n",
       "      <td>0.0000</td>\n",
       "      <td>0.000000</td>\n",
       "      <td>0.000000</td>\n",
       "      <td>0.000000</td>\n",
       "      <td>0</td>\n",
       "      <td>0</td>\n",
       "      <td>0.000000</td>\n",
       "      <td>0.000000</td>\n",
       "      <td>0.00</td>\n",
       "      <td>0</td>\n",
       "      <td>0</td>\n",
       "    </tr>\n",
       "    <tr>\n",
       "      <th>1</th>\n",
       "      <td>-0.01641</td>\n",
       "      <td>0.46479</td>\n",
       "      <td>-0.787199</td>\n",
       "      <td>3.679083</td>\n",
       "      <td>-0.6641</td>\n",
       "      <td>-0.555253</td>\n",
       "      <td>-37.836440</td>\n",
       "      <td>0.133991</td>\n",
       "      <td>4</td>\n",
       "      <td>32</td>\n",
       "      <td>-0.124219</td>\n",
       "      <td>0.395531</td>\n",
       "      <td>0.22</td>\n",
       "      <td>0</td>\n",
       "      <td>0</td>\n",
       "    </tr>\n",
       "    <tr>\n",
       "      <th>2</th>\n",
       "      <td>-0.23364</td>\n",
       "      <td>1.15674</td>\n",
       "      <td>-0.505374</td>\n",
       "      <td>2.481521</td>\n",
       "      <td>-5.8806</td>\n",
       "      <td>0.090642</td>\n",
       "      <td>23.921020</td>\n",
       "      <td>5.117202</td>\n",
       "      <td>4</td>\n",
       "      <td>32</td>\n",
       "      <td>-0.127334</td>\n",
       "      <td>0.410954</td>\n",
       "      <td>0.22</td>\n",
       "      <td>0</td>\n",
       "      <td>0</td>\n",
       "    </tr>\n",
       "    <tr>\n",
       "      <th>3</th>\n",
       "      <td>-0.29309</td>\n",
       "      <td>1.54297</td>\n",
       "      <td>0.437547</td>\n",
       "      <td>1.485258</td>\n",
       "      <td>-2.4037</td>\n",
       "      <td>0.808292</td>\n",
       "      <td>22.235918</td>\n",
       "      <td>7.911897</td>\n",
       "      <td>4</td>\n",
       "      <td>32</td>\n",
       "      <td>-0.131242</td>\n",
       "      <td>0.431527</td>\n",
       "      <td>0.22</td>\n",
       "      <td>0</td>\n",
       "      <td>0</td>\n",
       "    </tr>\n",
       "    <tr>\n",
       "      <th>4</th>\n",
       "      <td>-0.23889</td>\n",
       "      <td>1.90650</td>\n",
       "      <td>-0.478706</td>\n",
       "      <td>2.162672</td>\n",
       "      <td>1.1955</td>\n",
       "      <td>-0.339512</td>\n",
       "      <td>-11.018061</td>\n",
       "      <td>5.533980</td>\n",
       "      <td>4</td>\n",
       "      <td>32</td>\n",
       "      <td>-0.134427</td>\n",
       "      <td>0.456947</td>\n",
       "      <td>0.22</td>\n",
       "      <td>0</td>\n",
       "      <td>0</td>\n",
       "    </tr>\n",
       "  </tbody>\n",
       "</table>\n",
       "</div>"
      ],
      "text/plain": [
       "         X        Z     VEL_X     VEL_Z     ROT  ANG_VEL_Y      ACC_X  \\\n",
       "0  0.00000  0.00000  0.000000  0.000000  0.0000   0.000000   0.000000   \n",
       "1 -0.01641  0.46479 -0.787199  3.679083 -0.6641  -0.555253 -37.836440   \n",
       "2 -0.23364  1.15674 -0.505374  2.481521 -5.8806   0.090642  23.921020   \n",
       "3 -0.29309  1.54297  0.437547  1.485258 -2.4037   0.808292  22.235918   \n",
       "4 -0.23889  1.90650 -0.478706  2.162672  1.1955  -0.339512 -11.018061   \n",
       "\n",
       "      ACC_Z  TILE  TILE_IND  X_RELATIVE  Z_RELATIVE  TIME  RACE  GROUP  \n",
       "0  0.000000     0         0    0.000000    0.000000  0.00     0      0  \n",
       "1  0.133991     4        32   -0.124219    0.395531  0.22     0      0  \n",
       "2  5.117202     4        32   -0.127334    0.410954  0.22     0      0  \n",
       "3  7.911897     4        32   -0.131242    0.431527  0.22     0      0  \n",
       "4  5.533980     4        32   -0.134427    0.456947  0.22     0      0  "
      ]
     },
     "execution_count": 8,
     "metadata": {},
     "output_type": "execute_result"
    }
   ],
   "source": [
    "df_train.head()"
   ]
  },
  {
   "cell_type": "code",
   "execution_count": 17,
   "id": "1e6c4e46-452c-46d6-9ce1-965c703e5be4",
   "metadata": {
    "tags": []
   },
   "outputs": [
    {
     "name": "stdout",
     "output_type": "stream",
     "text": [
      "Length: 2654974 races: 168 n batches: 2641534 / 512\n",
      "Length: 1327474 races: 168 n batches: 1314034 / 512\n",
      "Length: 1328370 races: 168 n batches: 1314930 / 512\n"
     ]
    }
   ],
   "source": [
    "gen_train=Generator.DataGenerator(BATCH_SIZE,df_train,16000)\n",
    "gen_val=Generator.DataGenerator(BATCH_SIZE,df_val,16000)\n",
    "gen_test=Generator.DataGenerator(BATCH_SIZE,df_test,16000)\n"
   ]
  },
  {
   "cell_type": "code",
   "execution_count": 11,
   "id": "5ba788fa-8aaf-4878-9ef8-29a427d59810",
   "metadata": {
    "tags": []
   },
   "outputs": [
    {
     "name": "stdout",
     "output_type": "stream",
     "text": [
      "tf.Tensor(\n",
      "[[-9.511800e-01 -4.491993e-01 -8.937000e-01  1.900000e+01  3.000000e+01\n",
      "   1.314111e-01  1.860025e-01]\n",
      " [-8.038800e-01 -1.858376e-01 -1.003000e-01  1.900000e+01  3.000000e+01\n",
      "   5.041341e-02  1.878775e-01]\n",
      " [-3.850800e-01  8.231067e-01  2.371900e+00  1.900000e+01  3.000000e+01\n",
      "  -3.241699e-02  1.914452e-01]\n",
      " [-7.251200e-01  6.701610e-01  8.360000e-01  1.900000e+01  3.000000e+01\n",
      "  -1.167692e-01  2.002864e-01]\n",
      " [-6.196400e-01 -3.903000e-02 -3.292000e-01  1.900000e+01  3.000000e+01\n",
      "  -2.032064e-01  2.110611e-01]\n",
      " [-7.321000e-01 -1.515370e-01 -5.748000e-01  1.900000e+01  3.100000e+01\n",
      "   2.084766e-01  2.207746e-01]\n",
      " [-7.026500e-01 -5.427800e-02 -4.730000e-02  1.900000e+01  3.100000e+01\n",
      "   1.180599e-01  2.297460e-01]\n",
      " [-5.758500e-01  2.494030e-01  2.121000e-01  1.900000e+01  3.100000e+01\n",
      "   2.564941e-02  2.387954e-01]\n",
      " [ 3.353000e-01  2.071953e+00  5.460300e+00  1.900000e+01  3.100000e+01\n",
      "  -6.675618e-02  2.551040e-01]\n",
      " [-4.672100e-01  1.320263e+00  1.216700e+00  1.900000e+01  3.100000e+01\n",
      "  -1.595085e-01  2.825389e-01]\n",
      " [ 7.735400e-01  2.710582e+00  5.216500e+00  4.000000e+00  3.200000e+01\n",
      "   4.973681e-01  1.590950e-01]\n",
      " [ 4.752750e+00  6.562681e+00  1.439440e+01  4.000000e+00  3.200000e+01\n",
      "   4.145361e-01  1.933626e-01]\n",
      " [ 1.885400e+00  2.955990e+00  7.837700e+00  4.000000e+00  3.200000e+01\n",
      "   3.409358e-01  2.408822e-01]\n",
      " [ 3.132530e+00  2.277310e+00  6.749000e+00  4.000000e+00  3.200000e+01\n",
      "   2.733300e-01  2.953027e-01]\n",
      " [ 1.744980e+00  2.193420e+00  5.301900e+00  4.000000e+00  3.200000e+01\n",
      "   2.145279e-01  3.568848e-01]\n",
      " [ 6.907700e-01  7.698900e-01  1.224500e+00  4.000000e+00  3.200000e+01\n",
      "   1.590397e-01  4.226204e-01]\n",
      " [ 3.422360e+00  1.672060e+00  8.797800e+00  4.000000e+00  3.200000e+01\n",
      "   1.079785e-01  4.913118e-01]\n",
      " [ 2.515970e+00  1.223380e+00  4.401000e+00  1.600000e+01  0.000000e+00\n",
      "   6.744466e-02 -3.700065e-01]\n",
      " [ 2.435970e+00  9.166800e-01  6.709300e+00  1.600000e+01  0.000000e+00\n",
      "   3.472331e-02 -2.165820e-01]\n",
      " [ 2.293891e+00 -8.262600e-01  3.275000e+00  1.600000e+01  0.000000e+00\n",
      "   8.725586e-03 -6.226562e-02]], shape=(20, 7), dtype=float64)\n"
     ]
    },
    {
     "data": {
      "text/plain": [
       "<tf.Tensor: shape=(3,), dtype=float64, numpy=array([4.27571, 0.06039, 8.468  ])>"
      ]
     },
     "execution_count": 11,
     "metadata": {},
     "output_type": "execute_result"
    }
   ],
   "source": [
    "x_y=gen_test[0]\n",
    "x=x_y[0][0]\n",
    "print(x)\n",
    "x_y[1][0]"
   ]
  },
  {
   "cell_type": "markdown",
   "id": "1ce93477",
   "metadata": {
    "tags": []
   },
   "source": [
    "### Model definition"
   ]
  },
  {
   "cell_type": "markdown",
   "id": "e9f400a4",
   "metadata": {},
   "source": [
    "#### Train and print"
   ]
  },
  {
   "cell_type": "code",
   "execution_count": 18,
   "id": "2d50ad3a",
   "metadata": {
    "tags": []
   },
   "outputs": [],
   "source": [
    "if(ONE_CAR):\n",
    "    model_definitions.cars=1\n",
    "else:\n",
    "    model_definitions.cars=4\n",
    "model_definitions.features=FEATURES\n",
    "model_definitions.sequence_length=SEQUENCE_LENGTH\n",
    "model_definitions.feat_pred=FEATURES_PREDICTED"
   ]
  },
  {
   "cell_type": "markdown",
   "id": "b1d92d02-082b-47d0-9a36-b42cf8349a43",
   "metadata": {
    "jp-MarkdownHeadingCollapsed": true,
    "tags": []
   },
   "source": [
    "### Rules Model"
   ]
  },
  {
   "cell_type": "code",
   "execution_count": null,
   "id": "cb53b762",
   "metadata": {},
   "outputs": [],
   "source": [
    "lstm,history=LSTM_Train(2,SEQUENCE_LENGTH,4,rules_train,rules_val,learning_rate=0.01,epoch=100, dropout=0.2, cells=6 )\n",
    "\n",
    "ev=lstm.evaluate(rules_test,verbose=0)\n",
    "print(f\"Loss: {ev[0]} MAE: {ev[1]} Accuracy: {ev[2]}\")"
   ]
  },
  {
   "cell_type": "code",
   "execution_count": null,
   "id": "bd1b77a7",
   "metadata": {},
   "outputs": [],
   "source": [
    "lstm2,history=LSTM_Train(2,SEQUENCE_LENGTH,4,rules_train,rules_val,learning_rate=0.002,epoch=100, dropout=0.02, cells=1)\n",
    "\n",
    "ev=lstm2.evaluate(rules_test,verbose=0)\n",
    "print(f\"Loss: {ev[0]} MAE: {ev[1]} Accuracy: {ev[2]}\")"
   ]
  },
  {
   "cell_type": "code",
   "execution_count": null,
   "id": "acc81020",
   "metadata": {},
   "outputs": [],
   "source": [
    "mlp,history=MLP_Train(2,SEQUENCE_LENGTH,4,rules_train,rules_val,learning_rate=0.001,epoch=100)\n",
    "\n",
    "ev=mlp.evaluate(rules_test,verbose=0)\n",
    "print(f\"Loss: {ev[0]} MAE: {ev[1]} Accuracy: {ev[2]}\")"
   ]
  },
  {
   "cell_type": "code",
   "execution_count": null,
   "id": "62dedac7",
   "metadata": {},
   "outputs": [],
   "source": [
    "siamese,history=LSTM_Siamese_Train(2,SEQUENCE_LENGTH,4,rules_train,rules_val,learning_rate=0.001,epoch=100, dropout=0.02, cells=2 )\n",
    "\n",
    "ev=siamese.evaluate(rules_test,verbose=0)\n",
    "print(f\"Loss: {ev[0]} MAE: {ev[1]} Accuracy: {ev[2]}\")"
   ]
  },
  {
   "cell_type": "markdown",
   "id": "995fbcaa",
   "metadata": {
    "tags": []
   },
   "source": [
    "### Physichs Model"
   ]
  },
  {
   "cell_type": "markdown",
   "id": "543ee461",
   "metadata": {},
   "source": [
    "Since physichs data can be very small, Each data is multiply by 10 "
   ]
  },
  {
   "cell_type": "code",
   "execution_count": 11,
   "id": "49bc5a7d",
   "metadata": {
    "tags": []
   },
   "outputs": [
    {
     "name": "stdout",
     "output_type": "stream",
     "text": [
      "Epoch 1/10\n",
      "5109/5109 [==============================] - 488s 95ms/step - loss: 8.0866 - mean_absolute_error: 1.8331 - accuracy: 0.0000e+00 - val_loss: 6.2619 - val_mean_absolute_error: 1.5699 - val_accuracy: 0.0000e+00 - lr: 1.0000e-04\n",
      "Epoch 2/10\n",
      "5109/5109 [==============================] - 489s 96ms/step - loss: 5.8418 - mean_absolute_error: 1.5124 - accuracy: 0.0000e+00 - val_loss: 6.1840 - val_mean_absolute_error: 1.5562 - val_accuracy: 0.0000e+00 - lr: 1.0000e-04\n",
      "Epoch 3/10\n",
      "5109/5109 [==============================] - 487s 95ms/step - loss: 5.8164 - mean_absolute_error: 1.5084 - accuracy: 0.0000e+00 - val_loss: 6.1767 - val_mean_absolute_error: 1.5555 - val_accuracy: 0.0000e+00 - lr: 1.0000e-04\n",
      "Epoch 4/10\n",
      "5108/5109 [============================>.] - ETA: 0s - loss: 5.8146 - mean_absolute_error: 1.5083 - accuracy: 1.2746e-07\n",
      "Epoch 4: ReduceLROnPlateau reducing learning rate to 4.999999873689376e-05.\n",
      "5109/5109 [==============================] - 490s 96ms/step - loss: 5.8151 - mean_absolute_error: 1.5083 - accuracy: 1.2743e-07 - val_loss: 6.1752 - val_mean_absolute_error: 1.5554 - val_accuracy: 0.0000e+00 - lr: 1.0000e-04\n",
      "Epoch 5/10\n",
      "5109/5109 [==============================] - 484s 95ms/step - loss: 5.8747 - mean_absolute_error: 1.5148 - accuracy: 1.2743e-07 - val_loss: 6.1429 - val_mean_absolute_error: 1.5505 - val_accuracy: 2.5876e-07 - lr: 5.0000e-05\n",
      "Epoch 6/10\n",
      "5109/5109 [==============================] - 487s 95ms/step - loss: 5.8737 - mean_absolute_error: 1.5148 - accuracy: 0.0000e+00 - val_loss: 6.1426 - val_mean_absolute_error: 1.5505 - val_accuracy: 0.0000e+00 - lr: 5.0000e-05\n",
      "Epoch 7/10\n",
      "5109/5109 [==============================] - 485s 95ms/step - loss: 5.8738 - mean_absolute_error: 1.5148 - accuracy: 0.0000e+00 - val_loss: 6.1424 - val_mean_absolute_error: 1.5506 - val_accuracy: 2.5876e-07 - lr: 5.0000e-05\n",
      "Epoch 8/10\n",
      "5109/5109 [==============================] - 487s 95ms/step - loss: 5.8740 - mean_absolute_error: 1.5148 - accuracy: 0.0000e+00 - val_loss: 6.1421 - val_mean_absolute_error: 1.5505 - val_accuracy: 0.0000e+00 - lr: 5.0000e-05\n",
      "Epoch 9/10\n",
      "5109/5109 [==============================] - 484s 95ms/step - loss: 5.8742 - mean_absolute_error: 1.5148 - accuracy: 0.0000e+00 - val_loss: 6.1413 - val_mean_absolute_error: 1.5505 - val_accuracy: 0.0000e+00 - lr: 5.0000e-05\n",
      "Epoch 10/10\n",
      "5108/5109 [============================>.] - ETA: 0s - loss: 5.8739 - mean_absolute_error: 1.5148 - accuracy: 0.0000e+00\n",
      "Epoch 10: ReduceLROnPlateau reducing learning rate to 2.499999936844688e-05.\n",
      "5109/5109 [==============================] - 487s 95ms/step - loss: 5.8744 - mean_absolute_error: 1.5148 - accuracy: 0.0000e+00 - val_loss: 6.1419 - val_mean_absolute_error: 1.5506 - val_accuracy: 0.0000e+00 - lr: 5.0000e-05\n",
      "Loss: 5.828691482543945 MAE: 1.5244544744491577 Accuracy: 0.0\n",
      "INFO:tensorflow:Assets written to: saved_model/MLP_DISCARD_5_DELTA\\assets\n"
     ]
    }
   ],
   "source": [
    "NAME=f\"MLP_DISCARD_{DISCARD}_DELTA\"\n",
    "mlp_ph,history_mlp_ph=model_definitions.MLP_Train(gen_train,gen_val,learning_rate=0.0001,epoch=10,verbose=1,name=NAME,path=\"logs\")\n",
    "\n",
    "ev=mlp_ph.evaluate(gen_test,verbose=0)\n",
    "print(f\"Loss: {ev[0]} MAE: {ev[1]} Accuracy: {ev[2]}\")\n",
    "tf.saved_model.save(mlp_ph,f'saved_model/{NAME}')"
   ]
  },
  {
   "cell_type": "code",
   "execution_count": null,
   "id": "220477fd-dcf0-43ba-8a66-75e4d7745bca",
   "metadata": {
    "jupyter": {
     "source_hidden": true
    },
    "tags": []
   },
   "outputs": [],
   "source": [
    "units=32\n",
    "kernel_size=1\n",
    "filters=32\n",
    "normalization=False\n",
    "cnn_lstm,history_cnn_lstm=model_definitions.CNN_LSTM_Train(gen_train,gen_val,learning_rate=0.0001,patience=10,name=f\"CNN{filters}_{kernel_size}LSTM{units}_Norm{normalization}\",\n",
    "                                                           path=\"logs_350SequenceLength\",epoch=10, dropout=0.2,units=units,kernel_size=kernel_size,\n",
    "                                                           filters=filters, normalization=normalization,verbose=1\n",
    "                                                          )\n",
    "\n",
    "ev=cnn_lstm.evaluate(gen_test,verbose=0)\n",
    "print(f\"Loss: {ev[0]} MAE: {ev[1]} Accuracy: {ev[2]}\")\n",
    "\n",
    "tf.saved_model.save(cnn_lstm,f'saved_model/CNN_LSTM{units}_{kernel_size}_{filters}_PosAssoluta')"
   ]
  },
  {
   "cell_type": "code",
   "execution_count": 20,
   "id": "9695dc32",
   "metadata": {
    "tags": []
   },
   "outputs": [
    {
     "name": "stdout",
     "output_type": "stream",
     "text": [
      "Epoch 1/100\n",
      "5109/5109 [==============================] - 506s 98ms/step - loss: 6.1255 - mean_absolute_error: 1.6144 - accuracy: 0.0000e+00 - val_loss: 5.9518 - val_mean_absolute_error: 1.5549 - val_accuracy: 0.0000e+00 - lr: 1.0000e-04\n",
      "Epoch 2/100\n",
      "5109/5109 [==============================] - 497s 97ms/step - loss: 4.4482 - mean_absolute_error: 1.3534 - accuracy: 1.2743e-07 - val_loss: 6.2036 - val_mean_absolute_error: 1.5591 - val_accuracy: 0.0000e+00 - lr: 1.0000e-04\n",
      "Epoch 3/100\n",
      "5108/5109 [============================>.] - ETA: 0s - loss: 4.0611 - mean_absolute_error: 1.2801 - accuracy: 0.0000e+00\n",
      "Epoch 3: ReduceLROnPlateau reducing learning rate to 4.999999873689376e-05.\n",
      "5109/5109 [==============================] - 494s 97ms/step - loss: 4.0614 - mean_absolute_error: 1.2801 - accuracy: 0.0000e+00 - val_loss: 6.5179 - val_mean_absolute_error: 1.5938 - val_accuracy: 0.0000e+00 - lr: 1.0000e-04\n",
      "Epoch 4/100\n",
      "5109/5109 [==============================] - 493s 96ms/step - loss: 3.9721 - mean_absolute_error: 1.2648 - accuracy: 2.5486e-07 - val_loss: 5.7361 - val_mean_absolute_error: 1.5090 - val_accuracy: 0.0000e+00 - lr: 5.0000e-05\n",
      "Epoch 5/100\n",
      "5109/5109 [==============================] - 493s 96ms/step - loss: 3.8626 - mean_absolute_error: 1.2444 - accuracy: 0.0000e+00 - val_loss: 5.7438 - val_mean_absolute_error: 1.5026 - val_accuracy: 0.0000e+00 - lr: 5.0000e-05\n",
      "Epoch 6/100\n",
      "5109/5109 [==============================] - 495s 97ms/step - loss: 3.7694 - mean_absolute_error: 1.2271 - accuracy: 0.0000e+00 - val_loss: 5.6630 - val_mean_absolute_error: 1.4923 - val_accuracy: 0.0000e+00 - lr: 5.0000e-05\n",
      "Epoch 7/100\n",
      "5109/5109 [==============================] - 493s 96ms/step - loss: 3.6894 - mean_absolute_error: 1.2117 - accuracy: 0.0000e+00 - val_loss: 5.7241 - val_mean_absolute_error: 1.4953 - val_accuracy: 0.0000e+00 - lr: 5.0000e-05\n",
      "Epoch 8/100\n",
      "5109/5109 [==============================] - 494s 97ms/step - loss: 3.6189 - mean_absolute_error: 1.1981 - accuracy: 0.0000e+00 - val_loss: 5.6850 - val_mean_absolute_error: 1.4906 - val_accuracy: 0.0000e+00 - lr: 5.0000e-05\n",
      "Epoch 9/100\n",
      "5108/5109 [============================>.] - ETA: 0s - loss: 3.5551 - mean_absolute_error: 1.1863 - accuracy: 3.8237e-07\n",
      "Epoch 9: ReduceLROnPlateau reducing learning rate to 2.499999936844688e-05.\n",
      "5109/5109 [==============================] - 494s 97ms/step - loss: 3.5555 - mean_absolute_error: 1.1863 - accuracy: 3.8229e-07 - val_loss: 5.6861 - val_mean_absolute_error: 1.4898 - val_accuracy: 0.0000e+00 - lr: 5.0000e-05\n",
      "Epoch 10/100\n",
      "5109/5109 [==============================] - 495s 97ms/step - loss: 3.6171 - mean_absolute_error: 1.1978 - accuracy: 2.5486e-07 - val_loss: 5.0251 - val_mean_absolute_error: 1.4078 - val_accuracy: 0.0000e+00 - lr: 2.5000e-05\n",
      "Epoch 11/100\n",
      "5109/5109 [==============================] - 495s 97ms/step - loss: 3.5788 - mean_absolute_error: 1.1909 - accuracy: 0.0000e+00 - val_loss: 4.9714 - val_mean_absolute_error: 1.4016 - val_accuracy: 0.0000e+00 - lr: 2.5000e-05\n",
      "Epoch 12/100\n",
      "5109/5109 [==============================] - 495s 97ms/step - loss: 3.5442 - mean_absolute_error: 1.1846 - accuracy: 1.2743e-07 - val_loss: 4.9654 - val_mean_absolute_error: 1.3996 - val_accuracy: 2.5876e-07 - lr: 2.5000e-05\n",
      "Epoch 13/100\n",
      "5109/5109 [==============================] - 494s 97ms/step - loss: 3.5187 - mean_absolute_error: 1.1799 - accuracy: 1.2743e-07 - val_loss: 4.8290 - val_mean_absolute_error: 1.3813 - val_accuracy: 0.0000e+00 - lr: 2.5000e-05\n",
      "Epoch 14/100\n",
      "5109/5109 [==============================] - 494s 97ms/step - loss: 3.4873 - mean_absolute_error: 1.1741 - accuracy: 0.0000e+00 - val_loss: 4.9659 - val_mean_absolute_error: 1.3985 - val_accuracy: 0.0000e+00 - lr: 2.5000e-05\n",
      "Epoch 15/100\n",
      "5108/5109 [============================>.] - ETA: 0s - loss: 3.4578 - mean_absolute_error: 1.1684 - accuracy: 0.0000e+00\n",
      "Epoch 15: ReduceLROnPlateau reducing learning rate to 1.249999968422344e-05.\n",
      "5109/5109 [==============================] - 494s 97ms/step - loss: 3.4581 - mean_absolute_error: 1.1684 - accuracy: 0.0000e+00 - val_loss: 4.9234 - val_mean_absolute_error: 1.3917 - val_accuracy: 2.5876e-07 - lr: 2.5000e-05\n",
      "Epoch 16/100\n",
      "5109/5109 [==============================] - 495s 97ms/step - loss: 3.5409 - mean_absolute_error: 1.1836 - accuracy: 1.2743e-07 - val_loss: 4.5811 - val_mean_absolute_error: 1.3428 - val_accuracy: 0.0000e+00 - lr: 1.2500e-05\n",
      "Epoch 17/100\n",
      "5109/5109 [==============================] - 494s 97ms/step - loss: 3.5170 - mean_absolute_error: 1.1793 - accuracy: 2.5486e-07 - val_loss: 4.5957 - val_mean_absolute_error: 1.3460 - val_accuracy: 0.0000e+00 - lr: 1.2500e-05\n",
      "Epoch 18/100\n",
      "5109/5109 [==============================] - 493s 97ms/step - loss: 3.5006 - mean_absolute_error: 1.1764 - accuracy: 0.0000e+00 - val_loss: 4.5809 - val_mean_absolute_error: 1.3425 - val_accuracy: 0.0000e+00 - lr: 1.2500e-05\n",
      "Epoch 19/100\n",
      "5109/5109 [==============================] - 493s 96ms/step - loss: 3.4881 - mean_absolute_error: 1.1738 - accuracy: 0.0000e+00 - val_loss: 4.5360 - val_mean_absolute_error: 1.3358 - val_accuracy: 0.0000e+00 - lr: 1.2500e-05\n",
      "Epoch 20/100\n",
      "5109/5109 [==============================] - 493s 96ms/step - loss: 3.4710 - mean_absolute_error: 1.1707 - accuracy: 0.0000e+00 - val_loss: 4.5193 - val_mean_absolute_error: 1.3325 - val_accuracy: 0.0000e+00 - lr: 1.2500e-05\n",
      "Epoch 21/100\n",
      "5109/5109 [==============================] - 493s 97ms/step - loss: 3.4571 - mean_absolute_error: 1.1682 - accuracy: 2.5486e-07 - val_loss: 4.5289 - val_mean_absolute_error: 1.3346 - val_accuracy: 0.0000e+00 - lr: 1.2500e-05\n",
      "Epoch 22/100\n",
      "5109/5109 [==============================] - 495s 97ms/step - loss: 3.4445 - mean_absolute_error: 1.1660 - accuracy: 1.2743e-07 - val_loss: 4.5024 - val_mean_absolute_error: 1.3297 - val_accuracy: 0.0000e+00 - lr: 1.2500e-05\n",
      "Epoch 23/100\n",
      "5109/5109 [==============================] - 494s 97ms/step - loss: 3.4277 - mean_absolute_error: 1.1632 - accuracy: 0.0000e+00 - val_loss: 4.5035 - val_mean_absolute_error: 1.3290 - val_accuracy: 0.0000e+00 - lr: 1.2500e-05\n",
      "Epoch 24/100\n",
      "5109/5109 [==============================] - 494s 97ms/step - loss: 3.4149 - mean_absolute_error: 1.1604 - accuracy: 0.0000e+00 - val_loss: 4.4493 - val_mean_absolute_error: 1.3207 - val_accuracy: 0.0000e+00 - lr: 1.2500e-05\n",
      "Epoch 25/100\n",
      "5109/5109 [==============================] - 494s 97ms/step - loss: 3.4016 - mean_absolute_error: 1.1581 - accuracy: 0.0000e+00 - val_loss: 4.4642 - val_mean_absolute_error: 1.3228 - val_accuracy: 2.5876e-07 - lr: 1.2500e-05\n",
      "Epoch 26/100\n",
      "5108/5109 [============================>.] - ETA: 0s - loss: 3.3939 - mean_absolute_error: 1.1563 - accuracy: 0.0000e+00\n",
      "Epoch 26: ReduceLROnPlateau reducing learning rate to 6.24999984211172e-06.\n",
      "5109/5109 [==============================] - 494s 97ms/step - loss: 3.3943 - mean_absolute_error: 1.1564 - accuracy: 0.0000e+00 - val_loss: 4.4465 - val_mean_absolute_error: 1.3188 - val_accuracy: 0.0000e+00 - lr: 1.2500e-05\n",
      "Epoch 27/100\n",
      "5109/5109 [==============================] - 495s 97ms/step - loss: 3.4670 - mean_absolute_error: 1.1698 - accuracy: 1.2743e-07 - val_loss: 4.4512 - val_mean_absolute_error: 1.3174 - val_accuracy: 0.0000e+00 - lr: 6.2500e-06\n",
      "Epoch 28/100\n",
      "5109/5109 [==============================] - 494s 97ms/step - loss: 3.4506 - mean_absolute_error: 1.1669 - accuracy: 1.2743e-07 - val_loss: 4.4576 - val_mean_absolute_error: 1.3181 - val_accuracy: 0.0000e+00 - lr: 6.2500e-06\n",
      "Epoch 29/100\n",
      "5109/5109 [==============================] - 494s 97ms/step - loss: 3.4448 - mean_absolute_error: 1.1660 - accuracy: 0.0000e+00 - val_loss: 4.4415 - val_mean_absolute_error: 1.3150 - val_accuracy: 0.0000e+00 - lr: 6.2500e-06\n",
      "Epoch 30/100\n",
      "5109/5109 [==============================] - 495s 97ms/step - loss: 3.4364 - mean_absolute_error: 1.1644 - accuracy: 0.0000e+00 - val_loss: 4.4394 - val_mean_absolute_error: 1.3150 - val_accuracy: 0.0000e+00 - lr: 6.2500e-06\n",
      "Epoch 31/100\n",
      "5109/5109 [==============================] - 494s 97ms/step - loss: 3.4295 - mean_absolute_error: 1.1631 - accuracy: 0.0000e+00 - val_loss: 4.4338 - val_mean_absolute_error: 1.3137 - val_accuracy: 0.0000e+00 - lr: 6.2500e-06\n",
      "Epoch 32/100\n",
      "5109/5109 [==============================] - 494s 97ms/step - loss: 3.4271 - mean_absolute_error: 1.1627 - accuracy: 0.0000e+00 - val_loss: 4.3829 - val_mean_absolute_error: 1.3059 - val_accuracy: 2.5876e-07 - lr: 6.2500e-06\n",
      "Epoch 33/100\n",
      "5109/5109 [==============================] - 494s 97ms/step - loss: 3.4144 - mean_absolute_error: 1.1604 - accuracy: 1.2743e-07 - val_loss: 4.4120 - val_mean_absolute_error: 1.3099 - val_accuracy: 2.5876e-07 - lr: 6.2500e-06\n",
      "Epoch 34/100\n",
      "5108/5109 [============================>.] - ETA: 0s - loss: 3.4088 - mean_absolute_error: 1.1593 - accuracy: 1.2746e-07\n",
      "Epoch 34: ReduceLROnPlateau reducing learning rate to 3.12499992105586e-06.\n",
      "5109/5109 [==============================] - 494s 97ms/step - loss: 3.4090 - mean_absolute_error: 1.1594 - accuracy: 1.2743e-07 - val_loss: 4.3731 - val_mean_absolute_error: 1.3031 - val_accuracy: 0.0000e+00 - lr: 6.2500e-06\n",
      "Epoch 35/100\n",
      "5109/5109 [==============================] - 494s 97ms/step - loss: 3.4770 - mean_absolute_error: 1.1714 - accuracy: 0.0000e+00 - val_loss: 4.3929 - val_mean_absolute_error: 1.3069 - val_accuracy: 0.0000e+00 - lr: 3.1250e-06\n",
      "Epoch 36/100\n",
      "5109/5109 [==============================] - 495s 97ms/step - loss: 3.4697 - mean_absolute_error: 1.1700 - accuracy: 0.0000e+00 - val_loss: 4.3967 - val_mean_absolute_error: 1.3078 - val_accuracy: 0.0000e+00 - lr: 3.1250e-06\n",
      "Epoch 37/100\n",
      "5109/5109 [==============================] - 494s 97ms/step - loss: 3.4597 - mean_absolute_error: 1.1688 - accuracy: 0.0000e+00 - val_loss: 4.3982 - val_mean_absolute_error: 1.3070 - val_accuracy: 0.0000e+00 - lr: 3.1250e-06\n",
      "Epoch 38/100\n",
      "5109/5109 [==============================] - 495s 97ms/step - loss: 3.4571 - mean_absolute_error: 1.1682 - accuracy: 0.0000e+00 - val_loss: 4.3944 - val_mean_absolute_error: 1.3065 - val_accuracy: 2.5876e-07 - lr: 3.1250e-06\n",
      "Epoch 39/100\n",
      "5109/5109 [==============================] - 494s 97ms/step - loss: 3.4548 - mean_absolute_error: 1.1676 - accuracy: 0.0000e+00 - val_loss: 4.3786 - val_mean_absolute_error: 1.3037 - val_accuracy: 2.5876e-07 - lr: 3.1250e-06\n",
      "Epoch 40/100\n",
      "5108/5109 [============================>.] - ETA: 0s - loss: 3.4476 - mean_absolute_error: 1.1667 - accuracy: 1.2746e-07\n",
      "Epoch 40: ReduceLROnPlateau reducing learning rate to 1.56249996052793e-06.\n",
      "5109/5109 [==============================] - 495s 97ms/step - loss: 3.4479 - mean_absolute_error: 1.1668 - accuracy: 1.2743e-07 - val_loss: 4.3737 - val_mean_absolute_error: 1.3025 - val_accuracy: 0.0000e+00 - lr: 3.1250e-06\n",
      "Loss: 4.257838726043701 MAE: 1.300632357597351 Accuracy: 0.0\n",
      "INFO:tensorflow:Assets written to: saved_model/LSTM3_32_0.0001_DISCARD_5_DELTA\\assets\n"
     ]
    }
   ],
   "source": [
    "lr =1e-4\n",
    "units=32\n",
    "cells=3\n",
    "normalization=False\n",
    "name=f\"LSTM{cells}_{units}_{lr}_DISCARD_{DISCARD}_DELTA\"\n",
    "lstm_ph,history_lstm_ph=model_definitions.LSTM_Train(gen_train,gen_val,learning_rate=lr,patience=6,name=name,path=\"logs\",\n",
    "                                                     epoch=100, dropout=0.2, cells=cells,units=units, normalization=normalization,verbose=1)\n",
    "\n",
    "ev=lstm_ph.evaluate(gen_test,verbose=0)\n",
    "print(f\"Loss: {ev[0]} MAE: {ev[1]} Accuracy: {ev[2]}\")\n",
    "tf.saved_model.save(mlp_ph,f'saved_model/{name}')"
   ]
  },
  {
   "cell_type": "code",
   "execution_count": 27,
   "id": "f5df7839-f920-48fc-a703-e666e4b23d92",
   "metadata": {},
   "outputs": [
    {
     "name": "stderr",
     "output_type": "stream",
     "text": [
      "WARNING:absl:Found untraced functions such as lstm_cell_layer_call_fn, lstm_cell_layer_call_and_return_conditional_losses, lstm_cell_1_layer_call_fn, lstm_cell_1_layer_call_and_return_conditional_losses, lstm_cell_2_layer_call_fn while saving (showing 5 of 6). These functions will not be directly callable after loading.\n"
     ]
    },
    {
     "name": "stdout",
     "output_type": "stream",
     "text": [
      "INFO:tensorflow:Assets written to: saved_model/LSTM2_32_1e-05_NormFalse_PosAssoluta\\assets\n"
     ]
    },
    {
     "name": "stderr",
     "output_type": "stream",
     "text": [
      "INFO:tensorflow:Assets written to: saved_model/LSTM2_32_1e-05_NormFalse_PosAssoluta\\assets\n"
     ]
    }
   ],
   "source": [
    "tf.saved_model.save(lstm_ph,f'saved_model/{name}_PosAssoluta')"
   ]
  },
  {
   "cell_type": "code",
   "execution_count": 19,
   "id": "f7d2267f",
   "metadata": {},
   "outputs": [
    {
     "data": {
      "text/plain": [
       "<tensorflow.python.checkpoint.checkpoint.CheckpointLoadStatus at 0x294ec93b4f0>"
      ]
     },
     "execution_count": 19,
     "metadata": {},
     "output_type": "execute_result"
    }
   ],
   "source": [
    "model=model_definitions.CNN_LSTM_Model(0.2, units=32,filters=32,kernel_size=1, normalization=False)\n",
    "model.load_weights(\"saved_model\\CNN_LSTM32_1_32_PosAssoluta\")"
   ]
  },
  {
   "cell_type": "code",
   "execution_count": 20,
   "id": "615b66fa",
   "metadata": {},
   "outputs": [
    {
     "name": "stdout",
     "output_type": "stream",
     "text": [
      "Model: \"CNN32_1LSTM32\"\n",
      "_________________________________________________________________\n",
      " Layer (type)                Output Shape              Param #   \n",
      "=================================================================\n",
      " input_7 (InputLayer)        [(None, 30, 5)]           0         \n",
      "                                                                 \n",
      " conv1d (Conv1D)             (None, 30, 32)            192       \n",
      "                                                                 \n",
      " max_pooling1d (MaxPooling1D  (None, 30, 32)           0         \n",
      " )                                                               \n",
      "                                                                 \n",
      " lstm_30 (LSTM)              (None, 32)                8320      \n",
      "                                                                 \n",
      " dense_6 (Dense)             (None, 3)                 99        \n",
      "                                                                 \n",
      "=================================================================\n",
      "Total params: 8,611\n",
      "Trainable params: 8,611\n",
      "Non-trainable params: 0\n",
      "_________________________________________________________________\n"
     ]
    }
   ],
   "source": [
    "model.summary()"
   ]
  },
  {
   "cell_type": "code",
   "execution_count": null,
   "id": "8aef0b09",
   "metadata": {},
   "outputs": [],
   "source": [
    "import tf2onnx\n",
    "import onnx\n",
    "input_signature=(tf.TensorSpec([None,30,5],tf.float32,name='x'))\n",
    "onnx_model,_=tf2onnx.converter.from_keras(model,input_signature,opset=9)"
   ]
  },
  {
   "cell_type": "code",
   "execution_count": null,
   "id": "cf5ac715",
   "metadata": {},
   "outputs": [],
   "source": []
  }
 ],
 "metadata": {
  "kernelspec": {
   "display_name": "Python 3 (ipykernel)",
   "language": "python",
   "name": "python3"
  },
  "language_info": {
   "codemirror_mode": {
    "name": "ipython",
    "version": 3
   },
   "file_extension": ".py",
   "mimetype": "text/x-python",
   "name": "python",
   "nbconvert_exporter": "python",
   "pygments_lexer": "ipython3",
   "version": "3.9.16"
  }
 },
 "nbformat": 4,
 "nbformat_minor": 5
}
