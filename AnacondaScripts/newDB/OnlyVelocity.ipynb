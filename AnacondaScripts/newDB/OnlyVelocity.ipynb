{
 "cells": [
  {
   "cell_type": "code",
   "execution_count": 1,
   "id": "20fea2a4-8e09-4803-be40-899fe4695d84",
   "metadata": {
    "tags": []
   },
   "outputs": [],
   "source": [
    "%load_ext autoreload\n",
    "%autoreload 2\n",
    "#%reload_ext autoreload"
   ]
  },
  {
   "cell_type": "code",
   "execution_count": 1,
   "id": "45d2e55b",
   "metadata": {
    "tags": []
   },
   "outputs": [],
   "source": [
    "import tensorflow as tf\n",
    "import tensorflow.keras.layers as layers\n",
    "import numpy as np\n",
    "import matplotlib.pyplot as plt\n",
    "import pandas as pd\n",
    "import Generator\n",
    "import model_definitions"
   ]
  },
  {
   "cell_type": "markdown",
   "id": "4b7f6852",
   "metadata": {},
   "source": [
    "### Open input file"
   ]
  },
  {
   "cell_type": "code",
   "execution_count": 2,
   "id": "41825ca2",
   "metadata": {
    "tags": []
   },
   "outputs": [],
   "source": [
    "SEQUENCE_LENGTH=20\n",
    "ONE_CAR=True\n",
    "PATH=r\"D:\\Users\\Students\\Daniele\\records\\OneCar_db.txt\"\n",
    "BATCH_SIZE=256*2\n",
    "FEATURES=7 \n",
    "FEATURES_PREDICTED=3\n",
    "DISCARD=19"
   ]
  },
  {
   "cell_type": "code",
   "execution_count": 3,
   "id": "0c7b14b0-98d5-49ff-8b88-14abd0632982",
   "metadata": {
    "tags": []
   },
   "outputs": [
    {
     "name": "stdout",
     "output_type": "stream",
     "text": [
      "Max speed diff: 0.8\n",
      "Max x/z diff: 0.8\n",
      "Max rot diff: 2.8000000000000003\n"
     ]
    }
   ],
   "source": [
    "maxSpeed=40\n",
    "frequency=0.02\n",
    "maxdiff=maxSpeed*frequency\n",
    "maxAngularVelocity=140 #140 degrees for second\n",
    "maxAngDiff=maxAngularVelocity*frequency\n",
    "print(f\"Max speed diff: {maxdiff}\\nMax x/z diff: {maxdiff}\\nMax rot diff: {maxAngDiff}\")"
   ]
  },
  {
   "cell_type": "code",
   "execution_count": 4,
   "id": "252787ad-4829-467c-8bfa-c15a35435c94",
   "metadata": {
    "tags": []
   },
   "outputs": [],
   "source": [
    "Generator.SEQUENCE_LENGTH=SEQUENCE_LENGTH\n",
    "Generator.FEATURES=FEATURES\n",
    "Generator.DISCARD=DISCARD\n",
    "df=Generator.single_care_dataframe(PATH)"
   ]
  },
  {
   "cell_type": "code",
   "execution_count": 5,
   "id": "c606f34c",
   "metadata": {
    "tags": []
   },
   "outputs": [],
   "source": [
    "def SubtractDF(df):\n",
    "    return df.groupby(\"RACE\",group_keys=False).apply(Generator.subtraction_columns)\n",
    "\n",
    "dfs=[]\n",
    "for i in range(len(df)):\n",
    "    dfs.append(SubtractDF(df[i]))\n",
    "    #dfs.append(df[i])\n",
    "\n",
    "united=dfs[0]\n",
    "for i in range(1,len(df)):\n",
    "    united=pd.concat([united,dfs[i] ],ignore_index=True)"
   ]
  },
  {
   "cell_type": "code",
   "execution_count": 6,
   "id": "125a142c-90ad-41ed-bdd0-89476ac9e60c",
   "metadata": {
    "tags": []
   },
   "outputs": [
    {
     "data": {
      "text/html": [
       "<div>\n",
       "<style scoped>\n",
       "    .dataframe tbody tr th:only-of-type {\n",
       "        vertical-align: middle;\n",
       "    }\n",
       "\n",
       "    .dataframe tbody tr th {\n",
       "        vertical-align: top;\n",
       "    }\n",
       "\n",
       "    .dataframe thead th {\n",
       "        text-align: right;\n",
       "    }\n",
       "</style>\n",
       "<table border=\"1\" class=\"dataframe\">\n",
       "  <thead>\n",
       "    <tr style=\"text-align: right;\">\n",
       "      <th></th>\n",
       "      <th>X</th>\n",
       "      <th>Z</th>\n",
       "      <th>VEL_X</th>\n",
       "      <th>VEL_Z</th>\n",
       "      <th>ROT</th>\n",
       "      <th>ANG_VEL_Y</th>\n",
       "      <th>ACC_X</th>\n",
       "      <th>ACC_Z</th>\n",
       "      <th>TILE</th>\n",
       "      <th>TILE_IND</th>\n",
       "      <th>X_RELATIVE</th>\n",
       "      <th>Z_RELATIVE</th>\n",
       "      <th>TIME</th>\n",
       "      <th>RACE</th>\n",
       "      <th>GROUP</th>\n",
       "    </tr>\n",
       "  </thead>\n",
       "  <tbody>\n",
       "    <tr>\n",
       "      <th>5310813</th>\n",
       "      <td>7.8144</td>\n",
       "      <td>9.0694</td>\n",
       "      <td>1.96719</td>\n",
       "      <td>-1.65401</td>\n",
       "      <td>4.59076</td>\n",
       "      <td>0.013007</td>\n",
       "      <td>15.948295</td>\n",
       "      <td>-4.203892</td>\n",
       "      <td>8</td>\n",
       "      <td>16</td>\n",
       "      <td>0.133450</td>\n",
       "      <td>-0.146814</td>\n",
       "      <td>0.4</td>\n",
       "      <td>167</td>\n",
       "      <td>19</td>\n",
       "    </tr>\n",
       "    <tr>\n",
       "      <th>5310814</th>\n",
       "      <td>8.8192</td>\n",
       "      <td>8.4603</td>\n",
       "      <td>2.37350</td>\n",
       "      <td>-1.55413</td>\n",
       "      <td>5.25821</td>\n",
       "      <td>0.040471</td>\n",
       "      <td>-0.228595</td>\n",
       "      <td>-0.795459</td>\n",
       "      <td>8</td>\n",
       "      <td>16</td>\n",
       "      <td>0.192244</td>\n",
       "      <td>-0.090412</td>\n",
       "      <td>0.4</td>\n",
       "      <td>167</td>\n",
       "      <td>19</td>\n",
       "    </tr>\n",
       "    <tr>\n",
       "      <th>5310815</th>\n",
       "      <td>9.7417</td>\n",
       "      <td>7.6619</td>\n",
       "      <td>1.91026</td>\n",
       "      <td>-1.37267</td>\n",
       "      <td>3.26049</td>\n",
       "      <td>-0.154846</td>\n",
       "      <td>-3.500080</td>\n",
       "      <td>3.886413</td>\n",
       "      <td>8</td>\n",
       "      <td>16</td>\n",
       "      <td>0.257189</td>\n",
       "      <td>-0.039332</td>\n",
       "      <td>0.4</td>\n",
       "      <td>167</td>\n",
       "      <td>19</td>\n",
       "    </tr>\n",
       "    <tr>\n",
       "      <th>5310816</th>\n",
       "      <td>10.2719</td>\n",
       "      <td>7.5774</td>\n",
       "      <td>0.80994</td>\n",
       "      <td>0.08210</td>\n",
       "      <td>0.62741</td>\n",
       "      <td>0.050259</td>\n",
       "      <td>-2.398968</td>\n",
       "      <td>-0.017929</td>\n",
       "      <td>8</td>\n",
       "      <td>16</td>\n",
       "      <td>0.325669</td>\n",
       "      <td>0.011184</td>\n",
       "      <td>0.4</td>\n",
       "      <td>167</td>\n",
       "      <td>19</td>\n",
       "    </tr>\n",
       "    <tr>\n",
       "      <th>5310817</th>\n",
       "      <td>9.5723</td>\n",
       "      <td>7.7028</td>\n",
       "      <td>-5.61399</td>\n",
       "      <td>1.94441</td>\n",
       "      <td>-11.89370</td>\n",
       "      <td>-0.690471</td>\n",
       "      <td>-21.933367</td>\n",
       "      <td>8.758164</td>\n",
       "      <td>8</td>\n",
       "      <td>16</td>\n",
       "      <td>0.389484</td>\n",
       "      <td>0.062536</td>\n",
       "      <td>0.4</td>\n",
       "      <td>167</td>\n",
       "      <td>19</td>\n",
       "    </tr>\n",
       "  </tbody>\n",
       "</table>\n",
       "</div>"
      ],
      "text/plain": [
       "               X       Z    VEL_X    VEL_Z       ROT  ANG_VEL_Y      ACC_X  \\\n",
       "5310813   7.8144  9.0694  1.96719 -1.65401   4.59076   0.013007  15.948295   \n",
       "5310814   8.8192  8.4603  2.37350 -1.55413   5.25821   0.040471  -0.228595   \n",
       "5310815   9.7417  7.6619  1.91026 -1.37267   3.26049  -0.154846  -3.500080   \n",
       "5310816  10.2719  7.5774  0.80994  0.08210   0.62741   0.050259  -2.398968   \n",
       "5310817   9.5723  7.7028 -5.61399  1.94441 -11.89370  -0.690471 -21.933367   \n",
       "\n",
       "            ACC_Z  TILE  TILE_IND  X_RELATIVE  Z_RELATIVE  TIME  RACE  GROUP  \n",
       "5310813 -4.203892     8        16    0.133450   -0.146814   0.4   167     19  \n",
       "5310814 -0.795459     8        16    0.192244   -0.090412   0.4   167     19  \n",
       "5310815  3.886413     8        16    0.257189   -0.039332   0.4   167     19  \n",
       "5310816 -0.017929     8        16    0.325669    0.011184   0.4   167     19  \n",
       "5310817  8.758164     8        16    0.389484    0.062536   0.4   167     19  "
      ]
     },
     "execution_count": 6,
     "metadata": {},
     "output_type": "execute_result"
    }
   ],
   "source": [
    "united.tail()"
   ]
  },
  {
   "cell_type": "code",
   "execution_count": 7,
   "id": "e678fb09-6d88-4e8f-8793-5c52ad3987f1",
   "metadata": {
    "tags": []
   },
   "outputs": [],
   "source": [
    "df_train,df_val,df_test= Generator.split_train_validation_test(united,[\"RACE\",\"GROUP\"])"
   ]
  },
  {
   "cell_type": "code",
   "execution_count": 8,
   "id": "f87d77fd-2c1d-4c38-9211-d08d8f3f8707",
   "metadata": {
    "tags": []
   },
   "outputs": [
    {
     "data": {
      "text/html": [
       "<div>\n",
       "<style scoped>\n",
       "    .dataframe tbody tr th:only-of-type {\n",
       "        vertical-align: middle;\n",
       "    }\n",
       "\n",
       "    .dataframe tbody tr th {\n",
       "        vertical-align: top;\n",
       "    }\n",
       "\n",
       "    .dataframe thead th {\n",
       "        text-align: right;\n",
       "    }\n",
       "</style>\n",
       "<table border=\"1\" class=\"dataframe\">\n",
       "  <thead>\n",
       "    <tr style=\"text-align: right;\">\n",
       "      <th></th>\n",
       "      <th>X</th>\n",
       "      <th>Z</th>\n",
       "      <th>VEL_X</th>\n",
       "      <th>VEL_Z</th>\n",
       "      <th>ROT</th>\n",
       "      <th>ANG_VEL_Y</th>\n",
       "      <th>ACC_X</th>\n",
       "      <th>ACC_Z</th>\n",
       "      <th>TILE</th>\n",
       "      <th>TILE_IND</th>\n",
       "      <th>X_RELATIVE</th>\n",
       "      <th>Z_RELATIVE</th>\n",
       "      <th>TIME</th>\n",
       "      <th>RACE</th>\n",
       "      <th>GROUP</th>\n",
       "    </tr>\n",
       "  </thead>\n",
       "  <tbody>\n",
       "    <tr>\n",
       "      <th>0</th>\n",
       "      <td>0.00000</td>\n",
       "      <td>0.000000</td>\n",
       "      <td>0.000000</td>\n",
       "      <td>0.000000</td>\n",
       "      <td>0.0000</td>\n",
       "      <td>0.000000</td>\n",
       "      <td>0.000000</td>\n",
       "      <td>0.000000</td>\n",
       "      <td>0</td>\n",
       "      <td>0</td>\n",
       "      <td>0.000000</td>\n",
       "      <td>0.000000</td>\n",
       "      <td>0.0</td>\n",
       "      <td>0</td>\n",
       "      <td>0</td>\n",
       "    </tr>\n",
       "    <tr>\n",
       "      <th>1</th>\n",
       "      <td>-0.20391</td>\n",
       "      <td>1.377150</td>\n",
       "      <td>-0.402967</td>\n",
       "      <td>5.795482</td>\n",
       "      <td>-5.7704</td>\n",
       "      <td>-0.142928</td>\n",
       "      <td>33.748100</td>\n",
       "      <td>2.395153</td>\n",
       "      <td>4</td>\n",
       "      <td>32</td>\n",
       "      <td>-0.126719</td>\n",
       "      <td>0.407695</td>\n",
       "      <td>0.4</td>\n",
       "      <td>0</td>\n",
       "      <td>0</td>\n",
       "    </tr>\n",
       "    <tr>\n",
       "      <th>2</th>\n",
       "      <td>-0.47607</td>\n",
       "      <td>2.941160</td>\n",
       "      <td>-0.788368</td>\n",
       "      <td>3.021808</td>\n",
       "      <td>-1.9582</td>\n",
       "      <td>0.148060</td>\n",
       "      <td>-35.617326</td>\n",
       "      <td>7.960847</td>\n",
       "      <td>4</td>\n",
       "      <td>32</td>\n",
       "      <td>-0.133066</td>\n",
       "      <td>0.446911</td>\n",
       "      <td>0.4</td>\n",
       "      <td>0</td>\n",
       "      <td>0</td>\n",
       "    </tr>\n",
       "    <tr>\n",
       "      <th>3</th>\n",
       "      <td>-0.47730</td>\n",
       "      <td>4.308594</td>\n",
       "      <td>-0.153198</td>\n",
       "      <td>3.299600</td>\n",
       "      <td>1.6448</td>\n",
       "      <td>-0.058761</td>\n",
       "      <td>-3.675389</td>\n",
       "      <td>-11.252597</td>\n",
       "      <td>16</td>\n",
       "      <td>0</td>\n",
       "      <td>-0.139430</td>\n",
       "      <td>-0.491283</td>\n",
       "      <td>0.4</td>\n",
       "      <td>0</td>\n",
       "      <td>0</td>\n",
       "    </tr>\n",
       "    <tr>\n",
       "      <th>4</th>\n",
       "      <td>-0.69836</td>\n",
       "      <td>5.443848</td>\n",
       "      <td>-0.555344</td>\n",
       "      <td>2.914620</td>\n",
       "      <td>-1.0694</td>\n",
       "      <td>0.069873</td>\n",
       "      <td>4.957903</td>\n",
       "      <td>7.639074</td>\n",
       "      <td>16</td>\n",
       "      <td>0</td>\n",
       "      <td>-0.148742</td>\n",
       "      <td>-0.346113</td>\n",
       "      <td>0.4</td>\n",
       "      <td>0</td>\n",
       "      <td>0</td>\n",
       "    </tr>\n",
       "  </tbody>\n",
       "</table>\n",
       "</div>"
      ],
      "text/plain": [
       "         X         Z     VEL_X     VEL_Z     ROT  ANG_VEL_Y      ACC_X  \\\n",
       "0  0.00000  0.000000  0.000000  0.000000  0.0000   0.000000   0.000000   \n",
       "1 -0.20391  1.377150 -0.402967  5.795482 -5.7704  -0.142928  33.748100   \n",
       "2 -0.47607  2.941160 -0.788368  3.021808 -1.9582   0.148060 -35.617326   \n",
       "3 -0.47730  4.308594 -0.153198  3.299600  1.6448  -0.058761  -3.675389   \n",
       "4 -0.69836  5.443848 -0.555344  2.914620 -1.0694   0.069873   4.957903   \n",
       "\n",
       "       ACC_Z  TILE  TILE_IND  X_RELATIVE  Z_RELATIVE  TIME  RACE  GROUP  \n",
       "0   0.000000     0         0    0.000000    0.000000   0.0     0      0  \n",
       "1   2.395153     4        32   -0.126719    0.407695   0.4     0      0  \n",
       "2   7.960847     4        32   -0.133066    0.446911   0.4     0      0  \n",
       "3 -11.252597    16         0   -0.139430   -0.491283   0.4     0      0  \n",
       "4   7.639074    16         0   -0.148742   -0.346113   0.4     0      0  "
      ]
     },
     "execution_count": 8,
     "metadata": {},
     "output_type": "execute_result"
    }
   ],
   "source": [
    "df_train.head()"
   ]
  },
  {
   "cell_type": "code",
   "execution_count": 12,
   "id": "1e6c4e46-452c-46d6-9ce1-965c703e5be4",
   "metadata": {
    "tags": []
   },
   "outputs": [
    {
     "name": "stdout",
     "output_type": "stream",
     "text": [
      "Length: 2654563 races: 168 n batches: 2641123 / 512\n",
      "Length: 1327368 races: 168 n batches: 1313928 / 512\n",
      "Length: 1328887 races: 168 n batches: 1315447 / 512\n"
     ]
    }
   ],
   "source": [
    "gen_train=Generator.DataGenerator(BATCH_SIZE,df_train,5000)\n",
    "gen_val=Generator.DataGenerator(BATCH_SIZE,df_val,2400)\n",
    "gen_test=Generator.DataGenerator(BATCH_SIZE,df_test,2400)\n"
   ]
  },
  {
   "cell_type": "code",
   "execution_count": 22,
   "id": "5ba788fa-8aaf-4878-9ef8-29a427d59810",
   "metadata": {
    "tags": []
   },
   "outputs": [
    {
     "data": {
      "text/plain": [
       "2566.265625"
      ]
     },
     "execution_count": 22,
     "metadata": {},
     "output_type": "execute_result"
    }
   ],
   "source": [
    "#x_y=gen_test[0]\n",
    "#x=x_y[0][0]\n",
    "#print(x)\n",
    "#x_y[1][0]\n",
    "1313928/512"
   ]
  },
  {
   "cell_type": "markdown",
   "id": "1ce93477",
   "metadata": {
    "tags": []
   },
   "source": [
    "### Model definition"
   ]
  },
  {
   "cell_type": "markdown",
   "id": "e9f400a4",
   "metadata": {},
   "source": [
    "#### Train and print"
   ]
  },
  {
   "cell_type": "code",
   "execution_count": 13,
   "id": "2d50ad3a",
   "metadata": {
    "tags": []
   },
   "outputs": [],
   "source": [
    "if(ONE_CAR):\n",
    "    model_definitions.cars=1\n",
    "else:\n",
    "    model_definitions.cars=4\n",
    "model_definitions.features=FEATURES\n",
    "model_definitions.sequence_length=SEQUENCE_LENGTH\n",
    "model_definitions.feat_pred=FEATURES_PREDICTED"
   ]
  },
  {
   "cell_type": "markdown",
   "id": "b1d92d02-082b-47d0-9a36-b42cf8349a43",
   "metadata": {
    "jp-MarkdownHeadingCollapsed": true,
    "tags": []
   },
   "source": [
    "### Rules Model"
   ]
  },
  {
   "cell_type": "code",
   "execution_count": null,
   "id": "cb53b762",
   "metadata": {},
   "outputs": [],
   "source": [
    "lstm,history=LSTM_Train(2,SEQUENCE_LENGTH,4,rules_train,rules_val,learning_rate=0.01,epoch=100, dropout=0.2, cells=6 )\n",
    "\n",
    "ev=lstm.evaluate(rules_test,verbose=0)\n",
    "print(f\"Loss: {ev[0]} MAE: {ev[1]} Accuracy: {ev[2]}\")"
   ]
  },
  {
   "cell_type": "code",
   "execution_count": null,
   "id": "bd1b77a7",
   "metadata": {},
   "outputs": [],
   "source": [
    "lstm2,history=LSTM_Train(2,SEQUENCE_LENGTH,4,rules_train,rules_val,learning_rate=0.002,epoch=100, dropout=0.02, cells=1)\n",
    "\n",
    "ev=lstm2.evaluate(rules_test,verbose=0)\n",
    "print(f\"Loss: {ev[0]} MAE: {ev[1]} Accuracy: {ev[2]}\")"
   ]
  },
  {
   "cell_type": "code",
   "execution_count": null,
   "id": "acc81020",
   "metadata": {},
   "outputs": [],
   "source": [
    "mlp,history=MLP_Train(2,SEQUENCE_LENGTH,4,rules_train,rules_val,learning_rate=0.001,epoch=100)\n",
    "\n",
    "ev=mlp.evaluate(rules_test,verbose=0)\n",
    "print(f\"Loss: {ev[0]} MAE: {ev[1]} Accuracy: {ev[2]}\")"
   ]
  },
  {
   "cell_type": "code",
   "execution_count": null,
   "id": "62dedac7",
   "metadata": {},
   "outputs": [],
   "source": [
    "siamese,history=LSTM_Siamese_Train(2,SEQUENCE_LENGTH,4,rules_train,rules_val,learning_rate=0.001,epoch=100, dropout=0.02, cells=2 )\n",
    "\n",
    "ev=siamese.evaluate(rules_test,verbose=0)\n",
    "print(f\"Loss: {ev[0]} MAE: {ev[1]} Accuracy: {ev[2]}\")"
   ]
  },
  {
   "cell_type": "markdown",
   "id": "995fbcaa",
   "metadata": {
    "tags": []
   },
   "source": [
    "### Physichs Model"
   ]
  },
  {
   "cell_type": "markdown",
   "id": "543ee461",
   "metadata": {},
   "source": [
    "Since physichs data can be very small, Each data is multiply by 10 "
   ]
  },
  {
   "cell_type": "code",
   "execution_count": 71,
   "id": "49bc5a7d",
   "metadata": {
    "collapsed": true,
    "jupyter": {
     "outputs_hidden": true,
     "source_hidden": true
    },
    "tags": []
   },
   "outputs": [
    {
     "name": "stdout",
     "output_type": "stream",
     "text": [
      "Epoch 1/1000\n",
      "5109/5109 [==============================] - 497s 97ms/step - loss: 6.9352 - mean_absolute_error: 1.6829 - accuracy: 0.0000e+00 - val_loss: 5.1149 - val_mean_absolute_error: 1.4049 - val_accuracy: 0.0000e+00 - lr: 1.0000e-04\n",
      "Epoch 2/1000\n",
      "5109/5109 [==============================] - 499s 98ms/step - loss: 4.8177 - mean_absolute_error: 1.3599 - accuracy: 0.0000e+00 - val_loss: 5.0952 - val_mean_absolute_error: 1.3989 - val_accuracy: 0.0000e+00 - lr: 1.0000e-04\n",
      "Epoch 3/1000\n",
      "5109/5109 [==============================] - 497s 97ms/step - loss: 4.8111 - mean_absolute_error: 1.3584 - accuracy: 0.0000e+00 - val_loss: 5.0931 - val_mean_absolute_error: 1.3986 - val_accuracy: 0.0000e+00 - lr: 1.0000e-04\n",
      "Epoch 4/1000\n",
      "5108/5109 [============================>.] - ETA: 0s - loss: 4.8108 - mean_absolute_error: 1.3583 - accuracy: 1.2746e-07\n",
      "Epoch 4: ReduceLROnPlateau reducing learning rate to 4.999999873689376e-05.\n",
      "5109/5109 [==============================] - 496s 97ms/step - loss: 4.8111 - mean_absolute_error: 1.3583 - accuracy: 1.2743e-07 - val_loss: 5.0923 - val_mean_absolute_error: 1.3988 - val_accuracy: 0.0000e+00 - lr: 1.0000e-04\n",
      "Epoch 5/1000\n",
      "5109/5109 [==============================] - 497s 97ms/step - loss: 4.8576 - mean_absolute_error: 1.3635 - accuracy: 0.0000e+00 - val_loss: 5.0674 - val_mean_absolute_error: 1.3936 - val_accuracy: 0.0000e+00 - lr: 5.0000e-05\n",
      "Epoch 6/1000\n",
      "5109/5109 [==============================] - 495s 97ms/step - loss: 4.8568 - mean_absolute_error: 1.3634 - accuracy: 0.0000e+00 - val_loss: 5.0676 - val_mean_absolute_error: 1.3936 - val_accuracy: 0.0000e+00 - lr: 5.0000e-05\n",
      "Epoch 7/1000\n",
      "5109/5109 [==============================] - 495s 97ms/step - loss: 4.8569 - mean_absolute_error: 1.3634 - accuracy: 0.0000e+00 - val_loss: 5.0664 - val_mean_absolute_error: 1.3936 - val_accuracy: 0.0000e+00 - lr: 5.0000e-05\n",
      "Epoch 8/1000\n",
      "5109/5109 [==============================] - 496s 97ms/step - loss: 4.8571 - mean_absolute_error: 1.3634 - accuracy: 0.0000e+00 - val_loss: 5.0664 - val_mean_absolute_error: 1.3935 - val_accuracy: 0.0000e+00 - lr: 5.0000e-05\n",
      "Epoch 9/1000\n",
      "5109/5109 [==============================] - 497s 97ms/step - loss: 4.8572 - mean_absolute_error: 1.3634 - accuracy: 0.0000e+00 - val_loss: 5.0670 - val_mean_absolute_error: 1.3935 - val_accuracy: 0.0000e+00 - lr: 5.0000e-05\n",
      "Epoch 10/1000\n",
      "5108/5109 [============================>.] - ETA: 0s - loss: 4.8571 - mean_absolute_error: 1.3634 - accuracy: 0.0000e+00\n",
      "Epoch 10: ReduceLROnPlateau reducing learning rate to 2.499999936844688e-05.\n",
      "5109/5109 [==============================] - 497s 97ms/step - loss: 4.8574 - mean_absolute_error: 1.3634 - accuracy: 0.0000e+00 - val_loss: 5.0663 - val_mean_absolute_error: 1.3935 - val_accuracy: 0.0000e+00 - lr: 5.0000e-05\n",
      "Epoch 11/1000\n",
      "5109/5109 [==============================] - 496s 97ms/step - loss: 4.8953 - mean_absolute_error: 1.3677 - accuracy: 0.0000e+00 - val_loss: 5.0513 - val_mean_absolute_error: 1.3920 - val_accuracy: 0.0000e+00 - lr: 2.5000e-05\n",
      "Epoch 12/1000\n",
      "5109/5109 [==============================] - 497s 97ms/step - loss: 4.8948 - mean_absolute_error: 1.3676 - accuracy: 0.0000e+00 - val_loss: 5.0509 - val_mean_absolute_error: 1.3920 - val_accuracy: 2.5876e-07 - lr: 2.5000e-05\n",
      "Epoch 13/1000\n",
      "5109/5109 [==============================] - 496s 97ms/step - loss: 4.8948 - mean_absolute_error: 1.3676 - accuracy: 1.2743e-07 - val_loss: 5.0509 - val_mean_absolute_error: 1.3919 - val_accuracy: 0.0000e+00 - lr: 2.5000e-05\n",
      "Epoch 14/1000\n",
      "5109/5109 [==============================] - 497s 97ms/step - loss: 4.8949 - mean_absolute_error: 1.3676 - accuracy: 0.0000e+00 - val_loss: 5.0510 - val_mean_absolute_error: 1.3920 - val_accuracy: 0.0000e+00 - lr: 2.5000e-05\n",
      "Epoch 15/1000\n",
      "5109/5109 [==============================] - 497s 97ms/step - loss: 4.8949 - mean_absolute_error: 1.3676 - accuracy: 0.0000e+00 - val_loss: 5.0514 - val_mean_absolute_error: 1.3920 - val_accuracy: 0.0000e+00 - lr: 2.5000e-05\n",
      "Epoch 16/1000\n",
      "5109/5109 [==============================] - ETA: 0s - loss: 4.8950 - mean_absolute_error: 1.3677 - accuracy: 0.0000e+00\n",
      "Epoch 16: ReduceLROnPlateau reducing learning rate to 1.249999968422344e-05.\n",
      "5109/5109 [==============================] - 496s 97ms/step - loss: 4.8950 - mean_absolute_error: 1.3677 - accuracy: 0.0000e+00 - val_loss: 5.0507 - val_mean_absolute_error: 1.3919 - val_accuracy: 0.0000e+00 - lr: 2.5000e-05\n",
      "Epoch 17/1000\n",
      "5109/5109 [==============================] - 495s 97ms/step - loss: 4.9245 - mean_absolute_error: 1.3711 - accuracy: 0.0000e+00 - val_loss: 5.0407 - val_mean_absolute_error: 1.3906 - val_accuracy: 0.0000e+00 - lr: 1.2500e-05\n",
      "Epoch 18/1000\n",
      "5109/5109 [==============================] - 495s 97ms/step - loss: 4.9238 - mean_absolute_error: 1.3708 - accuracy: 0.0000e+00 - val_loss: 5.0402 - val_mean_absolute_error: 1.3905 - val_accuracy: 0.0000e+00 - lr: 1.2500e-05\n",
      "Epoch 19/1000\n",
      "5109/5109 [==============================] - 498s 97ms/step - loss: 4.9238 - mean_absolute_error: 1.3708 - accuracy: 1.2743e-07 - val_loss: 5.0399 - val_mean_absolute_error: 1.3903 - val_accuracy: 0.0000e+00 - lr: 1.2500e-05\n",
      "Epoch 20/1000\n",
      "5109/5109 [==============================] - 497s 97ms/step - loss: 4.9238 - mean_absolute_error: 1.3708 - accuracy: 1.2743e-07 - val_loss: 5.0398 - val_mean_absolute_error: 1.3903 - val_accuracy: 0.0000e+00 - lr: 1.2500e-05\n",
      "Epoch 21/1000\n",
      "5109/5109 [==============================] - 496s 97ms/step - loss: 4.9238 - mean_absolute_error: 1.3708 - accuracy: 0.0000e+00 - val_loss: 5.0399 - val_mean_absolute_error: 1.3903 - val_accuracy: 2.5876e-07 - lr: 1.2500e-05\n",
      "Epoch 22/1000\n",
      "5108/5109 [============================>.] - ETA: 0s - loss: 4.9236 - mean_absolute_error: 1.3707 - accuracy: 0.0000e+00\n",
      "Epoch 22: ReduceLROnPlateau reducing learning rate to 6.24999984211172e-06.\n",
      "5109/5109 [==============================] - 497s 97ms/step - loss: 4.9238 - mean_absolute_error: 1.3708 - accuracy: 0.0000e+00 - val_loss: 5.0400 - val_mean_absolute_error: 1.3904 - val_accuracy: 0.0000e+00 - lr: 1.2500e-05\n",
      "Epoch 23/1000\n",
      "5109/5109 [==============================] - 497s 97ms/step - loss: 4.9449 - mean_absolute_error: 1.3733 - accuracy: 0.0000e+00 - val_loss: 5.0321 - val_mean_absolute_error: 1.3887 - val_accuracy: 0.0000e+00 - lr: 6.2500e-06\n",
      "Epoch 24/1000\n",
      "5109/5109 [==============================] - 496s 97ms/step - loss: 4.9445 - mean_absolute_error: 1.3730 - accuracy: 0.0000e+00 - val_loss: 5.0317 - val_mean_absolute_error: 1.3886 - val_accuracy: 0.0000e+00 - lr: 6.2500e-06\n",
      "Epoch 25/1000\n",
      "5109/5109 [==============================] - 497s 97ms/step - loss: 4.9445 - mean_absolute_error: 1.3729 - accuracy: 1.2743e-07 - val_loss: 5.0318 - val_mean_absolute_error: 1.3885 - val_accuracy: 0.0000e+00 - lr: 6.2500e-06\n",
      "Epoch 26/1000\n",
      "5109/5109 [==============================] - 497s 97ms/step - loss: 4.9445 - mean_absolute_error: 1.3729 - accuracy: 1.2743e-07 - val_loss: 5.0317 - val_mean_absolute_error: 1.3885 - val_accuracy: 0.0000e+00 - lr: 6.2500e-06\n",
      "Epoch 27/1000\n",
      "5109/5109 [==============================] - 499s 98ms/step - loss: 4.9444 - mean_absolute_error: 1.3729 - accuracy: 0.0000e+00 - val_loss: 5.0317 - val_mean_absolute_error: 1.3884 - val_accuracy: 0.0000e+00 - lr: 6.2500e-06\n",
      "Epoch 28/1000\n",
      "5109/5109 [==============================] - ETA: 0s - loss: 4.9444 - mean_absolute_error: 1.3729 - accuracy: 0.0000e+00\n",
      "Epoch 28: ReduceLROnPlateau reducing learning rate to 3.12499992105586e-06.\n",
      "5109/5109 [==============================] - 500s 98ms/step - loss: 4.9444 - mean_absolute_error: 1.3729 - accuracy: 0.0000e+00 - val_loss: 5.0319 - val_mean_absolute_error: 1.3884 - val_accuracy: 0.0000e+00 - lr: 6.2500e-06\n",
      "Epoch 29/1000\n",
      "5109/5109 [==============================] - 499s 98ms/step - loss: 4.9575 - mean_absolute_error: 1.3746 - accuracy: 0.0000e+00 - val_loss: 5.0300 - val_mean_absolute_error: 1.3876 - val_accuracy: 0.0000e+00 - lr: 3.1250e-06\n",
      "Epoch 30/1000\n",
      "5109/5109 [==============================] - 499s 98ms/step - loss: 4.9573 - mean_absolute_error: 1.3744 - accuracy: 0.0000e+00 - val_loss: 5.0304 - val_mean_absolute_error: 1.3876 - val_accuracy: 0.0000e+00 - lr: 3.1250e-06\n",
      "Epoch 31/1000\n",
      "5109/5109 [==============================] - 499s 98ms/step - loss: 4.9572 - mean_absolute_error: 1.3743 - accuracy: 0.0000e+00 - val_loss: 5.0299 - val_mean_absolute_error: 1.3875 - val_accuracy: 0.0000e+00 - lr: 3.1250e-06\n",
      "Epoch 32/1000\n",
      "5109/5109 [==============================] - 497s 97ms/step - loss: 4.9572 - mean_absolute_error: 1.3742 - accuracy: 0.0000e+00 - val_loss: 5.0302 - val_mean_absolute_error: 1.3876 - val_accuracy: 0.0000e+00 - lr: 3.1250e-06\n",
      "Epoch 33/1000\n",
      "5109/5109 [==============================] - 498s 97ms/step - loss: 4.9572 - mean_absolute_error: 1.3742 - accuracy: 0.0000e+00 - val_loss: 5.0301 - val_mean_absolute_error: 1.3875 - val_accuracy: 0.0000e+00 - lr: 3.1250e-06\n",
      "Epoch 34/1000\n",
      "5108/5109 [============================>.] - ETA: 0s - loss: 4.9569 - mean_absolute_error: 1.3742 - accuracy: 0.0000e+00\n",
      "Epoch 34: ReduceLROnPlateau reducing learning rate to 1.56249996052793e-06.\n",
      "5109/5109 [==============================] - 497s 97ms/step - loss: 4.9572 - mean_absolute_error: 1.3742 - accuracy: 0.0000e+00 - val_loss: 5.0302 - val_mean_absolute_error: 1.3875 - val_accuracy: 0.0000e+00 - lr: 3.1250e-06\n",
      "Epoch 35/1000\n",
      "5109/5109 [==============================] - 498s 97ms/step - loss: 4.9645 - mean_absolute_error: 1.3753 - accuracy: 0.0000e+00 - val_loss: 5.0284 - val_mean_absolute_error: 1.3872 - val_accuracy: 0.0000e+00 - lr: 1.5625e-06\n",
      "Epoch 36/1000\n",
      "5109/5109 [==============================] - 498s 97ms/step - loss: 4.9643 - mean_absolute_error: 1.3752 - accuracy: 1.2743e-07 - val_loss: 5.0287 - val_mean_absolute_error: 1.3870 - val_accuracy: 0.0000e+00 - lr: 1.5625e-06\n",
      "Epoch 37/1000\n",
      "5109/5109 [==============================] - 498s 97ms/step - loss: 4.9643 - mean_absolute_error: 1.3752 - accuracy: 0.0000e+00 - val_loss: 5.0281 - val_mean_absolute_error: 1.3869 - val_accuracy: 0.0000e+00 - lr: 1.5625e-06\n",
      "Epoch 38/1000\n",
      "5109/5109 [==============================] - 498s 97ms/step - loss: 4.9643 - mean_absolute_error: 1.3751 - accuracy: 0.0000e+00 - val_loss: 5.0283 - val_mean_absolute_error: 1.3869 - val_accuracy: 0.0000e+00 - lr: 1.5625e-06\n",
      "Epoch 39/1000\n",
      "5109/5109 [==============================] - 497s 97ms/step - loss: 4.9643 - mean_absolute_error: 1.3751 - accuracy: 0.0000e+00 - val_loss: 5.0283 - val_mean_absolute_error: 1.3869 - val_accuracy: 0.0000e+00 - lr: 1.5625e-06\n",
      "Epoch 40/1000\n",
      "5108/5109 [============================>.] - ETA: 0s - loss: 4.9640 - mean_absolute_error: 1.3750 - accuracy: 0.0000e+00\n",
      "Epoch 40: ReduceLROnPlateau reducing learning rate to 1e-06.\n",
      "5109/5109 [==============================] - 498s 97ms/step - loss: 4.9643 - mean_absolute_error: 1.3751 - accuracy: 0.0000e+00 - val_loss: 5.0282 - val_mean_absolute_error: 1.3869 - val_accuracy: 0.0000e+00 - lr: 1.5625e-06\n",
      "Epoch 41/1000\n",
      "5109/5109 [==============================] - 497s 97ms/step - loss: 4.9670 - mean_absolute_error: 1.3755 - accuracy: 1.2743e-07 - val_loss: 5.0278 - val_mean_absolute_error: 1.3868 - val_accuracy: 0.0000e+00 - lr: 1.0000e-06\n",
      "Epoch 42/1000\n",
      "5109/5109 [==============================] - 497s 97ms/step - loss: 4.9670 - mean_absolute_error: 1.3755 - accuracy: 0.0000e+00 - val_loss: 5.0279 - val_mean_absolute_error: 1.3868 - val_accuracy: 2.5876e-07 - lr: 1.0000e-06\n",
      "Epoch 43/1000\n",
      "5109/5109 [==============================] - 498s 97ms/step - loss: 4.9670 - mean_absolute_error: 1.3755 - accuracy: 1.2743e-07 - val_loss: 5.0278 - val_mean_absolute_error: 1.3868 - val_accuracy: 0.0000e+00 - lr: 1.0000e-06\n",
      "Epoch 44/1000\n",
      "5109/5109 [==============================] - 497s 97ms/step - loss: 4.9670 - mean_absolute_error: 1.3755 - accuracy: 0.0000e+00 - val_loss: 5.0277 - val_mean_absolute_error: 1.3868 - val_accuracy: 0.0000e+00 - lr: 1.0000e-06\n",
      "Epoch 45/1000\n",
      "5109/5109 [==============================] - 499s 98ms/step - loss: 4.9670 - mean_absolute_error: 1.3754 - accuracy: 0.0000e+00 - val_loss: 5.0277 - val_mean_absolute_error: 1.3868 - val_accuracy: 0.0000e+00 - lr: 1.0000e-06\n",
      "Epoch 46/1000\n",
      "5109/5109 [==============================] - 497s 97ms/step - loss: 4.9670 - mean_absolute_error: 1.3754 - accuracy: 0.0000e+00 - val_loss: 5.0277 - val_mean_absolute_error: 1.3868 - val_accuracy: 0.0000e+00 - lr: 1.0000e-06\n",
      "Epoch 47/1000\n",
      "5109/5109 [==============================] - 497s 97ms/step - loss: 4.9670 - mean_absolute_error: 1.3754 - accuracy: 0.0000e+00 - val_loss: 5.0279 - val_mean_absolute_error: 1.3868 - val_accuracy: 0.0000e+00 - lr: 1.0000e-06\n",
      "Epoch 48/1000\n",
      "5109/5109 [==============================] - 499s 98ms/step - loss: 4.9670 - mean_absolute_error: 1.3754 - accuracy: 0.0000e+00 - val_loss: 5.0279 - val_mean_absolute_error: 1.3867 - val_accuracy: 0.0000e+00 - lr: 1.0000e-06\n",
      "Epoch 49/1000\n",
      "5109/5109 [==============================] - 497s 97ms/step - loss: 4.9670 - mean_absolute_error: 1.3754 - accuracy: 0.0000e+00 - val_loss: 5.0279 - val_mean_absolute_error: 1.3867 - val_accuracy: 2.5876e-07 - lr: 1.0000e-06\n",
      "Epoch 50/1000\n",
      "5109/5109 [==============================] - 501s 98ms/step - loss: 4.9670 - mean_absolute_error: 1.3754 - accuracy: 2.5486e-07 - val_loss: 5.0277 - val_mean_absolute_error: 1.3866 - val_accuracy: 0.0000e+00 - lr: 1.0000e-06\n",
      "Loss: 4.737905979156494 MAE: 1.3593647480010986 Accuracy: 0.0\n",
      "INFO:tensorflow:Assets written to: saved_model/MLP_DISCARD_9_DELTA_LONG_TRAIN\\assets\n"
     ]
    }
   ],
   "source": [
    "NAME=f\"MLP_DISCARD_{DISCARD}_DELTA_LONG_TRAIN\"\n",
    "mlp_ph,history_mlp_ph=model_definitions.MLP_Train(gen_train,gen_val,learning_rate=0.0001,epoch=1000,verbose=1,name=NAME,path=\"logs\")\n",
    "\n",
    "ev=mlp_ph.evaluate(gen_test,verbose=0)\n",
    "print(f\"Loss: {ev[0]} MAE: {ev[1]} Accuracy: {ev[2]}\")\n",
    "tf.saved_model.save(mlp_ph,f'saved_model/{NAME}')"
   ]
  },
  {
   "cell_type": "code",
   "execution_count": null,
   "id": "220477fd-dcf0-43ba-8a66-75e4d7745bca",
   "metadata": {
    "jupyter": {
     "source_hidden": true
    },
    "tags": []
   },
   "outputs": [],
   "source": [
    "units=32\n",
    "kernel_size=1\n",
    "filters=32\n",
    "normalization=False\n",
    "cnn_lstm,history_cnn_lstm=model_definitions.CNN_LSTM_Train(gen_train,gen_val,learning_rate=0.0001,patience=10,name=f\"CNN{filters}_{kernel_size}LSTM{units}_Norm{normalization}\",\n",
    "                                                           path=\"logs_350SequenceLength\",epoch=10, dropout=0.2,units=units,kernel_size=kernel_size,\n",
    "                                                           filters=filters, normalization=normalization,verbose=1\n",
    "                                                          )\n",
    "\n",
    "ev=cnn_lstm.evaluate(gen_test,verbose=0)\n",
    "print(f\"Loss: {ev[0]} MAE: {ev[1]} Accuracy: {ev[2]}\")\n",
    "\n",
    "tf.saved_model.save(cnn_lstm,f'saved_model/CNN_LSTM{units}_{kernel_size}_{filters}_PosAssoluta')"
   ]
  },
  {
   "cell_type": "code",
   "execution_count": 14,
   "id": "9695dc32",
   "metadata": {
    "tags": []
   },
   "outputs": [
    {
     "name": "stdout",
     "output_type": "stream",
     "text": [
      "Epoch 1/100\n",
      "5000/5000 [==============================] - 610s 120ms/step - loss: 5.4493 - mean_absolute_error: 1.4072 - accuracy: 2.6042e-07 - val_loss: 13.9756 - val_mean_absolute_error: 2.3651 - val_accuracy: 0.0000e+00 - lr: 0.0010\n",
      "Epoch 2/100\n",
      "5000/5000 [==============================] - 600s 120ms/step - loss: 3.9807 - mean_absolute_error: 1.2171 - accuracy: 2.6042e-07 - val_loss: 12.9562 - val_mean_absolute_error: 2.2731 - val_accuracy: 0.0000e+00 - lr: 0.0010\n",
      "Epoch 3/100\n",
      "5000/5000 [==============================] - 602s 120ms/step - loss: 3.7403 - mean_absolute_error: 1.1773 - accuracy: 2.6042e-07 - val_loss: 11.3177 - val_mean_absolute_error: 2.1094 - val_accuracy: 0.0000e+00 - lr: 0.0010\n",
      "Epoch 4/100\n",
      "5000/5000 [==============================] - 600s 120ms/step - loss: 3.6258 - mean_absolute_error: 1.1565 - accuracy: 0.0000e+00 - val_loss: 10.6564 - val_mean_absolute_error: 2.0394 - val_accuracy: 2.7127e-07 - lr: 0.0010\n",
      "Epoch 5/100\n",
      "5000/5000 [==============================] - 602s 120ms/step - loss: 3.5793 - mean_absolute_error: 1.1479 - accuracy: 2.6042e-07 - val_loss: 10.0521 - val_mean_absolute_error: 1.9886 - val_accuracy: 0.0000e+00 - lr: 0.0010\n",
      "Epoch 6/100\n",
      "5000/5000 [==============================] - 600s 120ms/step - loss: 3.6252 - mean_absolute_error: 1.1522 - accuracy: 0.0000e+00 - val_loss: 9.8930 - val_mean_absolute_error: 1.9787 - val_accuracy: 0.0000e+00 - lr: 0.0010\n",
      "Epoch 7/100\n",
      "5000/5000 [==============================] - 601s 120ms/step - loss: 3.6393 - mean_absolute_error: 1.1545 - accuracy: 1.3021e-07 - val_loss: 9.3326 - val_mean_absolute_error: 1.9211 - val_accuracy: 0.0000e+00 - lr: 0.0010\n",
      "Epoch 8/100\n",
      "5000/5000 [==============================] - 603s 120ms/step - loss: 3.6895 - mean_absolute_error: 1.1631 - accuracy: 2.6042e-07 - val_loss: 9.0974 - val_mean_absolute_error: 1.8993 - val_accuracy: 0.0000e+00 - lr: 0.0010\n",
      "Epoch 9/100\n",
      "5000/5000 [==============================] - 601s 120ms/step - loss: 3.7572 - mean_absolute_error: 1.1715 - accuracy: 0.0000e+00 - val_loss: 8.7528 - val_mean_absolute_error: 1.8639 - val_accuracy: 0.0000e+00 - lr: 0.0010\n",
      "Epoch 10/100\n",
      "5000/5000 [==============================] - 601s 120ms/step - loss: 3.8529 - mean_absolute_error: 1.1862 - accuracy: 0.0000e+00 - val_loss: 8.7497 - val_mean_absolute_error: 1.8549 - val_accuracy: 0.0000e+00 - lr: 0.0010\n",
      "Epoch 11/100\n",
      "5000/5000 [==============================] - 599s 120ms/step - loss: 3.9940 - mean_absolute_error: 1.2070 - accuracy: 1.3021e-07 - val_loss: 8.6806 - val_mean_absolute_error: 1.8543 - val_accuracy: 0.0000e+00 - lr: 0.0010\n",
      "Epoch 12/100\n",
      "5000/5000 [==============================] - 600s 120ms/step - loss: 4.2442 - mean_absolute_error: 1.2418 - accuracy: 2.6042e-07 - val_loss: 8.8794 - val_mean_absolute_error: 1.8658 - val_accuracy: 0.0000e+00 - lr: 0.0010\n",
      "Epoch 13/100\n",
      "5000/5000 [==============================] - 601s 120ms/step - loss: 4.2279 - mean_absolute_error: 1.2406 - accuracy: 0.0000e+00 - val_loss: 8.4986 - val_mean_absolute_error: 1.8165 - val_accuracy: 0.0000e+00 - lr: 0.0010\n",
      "Epoch 14/100\n",
      "5000/5000 [==============================] - 600s 120ms/step - loss: 4.5028 - mean_absolute_error: 1.2791 - accuracy: 0.0000e+00 - val_loss: 8.5453 - val_mean_absolute_error: 1.8331 - val_accuracy: 0.0000e+00 - lr: 0.0010\n",
      "Epoch 15/100\n",
      "5000/5000 [==============================] - ETA: 0s - loss: 4.7732 - mean_absolute_error: 1.3108 - accuracy: 1.3021e-07\n",
      "Epoch 15: ReduceLROnPlateau reducing learning rate to 0.0005000000237487257.\n",
      "5000/5000 [==============================] - 601s 120ms/step - loss: 4.7732 - mean_absolute_error: 1.3108 - accuracy: 1.3021e-07 - val_loss: 8.9807 - val_mean_absolute_error: 1.8787 - val_accuracy: 0.0000e+00 - lr: 0.0010\n",
      "Epoch 16/100\n",
      "5000/5000 [==============================] - 600s 120ms/step - loss: 4.9273 - mean_absolute_error: 1.3444 - accuracy: 2.6042e-07 - val_loss: 7.2234 - val_mean_absolute_error: 1.6717 - val_accuracy: 2.7127e-07 - lr: 5.0000e-04\n",
      "Epoch 17/100\n",
      "5000/5000 [==============================] - 599s 120ms/step - loss: 4.3129 - mean_absolute_error: 1.2546 - accuracy: 1.3021e-07 - val_loss: 6.8544 - val_mean_absolute_error: 1.6286 - val_accuracy: 8.1380e-07 - lr: 5.0000e-04\n",
      "Epoch 18/100\n",
      "5000/5000 [==============================] - 602s 120ms/step - loss: 4.1023 - mean_absolute_error: 1.2238 - accuracy: 2.6042e-07 - val_loss: 6.8104 - val_mean_absolute_error: 1.6191 - val_accuracy: 0.0000e+00 - lr: 5.0000e-04\n",
      "Epoch 19/100\n",
      "5000/5000 [==============================] - 600s 120ms/step - loss: 3.9799 - mean_absolute_error: 1.2042 - accuracy: 2.6042e-07 - val_loss: 6.6171 - val_mean_absolute_error: 1.5909 - val_accuracy: 0.0000e+00 - lr: 5.0000e-04\n",
      "Epoch 20/100\n",
      "5000/5000 [==============================] - 602s 120ms/step - loss: 3.8956 - mean_absolute_error: 1.1921 - accuracy: 0.0000e+00 - val_loss: 6.4735 - val_mean_absolute_error: 1.5693 - val_accuracy: 5.4253e-07 - lr: 5.0000e-04\n",
      "Epoch 21/100\n",
      "5000/5000 [==============================] - 601s 120ms/step - loss: 3.8142 - mean_absolute_error: 1.1805 - accuracy: 0.0000e+00 - val_loss: 6.3122 - val_mean_absolute_error: 1.5416 - val_accuracy: 0.0000e+00 - lr: 5.0000e-04\n",
      "Epoch 22/100\n",
      "5000/5000 [==============================] - 601s 120ms/step - loss: 3.7156 - mean_absolute_error: 1.1646 - accuracy: 0.0000e+00 - val_loss: 6.3236 - val_mean_absolute_error: 1.5443 - val_accuracy: 2.7127e-07 - lr: 5.0000e-04\n",
      "Epoch 23/100\n",
      "5000/5000 [==============================] - 601s 120ms/step - loss: 3.6932 - mean_absolute_error: 1.1616 - accuracy: 0.0000e+00 - val_loss: 6.0472 - val_mean_absolute_error: 1.5059 - val_accuracy: 2.7127e-07 - lr: 5.0000e-04\n",
      "Epoch 24/100\n",
      "5000/5000 [==============================] - 600s 120ms/step - loss: 3.6976 - mean_absolute_error: 1.1612 - accuracy: 0.0000e+00 - val_loss: 6.1629 - val_mean_absolute_error: 1.5180 - val_accuracy: 0.0000e+00 - lr: 5.0000e-04\n",
      "Epoch 25/100\n",
      "5000/5000 [==============================] - ETA: 0s - loss: 3.6508 - mean_absolute_error: 1.1529 - accuracy: 0.0000e+00\n",
      "Epoch 25: ReduceLROnPlateau reducing learning rate to 0.0002500000118743628.\n",
      "5000/5000 [==============================] - 600s 120ms/step - loss: 3.6508 - mean_absolute_error: 1.1529 - accuracy: 0.0000e+00 - val_loss: 6.1958 - val_mean_absolute_error: 1.5196 - val_accuracy: 2.7127e-07 - lr: 5.0000e-04\n",
      "Epoch 26/100\n",
      "5000/5000 [==============================] - 600s 120ms/step - loss: 3.6635 - mean_absolute_error: 1.1589 - accuracy: 0.0000e+00 - val_loss: 5.7990 - val_mean_absolute_error: 1.4615 - val_accuracy: 0.0000e+00 - lr: 2.5000e-04\n",
      "Epoch 27/100\n",
      "5000/5000 [==============================] - 599s 120ms/step - loss: 3.5442 - mean_absolute_error: 1.1397 - accuracy: 1.3021e-07 - val_loss: 5.4915 - val_mean_absolute_error: 1.4290 - val_accuracy: 0.0000e+00 - lr: 2.5000e-04\n",
      "Epoch 28/100\n",
      "5000/5000 [==============================] - 602s 120ms/step - loss: 3.4159 - mean_absolute_error: 1.1205 - accuracy: 3.9062e-07 - val_loss: 5.5201 - val_mean_absolute_error: 1.4245 - val_accuracy: 0.0000e+00 - lr: 2.5000e-04\n",
      "Epoch 29/100\n",
      "5000/5000 [==============================] - 602s 120ms/step - loss: 3.3569 - mean_absolute_error: 1.1118 - accuracy: 1.3021e-07 - val_loss: 5.5267 - val_mean_absolute_error: 1.4169 - val_accuracy: 0.0000e+00 - lr: 2.5000e-04\n",
      "Epoch 30/100\n",
      "5000/5000 [==============================] - 602s 120ms/step - loss: 3.3216 - mean_absolute_error: 1.1039 - accuracy: 0.0000e+00 - val_loss: 5.6106 - val_mean_absolute_error: 1.4253 - val_accuracy: 2.7127e-07 - lr: 2.5000e-04\n",
      "Epoch 31/100\n",
      "5000/5000 [==============================] - ETA: 0s - loss: 3.2779 - mean_absolute_error: 1.0973 - accuracy: 1.3021e-07\n",
      "Epoch 31: ReduceLROnPlateau reducing learning rate to 0.0001250000059371814.\n",
      "5000/5000 [==============================] - 600s 120ms/step - loss: 3.2779 - mean_absolute_error: 1.0973 - accuracy: 1.3021e-07 - val_loss: 5.5117 - val_mean_absolute_error: 1.4155 - val_accuracy: 0.0000e+00 - lr: 2.5000e-04\n",
      "Epoch 32/100\n",
      "5000/5000 [==============================] - 601s 120ms/step - loss: 3.2888 - mean_absolute_error: 1.1004 - accuracy: 1.3021e-07 - val_loss: 5.2688 - val_mean_absolute_error: 1.3819 - val_accuracy: 0.0000e+00 - lr: 1.2500e-04\n",
      "Epoch 33/100\n",
      "5000/5000 [==============================] - 602s 120ms/step - loss: 3.2239 - mean_absolute_error: 1.0898 - accuracy: 0.0000e+00 - val_loss: 5.0527 - val_mean_absolute_error: 1.3542 - val_accuracy: 2.7127e-07 - lr: 1.2500e-04\n",
      "Epoch 34/100\n",
      "5000/5000 [==============================] - 600s 120ms/step - loss: 3.1838 - mean_absolute_error: 1.0828 - accuracy: 1.3021e-07 - val_loss: 4.9600 - val_mean_absolute_error: 1.3418 - val_accuracy: 0.0000e+00 - lr: 1.2500e-04\n",
      "Epoch 35/100\n",
      "5000/5000 [==============================] - 602s 120ms/step - loss: 3.1515 - mean_absolute_error: 1.0769 - accuracy: 0.0000e+00 - val_loss: 5.0186 - val_mean_absolute_error: 1.3449 - val_accuracy: 2.7127e-07 - lr: 1.2500e-04\n",
      "Epoch 36/100\n",
      "5000/5000 [==============================] - 602s 120ms/step - loss: 3.1163 - mean_absolute_error: 1.0704 - accuracy: 2.6042e-07 - val_loss: 5.1536 - val_mean_absolute_error: 1.3586 - val_accuracy: 0.0000e+00 - lr: 1.2500e-04\n",
      "Epoch 37/100\n",
      "5000/5000 [==============================] - 603s 120ms/step - loss: 3.0905 - mean_absolute_error: 1.0672 - accuracy: 0.0000e+00 - val_loss: 4.9007 - val_mean_absolute_error: 1.3299 - val_accuracy: 0.0000e+00 - lr: 1.2500e-04\n",
      "Epoch 38/100\n",
      "5000/5000 [==============================] - 603s 120ms/step - loss: 3.0692 - mean_absolute_error: 1.0630 - accuracy: 3.9062e-07 - val_loss: 4.8624 - val_mean_absolute_error: 1.3237 - val_accuracy: 5.4253e-07 - lr: 1.2500e-04\n",
      "Epoch 39/100\n",
      "5000/5000 [==============================] - 601s 120ms/step - loss: 3.0418 - mean_absolute_error: 1.0594 - accuracy: 0.0000e+00 - val_loss: 4.7372 - val_mean_absolute_error: 1.3120 - val_accuracy: 5.4253e-07 - lr: 1.2500e-04\n",
      "Epoch 40/100\n",
      "5000/5000 [==============================] - 601s 120ms/step - loss: 3.0281 - mean_absolute_error: 1.0567 - accuracy: 1.3021e-07 - val_loss: 4.6632 - val_mean_absolute_error: 1.3036 - val_accuracy: 2.7127e-07 - lr: 1.2500e-04\n",
      "Epoch 41/100\n",
      "5000/5000 [==============================] - 601s 120ms/step - loss: 3.0075 - mean_absolute_error: 1.0527 - accuracy: 0.0000e+00 - val_loss: 4.6944 - val_mean_absolute_error: 1.3031 - val_accuracy: 2.7127e-07 - lr: 1.2500e-04\n",
      "Epoch 42/100\n",
      "5000/5000 [==============================] - ETA: 0s - loss: 2.9910 - mean_absolute_error: 1.0505 - accuracy: 1.3021e-07\n",
      "Epoch 42: ReduceLROnPlateau reducing learning rate to 6.25000029685907e-05.\n",
      "5000/5000 [==============================] - 601s 120ms/step - loss: 2.9910 - mean_absolute_error: 1.0505 - accuracy: 1.3021e-07 - val_loss: 4.7445 - val_mean_absolute_error: 1.3113 - val_accuracy: 2.7127e-07 - lr: 1.2500e-04\n",
      "Epoch 43/100\n",
      "5000/5000 [==============================] - 602s 120ms/step - loss: 3.0279 - mean_absolute_error: 1.0585 - accuracy: 0.0000e+00 - val_loss: 5.1208 - val_mean_absolute_error: 1.3483 - val_accuracy: 0.0000e+00 - lr: 6.2500e-05\n",
      "Epoch 44/100\n",
      "5000/5000 [==============================] - 602s 120ms/step - loss: 3.0191 - mean_absolute_error: 1.0557 - accuracy: 1.3021e-07 - val_loss: 4.9455 - val_mean_absolute_error: 1.3285 - val_accuracy: 0.0000e+00 - lr: 6.2500e-05\n",
      "Epoch 45/100\n",
      "5000/5000 [==============================] - 602s 120ms/step - loss: 3.0036 - mean_absolute_error: 1.0534 - accuracy: 2.6042e-07 - val_loss: 4.6693 - val_mean_absolute_error: 1.2964 - val_accuracy: 0.0000e+00 - lr: 6.2500e-05\n",
      "Epoch 46/100\n",
      "5000/5000 [==============================] - 603s 120ms/step - loss: 2.9789 - mean_absolute_error: 1.0504 - accuracy: 3.9062e-07 - val_loss: 4.5257 - val_mean_absolute_error: 1.2792 - val_accuracy: 5.4253e-07 - lr: 6.2500e-05\n",
      "Epoch 47/100\n",
      "5000/5000 [==============================] - 603s 121ms/step - loss: 2.9667 - mean_absolute_error: 1.0467 - accuracy: 1.3021e-07 - val_loss: 4.5152 - val_mean_absolute_error: 1.2769 - val_accuracy: 0.0000e+00 - lr: 6.2500e-05\n",
      "Epoch 48/100\n",
      "5000/5000 [==============================] - 602s 120ms/step - loss: 2.9481 - mean_absolute_error: 1.0445 - accuracy: 2.6042e-07 - val_loss: 4.4038 - val_mean_absolute_error: 1.2641 - val_accuracy: 0.0000e+00 - lr: 6.2500e-05\n",
      "Epoch 49/100\n",
      "5000/5000 [==============================] - 602s 120ms/step - loss: 2.9391 - mean_absolute_error: 1.0430 - accuracy: 1.3021e-07 - val_loss: 4.3544 - val_mean_absolute_error: 1.2549 - val_accuracy: 2.7127e-07 - lr: 6.2500e-05\n",
      "Epoch 50/100\n",
      "5000/5000 [==============================] - 601s 120ms/step - loss: 2.9328 - mean_absolute_error: 1.0420 - accuracy: 0.0000e+00 - val_loss: 4.2495 - val_mean_absolute_error: 1.2426 - val_accuracy: 0.0000e+00 - lr: 6.2500e-05\n",
      "Epoch 51/100\n",
      "5000/5000 [==============================] - 601s 120ms/step - loss: 2.9184 - mean_absolute_error: 1.0395 - accuracy: 1.3021e-07 - val_loss: 4.1411 - val_mean_absolute_error: 1.2268 - val_accuracy: 2.7127e-07 - lr: 6.2500e-05\n",
      "Epoch 52/100\n",
      "5000/5000 [==============================] - 602s 120ms/step - loss: 2.8978 - mean_absolute_error: 1.0368 - accuracy: 1.3021e-07 - val_loss: 4.1068 - val_mean_absolute_error: 1.2224 - val_accuracy: 2.7127e-07 - lr: 6.2500e-05\n",
      "Epoch 53/100\n",
      "5000/5000 [==============================] - 603s 120ms/step - loss: 2.8997 - mean_absolute_error: 1.0367 - accuracy: 3.9062e-07 - val_loss: 4.0024 - val_mean_absolute_error: 1.2066 - val_accuracy: 2.7127e-07 - lr: 6.2500e-05\n",
      "Epoch 54/100\n",
      "5000/5000 [==============================] - 603s 120ms/step - loss: 2.8815 - mean_absolute_error: 1.0336 - accuracy: 0.0000e+00 - val_loss: 4.0269 - val_mean_absolute_error: 1.2104 - val_accuracy: 2.7127e-07 - lr: 6.2500e-05\n",
      "Epoch 55/100\n",
      "5000/5000 [==============================] - ETA: 0s - loss: 2.8667 - mean_absolute_error: 1.0309 - accuracy: 1.3021e-07\n",
      "Epoch 55: ReduceLROnPlateau reducing learning rate to 3.125000148429535e-05.\n",
      "5000/5000 [==============================] - 607s 121ms/step - loss: 2.8667 - mean_absolute_error: 1.0309 - accuracy: 1.3021e-07 - val_loss: 4.0042 - val_mean_absolute_error: 1.2061 - val_accuracy: 2.7127e-07 - lr: 6.2500e-05\n",
      "Epoch 56/100\n",
      "5000/5000 [==============================] - 600s 120ms/step - loss: 2.9247 - mean_absolute_error: 1.0416 - accuracy: 1.3021e-07 - val_loss: 4.0192 - val_mean_absolute_error: 1.2067 - val_accuracy: 2.7127e-07 - lr: 3.1250e-05\n",
      "Epoch 57/100\n",
      "5000/5000 [==============================] - 601s 120ms/step - loss: 2.9222 - mean_absolute_error: 1.0416 - accuracy: 0.0000e+00 - val_loss: 3.9490 - val_mean_absolute_error: 1.1965 - val_accuracy: 0.0000e+00 - lr: 3.1250e-05\n",
      "Epoch 58/100\n",
      "5000/5000 [==============================] - 602s 120ms/step - loss: 2.9271 - mean_absolute_error: 1.0414 - accuracy: 1.3021e-07 - val_loss: 3.8707 - val_mean_absolute_error: 1.1850 - val_accuracy: 0.0000e+00 - lr: 3.1250e-05\n",
      "Epoch 59/100\n",
      "5000/5000 [==============================] - 601s 120ms/step - loss: 2.9080 - mean_absolute_error: 1.0386 - accuracy: 1.3021e-07 - val_loss: 3.8364 - val_mean_absolute_error: 1.1785 - val_accuracy: 2.7127e-07 - lr: 3.1250e-05\n",
      "Epoch 60/100\n",
      "5000/5000 [==============================] - 602s 120ms/step - loss: 2.9015 - mean_absolute_error: 1.0370 - accuracy: 1.3021e-07 - val_loss: 3.8218 - val_mean_absolute_error: 1.1768 - val_accuracy: 0.0000e+00 - lr: 3.1250e-05\n",
      "Epoch 61/100\n",
      "5000/5000 [==============================] - 601s 120ms/step - loss: 2.8929 - mean_absolute_error: 1.0360 - accuracy: 1.3021e-07 - val_loss: 3.7975 - val_mean_absolute_error: 1.1725 - val_accuracy: 5.4253e-07 - lr: 3.1250e-05\n",
      "Epoch 62/100\n",
      "5000/5000 [==============================] - 601s 120ms/step - loss: 2.8793 - mean_absolute_error: 1.0332 - accuracy: 0.0000e+00 - val_loss: 3.7963 - val_mean_absolute_error: 1.1723 - val_accuracy: 0.0000e+00 - lr: 3.1250e-05\n",
      "Epoch 63/100\n",
      "5000/5000 [==============================] - 602s 120ms/step - loss: 2.8641 - mean_absolute_error: 1.0313 - accuracy: 2.6042e-07 - val_loss: 3.7593 - val_mean_absolute_error: 1.1672 - val_accuracy: 2.7127e-07 - lr: 3.1250e-05\n",
      "Epoch 64/100\n",
      "5000/5000 [==============================] - 601s 120ms/step - loss: 2.8624 - mean_absolute_error: 1.0303 - accuracy: 1.3021e-07 - val_loss: 3.7494 - val_mean_absolute_error: 1.1647 - val_accuracy: 0.0000e+00 - lr: 3.1250e-05\n",
      "Epoch 65/100\n",
      "5000/5000 [==============================] - 602s 120ms/step - loss: 2.8487 - mean_absolute_error: 1.0279 - accuracy: 0.0000e+00 - val_loss: 3.7254 - val_mean_absolute_error: 1.1611 - val_accuracy: 0.0000e+00 - lr: 3.1250e-05\n",
      "Epoch 66/100\n",
      "5000/5000 [==============================] - 603s 120ms/step - loss: 2.8557 - mean_absolute_error: 1.0278 - accuracy: 1.3021e-07 - val_loss: 3.6616 - val_mean_absolute_error: 1.1507 - val_accuracy: 2.7127e-07 - lr: 3.1250e-05\n",
      "Epoch 67/100\n",
      "5000/5000 [==============================] - 600s 120ms/step - loss: 2.8347 - mean_absolute_error: 1.0257 - accuracy: 1.3021e-07 - val_loss: 3.6469 - val_mean_absolute_error: 1.1481 - val_accuracy: 2.7127e-07 - lr: 3.1250e-05\n",
      "Epoch 68/100\n",
      "5000/5000 [==============================] - 601s 120ms/step - loss: 2.8277 - mean_absolute_error: 1.0242 - accuracy: 0.0000e+00 - val_loss: 3.6395 - val_mean_absolute_error: 1.1462 - val_accuracy: 0.0000e+00 - lr: 3.1250e-05\n",
      "Epoch 69/100\n",
      "5000/5000 [==============================] - 600s 120ms/step - loss: 2.8151 - mean_absolute_error: 1.0224 - accuracy: 0.0000e+00 - val_loss: 3.6138 - val_mean_absolute_error: 1.1416 - val_accuracy: 2.7127e-07 - lr: 3.1250e-05\n",
      "Epoch 70/100\n",
      "5000/5000 [==============================] - 601s 120ms/step - loss: 2.8148 - mean_absolute_error: 1.0223 - accuracy: 1.3021e-07 - val_loss: 3.5856 - val_mean_absolute_error: 1.1366 - val_accuracy: 2.7127e-07 - lr: 3.1250e-05\n",
      "Epoch 71/100\n",
      "5000/5000 [==============================] - 602s 120ms/step - loss: 2.8151 - mean_absolute_error: 1.0225 - accuracy: 3.9062e-07 - val_loss: 3.5653 - val_mean_absolute_error: 1.1335 - val_accuracy: 2.7127e-07 - lr: 3.1250e-05\n",
      "Epoch 72/100\n",
      "5000/5000 [==============================] - 600s 120ms/step - loss: 2.8073 - mean_absolute_error: 1.0205 - accuracy: 0.0000e+00 - val_loss: 3.5669 - val_mean_absolute_error: 1.1332 - val_accuracy: 0.0000e+00 - lr: 3.1250e-05\n",
      "Epoch 73/100\n",
      "5000/5000 [==============================] - ETA: 0s - loss: 2.7923 - mean_absolute_error: 1.0183 - accuracy: 0.0000e+00\n",
      "Epoch 73: ReduceLROnPlateau reducing learning rate to 1.5625000742147677e-05.\n",
      "5000/5000 [==============================] - 601s 120ms/step - loss: 2.7923 - mean_absolute_error: 1.0183 - accuracy: 0.0000e+00 - val_loss: 3.5834 - val_mean_absolute_error: 1.1356 - val_accuracy: 0.0000e+00 - lr: 3.1250e-05\n",
      "Epoch 74/100\n",
      "5000/5000 [==============================] - 600s 120ms/step - loss: 2.8482 - mean_absolute_error: 1.0286 - accuracy: 0.0000e+00 - val_loss: 3.4477 - val_mean_absolute_error: 1.1126 - val_accuracy: 2.7127e-07 - lr: 1.5625e-05\n",
      "Epoch 75/100\n",
      "5000/5000 [==============================] - 601s 120ms/step - loss: 2.8284 - mean_absolute_error: 1.0255 - accuracy: 2.6042e-07 - val_loss: 3.4555 - val_mean_absolute_error: 1.1141 - val_accuracy: 2.7127e-07 - lr: 1.5625e-05\n",
      "Epoch 76/100\n",
      "5000/5000 [==============================] - 601s 120ms/step - loss: 2.8231 - mean_absolute_error: 1.0245 - accuracy: 1.3021e-07 - val_loss: 3.4247 - val_mean_absolute_error: 1.1080 - val_accuracy: 5.4253e-07 - lr: 1.5625e-05\n",
      "Epoch 77/100\n",
      "5000/5000 [==============================] - 600s 120ms/step - loss: 2.8150 - mean_absolute_error: 1.0225 - accuracy: 2.6042e-07 - val_loss: 3.4290 - val_mean_absolute_error: 1.1084 - val_accuracy: 0.0000e+00 - lr: 1.5625e-05\n",
      "Epoch 78/100\n",
      "5000/5000 [==============================] - 600s 120ms/step - loss: 2.8140 - mean_absolute_error: 1.0217 - accuracy: 0.0000e+00 - val_loss: 3.4345 - val_mean_absolute_error: 1.1092 - val_accuracy: 5.4253e-07 - lr: 1.5625e-05\n",
      "Epoch 79/100\n",
      "5000/5000 [==============================] - 599s 120ms/step - loss: 2.8070 - mean_absolute_error: 1.0205 - accuracy: 0.0000e+00 - val_loss: 3.4116 - val_mean_absolute_error: 1.1052 - val_accuracy: 0.0000e+00 - lr: 1.5625e-05\n",
      "Epoch 80/100\n",
      "5000/5000 [==============================] - 602s 120ms/step - loss: 2.7900 - mean_absolute_error: 1.0188 - accuracy: 3.9062e-07 - val_loss: 3.3975 - val_mean_absolute_error: 1.1021 - val_accuracy: 0.0000e+00 - lr: 1.5625e-05\n",
      "Epoch 81/100\n",
      "5000/5000 [==============================] - 599s 120ms/step - loss: 2.7889 - mean_absolute_error: 1.0184 - accuracy: 3.9062e-07 - val_loss: 3.3900 - val_mean_absolute_error: 1.1004 - val_accuracy: 0.0000e+00 - lr: 1.5625e-05\n",
      "Epoch 82/100\n",
      "5000/5000 [==============================] - ETA: 0s - loss: 2.7878 - mean_absolute_error: 1.0175 - accuracy: 1.3021e-07\n",
      "Epoch 82: ReduceLROnPlateau reducing learning rate to 7.812500371073838e-06.\n",
      "5000/5000 [==============================] - 599s 120ms/step - loss: 2.7878 - mean_absolute_error: 1.0175 - accuracy: 1.3021e-07 - val_loss: 3.3913 - val_mean_absolute_error: 1.1016 - val_accuracy: 2.7127e-07 - lr: 1.5625e-05\n",
      "Epoch 83/100\n",
      "5000/5000 [==============================] - 600s 120ms/step - loss: 2.8150 - mean_absolute_error: 1.0240 - accuracy: 0.0000e+00 - val_loss: 3.4585 - val_mean_absolute_error: 1.1112 - val_accuracy: 0.0000e+00 - lr: 7.8125e-06\n",
      "Epoch 84/100\n",
      "5000/5000 [==============================] - 599s 120ms/step - loss: 2.8153 - mean_absolute_error: 1.0221 - accuracy: 1.3021e-07 - val_loss: 3.4559 - val_mean_absolute_error: 1.1108 - val_accuracy: 2.7127e-07 - lr: 7.8125e-06\n",
      "Epoch 85/100\n",
      "5000/5000 [==============================] - 600s 120ms/step - loss: 2.8121 - mean_absolute_error: 1.0213 - accuracy: 2.6042e-07 - val_loss: 3.4390 - val_mean_absolute_error: 1.1074 - val_accuracy: 0.0000e+00 - lr: 7.8125e-06\n",
      "Epoch 86/100\n",
      "5000/5000 [==============================] - 600s 120ms/step - loss: 2.8191 - mean_absolute_error: 1.0225 - accuracy: 0.0000e+00 - val_loss: 3.4413 - val_mean_absolute_error: 1.1079 - val_accuracy: 0.0000e+00 - lr: 7.8125e-06\n",
      "Epoch 87/100\n",
      "5000/5000 [==============================] - 599s 120ms/step - loss: 2.8011 - mean_absolute_error: 1.0202 - accuracy: 1.3021e-07 - val_loss: 3.4161 - val_mean_absolute_error: 1.1035 - val_accuracy: 2.7127e-07 - lr: 7.8125e-06\n",
      "Epoch 88/100\n",
      "5000/5000 [==============================] - ETA: 0s - loss: 2.8103 - mean_absolute_error: 1.0204 - accuracy: 2.6042e-07\n",
      "Epoch 88: ReduceLROnPlateau reducing learning rate to 3.906250185536919e-06.\n",
      "5000/5000 [==============================] - 600s 120ms/step - loss: 2.8103 - mean_absolute_error: 1.0204 - accuracy: 2.6042e-07 - val_loss: 3.4183 - val_mean_absolute_error: 1.1039 - val_accuracy: 2.7127e-07 - lr: 7.8125e-06\n",
      "Epoch 89/100\n",
      "5000/5000 [==============================] - 599s 120ms/step - loss: 2.8399 - mean_absolute_error: 1.0277 - accuracy: 1.3021e-07 - val_loss: 3.4154 - val_mean_absolute_error: 1.1025 - val_accuracy: 2.7127e-07 - lr: 3.9063e-06\n",
      "Epoch 90/100\n",
      "5000/5000 [==============================] - 600s 120ms/step - loss: 2.8461 - mean_absolute_error: 1.0275 - accuracy: 1.3021e-07 - val_loss: 3.4042 - val_mean_absolute_error: 1.1004 - val_accuracy: 0.0000e+00 - lr: 3.9063e-06\n",
      "Epoch 91/100\n",
      "5000/5000 [==============================] - 601s 120ms/step - loss: 2.8363 - mean_absolute_error: 1.0264 - accuracy: 2.6042e-07 - val_loss: 3.4048 - val_mean_absolute_error: 1.1004 - val_accuracy: 5.4253e-07 - lr: 3.9063e-06\n",
      "Epoch 92/100\n",
      "5000/5000 [==============================] - 600s 120ms/step - loss: 2.8262 - mean_absolute_error: 1.0248 - accuracy: 0.0000e+00 - val_loss: 3.4047 - val_mean_absolute_error: 1.0999 - val_accuracy: 0.0000e+00 - lr: 3.9063e-06\n",
      "Epoch 93/100\n",
      "5000/5000 [==============================] - 601s 120ms/step - loss: 2.8217 - mean_absolute_error: 1.0236 - accuracy: 2.6042e-07 - val_loss: 3.4030 - val_mean_absolute_error: 1.0998 - val_accuracy: 0.0000e+00 - lr: 3.9063e-06\n",
      "Epoch 94/100\n",
      "5000/5000 [==============================] - ETA: 0s - loss: 2.8263 - mean_absolute_error: 1.0243 - accuracy: 2.6042e-07\n",
      "Epoch 94: ReduceLROnPlateau reducing learning rate to 1.9531250927684596e-06.\n",
      "5000/5000 [==============================] - 600s 120ms/step - loss: 2.8263 - mean_absolute_error: 1.0243 - accuracy: 2.6042e-07 - val_loss: 3.4082 - val_mean_absolute_error: 1.1006 - val_accuracy: 2.7127e-07 - lr: 3.9063e-06\n",
      "Epoch 95/100\n",
      "5000/5000 [==============================] - 600s 120ms/step - loss: 2.8696 - mean_absolute_error: 1.0330 - accuracy: 0.0000e+00 - val_loss: 3.3489 - val_mean_absolute_error: 1.0906 - val_accuracy: 2.7127e-07 - lr: 1.9531e-06\n",
      "Epoch 96/100\n",
      "5000/5000 [==============================] - 600s 120ms/step - loss: 2.8509 - mean_absolute_error: 1.0303 - accuracy: 0.0000e+00 - val_loss: 3.3445 - val_mean_absolute_error: 1.0895 - val_accuracy: 5.4253e-07 - lr: 1.9531e-06\n",
      "Epoch 97/100\n",
      "5000/5000 [==============================] - 600s 120ms/step - loss: 2.8539 - mean_absolute_error: 1.0296 - accuracy: 0.0000e+00 - val_loss: 3.3437 - val_mean_absolute_error: 1.0893 - val_accuracy: 0.0000e+00 - lr: 1.9531e-06\n",
      "Epoch 98/100\n",
      "5000/5000 [==============================] - 601s 120ms/step - loss: 2.8555 - mean_absolute_error: 1.0299 - accuracy: 2.6042e-07 - val_loss: 3.3414 - val_mean_absolute_error: 1.0887 - val_accuracy: 0.0000e+00 - lr: 1.9531e-06\n",
      "Epoch 99/100\n",
      "5000/5000 [==============================] - 599s 120ms/step - loss: 2.8547 - mean_absolute_error: 1.0292 - accuracy: 0.0000e+00 - val_loss: 3.3407 - val_mean_absolute_error: 1.0885 - val_accuracy: 2.7127e-07 - lr: 1.9531e-06\n",
      "Epoch 100/100\n",
      "5000/5000 [==============================] - ETA: 0s - loss: 2.8508 - mean_absolute_error: 1.0290 - accuracy: 0.0000e+00\n",
      "Epoch 100: ReduceLROnPlateau reducing learning rate to 1e-06.\n",
      "5000/5000 [==============================] - 602s 120ms/step - loss: 2.8508 - mean_absolute_error: 1.0290 - accuracy: 0.0000e+00 - val_loss: 3.3402 - val_mean_absolute_error: 1.0884 - val_accuracy: 2.7127e-07 - lr: 1.9531e-06\n",
      "Loss: 3.1281943321228027 MAE: 1.0818774700164795 Accuracy: 0.0\n"
     ]
    },
    {
     "name": "stderr",
     "output_type": "stream",
     "text": [
      "WARNING:absl:Found untraced functions such as lstm_cell_4_layer_call_fn, lstm_cell_4_layer_call_and_return_conditional_losses, lstm_cell_5_layer_call_fn, lstm_cell_5_layer_call_and_return_conditional_losses, lstm_cell_6_layer_call_fn while saving (showing 5 of 18). These functions will not be directly callable after loading.\n"
     ]
    },
    {
     "name": "stdout",
     "output_type": "stream",
     "text": [
      "INFO:tensorflow:Assets written to: saved_model/LSTM8_512_0.001_DISCARD_19_DELTA\\assets\n"
     ]
    },
    {
     "name": "stderr",
     "output_type": "stream",
     "text": [
      "INFO:tensorflow:Assets written to: saved_model/LSTM8_512_0.001_DISCARD_19_DELTA\\assets\n"
     ]
    }
   ],
   "source": [
    "lr =1e-3\n",
    "units=512\n",
    "cells=8\n",
    "normalization=False\n",
    "name=f\"LSTM{cells}_{units}_{lr}_DISCARD_{DISCARD}_DELTA\"\n",
    "lstm_ph,history_lstm_ph=model_definitions.LSTM_Train(gen_train,gen_val,learning_rate=lr,patience=50,name=name,path=\"logs\",\n",
    "                                                     epoch=100, dropout=0.2, cells=cells,units=units, normalization=normalization,verbose=1)\n",
    "\n",
    "ev=lstm_ph.evaluate(gen_test,verbose=0)\n",
    "print(f\"Loss: {ev[0]} MAE: {ev[1]} Accuracy: {ev[2]}\")\n",
    "tf.saved_model.save(lstm_ph,f'saved_model/{name}')"
   ]
  },
  {
   "cell_type": "code",
   "execution_count": 29,
   "id": "f5df7839-f920-48fc-a703-e666e4b23d92",
   "metadata": {
    "tags": []
   },
   "outputs": [
    {
     "name": "stderr",
     "output_type": "stream",
     "text": [
      "WARNING:absl:Found untraced functions such as lstm_cell_25_layer_call_fn, lstm_cell_25_layer_call_and_return_conditional_losses, lstm_cell_26_layer_call_fn, lstm_cell_26_layer_call_and_return_conditional_losses, lstm_cell_27_layer_call_fn while saving (showing 5 of 10). These functions will not be directly callable after loading.\n"
     ]
    },
    {
     "name": "stdout",
     "output_type": "stream",
     "text": [
      "INFO:tensorflow:Assets written to: saved_model/LSTM4_128_0.001_DISCARD_19_DELTA\\assets\n"
     ]
    },
    {
     "name": "stderr",
     "output_type": "stream",
     "text": [
      "INFO:tensorflow:Assets written to: saved_model/LSTM4_128_0.001_DISCARD_19_DELTA\\assets\n"
     ]
    }
   ],
   "source": [
    "tf.saved_model.save(lstm_ph,f'saved_model/{name}')"
   ]
  },
  {
   "cell_type": "code",
   "execution_count": 19,
   "id": "f7d2267f",
   "metadata": {},
   "outputs": [
    {
     "data": {
      "text/plain": [
       "<tensorflow.python.checkpoint.checkpoint.CheckpointLoadStatus at 0x294ec93b4f0>"
      ]
     },
     "execution_count": 19,
     "metadata": {},
     "output_type": "execute_result"
    }
   ],
   "source": [
    "model=model_definitions.CNN_LSTM_Model(0.2, units=32,filters=32,kernel_size=1, normalization=False)\n",
    "model.load_weights(\"saved_model\\CNN_LSTM32_1_32_PosAssoluta\")"
   ]
  },
  {
   "cell_type": "code",
   "execution_count": 20,
   "id": "615b66fa",
   "metadata": {},
   "outputs": [
    {
     "name": "stdout",
     "output_type": "stream",
     "text": [
      "Model: \"CNN32_1LSTM32\"\n",
      "_________________________________________________________________\n",
      " Layer (type)                Output Shape              Param #   \n",
      "=================================================================\n",
      " input_7 (InputLayer)        [(None, 30, 5)]           0         \n",
      "                                                                 \n",
      " conv1d (Conv1D)             (None, 30, 32)            192       \n",
      "                                                                 \n",
      " max_pooling1d (MaxPooling1D  (None, 30, 32)           0         \n",
      " )                                                               \n",
      "                                                                 \n",
      " lstm_30 (LSTM)              (None, 32)                8320      \n",
      "                                                                 \n",
      " dense_6 (Dense)             (None, 3)                 99        \n",
      "                                                                 \n",
      "=================================================================\n",
      "Total params: 8,611\n",
      "Trainable params: 8,611\n",
      "Non-trainable params: 0\n",
      "_________________________________________________________________\n"
     ]
    }
   ],
   "source": [
    "model.summary()"
   ]
  },
  {
   "cell_type": "code",
   "execution_count": null,
   "id": "8aef0b09",
   "metadata": {},
   "outputs": [],
   "source": [
    "import tf2onnx\n",
    "import onnx\n",
    "input_signature=(tf.TensorSpec([None,30,5],tf.float32,name='x'))\n",
    "onnx_model,_=tf2onnx.converter.from_keras(model,input_signature,opset=9)"
   ]
  },
  {
   "cell_type": "code",
   "execution_count": null,
   "id": "cf5ac715",
   "metadata": {},
   "outputs": [],
   "source": []
  }
 ],
 "metadata": {
  "kernelspec": {
   "display_name": "Python 3 (ipykernel)",
   "language": "python",
   "name": "python3"
  },
  "language_info": {
   "codemirror_mode": {
    "name": "ipython",
    "version": 3
   },
   "file_extension": ".py",
   "mimetype": "text/x-python",
   "name": "python",
   "nbconvert_exporter": "python",
   "pygments_lexer": "ipython3",
   "version": "3.9.16"
  }
 },
 "nbformat": 4,
 "nbformat_minor": 5
}
