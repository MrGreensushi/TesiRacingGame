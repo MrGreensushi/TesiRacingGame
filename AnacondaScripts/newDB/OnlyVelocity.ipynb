{
 "cells": [
  {
   "cell_type": "code",
   "execution_count": 1,
   "id": "20fea2a4-8e09-4803-be40-899fe4695d84",
   "metadata": {
    "tags": []
   },
   "outputs": [],
   "source": [
    "%load_ext autoreload\n",
    "%autoreload 2\n",
    "#%reload_ext autoreload"
   ]
  },
  {
   "cell_type": "code",
   "execution_count": 2,
   "id": "45d2e55b",
   "metadata": {
    "tags": []
   },
   "outputs": [],
   "source": [
    "import tensorflow as tf\n",
    "import tensorflow.keras.layers as layers\n",
    "import numpy as np\n",
    "import matplotlib.pyplot as plt\n",
    "import pandas as pd\n",
    "import Generator\n",
    "import model_definitions"
   ]
  },
  {
   "cell_type": "markdown",
   "id": "4b7f6852",
   "metadata": {},
   "source": [
    "### Open input file"
   ]
  },
  {
   "cell_type": "code",
   "execution_count": 18,
   "id": "41825ca2",
   "metadata": {
    "tags": []
   },
   "outputs": [],
   "source": [
    "SEQUENCE_LENGTH=20\n",
    "ONE_CAR=True\n",
    "PATH=r\"D:\\Users\\Students\\Daniele\\records\\OneCar_db.txt\"\n",
    "BATCH_SIZE=256*2\n",
    "FEATURES=7 \n",
    "FEATURES_PREDICTED=3"
   ]
  },
  {
   "cell_type": "code",
   "execution_count": 19,
   "id": "0c7b14b0-98d5-49ff-8b88-14abd0632982",
   "metadata": {
    "tags": []
   },
   "outputs": [
    {
     "name": "stdout",
     "output_type": "stream",
     "text": [
      "Max speed diff: 0.8\n",
      "Max x/z diff: 0.8\n",
      "Max rot diff: 2.8000000000000003\n"
     ]
    }
   ],
   "source": [
    "maxSpeed=40\n",
    "frequency=0.02\n",
    "maxdiff=maxSpeed*frequency\n",
    "maxAngularVelocity=140 #140 degrees for second\n",
    "maxAngDiff=maxAngularVelocity*frequency\n",
    "print(f\"Max speed diff: {maxdiff}\\nMax x/z diff: {maxdiff}\\nMax rot diff: {maxAngDiff}\")"
   ]
  },
  {
   "cell_type": "code",
   "execution_count": 29,
   "id": "252787ad-4829-467c-8bfa-c15a35435c94",
   "metadata": {
    "tags": []
   },
   "outputs": [],
   "source": [
    "Generator.SEQUENCE_LENGTH=SEQUENCE_LENGTH\n",
    "Generator.FEATURES=FEATURES\n",
    "df=Generator.single_care_dataframe(PATH)"
   ]
  },
  {
   "cell_type": "code",
   "execution_count": 30,
   "id": "c606f34c",
   "metadata": {
    "tags": []
   },
   "outputs": [],
   "source": [
    "def SubtractDF(df):\n",
    "    return df.groupby(\"RACE\",group_keys=False).apply(Generator.subtraction_columns)\n",
    "\n",
    "dfs=[]\n",
    "for i in range(len(df)):\n",
    "    dfs.append(SubtractDF(df[i]))\n",
    "    #dfs.append(df[i])\n",
    "\n",
    "united=dfs[0]\n",
    "for i in range(1,len(df)):\n",
    "    united=pd.concat([united,dfs[i] ],ignore_index=True)"
   ]
  },
  {
   "cell_type": "code",
   "execution_count": 31,
   "id": "125a142c-90ad-41ed-bdd0-89476ac9e60c",
   "metadata": {
    "tags": []
   },
   "outputs": [
    {
     "data": {
      "text/html": [
       "<div>\n",
       "<style scoped>\n",
       "    .dataframe tbody tr th:only-of-type {\n",
       "        vertical-align: middle;\n",
       "    }\n",
       "\n",
       "    .dataframe tbody tr th {\n",
       "        vertical-align: top;\n",
       "    }\n",
       "\n",
       "    .dataframe thead th {\n",
       "        text-align: right;\n",
       "    }\n",
       "</style>\n",
       "<table border=\"1\" class=\"dataframe\">\n",
       "  <thead>\n",
       "    <tr style=\"text-align: right;\">\n",
       "      <th></th>\n",
       "      <th>X</th>\n",
       "      <th>Z</th>\n",
       "      <th>VEL_X</th>\n",
       "      <th>VEL_Z</th>\n",
       "      <th>ROT</th>\n",
       "      <th>ANG_VEL_Y</th>\n",
       "      <th>ACC_X</th>\n",
       "      <th>ACC_Z</th>\n",
       "      <th>TILE</th>\n",
       "      <th>TILE_IND</th>\n",
       "      <th>X_RELATIVE</th>\n",
       "      <th>Z_RELATIVE</th>\n",
       "      <th>TIME</th>\n",
       "      <th>RACE</th>\n",
       "      <th>GROUP</th>\n",
       "    </tr>\n",
       "  </thead>\n",
       "  <tbody>\n",
       "    <tr>\n",
       "      <th>5310813</th>\n",
       "      <td>1.1339</td>\n",
       "      <td>1.2732</td>\n",
       "      <td>-1.32906</td>\n",
       "      <td>0.32719</td>\n",
       "      <td>-2.35638</td>\n",
       "      <td>0.000261</td>\n",
       "      <td>0.440120</td>\n",
       "      <td>0.078774</td>\n",
       "      <td>8</td>\n",
       "      <td>16</td>\n",
       "      <td>0.399682</td>\n",
       "      <td>0.073825</td>\n",
       "      <td>0.06</td>\n",
       "      <td>167</td>\n",
       "      <td>2</td>\n",
       "    </tr>\n",
       "    <tr>\n",
       "      <th>5310814</th>\n",
       "      <td>1.0530</td>\n",
       "      <td>1.2877</td>\n",
       "      <td>-1.09770</td>\n",
       "      <td>0.00995</td>\n",
       "      <td>-1.75499</td>\n",
       "      <td>0.576573</td>\n",
       "      <td>18.884943</td>\n",
       "      <td>-17.538258</td>\n",
       "      <td>8</td>\n",
       "      <td>16</td>\n",
       "      <td>0.406702</td>\n",
       "      <td>0.082409</td>\n",
       "      <td>0.06</td>\n",
       "      <td>167</td>\n",
       "      <td>2</td>\n",
       "    </tr>\n",
       "    <tr>\n",
       "      <th>5310815</th>\n",
       "      <td>1.0326</td>\n",
       "      <td>1.2565</td>\n",
       "      <td>-0.36445</td>\n",
       "      <td>-0.46785</td>\n",
       "      <td>1.27562</td>\n",
       "      <td>0.450257</td>\n",
       "      <td>-7.451253</td>\n",
       "      <td>11.453720</td>\n",
       "      <td>8</td>\n",
       "      <td>16</td>\n",
       "      <td>0.413586</td>\n",
       "      <td>0.090786</td>\n",
       "      <td>0.06</td>\n",
       "      <td>167</td>\n",
       "      <td>2</td>\n",
       "    </tr>\n",
       "    <tr>\n",
       "      <th>5310816</th>\n",
       "      <td>1.0300</td>\n",
       "      <td>1.2162</td>\n",
       "      <td>0.28746</td>\n",
       "      <td>-0.90923</td>\n",
       "      <td>2.11684</td>\n",
       "      <td>0.376957</td>\n",
       "      <td>22.510724</td>\n",
       "      <td>-16.267590</td>\n",
       "      <td>8</td>\n",
       "      <td>16</td>\n",
       "      <td>0.420453</td>\n",
       "      <td>0.098894</td>\n",
       "      <td>0.06</td>\n",
       "      <td>167</td>\n",
       "      <td>2</td>\n",
       "    </tr>\n",
       "    <tr>\n",
       "      <th>5310817</th>\n",
       "      <td>1.0543</td>\n",
       "      <td>1.1544</td>\n",
       "      <td>0.43512</td>\n",
       "      <td>-1.10460</td>\n",
       "      <td>2.90989</td>\n",
       "      <td>0.172448</td>\n",
       "      <td>0.985146</td>\n",
       "      <td>-3.719230</td>\n",
       "      <td>8</td>\n",
       "      <td>16</td>\n",
       "      <td>0.427482</td>\n",
       "      <td>0.106590</td>\n",
       "      <td>0.06</td>\n",
       "      <td>167</td>\n",
       "      <td>2</td>\n",
       "    </tr>\n",
       "  </tbody>\n",
       "</table>\n",
       "</div>"
      ],
      "text/plain": [
       "              X       Z    VEL_X    VEL_Z      ROT  ANG_VEL_Y      ACC_X  \\\n",
       "5310813  1.1339  1.2732 -1.32906  0.32719 -2.35638   0.000261   0.440120   \n",
       "5310814  1.0530  1.2877 -1.09770  0.00995 -1.75499   0.576573  18.884943   \n",
       "5310815  1.0326  1.2565 -0.36445 -0.46785  1.27562   0.450257  -7.451253   \n",
       "5310816  1.0300  1.2162  0.28746 -0.90923  2.11684   0.376957  22.510724   \n",
       "5310817  1.0543  1.1544  0.43512 -1.10460  2.90989   0.172448   0.985146   \n",
       "\n",
       "             ACC_Z  TILE  TILE_IND  X_RELATIVE  Z_RELATIVE  TIME  RACE  GROUP  \n",
       "5310813   0.078774     8        16    0.399682    0.073825  0.06   167      2  \n",
       "5310814 -17.538258     8        16    0.406702    0.082409  0.06   167      2  \n",
       "5310815  11.453720     8        16    0.413586    0.090786  0.06   167      2  \n",
       "5310816 -16.267590     8        16    0.420453    0.098894  0.06   167      2  \n",
       "5310817  -3.719230     8        16    0.427482    0.106590  0.06   167      2  "
      ]
     },
     "execution_count": 31,
     "metadata": {},
     "output_type": "execute_result"
    }
   ],
   "source": [
    "united.tail()"
   ]
  },
  {
   "cell_type": "code",
   "execution_count": 32,
   "id": "e678fb09-6d88-4e8f-8793-5c52ad3987f1",
   "metadata": {
    "tags": []
   },
   "outputs": [],
   "source": [
    "df_train,df_val,df_test= Generator.split_train_validation_test(united,[\"RACE\",\"GROUP\"])"
   ]
  },
  {
   "cell_type": "code",
   "execution_count": 33,
   "id": "f87d77fd-2c1d-4c38-9211-d08d8f3f8707",
   "metadata": {
    "tags": []
   },
   "outputs": [
    {
     "data": {
      "text/html": [
       "<div>\n",
       "<style scoped>\n",
       "    .dataframe tbody tr th:only-of-type {\n",
       "        vertical-align: middle;\n",
       "    }\n",
       "\n",
       "    .dataframe tbody tr th {\n",
       "        vertical-align: top;\n",
       "    }\n",
       "\n",
       "    .dataframe thead th {\n",
       "        text-align: right;\n",
       "    }\n",
       "</style>\n",
       "<table border=\"1\" class=\"dataframe\">\n",
       "  <thead>\n",
       "    <tr style=\"text-align: right;\">\n",
       "      <th></th>\n",
       "      <th>X</th>\n",
       "      <th>Z</th>\n",
       "      <th>VEL_X</th>\n",
       "      <th>VEL_Z</th>\n",
       "      <th>ROT</th>\n",
       "      <th>ANG_VEL_Y</th>\n",
       "      <th>ACC_X</th>\n",
       "      <th>ACC_Z</th>\n",
       "      <th>TILE</th>\n",
       "      <th>TILE_IND</th>\n",
       "      <th>X_RELATIVE</th>\n",
       "      <th>Z_RELATIVE</th>\n",
       "      <th>TIME</th>\n",
       "      <th>RACE</th>\n",
       "      <th>GROUP</th>\n",
       "    </tr>\n",
       "  </thead>\n",
       "  <tbody>\n",
       "    <tr>\n",
       "      <th>0</th>\n",
       "      <td>0.00000</td>\n",
       "      <td>0.00000</td>\n",
       "      <td>0.000000</td>\n",
       "      <td>0.000000</td>\n",
       "      <td>0.0000</td>\n",
       "      <td>0.000000</td>\n",
       "      <td>0.00000</td>\n",
       "      <td>0.00000</td>\n",
       "      <td>0</td>\n",
       "      <td>0</td>\n",
       "      <td>0.000000</td>\n",
       "      <td>0.000000</td>\n",
       "      <td>0.00</td>\n",
       "      <td>0</td>\n",
       "      <td>0</td>\n",
       "    </tr>\n",
       "    <tr>\n",
       "      <th>1</th>\n",
       "      <td>-0.00005</td>\n",
       "      <td>0.02900</td>\n",
       "      <td>0.000000</td>\n",
       "      <td>0.959571</td>\n",
       "      <td>0.0000</td>\n",
       "      <td>0.000000</td>\n",
       "      <td>0.00000</td>\n",
       "      <td>23.46909</td>\n",
       "      <td>4</td>\n",
       "      <td>32</td>\n",
       "      <td>-0.124001</td>\n",
       "      <td>0.389720</td>\n",
       "      <td>0.06</td>\n",
       "      <td>0</td>\n",
       "      <td>0</td>\n",
       "    </tr>\n",
       "    <tr>\n",
       "      <th>2</th>\n",
       "      <td>0.00000</td>\n",
       "      <td>0.10938</td>\n",
       "      <td>0.000000</td>\n",
       "      <td>1.277536</td>\n",
       "      <td>0.0000</td>\n",
       "      <td>0.000000</td>\n",
       "      <td>0.00000</td>\n",
       "      <td>-3.18073</td>\n",
       "      <td>4</td>\n",
       "      <td>32</td>\n",
       "      <td>-0.124001</td>\n",
       "      <td>0.391178</td>\n",
       "      <td>0.06</td>\n",
       "      <td>0</td>\n",
       "      <td>0</td>\n",
       "    </tr>\n",
       "    <tr>\n",
       "      <th>3</th>\n",
       "      <td>0.00000</td>\n",
       "      <td>0.17944</td>\n",
       "      <td>0.000000</td>\n",
       "      <td>1.114890</td>\n",
       "      <td>0.0000</td>\n",
       "      <td>0.000000</td>\n",
       "      <td>0.00000</td>\n",
       "      <td>-2.49506</td>\n",
       "      <td>4</td>\n",
       "      <td>32</td>\n",
       "      <td>-0.124001</td>\n",
       "      <td>0.393571</td>\n",
       "      <td>0.06</td>\n",
       "      <td>0</td>\n",
       "      <td>0</td>\n",
       "    </tr>\n",
       "    <tr>\n",
       "      <th>4</th>\n",
       "      <td>-0.03796</td>\n",
       "      <td>0.22632</td>\n",
       "      <td>-1.078362</td>\n",
       "      <td>0.612950</td>\n",
       "      <td>-1.4809</td>\n",
       "      <td>-0.712811</td>\n",
       "      <td>-14.55815</td>\n",
       "      <td>-3.50009</td>\n",
       "      <td>4</td>\n",
       "      <td>32</td>\n",
       "      <td>-0.124507</td>\n",
       "      <td>0.396589</td>\n",
       "      <td>0.06</td>\n",
       "      <td>0</td>\n",
       "      <td>0</td>\n",
       "    </tr>\n",
       "  </tbody>\n",
       "</table>\n",
       "</div>"
      ],
      "text/plain": [
       "         X        Z     VEL_X     VEL_Z     ROT  ANG_VEL_Y     ACC_X  \\\n",
       "0  0.00000  0.00000  0.000000  0.000000  0.0000   0.000000   0.00000   \n",
       "1 -0.00005  0.02900  0.000000  0.959571  0.0000   0.000000   0.00000   \n",
       "2  0.00000  0.10938  0.000000  1.277536  0.0000   0.000000   0.00000   \n",
       "3  0.00000  0.17944  0.000000  1.114890  0.0000   0.000000   0.00000   \n",
       "4 -0.03796  0.22632 -1.078362  0.612950 -1.4809  -0.712811 -14.55815   \n",
       "\n",
       "      ACC_Z  TILE  TILE_IND  X_RELATIVE  Z_RELATIVE  TIME  RACE  GROUP  \n",
       "0   0.00000     0         0    0.000000    0.000000  0.00     0      0  \n",
       "1  23.46909     4        32   -0.124001    0.389720  0.06     0      0  \n",
       "2  -3.18073     4        32   -0.124001    0.391178  0.06     0      0  \n",
       "3  -2.49506     4        32   -0.124001    0.393571  0.06     0      0  \n",
       "4  -3.50009     4        32   -0.124507    0.396589  0.06     0      0  "
      ]
     },
     "execution_count": 33,
     "metadata": {},
     "output_type": "execute_result"
    }
   ],
   "source": [
    "df_train.head()"
   ]
  },
  {
   "cell_type": "code",
   "execution_count": 39,
   "id": "1e6c4e46-452c-46d6-9ce1-965c703e5be4",
   "metadata": {
    "tags": []
   },
   "outputs": [
    {
     "name": "stdout",
     "output_type": "stream",
     "text": [
      "Length: 2655282 races: 168 n batches: 2641842 / 512\n",
      "Length: 1327640 races: 168 n batches: 1314200 / 512\n",
      "Length: 1327896 races: 168 n batches: 1314456 / 512\n"
     ]
    }
   ],
   "source": [
    "gen_train=Generator.DataGenerator(BATCH_SIZE,df_train,16000)\n",
    "gen_val=Generator.DataGenerator(BATCH_SIZE,df_val,16000)\n",
    "gen_test=Generator.DataGenerator(BATCH_SIZE,df_test,16000)\n"
   ]
  },
  {
   "cell_type": "code",
   "execution_count": 35,
   "id": "5ba788fa-8aaf-4878-9ef8-29a427d59810",
   "metadata": {
    "tags": []
   },
   "outputs": [
    {
     "name": "stdout",
     "output_type": "stream",
     "text": [
      "tf.Tensor(\n",
      "[[ 7.2567000e-01 -1.3595000e-01 -1.7827000e+00  1.7000000e+01\n",
      "   2.2000000e+01 -3.0831870e-01  4.9901690e-01]\n",
      " [ 3.3367000e-01 -3.2162000e-01 -1.1488000e+00  1.7000000e+01\n",
      "   2.2000000e+01 -3.2057290e-01  4.7317060e-01]\n",
      " [ 3.0362000e-01 -3.0650000e-01 -5.2820000e-01  1.7000000e+01\n",
      "   2.2000000e+01 -3.3252930e-01  4.4704100e-01]\n",
      " [ 2.9529000e-01 -3.1972000e-01 -2.8810000e-01  1.7000000e+01\n",
      "   2.2000000e+01 -3.4426110e-01  4.2068030e-01]\n",
      " [ 2.3114000e-01 -1.1164000e-01 -1.7960000e-01  1.7000000e+01\n",
      "   2.2000000e+01 -3.5579920e-01  3.9414060e-01]\n",
      " [ 1.0494000e-01 -2.0519000e-01 -4.0200000e-02  1.7000000e+01\n",
      "   2.2000000e+01 -3.6721030e-01  3.6748050e-01]\n",
      " [ 6.1900000e-02 -7.7540000e-02 -1.6100000e-02  1.7000000e+01\n",
      "   2.2000000e+01 -3.7856280e-01  3.4072920e-01]\n",
      " [-9.5300000e-03 -1.5519000e-01 -2.2000000e-03  1.7000000e+01\n",
      "   2.2000000e+01 -3.8990560e-01  3.1387700e-01]\n",
      " [ 1.2020000e-02 -5.5090000e-02 -5.9000000e-03  1.7000000e+01\n",
      "   2.2000000e+01 -4.0123530e-01  2.8697920e-01]\n",
      " [ 3.8212000e-01 -4.7300000e-03 -4.7490000e-01  1.7000000e+01\n",
      "   2.2000000e+01 -4.1243160e-01  2.6001630e-01]\n",
      " [ 8.7498000e-01  2.4210000e-02 -2.1027000e+00  1.7000000e+01\n",
      "   2.2000000e+01 -4.2303060e-01  2.3311200e-01]\n",
      " [ 6.0818000e-01 -1.8865000e-01 -2.4692000e+00  1.7000000e+01\n",
      "   2.2000000e+01 -4.3300780e-01  2.0610350e-01]\n",
      " [ 5.9100000e-01 -3.5250000e-01 -1.4352000e+00  1.7000000e+01\n",
      "   2.2000000e+01 -4.4253420e-01  1.7884440e-01]\n",
      " [ 9.0351000e-01 -3.2848000e-01 -1.0695000e+00  1.7000000e+01\n",
      "   2.2000000e+01 -4.5147140e-01  1.5129880e-01]\n",
      " [ 9.2074930e+00  1.0022330e+01 -5.5273000e+00  1.7000000e+01\n",
      "   2.2000000e+01 -4.5463050e-01  1.2955080e-01]\n",
      " [-5.1784800e-01 -7.7180000e-02 -4.3372000e+00  1.7000000e+01\n",
      "   2.2000000e+01 -4.5631190e-01  1.0998370e-01]\n",
      " [ 5.7256600e-01  1.9885000e-01 -2.2708000e+00  1.7000000e+01\n",
      "   2.2000000e+01 -4.5783040e-01  9.0292970e-02]\n",
      " [ 6.7297800e-01  1.0390000e-01 -1.7896000e+00  1.7000000e+01\n",
      "   2.2000000e+01 -4.5864910e-01  7.0898440e-02]\n",
      " [ 7.8019212e-01 -1.1320000e-02 -1.5252000e+00  1.7000000e+01\n",
      "   2.2000000e+01 -4.5900720e-01  5.1442060e-02]\n",
      " [ 2.9216458e-01 -1.5214000e-01 -6.3510000e-01  1.7000000e+01\n",
      "   2.2000000e+01 -4.5891280e-01  3.1953130e-02]], shape=(20, 7), dtype=float64)\n"
     ]
    },
    {
     "data": {
      "text/plain": [
       "<tf.Tensor: shape=(3,), dtype=float64, numpy=array([ 0.1117319, -0.27888  , -0.2056   ])>"
      ]
     },
     "execution_count": 35,
     "metadata": {},
     "output_type": "execute_result"
    }
   ],
   "source": [
    "x_y=gen_test[0]\n",
    "x=x_y[0][0]\n",
    "print(x)\n",
    "x_y[1][0]"
   ]
  },
  {
   "cell_type": "markdown",
   "id": "1ce93477",
   "metadata": {
    "tags": []
   },
   "source": [
    "### Model definition"
   ]
  },
  {
   "cell_type": "markdown",
   "id": "e9f400a4",
   "metadata": {},
   "source": [
    "#### Train and print"
   ]
  },
  {
   "cell_type": "code",
   "execution_count": 40,
   "id": "2d50ad3a",
   "metadata": {
    "tags": []
   },
   "outputs": [],
   "source": [
    "if(ONE_CAR):\n",
    "    model_definitions.cars=1\n",
    "else:\n",
    "    model_definitions.cars=4\n",
    "model_definitions.features=FEATURES\n",
    "model_definitions.sequence_length=SEQUENCE_LENGTH\n",
    "model_definitions.feat_pred=FEATURES_PREDICTED"
   ]
  },
  {
   "cell_type": "markdown",
   "id": "b1d92d02-082b-47d0-9a36-b42cf8349a43",
   "metadata": {
    "jp-MarkdownHeadingCollapsed": true,
    "tags": []
   },
   "source": [
    "### Rules Model"
   ]
  },
  {
   "cell_type": "code",
   "execution_count": null,
   "id": "cb53b762",
   "metadata": {},
   "outputs": [],
   "source": [
    "lstm,history=LSTM_Train(2,SEQUENCE_LENGTH,4,rules_train,rules_val,learning_rate=0.01,epoch=100, dropout=0.2, cells=6 )\n",
    "\n",
    "ev=lstm.evaluate(rules_test,verbose=0)\n",
    "print(f\"Loss: {ev[0]} MAE: {ev[1]} Accuracy: {ev[2]}\")"
   ]
  },
  {
   "cell_type": "code",
   "execution_count": null,
   "id": "bd1b77a7",
   "metadata": {},
   "outputs": [],
   "source": [
    "lstm2,history=LSTM_Train(2,SEQUENCE_LENGTH,4,rules_train,rules_val,learning_rate=0.002,epoch=100, dropout=0.02, cells=1)\n",
    "\n",
    "ev=lstm2.evaluate(rules_test,verbose=0)\n",
    "print(f\"Loss: {ev[0]} MAE: {ev[1]} Accuracy: {ev[2]}\")"
   ]
  },
  {
   "cell_type": "code",
   "execution_count": null,
   "id": "acc81020",
   "metadata": {},
   "outputs": [],
   "source": [
    "mlp,history=MLP_Train(2,SEQUENCE_LENGTH,4,rules_train,rules_val,learning_rate=0.001,epoch=100)\n",
    "\n",
    "ev=mlp.evaluate(rules_test,verbose=0)\n",
    "print(f\"Loss: {ev[0]} MAE: {ev[1]} Accuracy: {ev[2]}\")"
   ]
  },
  {
   "cell_type": "code",
   "execution_count": null,
   "id": "62dedac7",
   "metadata": {},
   "outputs": [],
   "source": [
    "siamese,history=LSTM_Siamese_Train(2,SEQUENCE_LENGTH,4,rules_train,rules_val,learning_rate=0.001,epoch=100, dropout=0.02, cells=2 )\n",
    "\n",
    "ev=siamese.evaluate(rules_test,verbose=0)\n",
    "print(f\"Loss: {ev[0]} MAE: {ev[1]} Accuracy: {ev[2]}\")"
   ]
  },
  {
   "cell_type": "markdown",
   "id": "995fbcaa",
   "metadata": {
    "tags": []
   },
   "source": [
    "### Physichs Model"
   ]
  },
  {
   "cell_type": "markdown",
   "id": "543ee461",
   "metadata": {},
   "source": [
    "Since physichs data can be very small, Each data is multiply by 10 "
   ]
  },
  {
   "cell_type": "code",
   "execution_count": 41,
   "id": "49bc5a7d",
   "metadata": {
    "tags": []
   },
   "outputs": [
    {
     "name": "stdout",
     "output_type": "stream",
     "text": [
      "Epoch 1/10\n",
      "5158/5158 [==============================] - 521s 101ms/step - loss: 3.3003 - mean_absolute_error: 0.8741 - accuracy: 1.2622e-07 - val_loss: 0.4709 - val_mean_absolute_error: 0.4252 - val_accuracy: 0.0000e+00 - lr: 1.0000e-04\n",
      "Epoch 2/10\n",
      "5158/5158 [==============================] - 524s 102ms/step - loss: 0.3405 - mean_absolute_error: 0.3410 - accuracy: 2.5244e-07 - val_loss: 0.2899 - val_mean_absolute_error: 0.3091 - val_accuracy: 0.0000e+00 - lr: 1.0000e-04\n",
      "Epoch 3/10\n",
      "5158/5158 [==============================] - 523s 101ms/step - loss: 0.2827 - mean_absolute_error: 0.2969 - accuracy: 0.0000e+00 - val_loss: 0.2763 - val_mean_absolute_error: 0.2979 - val_accuracy: 0.0000e+00 - lr: 1.0000e-04\n",
      "Epoch 4/10\n",
      "5158/5158 [==============================] - 522s 101ms/step - loss: 0.2783 - mean_absolute_error: 0.2918 - accuracy: 1.2622e-07 - val_loss: 0.2751 - val_mean_absolute_error: 0.2968 - val_accuracy: 0.0000e+00 - lr: 1.0000e-04\n",
      "Epoch 5/10\n",
      "5157/5158 [============================>.] - ETA: 0s - loss: 0.2776 - mean_absolute_error: 0.2906 - accuracy: 0.0000e+00\n",
      "Epoch 5: ReduceLROnPlateau reducing learning rate to 4.999999873689376e-05.\n",
      "5158/5158 [==============================] - 522s 101ms/step - loss: 0.2776 - mean_absolute_error: 0.2906 - accuracy: 0.0000e+00 - val_loss: 0.2746 - val_mean_absolute_error: 0.2951 - val_accuracy: 0.0000e+00 - lr: 1.0000e-04\n",
      "Epoch 6/10\n",
      "5158/5158 [==============================] - 524s 101ms/step - loss: 0.2777 - mean_absolute_error: 0.2894 - accuracy: 0.0000e+00 - val_loss: 0.2725 - val_mean_absolute_error: 0.2924 - val_accuracy: 0.0000e+00 - lr: 5.0000e-05\n",
      "Epoch 7/10\n",
      "5158/5158 [==============================] - 523s 101ms/step - loss: 0.2776 - mean_absolute_error: 0.2894 - accuracy: 2.5244e-07 - val_loss: 0.2725 - val_mean_absolute_error: 0.2928 - val_accuracy: 0.0000e+00 - lr: 5.0000e-05\n",
      "Epoch 8/10\n",
      "5158/5158 [==============================] - 522s 101ms/step - loss: 0.2776 - mean_absolute_error: 0.2894 - accuracy: 0.0000e+00 - val_loss: 0.2725 - val_mean_absolute_error: 0.2926 - val_accuracy: 0.0000e+00 - lr: 5.0000e-05\n",
      "Epoch 9/10\n",
      "5158/5158 [==============================] - 524s 101ms/step - loss: 0.2776 - mean_absolute_error: 0.2894 - accuracy: 1.2622e-07 - val_loss: 0.2725 - val_mean_absolute_error: 0.2927 - val_accuracy: 0.0000e+00 - lr: 5.0000e-05\n",
      "Epoch 10/10\n",
      "5158/5158 [==============================] - 523s 101ms/step - loss: 0.2776 - mean_absolute_error: 0.2894 - accuracy: 0.0000e+00 - val_loss: 0.2725 - val_mean_absolute_error: 0.2927 - val_accuracy: 0.0000e+00 - lr: 5.0000e-05\n",
      "Loss: 0.20761629939079285 MAE: 0.2855454087257385 Accuracy: 0.0\n",
      "INFO:tensorflow:Assets written to: saved_model/MLP_DELTA\\assets\n"
     ]
    }
   ],
   "source": [
    "mlp_ph,history_mlp_ph=model_definitions.MLP_Train(gen_train,gen_val,learning_rate=0.0001,epoch=10,verbose=1,name=\"MLP_DELTA\",path=\"logs\")\n",
    "\n",
    "ev=mlp_ph.evaluate(gen_test,verbose=0)\n",
    "print(f\"Loss: {ev[0]} MAE: {ev[1]} Accuracy: {ev[2]}\")\n",
    "tf.saved_model.save(mlp_ph,f'saved_model/MLP_DELTA')"
   ]
  },
  {
   "cell_type": "code",
   "execution_count": null,
   "id": "220477fd-dcf0-43ba-8a66-75e4d7745bca",
   "metadata": {
    "collapsed": true,
    "jupyter": {
     "outputs_hidden": true,
     "source_hidden": true
    },
    "tags": []
   },
   "outputs": [],
   "source": [
    "units=32\n",
    "kernel_size=1\n",
    "filters=32\n",
    "normalization=False\n",
    "cnn_lstm,history_cnn_lstm=model_definitions.CNN_LSTM_Train(gen_train,gen_val,learning_rate=0.0001,patience=10,name=f\"CNN{filters}_{kernel_size}LSTM{units}_Norm{normalization}\",\n",
    "                                                           path=\"logs_350SequenceLength\",epoch=10, dropout=0.2,units=units,kernel_size=kernel_size,\n",
    "                                                           filters=filters, normalization=normalization,verbose=1\n",
    "                                                          )\n",
    "\n",
    "ev=cnn_lstm.evaluate(gen_test,verbose=0)\n",
    "print(f\"Loss: {ev[0]} MAE: {ev[1]} Accuracy: {ev[2]}\")\n",
    "\n",
    "tf.saved_model.save(cnn_lstm,f'saved_model/CNN_LSTM{units}_{kernel_size}_{filters}_PosAssoluta')"
   ]
  },
  {
   "cell_type": "code",
   "execution_count": 42,
   "id": "9695dc32",
   "metadata": {
    "tags": []
   },
   "outputs": [
    {
     "name": "stdout",
     "output_type": "stream",
     "text": [
      "Epoch 1/100\n",
      "5158/5158 [==============================] - 521s 101ms/step - loss: 0.8483 - mean_absolute_error: 0.6047 - accuracy: 0.0000e+00 - val_loss: 0.5499 - val_mean_absolute_error: 0.4992 - val_accuracy: 0.0000e+00 - lr: 1.0000e-04\n",
      "Epoch 2/100\n",
      "5158/5158 [==============================] - 517s 100ms/step - loss: 0.5481 - mean_absolute_error: 0.4767 - accuracy: 1.2622e-07 - val_loss: 0.3774 - val_mean_absolute_error: 0.3940 - val_accuracy: 0.0000e+00 - lr: 1.0000e-04\n",
      "Epoch 3/100\n",
      "5158/5158 [==============================] - 518s 100ms/step - loss: 0.4579 - mean_absolute_error: 0.4230 - accuracy: 1.2622e-07 - val_loss: 0.3484 - val_mean_absolute_error: 0.3692 - val_accuracy: 0.0000e+00 - lr: 1.0000e-04\n",
      "Epoch 4/100\n",
      "5158/5158 [==============================] - 517s 100ms/step - loss: 0.4204 - mean_absolute_error: 0.4021 - accuracy: 1.2622e-07 - val_loss: 0.3345 - val_mean_absolute_error: 0.3610 - val_accuracy: 2.5382e-07 - lr: 1.0000e-04\n",
      "Epoch 5/100\n",
      "5158/5158 [==============================] - 518s 100ms/step - loss: 0.3973 - mean_absolute_error: 0.3895 - accuracy: 0.0000e+00 - val_loss: 0.3180 - val_mean_absolute_error: 0.3519 - val_accuracy: 0.0000e+00 - lr: 1.0000e-04\n",
      "Epoch 6/100\n",
      "5158/5158 [==============================] - 517s 100ms/step - loss: 0.3832 - mean_absolute_error: 0.3814 - accuracy: 0.0000e+00 - val_loss: 0.3073 - val_mean_absolute_error: 0.3445 - val_accuracy: 2.5382e-07 - lr: 1.0000e-04\n",
      "Epoch 7/100\n",
      "5158/5158 [==============================] - 517s 100ms/step - loss: 0.3736 - mean_absolute_error: 0.3762 - accuracy: 1.2622e-07 - val_loss: 0.2981 - val_mean_absolute_error: 0.3378 - val_accuracy: 0.0000e+00 - lr: 1.0000e-04\n",
      "Epoch 8/100\n",
      "5158/5158 [==============================] - 516s 100ms/step - loss: 0.3659 - mean_absolute_error: 0.3722 - accuracy: 0.0000e+00 - val_loss: 0.2934 - val_mean_absolute_error: 0.3346 - val_accuracy: 0.0000e+00 - lr: 1.0000e-04\n",
      "Epoch 9/100\n",
      "5158/5158 [==============================] - 516s 100ms/step - loss: 0.3594 - mean_absolute_error: 0.3692 - accuracy: 0.0000e+00 - val_loss: 0.2903 - val_mean_absolute_error: 0.3330 - val_accuracy: 5.0763e-07 - lr: 1.0000e-04\n",
      "Epoch 10/100\n",
      "5157/5158 [============================>.] - ETA: 0s - loss: 0.3538 - mean_absolute_error: 0.3667 - accuracy: 1.2624e-07\n",
      "Epoch 10: ReduceLROnPlateau reducing learning rate to 4.999999873689376e-05.\n",
      "5158/5158 [==============================] - 517s 100ms/step - loss: 0.3538 - mean_absolute_error: 0.3667 - accuracy: 1.2622e-07 - val_loss: 0.2854 - val_mean_absolute_error: 0.3307 - val_accuracy: 0.0000e+00 - lr: 1.0000e-04\n",
      "Epoch 11/100\n",
      "5158/5158 [==============================] - 516s 100ms/step - loss: 0.3514 - mean_absolute_error: 0.3652 - accuracy: 0.0000e+00 - val_loss: 0.2848 - val_mean_absolute_error: 0.3305 - val_accuracy: 0.0000e+00 - lr: 5.0000e-05\n",
      "Epoch 12/100\n",
      "5158/5158 [==============================] - 517s 100ms/step - loss: 0.3496 - mean_absolute_error: 0.3642 - accuracy: 1.2622e-07 - val_loss: 0.2831 - val_mean_absolute_error: 0.3300 - val_accuracy: 0.0000e+00 - lr: 5.0000e-05\n",
      "Epoch 13/100\n",
      "5158/5158 [==============================] - 515s 100ms/step - loss: 0.3479 - mean_absolute_error: 0.3633 - accuracy: 0.0000e+00 - val_loss: 0.2814 - val_mean_absolute_error: 0.3287 - val_accuracy: 0.0000e+00 - lr: 5.0000e-05\n",
      "Epoch 14/100\n",
      "5158/5158 [==============================] - 515s 100ms/step - loss: 0.3461 - mean_absolute_error: 0.3624 - accuracy: 0.0000e+00 - val_loss: 0.2805 - val_mean_absolute_error: 0.3280 - val_accuracy: 2.5382e-07 - lr: 5.0000e-05\n",
      "Epoch 15/100\n",
      "5158/5158 [==============================] - 514s 100ms/step - loss: 0.3441 - mean_absolute_error: 0.3612 - accuracy: 0.0000e+00 - val_loss: 0.2798 - val_mean_absolute_error: 0.3280 - val_accuracy: 0.0000e+00 - lr: 5.0000e-05\n",
      "Epoch 16/100\n",
      "5158/5158 [==============================] - ETA: 0s - loss: 0.3429 - mean_absolute_error: 0.3605 - accuracy: 1.2622e-07\n",
      "Epoch 16: ReduceLROnPlateau reducing learning rate to 2.499999936844688e-05.\n",
      "5158/5158 [==============================] - 514s 100ms/step - loss: 0.3429 - mean_absolute_error: 0.3605 - accuracy: 1.2622e-07 - val_loss: 0.2781 - val_mean_absolute_error: 0.3270 - val_accuracy: 0.0000e+00 - lr: 5.0000e-05\n",
      "Epoch 17/100\n",
      "5158/5158 [==============================] - 515s 100ms/step - loss: 0.3425 - mean_absolute_error: 0.3600 - accuracy: 0.0000e+00 - val_loss: 0.2768 - val_mean_absolute_error: 0.3265 - val_accuracy: 0.0000e+00 - lr: 2.5000e-05\n",
      "Epoch 18/100\n",
      "5158/5158 [==============================] - 517s 100ms/step - loss: 0.3419 - mean_absolute_error: 0.3596 - accuracy: 0.0000e+00 - val_loss: 0.2763 - val_mean_absolute_error: 0.3261 - val_accuracy: 2.5382e-07 - lr: 2.5000e-05\n",
      "Epoch 19/100\n",
      "5158/5158 [==============================] - 516s 100ms/step - loss: 0.3412 - mean_absolute_error: 0.3592 - accuracy: 0.0000e+00 - val_loss: 0.2761 - val_mean_absolute_error: 0.3262 - val_accuracy: 0.0000e+00 - lr: 2.5000e-05\n",
      "Epoch 20/100\n",
      "5158/5158 [==============================] - 517s 100ms/step - loss: 0.3404 - mean_absolute_error: 0.3587 - accuracy: 0.0000e+00 - val_loss: 0.2754 - val_mean_absolute_error: 0.3253 - val_accuracy: 0.0000e+00 - lr: 2.5000e-05\n",
      "Epoch 21/100\n",
      "5158/5158 [==============================] - 515s 100ms/step - loss: 0.3403 - mean_absolute_error: 0.3586 - accuracy: 0.0000e+00 - val_loss: 0.2753 - val_mean_absolute_error: 0.3253 - val_accuracy: 0.0000e+00 - lr: 2.5000e-05\n",
      "Epoch 22/100\n",
      "5157/5158 [============================>.] - ETA: 0s - loss: 0.3394 - mean_absolute_error: 0.3581 - accuracy: 0.0000e+00\n",
      "Epoch 22: ReduceLROnPlateau reducing learning rate to 1.249999968422344e-05.\n",
      "5158/5158 [==============================] - 515s 100ms/step - loss: 0.3394 - mean_absolute_error: 0.3581 - accuracy: 0.0000e+00 - val_loss: 0.2753 - val_mean_absolute_error: 0.3253 - val_accuracy: 0.0000e+00 - lr: 2.5000e-05\n",
      "Epoch 23/100\n",
      "5158/5158 [==============================] - 512s 99ms/step - loss: 0.3392 - mean_absolute_error: 0.3579 - accuracy: 0.0000e+00 - val_loss: 0.2741 - val_mean_absolute_error: 0.3253 - val_accuracy: 0.0000e+00 - lr: 1.2500e-05\n",
      "Epoch 24/100\n",
      "5158/5158 [==============================] - 514s 100ms/step - loss: 0.3393 - mean_absolute_error: 0.3579 - accuracy: 0.0000e+00 - val_loss: 0.2740 - val_mean_absolute_error: 0.3251 - val_accuracy: 0.0000e+00 - lr: 1.2500e-05\n",
      "Epoch 25/100\n",
      "5158/5158 [==============================] - 513s 100ms/step - loss: 0.3387 - mean_absolute_error: 0.3576 - accuracy: 0.0000e+00 - val_loss: 0.2740 - val_mean_absolute_error: 0.3251 - val_accuracy: 0.0000e+00 - lr: 1.2500e-05\n",
      "Epoch 26/100\n",
      "5158/5158 [==============================] - 514s 100ms/step - loss: 0.3384 - mean_absolute_error: 0.3574 - accuracy: 0.0000e+00 - val_loss: 0.2736 - val_mean_absolute_error: 0.3248 - val_accuracy: 0.0000e+00 - lr: 1.2500e-05\n",
      "Epoch 27/100\n",
      "5158/5158 [==============================] - 514s 100ms/step - loss: 0.3384 - mean_absolute_error: 0.3574 - accuracy: 0.0000e+00 - val_loss: 0.2739 - val_mean_absolute_error: 0.3249 - val_accuracy: 0.0000e+00 - lr: 1.2500e-05\n",
      "Epoch 28/100\n",
      "5158/5158 [==============================] - ETA: 0s - loss: 0.3381 - mean_absolute_error: 0.3572 - accuracy: 0.0000e+00\n",
      "Epoch 28: ReduceLROnPlateau reducing learning rate to 6.24999984211172e-06.\n",
      "5158/5158 [==============================] - 515s 100ms/step - loss: 0.3381 - mean_absolute_error: 0.3572 - accuracy: 0.0000e+00 - val_loss: 0.2738 - val_mean_absolute_error: 0.3249 - val_accuracy: 0.0000e+00 - lr: 1.2500e-05\n",
      "Epoch 29/100\n",
      "5158/5158 [==============================] - 512s 99ms/step - loss: 0.3380 - mean_absolute_error: 0.3571 - accuracy: 1.2622e-07 - val_loss: 0.2735 - val_mean_absolute_error: 0.3250 - val_accuracy: 2.5382e-07 - lr: 6.2500e-06\n",
      "Epoch 30/100\n",
      "5158/5158 [==============================] - 513s 99ms/step - loss: 0.3379 - mean_absolute_error: 0.3569 - accuracy: 0.0000e+00 - val_loss: 0.2734 - val_mean_absolute_error: 0.3248 - val_accuracy: 0.0000e+00 - lr: 6.2500e-06\n",
      "Epoch 31/100\n",
      "5158/5158 [==============================] - 514s 100ms/step - loss: 0.3379 - mean_absolute_error: 0.3571 - accuracy: 0.0000e+00 - val_loss: 0.2736 - val_mean_absolute_error: 0.3250 - val_accuracy: 0.0000e+00 - lr: 6.2500e-06\n",
      "Epoch 32/100\n",
      "5158/5158 [==============================] - 514s 100ms/step - loss: 0.3376 - mean_absolute_error: 0.3569 - accuracy: 1.2622e-07 - val_loss: 0.2736 - val_mean_absolute_error: 0.3250 - val_accuracy: 0.0000e+00 - lr: 6.2500e-06\n",
      "Epoch 33/100\n",
      "5158/5158 [==============================] - 511s 99ms/step - loss: 0.3376 - mean_absolute_error: 0.3569 - accuracy: 0.0000e+00 - val_loss: 0.2737 - val_mean_absolute_error: 0.3250 - val_accuracy: 0.0000e+00 - lr: 6.2500e-06\n",
      "Epoch 34/100\n",
      "5157/5158 [============================>.] - ETA: 0s - loss: 0.3375 - mean_absolute_error: 0.3566 - accuracy: 1.2624e-07\n",
      "Epoch 34: ReduceLROnPlateau reducing learning rate to 3.12499992105586e-06.\n",
      "5158/5158 [==============================] - 513s 99ms/step - loss: 0.3375 - mean_absolute_error: 0.3567 - accuracy: 1.2622e-07 - val_loss: 0.2735 - val_mean_absolute_error: 0.3249 - val_accuracy: 0.0000e+00 - lr: 6.2500e-06\n",
      "Epoch 35/100\n",
      "5158/5158 [==============================] - 514s 100ms/step - loss: 0.3375 - mean_absolute_error: 0.3568 - accuracy: 0.0000e+00 - val_loss: 0.2738 - val_mean_absolute_error: 0.3250 - val_accuracy: 0.0000e+00 - lr: 3.1250e-06\n",
      "Epoch 36/100\n",
      "5158/5158 [==============================] - 512s 99ms/step - loss: 0.3373 - mean_absolute_error: 0.3566 - accuracy: 0.0000e+00 - val_loss: 0.2736 - val_mean_absolute_error: 0.3249 - val_accuracy: 2.5382e-07 - lr: 3.1250e-06\n",
      "Loss: 0.24265970289707184 MAE: 0.31851163506507874 Accuracy: 0.0\n",
      "INFO:tensorflow:Assets written to: saved_model/LSTM1_8_0.0001_ROT_DELTA\\assets\n"
     ]
    }
   ],
   "source": [
    "lr =1e-4\n",
    "units=8\n",
    "cells=1\n",
    "normalization=False\n",
    "name=f\"LSTM{cells}_{units}_{lr}_ROT_DELTA\"\n",
    "lstm_ph,history_lstm_ph=model_definitions.LSTM_Train(gen_train,gen_val,learning_rate=lr,patience=6,name=name,path=\"logs\",\n",
    "                                                     epoch=100, dropout=0.2, cells=cells,units=units, normalization=normalization,verbose=1)\n",
    "\n",
    "ev=lstm_ph.evaluate(gen_test,verbose=0)\n",
    "print(f\"Loss: {ev[0]} MAE: {ev[1]} Accuracy: {ev[2]}\")\n",
    "tf.saved_model.save(mlp_ph,f'saved_model/{name}')"
   ]
  },
  {
   "cell_type": "code",
   "execution_count": 27,
   "id": "f5df7839-f920-48fc-a703-e666e4b23d92",
   "metadata": {},
   "outputs": [
    {
     "name": "stderr",
     "output_type": "stream",
     "text": [
      "WARNING:absl:Found untraced functions such as lstm_cell_layer_call_fn, lstm_cell_layer_call_and_return_conditional_losses, lstm_cell_1_layer_call_fn, lstm_cell_1_layer_call_and_return_conditional_losses, lstm_cell_2_layer_call_fn while saving (showing 5 of 6). These functions will not be directly callable after loading.\n"
     ]
    },
    {
     "name": "stdout",
     "output_type": "stream",
     "text": [
      "INFO:tensorflow:Assets written to: saved_model/LSTM2_32_1e-05_NormFalse_PosAssoluta\\assets\n"
     ]
    },
    {
     "name": "stderr",
     "output_type": "stream",
     "text": [
      "INFO:tensorflow:Assets written to: saved_model/LSTM2_32_1e-05_NormFalse_PosAssoluta\\assets\n"
     ]
    }
   ],
   "source": [
    "tf.saved_model.save(lstm_ph,f'saved_model/{name}_PosAssoluta')"
   ]
  },
  {
   "cell_type": "code",
   "execution_count": 19,
   "id": "f7d2267f",
   "metadata": {},
   "outputs": [
    {
     "data": {
      "text/plain": [
       "<tensorflow.python.checkpoint.checkpoint.CheckpointLoadStatus at 0x294ec93b4f0>"
      ]
     },
     "execution_count": 19,
     "metadata": {},
     "output_type": "execute_result"
    }
   ],
   "source": [
    "model=model_definitions.CNN_LSTM_Model(0.2, units=32,filters=32,kernel_size=1, normalization=False)\n",
    "model.load_weights(\"saved_model\\CNN_LSTM32_1_32_PosAssoluta\")"
   ]
  },
  {
   "cell_type": "code",
   "execution_count": 20,
   "id": "615b66fa",
   "metadata": {},
   "outputs": [
    {
     "name": "stdout",
     "output_type": "stream",
     "text": [
      "Model: \"CNN32_1LSTM32\"\n",
      "_________________________________________________________________\n",
      " Layer (type)                Output Shape              Param #   \n",
      "=================================================================\n",
      " input_7 (InputLayer)        [(None, 30, 5)]           0         \n",
      "                                                                 \n",
      " conv1d (Conv1D)             (None, 30, 32)            192       \n",
      "                                                                 \n",
      " max_pooling1d (MaxPooling1D  (None, 30, 32)           0         \n",
      " )                                                               \n",
      "                                                                 \n",
      " lstm_30 (LSTM)              (None, 32)                8320      \n",
      "                                                                 \n",
      " dense_6 (Dense)             (None, 3)                 99        \n",
      "                                                                 \n",
      "=================================================================\n",
      "Total params: 8,611\n",
      "Trainable params: 8,611\n",
      "Non-trainable params: 0\n",
      "_________________________________________________________________\n"
     ]
    }
   ],
   "source": [
    "model.summary()"
   ]
  },
  {
   "cell_type": "code",
   "execution_count": null,
   "id": "8aef0b09",
   "metadata": {},
   "outputs": [],
   "source": [
    "import tf2onnx\n",
    "import onnx\n",
    "input_signature=(tf.TensorSpec([None,30,5],tf.float32,name='x'))\n",
    "onnx_model,_=tf2onnx.converter.from_keras(model,input_signature,opset=9)"
   ]
  },
  {
   "cell_type": "code",
   "execution_count": null,
   "id": "cf5ac715",
   "metadata": {},
   "outputs": [],
   "source": []
  }
 ],
 "metadata": {
  "kernelspec": {
   "display_name": "Python 3 (ipykernel)",
   "language": "python",
   "name": "python3"
  },
  "language_info": {
   "codemirror_mode": {
    "name": "ipython",
    "version": 3
   },
   "file_extension": ".py",
   "mimetype": "text/x-python",
   "name": "python",
   "nbconvert_exporter": "python",
   "pygments_lexer": "ipython3",
   "version": "3.9.16"
  }
 },
 "nbformat": 4,
 "nbformat_minor": 5
}
