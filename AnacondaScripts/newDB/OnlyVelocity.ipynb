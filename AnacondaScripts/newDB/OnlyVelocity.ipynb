{
 "cells": [
  {
   "cell_type": "code",
   "execution_count": 1,
   "id": "20fea2a4-8e09-4803-be40-899fe4695d84",
   "metadata": {
    "tags": []
   },
   "outputs": [],
   "source": [
    "%load_ext autoreload\n",
    "%autoreload 2\n",
    "#%reload_ext autoreload"
   ]
  },
  {
   "cell_type": "code",
   "execution_count": 2,
   "id": "45d2e55b",
   "metadata": {
    "tags": []
   },
   "outputs": [],
   "source": [
    "import tensorflow as tf\n",
    "import tensorflow.keras.layers as layers\n",
    "import numpy as np\n",
    "import matplotlib.pyplot as plt\n",
    "import pandas as pd\n",
    "import Generator as Generator \n",
    "import model_definitions"
   ]
  },
  {
   "cell_type": "markdown",
   "id": "4b7f6852",
   "metadata": {},
   "source": [
    "### Open input file"
   ]
  },
  {
   "cell_type": "code",
   "execution_count": 3,
   "id": "41825ca2",
   "metadata": {
    "tags": []
   },
   "outputs": [],
   "source": [
    "SEQUENCE_LENGTH=20\n",
    "ONE_CAR=True\n",
    "PATH=r\"D:\\Users\\Students\\Daniele\\records\\OneCar_db.txt\"\n",
    "#PATH=r\"C:\\Users\\dansp\\OneDrive\\Desktop\\Tesi\\SCRITTURA\\OneCar_tack1_db.txt\"\n",
    "BATCH_SIZE=256*2\n",
    "FEATURES=7 \n",
    "FEATURES_PREDICTED=6\n",
    "DISCARD=4"
   ]
  },
  {
   "cell_type": "code",
   "execution_count": 4,
   "id": "0c7b14b0-98d5-49ff-8b88-14abd0632982",
   "metadata": {
    "tags": []
   },
   "outputs": [
    {
     "name": "stdout",
     "output_type": "stream",
     "text": [
      "Max speed diff: 0.8\n",
      "Max x/z diff: 0.8\n",
      "Max rot diff: 2.8000000000000003\n"
     ]
    }
   ],
   "source": [
    "maxSpeed=40\n",
    "frequency=0.02\n",
    "maxdiff=maxSpeed*frequency\n",
    "maxAngularVelocity=140 #140 degrees for second\n",
    "maxAngDiff=maxAngularVelocity*frequency\n",
    "print(f\"Max speed diff: {maxdiff}\\nMax x/z diff: {maxdiff}\\nMax rot diff: {maxAngDiff}\")"
   ]
  },
  {
   "cell_type": "code",
   "execution_count": 5,
   "id": "252787ad-4829-467c-8bfa-c15a35435c94",
   "metadata": {
    "tags": []
   },
   "outputs": [],
   "source": [
    "Generator.SEQUENCE_LENGTH=SEQUENCE_LENGTH\n",
    "Generator.FEATURES=FEATURES\n",
    "Generator.DISCARD=DISCARD\n",
    "train,val,test=Generator.single_care_dataframe(PATH)"
   ]
  },
  {
   "cell_type": "code",
   "execution_count": 6,
   "id": "c606f34c",
   "metadata": {
    "tags": []
   },
   "outputs": [],
   "source": [
    "def SubtractDF(df):\n",
    "    return df.groupby(\"RACE\",group_keys=False).apply(Generator.subtraction_columns)\n",
    "\n",
    "def SubtractAndBuildDF(df):\n",
    "    dfs=[]\n",
    "    for i in range(len(df)):\n",
    "        dfs.append(SubtractDF(df[i]))\n",
    "        #dfs.append(df[i])\n",
    "    united=dfs[0]\n",
    "    for i in range(1,len(df)):\n",
    "        united=pd.concat([united,dfs[i] ],ignore_index=True)\n",
    "    return united\n",
    "\n",
    "df_train= SubtractAndBuildDF(train)\n",
    "df_val= SubtractAndBuildDF(val)\n",
    "df_test= SubtractAndBuildDF(test)"
   ]
  },
  {
   "cell_type": "code",
   "execution_count": 7,
   "id": "125a142c-90ad-41ed-bdd0-89476ac9e60c",
   "metadata": {
    "tags": []
   },
   "outputs": [
    {
     "data": {
      "text/html": [
       "<div>\n",
       "<style scoped>\n",
       "    .dataframe tbody tr th:only-of-type {\n",
       "        vertical-align: middle;\n",
       "    }\n",
       "\n",
       "    .dataframe tbody tr th {\n",
       "        vertical-align: top;\n",
       "    }\n",
       "\n",
       "    .dataframe thead th {\n",
       "        text-align: right;\n",
       "    }\n",
       "</style>\n",
       "<table border=\"1\" class=\"dataframe\">\n",
       "  <thead>\n",
       "    <tr style=\"text-align: right;\">\n",
       "      <th></th>\n",
       "      <th>X</th>\n",
       "      <th>Z</th>\n",
       "      <th>VEL_X</th>\n",
       "      <th>VEL_Z</th>\n",
       "      <th>ROT</th>\n",
       "      <th>ANG_VEL_Y</th>\n",
       "      <th>ACC_X</th>\n",
       "      <th>ACC_Z</th>\n",
       "      <th>TILE</th>\n",
       "      <th>TILE_IND</th>\n",
       "      <th>X_RELATIVE</th>\n",
       "      <th>Z_RELATIVE</th>\n",
       "      <th>TIME</th>\n",
       "      <th>RACE</th>\n",
       "      <th>GROUP</th>\n",
       "    </tr>\n",
       "  </thead>\n",
       "  <tbody>\n",
       "    <tr>\n",
       "      <th>0</th>\n",
       "      <td>0.00000</td>\n",
       "      <td>0.00000</td>\n",
       "      <td>0.000000</td>\n",
       "      <td>0.000000</td>\n",
       "      <td>0.0000</td>\n",
       "      <td>0.000000</td>\n",
       "      <td>0.000000</td>\n",
       "      <td>0.000000</td>\n",
       "      <td>4</td>\n",
       "      <td>32</td>\n",
       "      <td>0.000000</td>\n",
       "      <td>0.000000</td>\n",
       "      <td>0.1</td>\n",
       "      <td>0</td>\n",
       "      <td>0</td>\n",
       "    </tr>\n",
       "    <tr>\n",
       "      <th>1</th>\n",
       "      <td>-0.00005</td>\n",
       "      <td>0.09370</td>\n",
       "      <td>0.000000</td>\n",
       "      <td>1.831339</td>\n",
       "      <td>0.0000</td>\n",
       "      <td>0.000000</td>\n",
       "      <td>0.000000</td>\n",
       "      <td>21.263850</td>\n",
       "      <td>4</td>\n",
       "      <td>32</td>\n",
       "      <td>-0.124001</td>\n",
       "      <td>0.390583</td>\n",
       "      <td>0.1</td>\n",
       "      <td>0</td>\n",
       "      <td>0</td>\n",
       "    </tr>\n",
       "    <tr>\n",
       "      <th>2</th>\n",
       "      <td>-0.00061</td>\n",
       "      <td>0.29761</td>\n",
       "      <td>-0.030470</td>\n",
       "      <td>1.845064</td>\n",
       "      <td>-0.0278</td>\n",
       "      <td>-0.024275</td>\n",
       "      <td>-1.523513</td>\n",
       "      <td>-5.043560</td>\n",
       "      <td>4</td>\n",
       "      <td>32</td>\n",
       "      <td>-0.124009</td>\n",
       "      <td>0.394551</td>\n",
       "      <td>0.1</td>\n",
       "      <td>0</td>\n",
       "      <td>0</td>\n",
       "    </tr>\n",
       "    <tr>\n",
       "      <th>3</th>\n",
       "      <td>-0.11072</td>\n",
       "      <td>0.43237</td>\n",
       "      <td>-0.966261</td>\n",
       "      <td>1.363851</td>\n",
       "      <td>-3.8248</td>\n",
       "      <td>-0.440160</td>\n",
       "      <td>22.816403</td>\n",
       "      <td>4.689970</td>\n",
       "      <td>4</td>\n",
       "      <td>32</td>\n",
       "      <td>-0.125485</td>\n",
       "      <td>0.400316</td>\n",
       "      <td>0.1</td>\n",
       "      <td>0</td>\n",
       "      <td>0</td>\n",
       "    </tr>\n",
       "    <tr>\n",
       "      <th>4</th>\n",
       "      <td>-0.09253</td>\n",
       "      <td>0.55347</td>\n",
       "      <td>0.593763</td>\n",
       "      <td>0.755228</td>\n",
       "      <td>-1.9178</td>\n",
       "      <td>0.321507</td>\n",
       "      <td>12.455210</td>\n",
       "      <td>-18.515107</td>\n",
       "      <td>4</td>\n",
       "      <td>32</td>\n",
       "      <td>-0.126719</td>\n",
       "      <td>0.407695</td>\n",
       "      <td>0.1</td>\n",
       "      <td>0</td>\n",
       "      <td>0</td>\n",
       "    </tr>\n",
       "  </tbody>\n",
       "</table>\n",
       "</div>"
      ],
      "text/plain": [
       "         X        Z     VEL_X     VEL_Z     ROT  ANG_VEL_Y      ACC_X  \\\n",
       "0  0.00000  0.00000  0.000000  0.000000  0.0000   0.000000   0.000000   \n",
       "1 -0.00005  0.09370  0.000000  1.831339  0.0000   0.000000   0.000000   \n",
       "2 -0.00061  0.29761 -0.030470  1.845064 -0.0278  -0.024275  -1.523513   \n",
       "3 -0.11072  0.43237 -0.966261  1.363851 -3.8248  -0.440160  22.816403   \n",
       "4 -0.09253  0.55347  0.593763  0.755228 -1.9178   0.321507  12.455210   \n",
       "\n",
       "       ACC_Z  TILE  TILE_IND  X_RELATIVE  Z_RELATIVE  TIME  RACE  GROUP  \n",
       "0   0.000000     4        32    0.000000    0.000000   0.1     0      0  \n",
       "1  21.263850     4        32   -0.124001    0.390583   0.1     0      0  \n",
       "2  -5.043560     4        32   -0.124009    0.394551   0.1     0      0  \n",
       "3   4.689970     4        32   -0.125485    0.400316   0.1     0      0  \n",
       "4 -18.515107     4        32   -0.126719    0.407695   0.1     0      0  "
      ]
     },
     "execution_count": 7,
     "metadata": {},
     "output_type": "execute_result"
    }
   ],
   "source": [
    "df_train.head()"
   ]
  },
  {
   "cell_type": "code",
   "execution_count": 8,
   "id": "e678fb09-6d88-4e8f-8793-5c52ad3987f1",
   "metadata": {
    "tags": []
   },
   "outputs": [],
   "source": [
    "#df_train,df_val,df_test= Generator.split_train_validation_test(united,[\"RACE\",\"GROUP\"])"
   ]
  },
  {
   "cell_type": "code",
   "execution_count": 9,
   "id": "f87d77fd-2c1d-4c38-9211-d08d8f3f8707",
   "metadata": {
    "tags": []
   },
   "outputs": [],
   "source": [
    "#df_train.head()"
   ]
  },
  {
   "cell_type": "code",
   "execution_count": 14,
   "id": "6e38c345",
   "metadata": {
    "tags": []
   },
   "outputs": [
    {
     "name": "stdout",
     "output_type": "stream",
     "text": [
      "Length: 2720316 races: 84 n batches: 2711916 / 512\n",
      "Length: 1286892 races: 42 n batches: 1282692 / 512\n",
      "Length: 1303610 races: 42 n batches: 1299410 / 512\n"
     ]
    }
   ],
   "source": [
    "gen_train=Generator.DataGenerator(BATCH_SIZE,df_train,10000)\n",
    "gen_val=Generator.DataGenerator(BATCH_SIZE,df_val,2600)\n",
    "gen_test=Generator.DataGenerator(BATCH_SIZE,df_test,2600)\n"
   ]
  },
  {
   "cell_type": "code",
   "execution_count": 10,
   "id": "d5bb9f8f",
   "metadata": {
    "tags": []
   },
   "outputs": [],
   "source": [
    "#x_y=gen_test[0]\n",
    "#print(x_y[0][0])\n",
    "#x_y[1][0]\n"
   ]
  },
  {
   "cell_type": "code",
   "execution_count": 11,
   "id": "42420723",
   "metadata": {
    "tags": []
   },
   "outputs": [],
   "source": [
    "#x_y[0][0]"
   ]
  },
  {
   "cell_type": "markdown",
   "id": "1ce93477",
   "metadata": {
    "tags": []
   },
   "source": [
    "### Model definition"
   ]
  },
  {
   "cell_type": "markdown",
   "id": "e9f400a4",
   "metadata": {},
   "source": [
    "#### Train and print"
   ]
  },
  {
   "cell_type": "code",
   "execution_count": 12,
   "id": "2d50ad3a",
   "metadata": {
    "tags": []
   },
   "outputs": [],
   "source": [
    "if(ONE_CAR):\n",
    "    model_definitions.cars=1\n",
    "else:\n",
    "    model_definitions.cars=4\n",
    "model_definitions.features=FEATURES\n",
    "model_definitions.sequence_length=SEQUENCE_LENGTH\n",
    "model_definitions.feat_pred=FEATURES_PREDICTED"
   ]
  },
  {
   "cell_type": "markdown",
   "id": "b1d92d02-082b-47d0-9a36-b42cf8349a43",
   "metadata": {
    "jp-MarkdownHeadingCollapsed": true,
    "tags": []
   },
   "source": [
    "### Rules Model"
   ]
  },
  {
   "cell_type": "code",
   "execution_count": null,
   "id": "cb53b762",
   "metadata": {},
   "outputs": [],
   "source": [
    "lstm,history=LSTM_Train(2,SEQUENCE_LENGTH,4,rules_train,rules_val,learning_rate=0.01,epoch=100, dropout=0.2, cells=6 )\n",
    "\n",
    "ev=lstm.evaluate(rules_test,verbose=0)\n",
    "print(f\"Loss: {ev[0]} MAE: {ev[1]} Accuracy: {ev[2]}\")"
   ]
  },
  {
   "cell_type": "code",
   "execution_count": null,
   "id": "bd1b77a7",
   "metadata": {},
   "outputs": [],
   "source": [
    "lstm2,history=LSTM_Train(2,SEQUENCE_LENGTH,4,rules_train,rules_val,learning_rate=0.002,epoch=100, dropout=0.02, cells=1)\n",
    "\n",
    "ev=lstm2.evaluate(rules_test,verbose=0)\n",
    "print(f\"Loss: {ev[0]} MAE: {ev[1]} Accuracy: {ev[2]}\")"
   ]
  },
  {
   "cell_type": "code",
   "execution_count": null,
   "id": "acc81020",
   "metadata": {},
   "outputs": [],
   "source": [
    "mlp,history=MLP_Train(2,SEQUENCE_LENGTH,4,rules_train,rules_val,learning_rate=0.001,epoch=100)\n",
    "\n",
    "ev=mlp.evaluate(rules_test,verbose=0)\n",
    "print(f\"Loss: {ev[0]} MAE: {ev[1]} Accuracy: {ev[2]}\")"
   ]
  },
  {
   "cell_type": "code",
   "execution_count": null,
   "id": "62dedac7",
   "metadata": {},
   "outputs": [],
   "source": [
    "siamese,history=LSTM_Siamese_Train(2,SEQUENCE_LENGTH,4,rules_train,rules_val,learning_rate=0.001,epoch=100, dropout=0.02, cells=2 )\n",
    "\n",
    "ev=siamese.evaluate(rules_test,verbose=0)\n",
    "print(f\"Loss: {ev[0]} MAE: {ev[1]} Accuracy: {ev[2]}\")"
   ]
  },
  {
   "cell_type": "markdown",
   "id": "995fbcaa",
   "metadata": {
    "tags": []
   },
   "source": [
    "### Physichs Model"
   ]
  },
  {
   "cell_type": "markdown",
   "id": "543ee461",
   "metadata": {},
   "source": [
    "Since physichs data can be very small, Each data is multiply by 10 "
   ]
  },
  {
   "cell_type": "code",
   "execution_count": 14,
   "id": "49bc5a7d",
   "metadata": {
    "collapsed": true,
    "jupyter": {
     "outputs_hidden": true
    },
    "tags": []
   },
   "outputs": [
    {
     "name": "stdout",
     "output_type": "stream",
     "text": [
      "Epoch 1/10\n",
      "5158/5158 [==============================] - 1237s 240ms/step - loss: 12.4075 - mean_absolute_error: 1.3992 - accuracy: 0.0000e+00 - val_loss: 1.7049 - val_mean_absolute_error: 0.8486 - val_accuracy: 0.0000e+00 - lr: 1.0000e-04\n",
      "Epoch 2/10\n",
      "5158/5158 [==============================] - 1758s 341ms/step - loss: 1.3769 - mean_absolute_error: 0.7643 - accuracy: 0.0000e+00 - val_loss: 1.2612 - val_mean_absolute_error: 0.7272 - val_accuracy: 0.0000e+00 - lr: 1.0000e-04\n",
      "Epoch 3/10\n",
      "5158/5158 [==============================] - 1663s 322ms/step - loss: 1.2098 - mean_absolute_error: 0.7139 - accuracy: 0.0000e+00 - val_loss: 1.2066 - val_mean_absolute_error: 0.7096 - val_accuracy: 0.0000e+00 - lr: 1.0000e-04\n",
      "Epoch 4/10\n",
      "5158/5158 [==============================] - 1689s 327ms/step - loss: 1.1864 - mean_absolute_error: 0.7058 - accuracy: 0.0000e+00 - val_loss: 1.1945 - val_mean_absolute_error: 0.7048 - val_accuracy: 0.0000e+00 - lr: 1.0000e-04\n",
      "Epoch 5/10\n",
      "5158/5158 [==============================] - 1635s 317ms/step - loss: 1.1795 - mean_absolute_error: 0.7028 - accuracy: 0.0000e+00 - val_loss: 1.1897 - val_mean_absolute_error: 0.7025 - val_accuracy: 0.0000e+00 - lr: 1.0000e-04\n",
      "Epoch 6/10\n",
      " 403/5158 [=>............................] - ETA: 15:29 - loss: 1.5216 - mean_absolute_error: 0.7194 - accuracy: 0.0000e+00"
     ]
    }
   ],
   "source": [
    "NAME=f\"MLP_DISCARD_{DISCARD}_DELTA_LONG_TRAIN\"\n",
    "mlp_ph,history_mlp_ph=model_definitions.MLP_Train(gen_train,gen_val,learning_rate=0.0001,epoch=1000,verbose=1,name=NAME,path=\"logs\")\n",
    "\n",
    "ev=mlp_ph.evaluate(gen_test,verbose=0)\n",
    "print(f\"Loss: {ev[0]} MAE: {ev[1]} Accuracy: {ev[2]}\")\n",
    "tf.saved_model.save(mlp_ph,f'saved_model/{NAME}')"
   ]
  },
  {
   "cell_type": "code",
   "execution_count": 13,
   "id": "220477fd-dcf0-43ba-8a66-75e4d7745bca",
   "metadata": {
    "collapsed": true,
    "jupyter": {
     "outputs_hidden": true,
     "source_hidden": true
    },
    "tags": []
   },
   "outputs": [
    {
     "name": "stdout",
     "output_type": "stream",
     "text": [
      "Epoch 1/10\n",
      "5655/5655 [==============================] - 2340s 413ms/step - loss: 0.9373 - mean_absolute_error: 0.6307 - accuracy: 4.6051e-08 - val_loss: 0.7536 - val_mean_absolute_error: 0.5764 - val_accuracy: 9.2807e-08 - lr: 1.0000e-04\n",
      "Epoch 2/10\n",
      "5655/5655 [==============================] - 2301s 407ms/step - loss: 0.5683 - mean_absolute_error: 0.5047 - accuracy: 0.0000e+00 - val_loss: 0.4222 - val_mean_absolute_error: 0.4416 - val_accuracy: 0.0000e+00 - lr: 1.0000e-04\n",
      "Epoch 3/10\n",
      "5655/5655 [==============================] - 2333s 412ms/step - loss: 0.3508 - mean_absolute_error: 0.4066 - accuracy: 0.0000e+00 - val_loss: 0.2898 - val_mean_absolute_error: 0.3652 - val_accuracy: 0.0000e+00 - lr: 1.0000e-04\n",
      "Epoch 4/10\n",
      "5655/5655 [==============================] - 2304s 407ms/step - loss: 0.2785 - mean_absolute_error: 0.3564 - accuracy: 0.0000e+00 - val_loss: 0.2501 - val_mean_absolute_error: 0.3341 - val_accuracy: 0.0000e+00 - lr: 1.0000e-04\n",
      "Epoch 5/10\n",
      "5655/5655 [==============================] - 2358s 417ms/step - loss: 0.2492 - mean_absolute_error: 0.3322 - accuracy: 0.0000e+00 - val_loss: 0.2283 - val_mean_absolute_error: 0.3162 - val_accuracy: 9.2807e-08 - lr: 1.0000e-04\n",
      "Epoch 6/10\n",
      "5655/5655 [==============================] - 2466s 436ms/step - loss: 0.2300 - mean_absolute_error: 0.3151 - accuracy: 0.0000e+00 - val_loss: 0.2080 - val_mean_absolute_error: 0.2971 - val_accuracy: 1.8561e-07 - lr: 1.0000e-04\n",
      "Epoch 7/10\n",
      "5655/5655 [==============================] - 2512s 444ms/step - loss: 0.2161 - mean_absolute_error: 0.3028 - accuracy: 9.2101e-08 - val_loss: 0.1974 - val_mean_absolute_error: 0.2864 - val_accuracy: 0.0000e+00 - lr: 1.0000e-04\n",
      "Epoch 8/10\n",
      "5655/5655 [==============================] - 2464s 435ms/step - loss: 0.2077 - mean_absolute_error: 0.2960 - accuracy: 1.3815e-07 - val_loss: 0.1914 - val_mean_absolute_error: 0.2817 - val_accuracy: 1.8561e-07 - lr: 1.0000e-04\n",
      "Epoch 9/10\n",
      "5655/5655 [==============================] - ETA: 0s - loss: 0.2018 - mean_absolute_error: 0.2917 - accuracy: 9.2101e-08\n",
      "Epoch 9: ReduceLROnPlateau reducing learning rate to 4.999999873689376e-05.\n",
      "5655/5655 [==============================] - 2447s 432ms/step - loss: 0.2018 - mean_absolute_error: 0.2917 - accuracy: 9.2101e-08 - val_loss: 0.1879 - val_mean_absolute_error: 0.2795 - val_accuracy: 1.8561e-07 - lr: 1.0000e-04\n",
      "Epoch 10/10\n",
      "5655/5655 [==============================] - 2378s 420ms/step - loss: 0.1990 - mean_absolute_error: 0.2894 - accuracy: 4.6051e-08 - val_loss: 0.1838 - val_mean_absolute_error: 0.2764 - val_accuracy: 0.0000e+00 - lr: 5.0000e-05\n",
      "Loss: 0.17942017316818237 MAE: 0.27068328857421875 Accuracy: 9.277401602503232e-08\n"
     ]
    },
    {
     "name": "stderr",
     "output_type": "stream",
     "text": [
      "WARNING:absl:Found untraced functions such as _jit_compiled_convolution_op, lstm_cell_layer_call_fn, lstm_cell_layer_call_and_return_conditional_losses while saving (showing 3 of 3). These functions will not be directly callable after loading.\n"
     ]
    },
    {
     "name": "stdout",
     "output_type": "stream",
     "text": [
      "INFO:tensorflow:Assets written to: saved_model/CNN_LSTM32_1_32_PosAssoluta\\assets\n"
     ]
    },
    {
     "name": "stderr",
     "output_type": "stream",
     "text": [
      "INFO:tensorflow:Assets written to: saved_model/CNN_LSTM32_1_32_PosAssoluta\\assets\n"
     ]
    }
   ],
   "source": [
    "units=32\n",
    "kernel_size=1\n",
    "filters=32\n",
    "normalization=False\n",
    "cnn_lstm,history_cnn_lstm=model_definitions.CNN_LSTM_Train(gen_train,gen_val,learning_rate=0.0001,patience=10,name=f\"CNN{filters}_{kernel_size}LSTM{units}_Norm{normalization}\",\n",
    "                                                           path=\"logs_350SequenceLength\",epoch=10, dropout=0.2,units=units,kernel_size=kernel_size,\n",
    "                                                           filters=filters, normalization=normalization,verbose=1\n",
    "                                                          )\n",
    "\n",
    "ev=cnn_lstm.evaluate(gen_test,verbose=0)\n",
    "print(f\"Loss: {ev[0]} MAE: {ev[1]} Accuracy: {ev[2]}\")\n",
    "\n",
    "tf.saved_model.save(cnn_lstm,f'saved_model/CNN_LSTM{units}_{kernel_size}_{filters}_PosAssoluta')"
   ]
  },
  {
   "cell_type": "code",
   "execution_count": 15,
   "id": "9695dc32",
   "metadata": {
    "tags": []
   },
   "outputs": [
    {
     "name": "stdout",
     "output_type": "stream",
     "text": [
      "Epoch 1/100\n",
      "5293/5294 [============================>.] - ETA: 0s - loss: 1.5367 - mean_absolute_error: 0.6437 - accuracy: 1.2300e-07"
     ]
    },
    {
     "name": "stderr",
     "output_type": "stream",
     "text": [
      "WARNING:absl:Found untraced functions such as lstm_cell_13_layer_call_fn, lstm_cell_13_layer_call_and_return_conditional_losses, lstm_cell_14_layer_call_fn, lstm_cell_14_layer_call_and_return_conditional_losses, lstm_cell_15_layer_call_fn while saving (showing 5 of 8). These functions will not be directly callable after loading.\n"
     ]
    },
    {
     "name": "stdout",
     "output_type": "stream",
     "text": [
      "INFO:tensorflow:Assets written to: ./new_split_Tile_info_DISCARD4/LSTM3_64_0.0001_4_MLP_12_64/tmp\\checkpoint\\assets\n"
     ]
    },
    {
     "name": "stderr",
     "output_type": "stream",
     "text": [
      "INFO:tensorflow:Assets written to: ./new_split_Tile_info_DISCARD4/LSTM3_64_0.0001_4_MLP_12_64/tmp\\checkpoint\\assets\n"
     ]
    },
    {
     "name": "stdout",
     "output_type": "stream",
     "text": [
      "5294/5294 [==============================] - 606s 114ms/step - loss: 1.5366 - mean_absolute_error: 0.6436 - accuracy: 1.2298e-07 - val_loss: 2.6063 - val_mean_absolute_error: 0.8054 - val_accuracy: 0.0000e+00 - lr: 1.0000e-04\n",
      "Epoch 2/100\n",
      "5293/5294 [============================>.] - ETA: 0s - loss: 0.7148 - mean_absolute_error: 0.4549 - accuracy: 1.8450e-07"
     ]
    },
    {
     "name": "stderr",
     "output_type": "stream",
     "text": [
      "WARNING:absl:Found untraced functions such as lstm_cell_13_layer_call_fn, lstm_cell_13_layer_call_and_return_conditional_losses, lstm_cell_14_layer_call_fn, lstm_cell_14_layer_call_and_return_conditional_losses, lstm_cell_15_layer_call_fn while saving (showing 5 of 8). These functions will not be directly callable after loading.\n"
     ]
    },
    {
     "name": "stdout",
     "output_type": "stream",
     "text": [
      "INFO:tensorflow:Assets written to: ./new_split_Tile_info_DISCARD4/LSTM3_64_0.0001_4_MLP_12_64/tmp\\checkpoint\\assets\n"
     ]
    },
    {
     "name": "stderr",
     "output_type": "stream",
     "text": [
      "INFO:tensorflow:Assets written to: ./new_split_Tile_info_DISCARD4/LSTM3_64_0.0001_4_MLP_12_64/tmp\\checkpoint\\assets\n"
     ]
    },
    {
     "name": "stdout",
     "output_type": "stream",
     "text": [
      "5294/5294 [==============================] - 595s 112ms/step - loss: 0.7148 - mean_absolute_error: 0.4548 - accuracy: 1.8447e-07 - val_loss: 2.2538 - val_mean_absolute_error: 0.7389 - val_accuracy: 0.0000e+00 - lr: 1.0000e-04\n",
      "Epoch 3/100\n",
      "5294/5294 [==============================] - ETA: 0s - loss: 0.6020 - mean_absolute_error: 0.4047 - accuracy: 2.4595e-07"
     ]
    },
    {
     "name": "stderr",
     "output_type": "stream",
     "text": [
      "WARNING:absl:Found untraced functions such as lstm_cell_13_layer_call_fn, lstm_cell_13_layer_call_and_return_conditional_losses, lstm_cell_14_layer_call_fn, lstm_cell_14_layer_call_and_return_conditional_losses, lstm_cell_15_layer_call_fn while saving (showing 5 of 8). These functions will not be directly callable after loading.\n"
     ]
    },
    {
     "name": "stdout",
     "output_type": "stream",
     "text": [
      "INFO:tensorflow:Assets written to: ./new_split_Tile_info_DISCARD4/LSTM3_64_0.0001_4_MLP_12_64/tmp\\checkpoint\\assets\n"
     ]
    },
    {
     "name": "stderr",
     "output_type": "stream",
     "text": [
      "INFO:tensorflow:Assets written to: ./new_split_Tile_info_DISCARD4/LSTM3_64_0.0001_4_MLP_12_64/tmp\\checkpoint\\assets\n"
     ]
    },
    {
     "name": "stdout",
     "output_type": "stream",
     "text": [
      "5294/5294 [==============================] - 590s 111ms/step - loss: 0.6020 - mean_absolute_error: 0.4047 - accuracy: 2.4595e-07 - val_loss: 2.0547 - val_mean_absolute_error: 0.7032 - val_accuracy: 1.3005e-07 - lr: 1.0000e-04\n",
      "Epoch 4/100\n",
      "5294/5294 [==============================] - 582s 110ms/step - loss: 0.5435 - mean_absolute_error: 0.3781 - accuracy: 1.8447e-07 - val_loss: 2.0610 - val_mean_absolute_error: 0.7071 - val_accuracy: 2.6010e-07 - lr: 1.0000e-04\n",
      "Epoch 5/100\n",
      "5293/5294 [============================>.] - ETA: 0s - loss: 0.5073 - mean_absolute_error: 0.3602 - accuracy: 7.3800e-07"
     ]
    },
    {
     "name": "stderr",
     "output_type": "stream",
     "text": [
      "WARNING:absl:Found untraced functions such as lstm_cell_13_layer_call_fn, lstm_cell_13_layer_call_and_return_conditional_losses, lstm_cell_14_layer_call_fn, lstm_cell_14_layer_call_and_return_conditional_losses, lstm_cell_15_layer_call_fn while saving (showing 5 of 8). These functions will not be directly callable after loading.\n"
     ]
    },
    {
     "name": "stdout",
     "output_type": "stream",
     "text": [
      "INFO:tensorflow:Assets written to: ./new_split_Tile_info_DISCARD4/LSTM3_64_0.0001_4_MLP_12_64/tmp\\checkpoint\\assets\n"
     ]
    },
    {
     "name": "stderr",
     "output_type": "stream",
     "text": [
      "INFO:tensorflow:Assets written to: ./new_split_Tile_info_DISCARD4/LSTM3_64_0.0001_4_MLP_12_64/tmp\\checkpoint\\assets\n"
     ]
    },
    {
     "name": "stdout",
     "output_type": "stream",
     "text": [
      "5294/5294 [==============================] - 592s 112ms/step - loss: 0.5073 - mean_absolute_error: 0.3602 - accuracy: 7.3786e-07 - val_loss: 1.9204 - val_mean_absolute_error: 0.6651 - val_accuracy: 0.0000e+00 - lr: 1.0000e-04\n",
      "Epoch 6/100\n",
      "5293/5294 [============================>.] - ETA: 0s - loss: 0.4777 - mean_absolute_error: 0.3471 - accuracy: 1.8450e-07"
     ]
    },
    {
     "name": "stderr",
     "output_type": "stream",
     "text": [
      "WARNING:absl:Found untraced functions such as lstm_cell_13_layer_call_fn, lstm_cell_13_layer_call_and_return_conditional_losses, lstm_cell_14_layer_call_fn, lstm_cell_14_layer_call_and_return_conditional_losses, lstm_cell_15_layer_call_fn while saving (showing 5 of 8). These functions will not be directly callable after loading.\n"
     ]
    },
    {
     "name": "stdout",
     "output_type": "stream",
     "text": [
      "INFO:tensorflow:Assets written to: ./new_split_Tile_info_DISCARD4/LSTM3_64_0.0001_4_MLP_12_64/tmp\\checkpoint\\assets\n"
     ]
    },
    {
     "name": "stderr",
     "output_type": "stream",
     "text": [
      "INFO:tensorflow:Assets written to: ./new_split_Tile_info_DISCARD4/LSTM3_64_0.0001_4_MLP_12_64/tmp\\checkpoint\\assets\n"
     ]
    },
    {
     "name": "stdout",
     "output_type": "stream",
     "text": [
      "5294/5294 [==============================] - 592s 112ms/step - loss: 0.4777 - mean_absolute_error: 0.3471 - accuracy: 1.8447e-07 - val_loss: 1.8302 - val_mean_absolute_error: 0.6404 - val_accuracy: 0.0000e+00 - lr: 1.0000e-04\n",
      "Epoch 7/100\n",
      "5293/5294 [============================>.] - ETA: 0s - loss: 0.4552 - mean_absolute_error: 0.3370 - accuracy: 1.8450e-07"
     ]
    },
    {
     "name": "stderr",
     "output_type": "stream",
     "text": [
      "WARNING:absl:Found untraced functions such as lstm_cell_13_layer_call_fn, lstm_cell_13_layer_call_and_return_conditional_losses, lstm_cell_14_layer_call_fn, lstm_cell_14_layer_call_and_return_conditional_losses, lstm_cell_15_layer_call_fn while saving (showing 5 of 8). These functions will not be directly callable after loading.\n"
     ]
    },
    {
     "name": "stdout",
     "output_type": "stream",
     "text": [
      "INFO:tensorflow:Assets written to: ./new_split_Tile_info_DISCARD4/LSTM3_64_0.0001_4_MLP_12_64/tmp\\checkpoint\\assets\n"
     ]
    },
    {
     "name": "stderr",
     "output_type": "stream",
     "text": [
      "INFO:tensorflow:Assets written to: ./new_split_Tile_info_DISCARD4/LSTM3_64_0.0001_4_MLP_12_64/tmp\\checkpoint\\assets\n"
     ]
    },
    {
     "name": "stdout",
     "output_type": "stream",
     "text": [
      "5294/5294 [==============================] - 591s 112ms/step - loss: 0.4552 - mean_absolute_error: 0.3370 - accuracy: 1.8447e-07 - val_loss: 1.6235 - val_mean_absolute_error: 0.5982 - val_accuracy: 0.0000e+00 - lr: 1.0000e-04\n",
      "Epoch 8/100\n",
      "5293/5294 [============================>.] - ETA: 0s - loss: 0.4392 - mean_absolute_error: 0.3290 - accuracy: 5.5350e-07"
     ]
    },
    {
     "name": "stderr",
     "output_type": "stream",
     "text": [
      "WARNING:absl:Found untraced functions such as lstm_cell_13_layer_call_fn, lstm_cell_13_layer_call_and_return_conditional_losses, lstm_cell_14_layer_call_fn, lstm_cell_14_layer_call_and_return_conditional_losses, lstm_cell_15_layer_call_fn while saving (showing 5 of 8). These functions will not be directly callable after loading.\n"
     ]
    },
    {
     "name": "stdout",
     "output_type": "stream",
     "text": [
      "INFO:tensorflow:Assets written to: ./new_split_Tile_info_DISCARD4/LSTM3_64_0.0001_4_MLP_12_64/tmp\\checkpoint\\assets\n"
     ]
    },
    {
     "name": "stderr",
     "output_type": "stream",
     "text": [
      "INFO:tensorflow:Assets written to: ./new_split_Tile_info_DISCARD4/LSTM3_64_0.0001_4_MLP_12_64/tmp\\checkpoint\\assets\n"
     ]
    },
    {
     "name": "stdout",
     "output_type": "stream",
     "text": [
      "5294/5294 [==============================] - 597s 113ms/step - loss: 0.4392 - mean_absolute_error: 0.3290 - accuracy: 5.5340e-07 - val_loss: 1.6145 - val_mean_absolute_error: 0.5929 - val_accuracy: 0.0000e+00 - lr: 1.0000e-04\n",
      "Epoch 9/100\n",
      "5294/5294 [==============================] - ETA: 0s - loss: 0.4242 - mean_absolute_error: 0.3221 - accuracy: 4.3042e-07"
     ]
    },
    {
     "name": "stderr",
     "output_type": "stream",
     "text": [
      "WARNING:absl:Found untraced functions such as lstm_cell_13_layer_call_fn, lstm_cell_13_layer_call_and_return_conditional_losses, lstm_cell_14_layer_call_fn, lstm_cell_14_layer_call_and_return_conditional_losses, lstm_cell_15_layer_call_fn while saving (showing 5 of 8). These functions will not be directly callable after loading.\n"
     ]
    },
    {
     "name": "stdout",
     "output_type": "stream",
     "text": [
      "INFO:tensorflow:Assets written to: ./new_split_Tile_info_DISCARD4/LSTM3_64_0.0001_4_MLP_12_64/tmp\\checkpoint\\assets\n"
     ]
    },
    {
     "name": "stderr",
     "output_type": "stream",
     "text": [
      "INFO:tensorflow:Assets written to: ./new_split_Tile_info_DISCARD4/LSTM3_64_0.0001_4_MLP_12_64/tmp\\checkpoint\\assets\n"
     ]
    },
    {
     "name": "stdout",
     "output_type": "stream",
     "text": [
      "5294/5294 [==============================] - 595s 112ms/step - loss: 0.4242 - mean_absolute_error: 0.3221 - accuracy: 4.3042e-07 - val_loss: 1.5166 - val_mean_absolute_error: 0.5698 - val_accuracy: 5.2021e-07 - lr: 1.0000e-04\n",
      "Epoch 10/100\n",
      "5294/5294 [==============================] - ETA: 0s - loss: 0.4130 - mean_absolute_error: 0.3165 - accuracy: 5.5340e-07"
     ]
    },
    {
     "name": "stderr",
     "output_type": "stream",
     "text": [
      "WARNING:absl:Found untraced functions such as lstm_cell_13_layer_call_fn, lstm_cell_13_layer_call_and_return_conditional_losses, lstm_cell_14_layer_call_fn, lstm_cell_14_layer_call_and_return_conditional_losses, lstm_cell_15_layer_call_fn while saving (showing 5 of 8). These functions will not be directly callable after loading.\n"
     ]
    },
    {
     "name": "stdout",
     "output_type": "stream",
     "text": [
      "INFO:tensorflow:Assets written to: ./new_split_Tile_info_DISCARD4/LSTM3_64_0.0001_4_MLP_12_64/tmp\\checkpoint\\assets\n"
     ]
    },
    {
     "name": "stderr",
     "output_type": "stream",
     "text": [
      "INFO:tensorflow:Assets written to: ./new_split_Tile_info_DISCARD4/LSTM3_64_0.0001_4_MLP_12_64/tmp\\checkpoint\\assets\n"
     ]
    },
    {
     "name": "stdout",
     "output_type": "stream",
     "text": [
      "5294/5294 [==============================] - 591s 111ms/step - loss: 0.4130 - mean_absolute_error: 0.3165 - accuracy: 5.5340e-07 - val_loss: 1.3832 - val_mean_absolute_error: 0.5492 - val_accuracy: 0.0000e+00 - lr: 1.0000e-04\n",
      "Epoch 11/100\n",
      "5293/5294 [============================>.] - ETA: 0s - loss: 0.4022 - mean_absolute_error: 0.3116 - accuracy: 1.0455e-06"
     ]
    },
    {
     "name": "stderr",
     "output_type": "stream",
     "text": [
      "WARNING:absl:Found untraced functions such as lstm_cell_13_layer_call_fn, lstm_cell_13_layer_call_and_return_conditional_losses, lstm_cell_14_layer_call_fn, lstm_cell_14_layer_call_and_return_conditional_losses, lstm_cell_15_layer_call_fn while saving (showing 5 of 8). These functions will not be directly callable after loading.\n"
     ]
    },
    {
     "name": "stdout",
     "output_type": "stream",
     "text": [
      "INFO:tensorflow:Assets written to: ./new_split_Tile_info_DISCARD4/LSTM3_64_0.0001_4_MLP_12_64/tmp\\checkpoint\\assets\n"
     ]
    },
    {
     "name": "stderr",
     "output_type": "stream",
     "text": [
      "INFO:tensorflow:Assets written to: ./new_split_Tile_info_DISCARD4/LSTM3_64_0.0001_4_MLP_12_64/tmp\\checkpoint\\assets\n"
     ]
    },
    {
     "name": "stdout",
     "output_type": "stream",
     "text": [
      "5294/5294 [==============================] - 593s 112ms/step - loss: 0.4022 - mean_absolute_error: 0.3116 - accuracy: 1.0453e-06 - val_loss: 1.3824 - val_mean_absolute_error: 0.5344 - val_accuracy: 2.6010e-07 - lr: 1.0000e-04\n",
      "Epoch 12/100\n",
      "5294/5294 [==============================] - 588s 111ms/step - loss: 0.3942 - mean_absolute_error: 0.3080 - accuracy: 4.3042e-07 - val_loss: 1.5928 - val_mean_absolute_error: 0.5729 - val_accuracy: 3.9016e-07 - lr: 1.0000e-04\n",
      "Epoch 13/100\n",
      "5294/5294 [==============================] - 585s 110ms/step - loss: 0.3861 - mean_absolute_error: 0.3038 - accuracy: 3.6893e-07 - val_loss: 1.3910 - val_mean_absolute_error: 0.5421 - val_accuracy: 3.9016e-07 - lr: 1.0000e-04\n",
      "Epoch 14/100\n",
      "5293/5294 [============================>.] - ETA: 0s - loss: 0.3806 - mean_absolute_error: 0.3007 - accuracy: 7.9950e-07"
     ]
    },
    {
     "name": "stderr",
     "output_type": "stream",
     "text": [
      "WARNING:absl:Found untraced functions such as lstm_cell_13_layer_call_fn, lstm_cell_13_layer_call_and_return_conditional_losses, lstm_cell_14_layer_call_fn, lstm_cell_14_layer_call_and_return_conditional_losses, lstm_cell_15_layer_call_fn while saving (showing 5 of 8). These functions will not be directly callable after loading.\n"
     ]
    },
    {
     "name": "stdout",
     "output_type": "stream",
     "text": [
      "INFO:tensorflow:Assets written to: ./new_split_Tile_info_DISCARD4/LSTM3_64_0.0001_4_MLP_12_64/tmp\\checkpoint\\assets\n"
     ]
    },
    {
     "name": "stderr",
     "output_type": "stream",
     "text": [
      "INFO:tensorflow:Assets written to: ./new_split_Tile_info_DISCARD4/LSTM3_64_0.0001_4_MLP_12_64/tmp\\checkpoint\\assets\n"
     ]
    },
    {
     "name": "stdout",
     "output_type": "stream",
     "text": [
      "5294/5294 [==============================] - 593s 112ms/step - loss: 0.3805 - mean_absolute_error: 0.3007 - accuracy: 7.9935e-07 - val_loss: 1.2966 - val_mean_absolute_error: 0.5199 - val_accuracy: 2.6010e-07 - lr: 1.0000e-04\n",
      "Epoch 15/100\n",
      "5294/5294 [==============================] - 582s 110ms/step - loss: 0.3728 - mean_absolute_error: 0.2981 - accuracy: 4.3042e-07 - val_loss: 1.3949 - val_mean_absolute_error: 0.5342 - val_accuracy: 1.3005e-07 - lr: 1.0000e-04\n",
      "Epoch 16/100\n",
      "5293/5294 [============================>.] - ETA: 0s - loss: 0.3686 - mean_absolute_error: 0.2956 - accuracy: 1.2300e-07"
     ]
    },
    {
     "name": "stderr",
     "output_type": "stream",
     "text": [
      "WARNING:absl:Found untraced functions such as lstm_cell_13_layer_call_fn, lstm_cell_13_layer_call_and_return_conditional_losses, lstm_cell_14_layer_call_fn, lstm_cell_14_layer_call_and_return_conditional_losses, lstm_cell_15_layer_call_fn while saving (showing 5 of 8). These functions will not be directly callable after loading.\n"
     ]
    },
    {
     "name": "stdout",
     "output_type": "stream",
     "text": [
      "INFO:tensorflow:Assets written to: ./new_split_Tile_info_DISCARD4/LSTM3_64_0.0001_4_MLP_12_64/tmp\\checkpoint\\assets\n"
     ]
    },
    {
     "name": "stderr",
     "output_type": "stream",
     "text": [
      "INFO:tensorflow:Assets written to: ./new_split_Tile_info_DISCARD4/LSTM3_64_0.0001_4_MLP_12_64/tmp\\checkpoint\\assets\n"
     ]
    },
    {
     "name": "stdout",
     "output_type": "stream",
     "text": [
      "5294/5294 [==============================] - 594s 112ms/step - loss: 0.3686 - mean_absolute_error: 0.2956 - accuracy: 1.2298e-07 - val_loss: 1.2342 - val_mean_absolute_error: 0.5055 - val_accuracy: 0.0000e+00 - lr: 1.0000e-04\n",
      "Epoch 17/100\n",
      "5294/5294 [==============================] - 586s 111ms/step - loss: 0.3660 - mean_absolute_error: 0.2937 - accuracy: 3.6893e-07 - val_loss: 1.3373 - val_mean_absolute_error: 0.5114 - val_accuracy: 3.9016e-07 - lr: 1.0000e-04\n",
      "Epoch 18/100\n",
      "5294/5294 [==============================] - 582s 110ms/step - loss: 0.3619 - mean_absolute_error: 0.2916 - accuracy: 6.7638e-07 - val_loss: 1.2427 - val_mean_absolute_error: 0.5024 - val_accuracy: 1.0404e-06 - lr: 1.0000e-04\n",
      "Epoch 19/100\n",
      "5293/5294 [============================>.] - ETA: 0s - loss: 0.3564 - mean_absolute_error: 0.2892 - accuracy: 7.3800e-07"
     ]
    },
    {
     "name": "stderr",
     "output_type": "stream",
     "text": [
      "WARNING:absl:Found untraced functions such as lstm_cell_13_layer_call_fn, lstm_cell_13_layer_call_and_return_conditional_losses, lstm_cell_14_layer_call_fn, lstm_cell_14_layer_call_and_return_conditional_losses, lstm_cell_15_layer_call_fn while saving (showing 5 of 8). These functions will not be directly callable after loading.\n"
     ]
    },
    {
     "name": "stdout",
     "output_type": "stream",
     "text": [
      "INFO:tensorflow:Assets written to: ./new_split_Tile_info_DISCARD4/LSTM3_64_0.0001_4_MLP_12_64/tmp\\checkpoint\\assets\n"
     ]
    },
    {
     "name": "stderr",
     "output_type": "stream",
     "text": [
      "INFO:tensorflow:Assets written to: ./new_split_Tile_info_DISCARD4/LSTM3_64_0.0001_4_MLP_12_64/tmp\\checkpoint\\assets\n"
     ]
    },
    {
     "name": "stdout",
     "output_type": "stream",
     "text": [
      "5294/5294 [==============================] - 594s 112ms/step - loss: 0.3564 - mean_absolute_error: 0.2892 - accuracy: 7.3786e-07 - val_loss: 1.1498 - val_mean_absolute_error: 0.4868 - val_accuracy: 2.6010e-07 - lr: 1.0000e-04\n",
      "Epoch 20/100\n",
      "5294/5294 [==============================] - 584s 110ms/step - loss: 0.3525 - mean_absolute_error: 0.2877 - accuracy: 3.0744e-07 - val_loss: 1.1728 - val_mean_absolute_error: 0.4880 - val_accuracy: 9.1037e-07 - lr: 1.0000e-04\n",
      "Epoch 21/100\n",
      "5294/5294 [==============================] - 583s 110ms/step - loss: 0.3488 - mean_absolute_error: 0.2854 - accuracy: 6.7638e-07 - val_loss: 1.1689 - val_mean_absolute_error: 0.4910 - val_accuracy: 1.3005e-07 - lr: 1.0000e-04\n",
      "Epoch 22/100\n",
      "5294/5294 [==============================] - ETA: 0s - loss: 0.3454 - mean_absolute_error: 0.2843 - accuracy: 7.9935e-07"
     ]
    },
    {
     "name": "stderr",
     "output_type": "stream",
     "text": [
      "WARNING:absl:Found untraced functions such as lstm_cell_13_layer_call_fn, lstm_cell_13_layer_call_and_return_conditional_losses, lstm_cell_14_layer_call_fn, lstm_cell_14_layer_call_and_return_conditional_losses, lstm_cell_15_layer_call_fn while saving (showing 5 of 8). These functions will not be directly callable after loading.\n"
     ]
    },
    {
     "name": "stdout",
     "output_type": "stream",
     "text": [
      "INFO:tensorflow:Assets written to: ./new_split_Tile_info_DISCARD4/LSTM3_64_0.0001_4_MLP_12_64/tmp\\checkpoint\\assets\n"
     ]
    },
    {
     "name": "stderr",
     "output_type": "stream",
     "text": [
      "INFO:tensorflow:Assets written to: ./new_split_Tile_info_DISCARD4/LSTM3_64_0.0001_4_MLP_12_64/tmp\\checkpoint\\assets\n"
     ]
    },
    {
     "name": "stdout",
     "output_type": "stream",
     "text": [
      "5294/5294 [==============================] - 594s 112ms/step - loss: 0.3454 - mean_absolute_error: 0.2843 - accuracy: 7.9935e-07 - val_loss: 1.0388 - val_mean_absolute_error: 0.4597 - val_accuracy: 2.6010e-07 - lr: 1.0000e-04\n",
      "Epoch 23/100\n",
      "5293/5294 [============================>.] - ETA: 0s - loss: 0.3445 - mean_absolute_error: 0.2829 - accuracy: 3.6900e-07"
     ]
    },
    {
     "name": "stderr",
     "output_type": "stream",
     "text": [
      "WARNING:absl:Found untraced functions such as lstm_cell_13_layer_call_fn, lstm_cell_13_layer_call_and_return_conditional_losses, lstm_cell_14_layer_call_fn, lstm_cell_14_layer_call_and_return_conditional_losses, lstm_cell_15_layer_call_fn while saving (showing 5 of 8). These functions will not be directly callable after loading.\n"
     ]
    },
    {
     "name": "stdout",
     "output_type": "stream",
     "text": [
      "INFO:tensorflow:Assets written to: ./new_split_Tile_info_DISCARD4/LSTM3_64_0.0001_4_MLP_12_64/tmp\\checkpoint\\assets\n"
     ]
    },
    {
     "name": "stderr",
     "output_type": "stream",
     "text": [
      "INFO:tensorflow:Assets written to: ./new_split_Tile_info_DISCARD4/LSTM3_64_0.0001_4_MLP_12_64/tmp\\checkpoint\\assets\n"
     ]
    },
    {
     "name": "stdout",
     "output_type": "stream",
     "text": [
      "5294/5294 [==============================] - 592s 112ms/step - loss: 0.3445 - mean_absolute_error: 0.2829 - accuracy: 3.6893e-07 - val_loss: 0.9458 - val_mean_absolute_error: 0.4462 - val_accuracy: 2.6010e-07 - lr: 1.0000e-04\n",
      "Epoch 24/100\n",
      "5293/5294 [============================>.] - ETA: 0s - loss: 0.3402 - mean_absolute_error: 0.2815 - accuracy: 7.3800e-07"
     ]
    },
    {
     "name": "stderr",
     "output_type": "stream",
     "text": [
      "WARNING:absl:Found untraced functions such as lstm_cell_13_layer_call_fn, lstm_cell_13_layer_call_and_return_conditional_losses, lstm_cell_14_layer_call_fn, lstm_cell_14_layer_call_and_return_conditional_losses, lstm_cell_15_layer_call_fn while saving (showing 5 of 8). These functions will not be directly callable after loading.\n"
     ]
    },
    {
     "name": "stdout",
     "output_type": "stream",
     "text": [
      "INFO:tensorflow:Assets written to: ./new_split_Tile_info_DISCARD4/LSTM3_64_0.0001_4_MLP_12_64/tmp\\checkpoint\\assets\n"
     ]
    },
    {
     "name": "stderr",
     "output_type": "stream",
     "text": [
      "INFO:tensorflow:Assets written to: ./new_split_Tile_info_DISCARD4/LSTM3_64_0.0001_4_MLP_12_64/tmp\\checkpoint\\assets\n"
     ]
    },
    {
     "name": "stdout",
     "output_type": "stream",
     "text": [
      "5294/5294 [==============================] - 592s 112ms/step - loss: 0.3401 - mean_absolute_error: 0.2815 - accuracy: 7.3786e-07 - val_loss: 0.9056 - val_mean_absolute_error: 0.4418 - val_accuracy: 2.6010e-07 - lr: 1.0000e-04\n",
      "Epoch 25/100\n",
      "5294/5294 [==============================] - 585s 110ms/step - loss: 0.3361 - mean_absolute_error: 0.2802 - accuracy: 6.7638e-07 - val_loss: 0.9813 - val_mean_absolute_error: 0.4433 - val_accuracy: 0.0000e+00 - lr: 1.0000e-04\n",
      "Epoch 26/100\n",
      "5294/5294 [==============================] - 587s 111ms/step - loss: 0.3347 - mean_absolute_error: 0.2790 - accuracy: 6.7638e-07 - val_loss: 0.9158 - val_mean_absolute_error: 0.4259 - val_accuracy: 3.9016e-07 - lr: 1.0000e-04\n",
      "Epoch 27/100\n",
      "5293/5294 [============================>.] - ETA: 0s - loss: 0.3323 - mean_absolute_error: 0.2780 - accuracy: 7.9950e-07"
     ]
    },
    {
     "name": "stderr",
     "output_type": "stream",
     "text": [
      "WARNING:absl:Found untraced functions such as lstm_cell_13_layer_call_fn, lstm_cell_13_layer_call_and_return_conditional_losses, lstm_cell_14_layer_call_fn, lstm_cell_14_layer_call_and_return_conditional_losses, lstm_cell_15_layer_call_fn while saving (showing 5 of 8). These functions will not be directly callable after loading.\n"
     ]
    },
    {
     "name": "stdout",
     "output_type": "stream",
     "text": [
      "INFO:tensorflow:Assets written to: ./new_split_Tile_info_DISCARD4/LSTM3_64_0.0001_4_MLP_12_64/tmp\\checkpoint\\assets\n"
     ]
    },
    {
     "name": "stderr",
     "output_type": "stream",
     "text": [
      "INFO:tensorflow:Assets written to: ./new_split_Tile_info_DISCARD4/LSTM3_64_0.0001_4_MLP_12_64/tmp\\checkpoint\\assets\n"
     ]
    },
    {
     "name": "stdout",
     "output_type": "stream",
     "text": [
      "5294/5294 [==============================] - 595s 112ms/step - loss: 0.3322 - mean_absolute_error: 0.2780 - accuracy: 7.9935e-07 - val_loss: 0.8821 - val_mean_absolute_error: 0.4222 - val_accuracy: 3.9016e-07 - lr: 1.0000e-04\n",
      "Epoch 28/100\n",
      "5293/5294 [============================>.] - ETA: 0s - loss: 0.3297 - mean_absolute_error: 0.2768 - accuracy: 3.6900e-07"
     ]
    },
    {
     "name": "stderr",
     "output_type": "stream",
     "text": [
      "WARNING:absl:Found untraced functions such as lstm_cell_13_layer_call_fn, lstm_cell_13_layer_call_and_return_conditional_losses, lstm_cell_14_layer_call_fn, lstm_cell_14_layer_call_and_return_conditional_losses, lstm_cell_15_layer_call_fn while saving (showing 5 of 8). These functions will not be directly callable after loading.\n"
     ]
    },
    {
     "name": "stdout",
     "output_type": "stream",
     "text": [
      "INFO:tensorflow:Assets written to: ./new_split_Tile_info_DISCARD4/LSTM3_64_0.0001_4_MLP_12_64/tmp\\checkpoint\\assets\n"
     ]
    },
    {
     "name": "stderr",
     "output_type": "stream",
     "text": [
      "INFO:tensorflow:Assets written to: ./new_split_Tile_info_DISCARD4/LSTM3_64_0.0001_4_MLP_12_64/tmp\\checkpoint\\assets\n"
     ]
    },
    {
     "name": "stdout",
     "output_type": "stream",
     "text": [
      "5294/5294 [==============================] - 593s 112ms/step - loss: 0.3296 - mean_absolute_error: 0.2768 - accuracy: 3.6893e-07 - val_loss: 0.8815 - val_mean_absolute_error: 0.4308 - val_accuracy: 5.2021e-07 - lr: 1.0000e-04\n",
      "Epoch 29/100\n",
      "5294/5294 [==============================] - 584s 110ms/step - loss: 0.3293 - mean_absolute_error: 0.2760 - accuracy: 5.5340e-07 - val_loss: 0.9024 - val_mean_absolute_error: 0.4192 - val_accuracy: 5.2021e-07 - lr: 1.0000e-04\n",
      "Epoch 30/100\n",
      "5294/5294 [==============================] - ETA: 0s - loss: 0.3264 - mean_absolute_error: 0.2748 - accuracy: 4.3042e-07"
     ]
    },
    {
     "name": "stderr",
     "output_type": "stream",
     "text": [
      "WARNING:absl:Found untraced functions such as lstm_cell_13_layer_call_fn, lstm_cell_13_layer_call_and_return_conditional_losses, lstm_cell_14_layer_call_fn, lstm_cell_14_layer_call_and_return_conditional_losses, lstm_cell_15_layer_call_fn while saving (showing 5 of 8). These functions will not be directly callable after loading.\n"
     ]
    },
    {
     "name": "stdout",
     "output_type": "stream",
     "text": [
      "INFO:tensorflow:Assets written to: ./new_split_Tile_info_DISCARD4/LSTM3_64_0.0001_4_MLP_12_64/tmp\\checkpoint\\assets\n"
     ]
    },
    {
     "name": "stderr",
     "output_type": "stream",
     "text": [
      "INFO:tensorflow:Assets written to: ./new_split_Tile_info_DISCARD4/LSTM3_64_0.0001_4_MLP_12_64/tmp\\checkpoint\\assets\n"
     ]
    },
    {
     "name": "stdout",
     "output_type": "stream",
     "text": [
      "5294/5294 [==============================] - 594s 112ms/step - loss: 0.3264 - mean_absolute_error: 0.2748 - accuracy: 4.3042e-07 - val_loss: 0.7861 - val_mean_absolute_error: 0.4022 - val_accuracy: 3.9016e-07 - lr: 1.0000e-04\n",
      "Epoch 31/100\n",
      "5293/5294 [============================>.] - ETA: 0s - loss: 0.3244 - mean_absolute_error: 0.2742 - accuracy: 9.2250e-07"
     ]
    },
    {
     "name": "stderr",
     "output_type": "stream",
     "text": [
      "WARNING:absl:Found untraced functions such as lstm_cell_13_layer_call_fn, lstm_cell_13_layer_call_and_return_conditional_losses, lstm_cell_14_layer_call_fn, lstm_cell_14_layer_call_and_return_conditional_losses, lstm_cell_15_layer_call_fn while saving (showing 5 of 8). These functions will not be directly callable after loading.\n"
     ]
    },
    {
     "name": "stdout",
     "output_type": "stream",
     "text": [
      "INFO:tensorflow:Assets written to: ./new_split_Tile_info_DISCARD4/LSTM3_64_0.0001_4_MLP_12_64/tmp\\checkpoint\\assets\n"
     ]
    },
    {
     "name": "stderr",
     "output_type": "stream",
     "text": [
      "INFO:tensorflow:Assets written to: ./new_split_Tile_info_DISCARD4/LSTM3_64_0.0001_4_MLP_12_64/tmp\\checkpoint\\assets\n"
     ]
    },
    {
     "name": "stdout",
     "output_type": "stream",
     "text": [
      "5294/5294 [==============================] - 590s 111ms/step - loss: 0.3244 - mean_absolute_error: 0.2742 - accuracy: 9.2233e-07 - val_loss: 0.7694 - val_mean_absolute_error: 0.3971 - val_accuracy: 2.6010e-07 - lr: 1.0000e-04\n",
      "Epoch 32/100\n",
      "5294/5294 [==============================] - 583s 110ms/step - loss: 0.3247 - mean_absolute_error: 0.2737 - accuracy: 6.1489e-07 - val_loss: 0.7941 - val_mean_absolute_error: 0.3974 - val_accuracy: 5.2021e-07 - lr: 1.0000e-04\n",
      "Epoch 33/100\n",
      "5294/5294 [==============================] - 586s 111ms/step - loss: 0.3220 - mean_absolute_error: 0.2725 - accuracy: 5.5340e-07 - val_loss: 0.7856 - val_mean_absolute_error: 0.4029 - val_accuracy: 2.6010e-07 - lr: 1.0000e-04\n",
      "Epoch 34/100\n",
      "5294/5294 [==============================] - ETA: 0s - loss: 0.3205 - mean_absolute_error: 0.2719 - accuracy: 5.5340e-07"
     ]
    },
    {
     "name": "stderr",
     "output_type": "stream",
     "text": [
      "WARNING:absl:Found untraced functions such as lstm_cell_13_layer_call_fn, lstm_cell_13_layer_call_and_return_conditional_losses, lstm_cell_14_layer_call_fn, lstm_cell_14_layer_call_and_return_conditional_losses, lstm_cell_15_layer_call_fn while saving (showing 5 of 8). These functions will not be directly callable after loading.\n"
     ]
    },
    {
     "name": "stdout",
     "output_type": "stream",
     "text": [
      "INFO:tensorflow:Assets written to: ./new_split_Tile_info_DISCARD4/LSTM3_64_0.0001_4_MLP_12_64/tmp\\checkpoint\\assets\n"
     ]
    },
    {
     "name": "stderr",
     "output_type": "stream",
     "text": [
      "INFO:tensorflow:Assets written to: ./new_split_Tile_info_DISCARD4/LSTM3_64_0.0001_4_MLP_12_64/tmp\\checkpoint\\assets\n"
     ]
    },
    {
     "name": "stdout",
     "output_type": "stream",
     "text": [
      "5294/5294 [==============================] - 594s 112ms/step - loss: 0.3205 - mean_absolute_error: 0.2719 - accuracy: 5.5340e-07 - val_loss: 0.7129 - val_mean_absolute_error: 0.3760 - val_accuracy: 1.3005e-07 - lr: 1.0000e-04\n",
      "Epoch 35/100\n",
      "5294/5294 [==============================] - 582s 110ms/step - loss: 0.3193 - mean_absolute_error: 0.2713 - accuracy: 7.9935e-07 - val_loss: 0.7733 - val_mean_absolute_error: 0.3976 - val_accuracy: 7.8031e-07 - lr: 1.0000e-04\n",
      "Epoch 36/100\n",
      "5294/5294 [==============================] - 585s 110ms/step - loss: 0.3181 - mean_absolute_error: 0.2704 - accuracy: 7.3786e-07 - val_loss: 0.8394 - val_mean_absolute_error: 0.4092 - val_accuracy: 5.2021e-07 - lr: 1.0000e-04\n",
      "Epoch 37/100\n",
      "5294/5294 [==============================] - 586s 111ms/step - loss: 0.3148 - mean_absolute_error: 0.2695 - accuracy: 6.7638e-07 - val_loss: 0.8305 - val_mean_absolute_error: 0.4148 - val_accuracy: 5.2021e-07 - lr: 1.0000e-04\n",
      "Epoch 38/100\n",
      "5294/5294 [==============================] - 588s 111ms/step - loss: 0.3153 - mean_absolute_error: 0.2696 - accuracy: 6.7638e-07 - val_loss: 0.7785 - val_mean_absolute_error: 0.4065 - val_accuracy: 7.8031e-07 - lr: 1.0000e-04\n",
      "Epoch 39/100\n",
      "5294/5294 [==============================] - 585s 111ms/step - loss: 0.3140 - mean_absolute_error: 0.2689 - accuracy: 8.6084e-07 - val_loss: 0.7663 - val_mean_absolute_error: 0.3952 - val_accuracy: 2.6010e-07 - lr: 1.0000e-04\n",
      "Epoch 40/100\n",
      "5294/5294 [==============================] - 585s 110ms/step - loss: 0.3118 - mean_absolute_error: 0.2679 - accuracy: 6.7638e-07 - val_loss: 0.7721 - val_mean_absolute_error: 0.4067 - val_accuracy: 2.6010e-07 - lr: 1.0000e-04\n",
      "Loss: 0.9899893403053284 MAE: 0.47457966208457947 Accuracy: 3.852317433938879e-07\n"
     ]
    }
   ],
   "source": [
    "lr =1e-4\n",
    "units=64\n",
    "cells=3\n",
    "normalization=False\n",
    "mlp_units=64\n",
    "mlp_cells=12\n",
    "name=f\"LSTM{cells}_{units}_{lr}_{DISCARD}_MLP_{mlp_cells}_{mlp_units}\"\n",
    "lstm_ph,history_lstm_ph=model_definitions.LSTM_Train(\n",
    "    gen_train,\n",
    "    gen_val,\n",
    "    learning_rate=lr,\n",
    "    patience=6,\n",
    "    name=name,\n",
    "    path=f\"new_split_Tile_info_DISCARD{DISCARD}\",\n",
    "    epoch=100, \n",
    "    dropout=0.2, \n",
    "    cells=cells,\n",
    "    units=units,\n",
    "    mlp_units=mlp_units,\n",
    "    mlp_cells=mlp_cells,\n",
    "    normalization=normalization,\n",
    "    verbose=1\n",
    ")\n",
    "\n",
    "ev=lstm_ph.evaluate(gen_test,verbose=0)\n",
    "print(f\"Loss: {ev[0]} MAE: {ev[1]} Accuracy: {ev[2]}\")\n",
    "#tf.saved_model.save(lstm_ph,f'saved_model/{name}')"
   ]
  },
  {
   "cell_type": "code",
   "execution_count": null,
   "id": "400ab8c7",
   "metadata": {
    "tags": []
   },
   "outputs": [],
   "source": [
    "test=0\n",
    "for batch in gen_val:\n",
    "    print(test)\n",
    "    test+=1\n",
    "test"
   ]
  },
  {
   "cell_type": "code",
   "execution_count": 56,
   "id": "8bf3ba6f",
   "metadata": {},
   "outputs": [
    {
     "ename": "IndexError",
     "evalue": "list index out of range",
     "output_type": "error",
     "traceback": [
      "\u001b[1;31m---------------------------------------------------------------------------\u001b[0m",
      "\u001b[1;31mIndexError\u001b[0m                                Traceback (most recent call last)",
      "Cell \u001b[1;32mIn[56], line 1\u001b[0m\n\u001b[1;32m----> 1\u001b[0m test[\u001b[39m1\u001b[39;49m]\u001b[39m.\u001b[39mshape\n",
      "\u001b[1;31mIndexError\u001b[0m: list index out of range"
     ]
    }
   ],
   "source": [
    "test[1].shape"
   ]
  },
  {
   "cell_type": "code",
   "execution_count": 93,
   "id": "6f170073",
   "metadata": {},
   "outputs": [
    {
     "name": "stdout",
     "output_type": "stream",
     "text": [
      "47/47 [==============================] - 7s 151ms/step\n"
     ]
    }
   ],
   "source": [
    "y_pred = lstm_ph.predict(gen_test)\n"
   ]
  },
  {
   "cell_type": "code",
   "execution_count": 94,
   "id": "f789c05e",
   "metadata": {},
   "outputs": [
    {
     "data": {
      "text/plain": [
       "array([[ 1.4616523 , -0.7965714 , -2.364098  ],\n",
       "       [ 1.4196657 , -0.72882974, -2.1959066 ],\n",
       "       [ 1.3491808 , -0.6210692 , -2.2700336 ],\n",
       "       ...,\n",
       "       [ 0.10450363,  0.48482472, -0.6983368 ],\n",
       "       [ 0.10220872,  0.48504275, -0.7115003 ],\n",
       "       [ 0.09761263,  0.49852407, -0.72805303]], dtype=float32)"
      ]
     },
     "execution_count": 94,
     "metadata": {},
     "output_type": "execute_result"
    }
   ],
   "source": [
    "y_pred"
   ]
  },
  {
   "cell_type": "code",
   "execution_count": 95,
   "id": "13f0fa34",
   "metadata": {},
   "outputs": [
    {
     "data": {
      "text/plain": [
       "[2.1729495525360107, 0.8310683965682983, 0.0]"
      ]
     },
     "execution_count": 95,
     "metadata": {},
     "output_type": "execute_result"
    }
   ],
   "source": [
    "ev"
   ]
  },
  {
   "cell_type": "code",
   "execution_count": 27,
   "id": "f5df7839-f920-48fc-a703-e666e4b23d92",
   "metadata": {},
   "outputs": [
    {
     "name": "stderr",
     "output_type": "stream",
     "text": [
      "WARNING:absl:Found untraced functions such as lstm_cell_4_layer_call_fn, lstm_cell_4_layer_call_and_return_conditional_losses, lstm_cell_5_layer_call_fn, lstm_cell_5_layer_call_and_return_conditional_losses, lstm_cell_6_layer_call_fn while saving (showing 5 of 18). These functions will not be directly callable after loading.\n"
     ]
    },
    {
     "name": "stdout",
     "output_type": "stream",
     "text": [
      "INFO:tensorflow:Assets written to: saved_model/LSTM8_512_0.001_DISCARD_19_DELTA\\assets\n"
     ]
    },
    {
     "name": "stderr",
     "output_type": "stream",
     "text": [
      "INFO:tensorflow:Assets written to: saved_model/LSTM8_512_0.001_DISCARD_19_DELTA\\assets\n"
     ]
    }
   ],
   "source": [
    "lr =1e-3\n",
    "units=512\n",
    "cells=8\n",
    "normalization=False\n",
    "name=f\"LSTM{cells}_{units}_{lr}_DISCARD_{DISCARD}_DELTA\"\n",
    "lstm_ph,history_lstm_ph=model_definitions.LSTM_Train(gen_train,gen_val,learning_rate=lr,patience=50,name=name,path=\"logs\",\n",
    "                                                     epoch=100, dropout=0.2, cells=cells,units=units, normalization=normalization,verbose=1)\n",
    "\n",
    "ev=lstm_ph.evaluate(gen_test,verbose=0)\n",
    "print(f\"Loss: {ev[0]} MAE: {ev[1]} Accuracy: {ev[2]}\")\n",
    "tf.saved_model.save(lstm_ph,f'saved_model/{name}')"
   ]
  },
  {
   "cell_type": "code",
   "execution_count": 29,
   "id": "278d850a",
   "metadata": {
    "tags": []
   },
   "outputs": [
    {
     "name": "stderr",
     "output_type": "stream",
     "text": [
      "WARNING:absl:Found untraced functions such as lstm_cell_25_layer_call_fn, lstm_cell_25_layer_call_and_return_conditional_losses, lstm_cell_26_layer_call_fn, lstm_cell_26_layer_call_and_return_conditional_losses, lstm_cell_27_layer_call_fn while saving (showing 5 of 10). These functions will not be directly callable after loading.\n"
     ]
    },
    {
     "name": "stdout",
     "output_type": "stream",
     "text": [
      "INFO:tensorflow:Assets written to: saved_model/LSTM4_128_0.001_DISCARD_19_DELTA\\assets\n"
     ]
    },
    {
     "name": "stderr",
     "output_type": "stream",
     "text": [
      "INFO:tensorflow:Assets written to: saved_model/LSTM4_128_0.001_DISCARD_19_DELTA\\assets\n"
     ]
    }
   ],
   "source": [
    "tf.saved_model.save(lstm_ph,f'saved_model/{name}')"
   ]
  },
  {
   "cell_type": "code",
   "execution_count": 12,
   "id": "f7d2267f",
   "metadata": {},
   "outputs": [
    {
     "data": {
      "text/plain": [
       "<tensorflow.python.checkpoint.checkpoint.CheckpointLoadStatus at 0x1d990a4d330>"
      ]
     },
     "execution_count": 12,
     "metadata": {},
     "output_type": "execute_result"
    }
   ],
   "source": [
    "model=model_definitions.MLP_Model(32)\n",
    "model.load_weights(\"saved_model\\MLP0001_PosAssoluta\")"
   ]
  },
  {
   "cell_type": "code",
   "execution_count": 13,
   "id": "615b66fa",
   "metadata": {},
   "outputs": [
    {
     "name": "stdout",
     "output_type": "stream",
     "text": [
      "Model: \"sequential\"\n",
      "_________________________________________________________________\n",
      " Layer (type)                Output Shape              Param #   \n",
      "=================================================================\n",
      " flatten (Flatten)           (None, 140)               0         \n",
      "                                                                 \n",
      " dense (Dense)               (None, 32)                4512      \n",
      "                                                                 \n",
      " dense_1 (Dense)             (None, 3)                 99        \n",
      "                                                                 \n",
      "=================================================================\n",
      "Total params: 4,611\n",
      "Trainable params: 4,611\n",
      "Non-trainable params: 0\n",
      "_________________________________________________________________\n"
     ]
    }
   ],
   "source": [
    "model.summary()"
   ]
  },
  {
   "cell_type": "code",
   "execution_count": 14,
   "id": "8aef0b09",
   "metadata": {
    "collapsed": true,
    "jupyter": {
     "outputs_hidden": true,
     "source_hidden": true
    },
    "tags": []
   },
   "outputs": [
    {
     "name": "stdout",
     "output_type": "stream",
     "text": [
      "tf.Tensor(\n",
      "[[-2.156165e+01 -1.154109e+01  3.978183e-01  1.900000e+01  2.000000e+01\n",
      "   2.002995e-01  5.461393e-01]\n",
      " [-2.191261e+01 -1.069794e+01  9.277464e-01  1.900000e+01  2.000000e+01\n",
      "   1.828646e-01  5.285156e-01]\n",
      " [-2.236745e+01 -9.373469e+00  1.181234e+00  1.900000e+01  2.000000e+01\n",
      "   1.650993e-01  5.127604e-01]\n",
      " [-2.271277e+01 -8.215466e+00  8.408008e-01  1.900000e+01  2.000000e+01\n",
      "   1.469889e-01  4.992383e-01]\n",
      " [-2.317203e+01 -7.699648e+00  2.726782e-01  1.900000e+01  2.000000e+01\n",
      "   1.285677e-01  4.866276e-01]\n",
      " [-2.354665e+01 -7.331343e+00  8.814032e-02  1.900000e+01  2.000000e+01\n",
      "   1.098258e-01  4.747331e-01]\n",
      " [-2.385743e+01 -7.165668e+00  3.089963e-02  1.900000e+01  2.000000e+01\n",
      "   9.082031e-02  4.631966e-01]\n",
      " [-2.413132e+01 -7.114067e+00  1.184550e-02  1.900000e+01  2.000000e+01\n",
      "   7.158691e-02  4.517969e-01]\n",
      " [-2.438515e+01 -7.120355e+00  4.894121e-03  1.900000e+01  2.000000e+01\n",
      "   5.214518e-02  4.404102e-01]\n",
      " [-2.460253e+01 -6.905964e+00  1.876919e-01  1.900000e+01  2.000000e+01\n",
      "   3.251302e-02  4.291146e-01]\n",
      " [-2.475140e+01 -6.723460e+00  1.970855e-01  1.900000e+01  2.000000e+01\n",
      "   1.276367e-02  4.184115e-01]\n",
      " [-2.489477e+01 -5.780509e+00  6.575498e-01  1.900000e+01  2.000000e+01\n",
      "  -7.122396e-03  4.086133e-01]\n",
      " [-2.495904e+01 -4.501016e+00  1.006330e+00  1.900000e+01  2.000000e+01\n",
      "  -2.707194e-02  4.006966e-01]\n",
      " [-2.511588e+01 -3.876758e+00  5.385900e-01  1.900000e+01  2.000000e+01\n",
      "  -4.709635e-02  3.943555e-01]\n",
      " [-2.541349e+01 -3.421902e+00  1.967697e-01  1.900000e+01  2.000000e+01\n",
      "  -6.734701e-02  3.886458e-01]\n",
      " [-2.569131e+01 -3.090248e+00  7.472852e-02  1.900000e+01  2.000000e+01\n",
      "  -8.782878e-02  3.835417e-01]\n",
      " [-2.580028e+01 -3.108411e+00 -1.158963e-01  1.900000e+01  2.000000e+01\n",
      "  -1.084473e-01  3.785677e-01]\n",
      " [-2.605437e+01 -3.025780e+00 -4.918736e-02  1.900000e+01  2.000000e+01\n",
      "  -1.292269e-01  3.736979e-01]\n",
      " [-2.628638e+01 -3.044259e+00 -2.229597e-02  1.900000e+01  2.000000e+01\n",
      "  -1.501953e-01  3.688411e-01]\n",
      " [-2.651327e+01 -3.085180e+00 -1.027286e-02  1.900000e+01  2.000000e+01\n",
      "  -1.713444e-01  3.639258e-01]], shape=(20, 7), dtype=float64)\n",
      "tf.Tensor([-26.48385    -3.596589   -0.3759016], shape=(3,), dtype=float64)\n"
     ]
    },
    {
     "ename": "ValueError",
     "evalue": "in user code:\n\n    File \"d:\\Anaconda\\envs\\tf\\lib\\site-packages\\keras\\engine\\training.py\", line 2041, in predict_function  *\n        return step_function(self, iterator)\n    File \"d:\\Anaconda\\envs\\tf\\lib\\site-packages\\keras\\engine\\training.py\", line 2027, in step_function  **\n        outputs = model.distribute_strategy.run(run_step, args=(data,))\n    File \"d:\\Anaconda\\envs\\tf\\lib\\site-packages\\keras\\engine\\training.py\", line 2015, in run_step  **\n        outputs = model.predict_step(data)\n    File \"d:\\Anaconda\\envs\\tf\\lib\\site-packages\\keras\\engine\\training.py\", line 1983, in predict_step\n        return self(x, training=False)\n    File \"d:\\Anaconda\\envs\\tf\\lib\\site-packages\\keras\\utils\\traceback_utils.py\", line 70, in error_handler\n        raise e.with_traceback(filtered_tb) from None\n    File \"d:\\Anaconda\\envs\\tf\\lib\\site-packages\\keras\\engine\\input_spec.py\", line 295, in assert_input_compatibility\n        raise ValueError(\n\n    ValueError: Input 0 of layer \"sequential\" is incompatible with the layer: expected shape=(None, 20, 7), found shape=(None, 7)\n",
     "output_type": "error",
     "traceback": [
      "\u001b[1;31m---------------------------------------------------------------------------\u001b[0m",
      "\u001b[1;31mValueError\u001b[0m                                Traceback (most recent call last)",
      "Cell \u001b[1;32mIn[14], line 6\u001b[0m\n\u001b[0;32m      4\u001b[0m \u001b[39mprint\u001b[39m(toP)\n\u001b[0;32m      5\u001b[0m \u001b[39mprint\u001b[39m(pred)\n\u001b[1;32m----> 6\u001b[0m model\u001b[39m.\u001b[39;49mpredict(toP)\n",
      "File \u001b[1;32md:\\Anaconda\\envs\\tf\\lib\\site-packages\\keras\\utils\\traceback_utils.py:70\u001b[0m, in \u001b[0;36mfilter_traceback.<locals>.error_handler\u001b[1;34m(*args, **kwargs)\u001b[0m\n\u001b[0;32m     67\u001b[0m     filtered_tb \u001b[39m=\u001b[39m _process_traceback_frames(e\u001b[39m.\u001b[39m__traceback__)\n\u001b[0;32m     68\u001b[0m     \u001b[39m# To get the full stack trace, call:\u001b[39;00m\n\u001b[0;32m     69\u001b[0m     \u001b[39m# `tf.debugging.disable_traceback_filtering()`\u001b[39;00m\n\u001b[1;32m---> 70\u001b[0m     \u001b[39mraise\u001b[39;00m e\u001b[39m.\u001b[39mwith_traceback(filtered_tb) \u001b[39mfrom\u001b[39;00m \u001b[39mNone\u001b[39m\n\u001b[0;32m     71\u001b[0m \u001b[39mfinally\u001b[39;00m:\n\u001b[0;32m     72\u001b[0m     \u001b[39mdel\u001b[39;00m filtered_tb\n",
      "File \u001b[1;32m~\\AppData\\Local\\Temp\\__autograph_generated_filevz489y_n.py:15\u001b[0m, in \u001b[0;36mouter_factory.<locals>.inner_factory.<locals>.tf__predict_function\u001b[1;34m(iterator)\u001b[0m\n\u001b[0;32m     13\u001b[0m \u001b[39mtry\u001b[39;00m:\n\u001b[0;32m     14\u001b[0m     do_return \u001b[39m=\u001b[39m \u001b[39mTrue\u001b[39;00m\n\u001b[1;32m---> 15\u001b[0m     retval_ \u001b[39m=\u001b[39m ag__\u001b[39m.\u001b[39mconverted_call(ag__\u001b[39m.\u001b[39mld(step_function), (ag__\u001b[39m.\u001b[39mld(\u001b[39mself\u001b[39m), ag__\u001b[39m.\u001b[39mld(iterator)), \u001b[39mNone\u001b[39;00m, fscope)\n\u001b[0;32m     16\u001b[0m \u001b[39mexcept\u001b[39;00m:\n\u001b[0;32m     17\u001b[0m     do_return \u001b[39m=\u001b[39m \u001b[39mFalse\u001b[39;00m\n",
      "\u001b[1;31mValueError\u001b[0m: in user code:\n\n    File \"d:\\Anaconda\\envs\\tf\\lib\\site-packages\\keras\\engine\\training.py\", line 2041, in predict_function  *\n        return step_function(self, iterator)\n    File \"d:\\Anaconda\\envs\\tf\\lib\\site-packages\\keras\\engine\\training.py\", line 2027, in step_function  **\n        outputs = model.distribute_strategy.run(run_step, args=(data,))\n    File \"d:\\Anaconda\\envs\\tf\\lib\\site-packages\\keras\\engine\\training.py\", line 2015, in run_step  **\n        outputs = model.predict_step(data)\n    File \"d:\\Anaconda\\envs\\tf\\lib\\site-packages\\keras\\engine\\training.py\", line 1983, in predict_step\n        return self(x, training=False)\n    File \"d:\\Anaconda\\envs\\tf\\lib\\site-packages\\keras\\utils\\traceback_utils.py\", line 70, in error_handler\n        raise e.with_traceback(filtered_tb) from None\n    File \"d:\\Anaconda\\envs\\tf\\lib\\site-packages\\keras\\engine\\input_spec.py\", line 295, in assert_input_compatibility\n        raise ValueError(\n\n    ValueError: Input 0 of layer \"sequential\" is incompatible with the layer: expected shape=(None, 20, 7), found shape=(None, 7)\n"
     ]
    }
   ],
   "source": [
    "zero=gen_test[0]\n",
    "toP=zero[0][0]\n",
    "pred=zero[1][0]\n",
    "print(toP)\n",
    "print(pred)\n",
    "model.predict(toP)"
   ]
  },
  {
   "cell_type": "code",
   "execution_count": null,
   "id": "cf5ac715",
   "metadata": {},
   "outputs": [],
   "source": [
    "import tf2onnx\n",
    "import onnx\n",
    "input_signature=(tf.TensorSpec([None,SEQUENCE_LENGTH,FEATURES],tf.float32,name='x'))\n",
    "onnx_model,_=tf2onnx.converter.from_keras(model,input_signature,opset=9)"
   ]
  },
  {
   "cell_type": "code",
   "execution_count": null,
   "id": "8be7adab",
   "metadata": {},
   "outputs": [],
   "source": []
  },
  {
   "cell_type": "code",
   "execution_count": 49,
   "id": "fa35bac2",
   "metadata": {},
   "outputs": [
    {
     "name": "stdout",
     "output_type": "stream",
     "text": [
      "83.5\n"
     ]
    },
    {
     "data": {
      "text/html": [
       "<div>\n",
       "<style scoped>\n",
       "    .dataframe tbody tr th:only-of-type {\n",
       "        vertical-align: middle;\n",
       "    }\n",
       "\n",
       "    .dataframe tbody tr th {\n",
       "        vertical-align: top;\n",
       "    }\n",
       "\n",
       "    .dataframe thead th {\n",
       "        text-align: right;\n",
       "    }\n",
       "</style>\n",
       "<table border=\"1\" class=\"dataframe\">\n",
       "  <thead>\n",
       "    <tr style=\"text-align: right;\">\n",
       "      <th></th>\n",
       "      <th>X</th>\n",
       "      <th>Z</th>\n",
       "      <th>VEL_X</th>\n",
       "      <th>VEL_Z</th>\n",
       "      <th>ROT</th>\n",
       "      <th>ANG_VEL_Y</th>\n",
       "      <th>ACC_X</th>\n",
       "      <th>ACC_Z</th>\n",
       "      <th>TILE</th>\n",
       "      <th>TILE_IND</th>\n",
       "      <th>X_RELATIVE</th>\n",
       "      <th>Z_RELATIVE</th>\n",
       "      <th>TIME</th>\n",
       "      <th>RACE</th>\n",
       "      <th>GROUP</th>\n",
       "    </tr>\n",
       "  </thead>\n",
       "  <tbody>\n",
       "    <tr>\n",
       "      <th>5051758</th>\n",
       "      <td>-5.32727</td>\n",
       "      <td>2.571900</td>\n",
       "      <td>4.838010</td>\n",
       "      <td>5.90930</td>\n",
       "      <td>13.9886</td>\n",
       "      <td>0.747973</td>\n",
       "      <td>27.840900</td>\n",
       "      <td>24.523110</td>\n",
       "      <td>4</td>\n",
       "      <td>32</td>\n",
       "      <td>0.456929</td>\n",
       "      <td>0.080146</td>\n",
       "      <td>0.2</td>\n",
       "      <td>83</td>\n",
       "      <td>9</td>\n",
       "    </tr>\n",
       "    <tr>\n",
       "      <th>5051759</th>\n",
       "      <td>-4.23840</td>\n",
       "      <td>3.754450</td>\n",
       "      <td>4.522620</td>\n",
       "      <td>4.17718</td>\n",
       "      <td>14.0799</td>\n",
       "      <td>-0.201847</td>\n",
       "      <td>-13.900470</td>\n",
       "      <td>-23.734710</td>\n",
       "      <td>4</td>\n",
       "      <td>32</td>\n",
       "      <td>0.400417</td>\n",
       "      <td>0.130206</td>\n",
       "      <td>0.2</td>\n",
       "      <td>83</td>\n",
       "      <td>9</td>\n",
       "    </tr>\n",
       "    <tr>\n",
       "      <th>5051760</th>\n",
       "      <td>-3.61328</td>\n",
       "      <td>4.332640</td>\n",
       "      <td>1.717370</td>\n",
       "      <td>2.05974</td>\n",
       "      <td>4.8036</td>\n",
       "      <td>-1.075305</td>\n",
       "      <td>-18.862057</td>\n",
       "      <td>-9.560299</td>\n",
       "      <td>4</td>\n",
       "      <td>32</td>\n",
       "      <td>0.352240</td>\n",
       "      <td>0.187974</td>\n",
       "      <td>0.2</td>\n",
       "      <td>83</td>\n",
       "      <td>9</td>\n",
       "    </tr>\n",
       "    <tr>\n",
       "      <th>5051761</th>\n",
       "      <td>-3.38379</td>\n",
       "      <td>4.573670</td>\n",
       "      <td>1.456980</td>\n",
       "      <td>0.93513</td>\n",
       "      <td>2.5532</td>\n",
       "      <td>0.547570</td>\n",
       "      <td>12.505337</td>\n",
       "      <td>0.734615</td>\n",
       "      <td>4</td>\n",
       "      <td>32</td>\n",
       "      <td>0.307122</td>\n",
       "      <td>0.248957</td>\n",
       "      <td>0.2</td>\n",
       "      <td>83</td>\n",
       "      <td>9</td>\n",
       "    </tr>\n",
       "    <tr>\n",
       "      <th>5051762</th>\n",
       "      <td>-3.03601</td>\n",
       "      <td>4.786750</td>\n",
       "      <td>1.265280</td>\n",
       "      <td>0.82554</td>\n",
       "      <td>3.1718</td>\n",
       "      <td>-0.565750</td>\n",
       "      <td>-4.297250</td>\n",
       "      <td>-2.067471</td>\n",
       "      <td>4</td>\n",
       "      <td>32</td>\n",
       "      <td>0.266642</td>\n",
       "      <td>0.312780</td>\n",
       "      <td>0.2</td>\n",
       "      <td>83</td>\n",
       "      <td>9</td>\n",
       "    </tr>\n",
       "    <tr>\n",
       "      <th>5051763</th>\n",
       "      <td>-3.02600</td>\n",
       "      <td>4.787650</td>\n",
       "      <td>0.228000</td>\n",
       "      <td>-0.06486</td>\n",
       "      <td>-0.8624</td>\n",
       "      <td>0.594987</td>\n",
       "      <td>2.488040</td>\n",
       "      <td>-1.159763</td>\n",
       "      <td>4</td>\n",
       "      <td>32</td>\n",
       "      <td>0.226296</td>\n",
       "      <td>0.376615</td>\n",
       "      <td>0.2</td>\n",
       "      <td>83</td>\n",
       "      <td>9</td>\n",
       "    </tr>\n",
       "    <tr>\n",
       "      <th>5051764</th>\n",
       "      <td>-2.67359</td>\n",
       "      <td>4.945070</td>\n",
       "      <td>2.600840</td>\n",
       "      <td>1.12468</td>\n",
       "      <td>7.7518</td>\n",
       "      <td>0.070049</td>\n",
       "      <td>5.761860</td>\n",
       "      <td>3.362847</td>\n",
       "      <td>4</td>\n",
       "      <td>32</td>\n",
       "      <td>0.190648</td>\n",
       "      <td>0.442550</td>\n",
       "      <td>0.2</td>\n",
       "      <td>83</td>\n",
       "      <td>9</td>\n",
       "    </tr>\n",
       "    <tr>\n",
       "      <th>5051765</th>\n",
       "      <td>-1.90893</td>\n",
       "      <td>5.190311</td>\n",
       "      <td>4.206075</td>\n",
       "      <td>1.07436</td>\n",
       "      <td>9.8041</td>\n",
       "      <td>-0.011295</td>\n",
       "      <td>-8.786300</td>\n",
       "      <td>-4.183674</td>\n",
       "      <td>16</td>\n",
       "      <td>0</td>\n",
       "      <td>0.165195</td>\n",
       "      <td>-0.476492</td>\n",
       "      <td>0.2</td>\n",
       "      <td>83</td>\n",
       "      <td>9</td>\n",
       "    </tr>\n",
       "    <tr>\n",
       "      <th>5051766</th>\n",
       "      <td>-1.24964</td>\n",
       "      <td>5.344787</td>\n",
       "      <td>2.852189</td>\n",
       "      <td>0.50855</td>\n",
       "      <td>6.1715</td>\n",
       "      <td>0.238537</td>\n",
       "      <td>11.289770</td>\n",
       "      <td>-2.462674</td>\n",
       "      <td>16</td>\n",
       "      <td>0</td>\n",
       "      <td>0.148534</td>\n",
       "      <td>-0.333965</td>\n",
       "      <td>0.2</td>\n",
       "      <td>83</td>\n",
       "      <td>9</td>\n",
       "    </tr>\n",
       "    <tr>\n",
       "      <th>5051767</th>\n",
       "      <td>-0.57885</td>\n",
       "      <td>5.431946</td>\n",
       "      <td>3.084546</td>\n",
       "      <td>0.64175</td>\n",
       "      <td>5.5514</td>\n",
       "      <td>-0.873222</td>\n",
       "      <td>-14.921353</td>\n",
       "      <td>2.689744</td>\n",
       "      <td>16</td>\n",
       "      <td>0</td>\n",
       "      <td>0.140815</td>\n",
       "      <td>-0.189113</td>\n",
       "      <td>0.2</td>\n",
       "      <td>83</td>\n",
       "      <td>9</td>\n",
       "    </tr>\n",
       "  </tbody>\n",
       "</table>\n",
       "</div>"
      ],
      "text/plain": [
       "               X         Z     VEL_X    VEL_Z      ROT  ANG_VEL_Y      ACC_X   \n",
       "5051758 -5.32727  2.571900  4.838010  5.90930  13.9886   0.747973  27.840900  \\\n",
       "5051759 -4.23840  3.754450  4.522620  4.17718  14.0799  -0.201847 -13.900470   \n",
       "5051760 -3.61328  4.332640  1.717370  2.05974   4.8036  -1.075305 -18.862057   \n",
       "5051761 -3.38379  4.573670  1.456980  0.93513   2.5532   0.547570  12.505337   \n",
       "5051762 -3.03601  4.786750  1.265280  0.82554   3.1718  -0.565750  -4.297250   \n",
       "5051763 -3.02600  4.787650  0.228000 -0.06486  -0.8624   0.594987   2.488040   \n",
       "5051764 -2.67359  4.945070  2.600840  1.12468   7.7518   0.070049   5.761860   \n",
       "5051765 -1.90893  5.190311  4.206075  1.07436   9.8041  -0.011295  -8.786300   \n",
       "5051766 -1.24964  5.344787  2.852189  0.50855   6.1715   0.238537  11.289770   \n",
       "5051767 -0.57885  5.431946  3.084546  0.64175   5.5514  -0.873222 -14.921353   \n",
       "\n",
       "             ACC_Z  TILE  TILE_IND  X_RELATIVE  Z_RELATIVE  TIME  RACE  GROUP  \n",
       "5051758  24.523110     4        32    0.456929    0.080146   0.2    83      9  \n",
       "5051759 -23.734710     4        32    0.400417    0.130206   0.2    83      9  \n",
       "5051760  -9.560299     4        32    0.352240    0.187974   0.2    83      9  \n",
       "5051761   0.734615     4        32    0.307122    0.248957   0.2    83      9  \n",
       "5051762  -2.067471     4        32    0.266642    0.312780   0.2    83      9  \n",
       "5051763  -1.159763     4        32    0.226296    0.376615   0.2    83      9  \n",
       "5051764   3.362847     4        32    0.190648    0.442550   0.2    83      9  \n",
       "5051765  -4.183674    16         0    0.165195   -0.476492   0.2    83      9  \n",
       "5051766  -2.462674    16         0    0.148534   -0.333965   0.2    83      9  \n",
       "5051767   2.689744    16         0    0.140815   -0.189113   0.2    83      9  "
      ]
     },
     "execution_count": 49,
     "metadata": {},
     "output_type": "execute_result"
    }
   ],
   "source": [
    "races=united[\"RACE\"].max()\n",
    "print(races*0.5)\n",
    "training=united.loc[united['RACE'] <= races*0.5]\n",
    "training.tail(10)"
   ]
  },
  {
   "cell_type": "code",
   "execution_count": 25,
   "id": "d08b491a",
   "metadata": {},
   "outputs": [
    {
     "data": {
      "text/html": [
       "<div>\n",
       "<style scoped>\n",
       "    .dataframe tbody tr th:only-of-type {\n",
       "        vertical-align: middle;\n",
       "    }\n",
       "\n",
       "    .dataframe tbody tr th {\n",
       "        vertical-align: top;\n",
       "    }\n",
       "\n",
       "    .dataframe thead th {\n",
       "        text-align: right;\n",
       "    }\n",
       "</style>\n",
       "<table border=\"1\" class=\"dataframe\">\n",
       "  <thead>\n",
       "    <tr style=\"text-align: right;\">\n",
       "      <th></th>\n",
       "      <th>X</th>\n",
       "      <th>Z</th>\n",
       "      <th>VEL_X</th>\n",
       "      <th>VEL_Z</th>\n",
       "      <th>ROT</th>\n",
       "      <th>ANG_VEL_Y</th>\n",
       "      <th>ACC_X</th>\n",
       "      <th>ACC_Z</th>\n",
       "      <th>TILE</th>\n",
       "      <th>TILE_IND</th>\n",
       "      <th>X_RELATIVE</th>\n",
       "      <th>Z_RELATIVE</th>\n",
       "      <th>TIME</th>\n",
       "      <th>RACE</th>\n",
       "      <th>GROUP</th>\n",
       "    </tr>\n",
       "  </thead>\n",
       "  <tbody>\n",
       "    <tr>\n",
       "      <th>2470682</th>\n",
       "      <td>0.00270</td>\n",
       "      <td>-4.962400</td>\n",
       "      <td>0.123759</td>\n",
       "      <td>-0.813940</td>\n",
       "      <td>-0.0700</td>\n",
       "      <td>0.055793</td>\n",
       "      <td>-1.702185</td>\n",
       "      <td>-0.837422</td>\n",
       "      <td>17</td>\n",
       "      <td>22</td>\n",
       "      <td>-0.459295</td>\n",
       "      <td>-0.110540</td>\n",
       "      <td>0.2</td>\n",
       "      <td>5</td>\n",
       "      <td>9</td>\n",
       "    </tr>\n",
       "    <tr>\n",
       "      <th>2470683</th>\n",
       "      <td>0.00250</td>\n",
       "      <td>-5.130860</td>\n",
       "      <td>-0.017524</td>\n",
       "      <td>-0.787650</td>\n",
       "      <td>0.0002</td>\n",
       "      <td>0.000706</td>\n",
       "      <td>0.121586</td>\n",
       "      <td>0.341511</td>\n",
       "      <td>17</td>\n",
       "      <td>22</td>\n",
       "      <td>-0.459261</td>\n",
       "      <td>-0.178952</td>\n",
       "      <td>0.2</td>\n",
       "      <td>5</td>\n",
       "      <td>9</td>\n",
       "    </tr>\n",
       "    <tr>\n",
       "      <th>2470684</th>\n",
       "      <td>-343.65538</td>\n",
       "      <td>23.621341</td>\n",
       "      <td>-0.006691</td>\n",
       "      <td>26.007860</td>\n",
       "      <td>179.8327</td>\n",
       "      <td>-0.145945</td>\n",
       "      <td>0.091397</td>\n",
       "      <td>3.962040</td>\n",
       "      <td>16</td>\n",
       "      <td>0</td>\n",
       "      <td>-0.041333</td>\n",
       "      <td>-0.228001</td>\n",
       "      <td>0.2</td>\n",
       "      <td>5</td>\n",
       "      <td>9</td>\n",
       "    </tr>\n",
       "    <tr>\n",
       "      <th>2470685</th>\n",
       "      <td>-0.00781</td>\n",
       "      <td>0.513184</td>\n",
       "      <td>-0.092801</td>\n",
       "      <td>4.798755</td>\n",
       "      <td>-0.9364</td>\n",
       "      <td>0.148455</td>\n",
       "      <td>-0.496246</td>\n",
       "      <td>25.744220</td>\n",
       "      <td>16</td>\n",
       "      <td>0</td>\n",
       "      <td>-0.041437</td>\n",
       "      <td>-0.214316</td>\n",
       "      <td>0.2</td>\n",
       "      <td>5</td>\n",
       "      <td>9</td>\n",
       "    </tr>\n",
       "    <tr>\n",
       "      <th>2470686</th>\n",
       "      <td>-0.03454</td>\n",
       "      <td>1.323730</td>\n",
       "      <td>-0.101864</td>\n",
       "      <td>3.123408</td>\n",
       "      <td>-0.3048</td>\n",
       "      <td>-0.017739</td>\n",
       "      <td>0.488042</td>\n",
       "      <td>-7.024400</td>\n",
       "      <td>16</td>\n",
       "      <td>0</td>\n",
       "      <td>-0.041898</td>\n",
       "      <td>-0.179017</td>\n",
       "      <td>0.2</td>\n",
       "      <td>5</td>\n",
       "      <td>9</td>\n",
       "    </tr>\n",
       "  </tbody>\n",
       "</table>\n",
       "</div>"
      ],
      "text/plain": [
       "                 X          Z     VEL_X      VEL_Z       ROT  ANG_VEL_Y   \n",
       "2470682    0.00270  -4.962400  0.123759  -0.813940   -0.0700   0.055793  \\\n",
       "2470683    0.00250  -5.130860 -0.017524  -0.787650    0.0002   0.000706   \n",
       "2470684 -343.65538  23.621341 -0.006691  26.007860  179.8327  -0.145945   \n",
       "2470685   -0.00781   0.513184 -0.092801   4.798755   -0.9364   0.148455   \n",
       "2470686   -0.03454   1.323730 -0.101864   3.123408   -0.3048  -0.017739   \n",
       "\n",
       "            ACC_X      ACC_Z  TILE  TILE_IND  X_RELATIVE  Z_RELATIVE  TIME   \n",
       "2470682 -1.702185  -0.837422    17        22   -0.459295   -0.110540   0.2  \\\n",
       "2470683  0.121586   0.341511    17        22   -0.459261   -0.178952   0.2   \n",
       "2470684  0.091397   3.962040    16         0   -0.041333   -0.228001   0.2   \n",
       "2470685 -0.496246  25.744220    16         0   -0.041437   -0.214316   0.2   \n",
       "2470686  0.488042  -7.024400    16         0   -0.041898   -0.179017   0.2   \n",
       "\n",
       "         RACE  GROUP  \n",
       "2470682     5      9  \n",
       "2470683     5      9  \n",
       "2470684     5      9  \n",
       "2470685     5      9  \n",
       "2470686     5      9  "
      ]
     },
     "execution_count": 25,
     "metadata": {},
     "output_type": "execute_result"
    }
   ],
   "source": [
    "t=df_train[\"ROT\"].idxmax()\n",
    "df_train.iloc[t-2:t+3]"
   ]
  },
  {
   "cell_type": "code",
   "execution_count": 15,
   "id": "93ae5470-5bb8-49c8-89ab-0078b74c8ca1",
   "metadata": {
    "tags": []
   },
   "outputs": [],
   "source": [
    "import pandas as pd\n",
    "import numpy as np\n",
    "import tensorflow as tf\n",
    "\n",
    "\n",
    "SEQUENCE_LENGTH=20\n",
    "ONLY_ONE_CAR=True\n",
    "CARS=4\n",
    "FEATURES=5\n",
    "DISCARD=9\n",
    "COLUMNS=[\"Player\", \"X\", \"Z\", \"VEL_X\",\"VEL_Z\",\"ROT\",\"ANG_VEL_Y\",\"ACC_X\",\"ACC_Z\",\"TILE\",\"TILE_IND\",\"X_RELATIVE\",\"Z_RELATIVE\",\"TIME\"]\n",
    "C_NoPLayer=[\"X\", \"Z\", \"VEL_X\",\"VEL_Z\",\"ROT\",\"ANG_VEL_Y\",\"ACC_X\",\"ACC_Z\",\"TILE\",\"TILE_IND\",\"X_RELATIVE\",\"Z_RELATIVE\",\"TIME\",\"RACE\",\"GROUP\"]\n",
    "\n",
    "def normalize_df(df,minimum,maximum):\n",
    "    normalized=(df-minimum)/(maximum-minimum)\n",
    "    normalized[\"RACE\"]=df[\"RACE\"]\n",
    "    return normalized\n",
    "\n",
    "      \n",
    "    \n",
    "def single_care_dataframe(path):\n",
    "    df_gara=pd.read_csv(path, sep=\";\", header=None , decimal=',',names=COLUMNS)\n",
    "    #create new column called race\n",
    "    df_gara[\"RACE\"]=0\n",
    "    # fill race column based on the cumulative sum of rows starting with '_'\n",
    "    #idx_gara stores each row wich starts with '_'\n",
    "    idx_gara=(df_gara[df_gara[\"Player\"].str.startswith(\"_\")].index)\n",
    "    df_gara.loc[idx_gara,\"Player\"]=df_gara.loc[idx_gara,\"Player\"].str.replace(\"_\",\"\")#replace name without the _\n",
    "\n",
    "    df_gara.loc[idx_gara,\"RACE\"]=1\n",
    "    df_gara.RACE=df_gara.RACE.cumsum()\n",
    "    #Create new column Length wich specifiens the total length of a race\n",
    "    df_gara[\"LENGTH\"]=df_gara.groupby(\"RACE\")[\"Player\"].transform(\"count\")\n",
    "    #if race is lewer then a minimum then it is discarded\n",
    "    df_races=df_gara.query(f\"LENGTH > {SEQUENCE_LENGTH*DISCARD+1}\").reset_index(drop=True)\n",
    "    df_races.drop([\"Player\",\"LENGTH\"],axis=1,inplace=True)\n",
    "    print(df_races[\"RACE\"].nunique())\n",
    "    print(df_races[\"RACE\"].max())\n",
    "\n",
    "    train,val,test = split_train_validation_test(\n",
    "        df_races,\n",
    "        \"RACE\"\n",
    "    ) \n",
    "    df_train= divide_into_groups(train)\n",
    "    df_val= divide_into_groups(val)\n",
    "    df_test= divide_into_groups(test)\n",
    "\n",
    "    return df_train, df_val,df_test\n",
    "\n",
    "def divide_into_groups(df_x):\n",
    "    df=df_x.copy()\n",
    "    dfs=[]\n",
    "    for i in range(DISCARD+1):\n",
    "        df[\"GROUP\"]=i\n",
    "        temp=df.iloc[i::DISCARD+1]\n",
    "        temp.reset_index(drop=True,inplace=True)\n",
    "        dfs.append(temp)\n",
    "    return dfs\n",
    "\n",
    "def subtraction_columns(df):\n",
    "    df_copy=df.shift(1,fill_value=0)\n",
    "    cols = df.columns.difference(['RACE','GROUP',\"TILE\",\"TILE_IND\",\"X_RELATIVE\",\"Z_RELATIVE\"])\n",
    "    df[cols] = df[cols].sub(df_copy[cols])\n",
    "    df[\"ROT\"]=(df[\"ROT\"]+180)%360-180\n",
    "    df.iloc[0,:-7]=0\n",
    "    df.iloc[0,10:12]=0\n",
    "    df.iloc[0,-3]=df.iloc[1,-3]\n",
    "    \n",
    "    return df\n",
    "\n",
    "def get_split(x,first,second):\n",
    "    first =int(x.shape[0]*first)\n",
    "    second = int(x.shape[0]*second) \n",
    "    return x[first:second]\n",
    "    \n",
    "def split_train_validation_test(df,group_col,train_split=0.5,val_split=0.25,test_split=0.25):\n",
    "    val_split +=train_split\n",
    "    \n",
    "    if val_split >1:\n",
    "        raise ValueError(\n",
    "            f\"Train + Validation split cannot be higher tan 1 given {val_split}\"\n",
    "        )\n",
    "\n",
    "    races=df[\"RACE\"].max()+1\n",
    "    df_train=df.loc[df['RACE'] < races*train_split]\n",
    "    df_val=df.loc[(df['RACE'] >= races*train_split) & (df['RACE'] < races*val_split)]\n",
    "    df_test=df.loc[df['RACE'] >= races*val_split]\n",
    "    \n",
    "    #group by race (and player name for single car) and create a new array containing foreach race a dataset\n",
    "    #df_train= df.groupby(group_col,group_keys=False).apply(get_split, first = 0, second= train_split)\n",
    "    #df_val= df.groupby(group_col,group_keys=False).apply(get_split, first = train_split, second= val_split)\n",
    "    #df_test= df.groupby(group_col,group_keys=False).apply(get_split, first = val_split, second= 1)\n",
    "    #\n",
    "    #\n",
    "    ##since each race was plittend into train,val and test the result of previous operation is an array containing the data \n",
    "    ##foreach race, therefore to have the end dataframe we must concatenate each element\n",
    "    #df_train=recreate_dataframe(df_train)\n",
    "    #df_val=recreate_dataframe(df_val)\n",
    "    #df_test=recreate_dataframe(df_test)\n",
    "    \n",
    "    return df_train, df_val,df_test\n",
    "\n",
    "def recreate_dataframe(series):\n",
    "    columns=C_NoPLayer \n",
    "    series.columns=columns\n",
    "    df=series.reset_index(drop=True)\n",
    "    #v#alues=series.values\n",
    "    #df=pd.DataFrame(values[0],columns=columns)\n",
    "    #\n",
    "#\n",
    "    #for serie in values[1:]:\n",
    "    #    df= pd.concat([df, pd.DataFrame(serie,columns=columns)],ignore_index=True)\n",
    "    return df\n",
    "\n",
    "def batch_generator(df):\n",
    "    \n",
    "    #crea un nuovo dataframe con sequence_length elementi per un numero di volte pari al batch\n",
    "    dropped_df=df.drop([\"TIME\",\"RACE\",\"GROUP\",\"X\",\"Z\",\"ACC_X\",\"ACC_Z\",\"ANG_VEL_Y\"],axis=1).reset_index(drop=True)\n",
    "    #dropped_df[\"ROT\"]=dropped_df[\"ROT\"]/360.0;\n",
    "    target_df=dropped_df.drop([\"TILE\",\"TILE_IND\",\"X_RELATIVE\",\"Z_RELATIVE\"],axis=1).reset_index(drop=True)\n",
    "    #dropped_df=dropped_df.drop([ \"VEL_X\",\"VEL_Z\",\"ROT\"],axis=1).reset_index(drop=True)\n",
    "    for i in range(len(dropped_df)-SEQUENCE_LENGTH):\n",
    "        inputs=np.array(dropped_df.loc[i:SEQUENCE_LENGTH-1+i,:].values)\n",
    "        targets=target_df.iloc[SEQUENCE_LENGTH+i,:].values\n",
    "        yield inputs,targets  \n",
    "\n",
    "def Generator(df):\n",
    "    grouped=df.groupby([\"RACE\",\"GROUP\"],group_keys=False).apply(batch_generator)\n",
    "    for group in grouped:\n",
    "        for single in group:\n",
    "            yield single\n",
    "            \n",
    "class DataGenerator(tf.keras.utils.Sequence):\n",
    "    def __init__(self,batch_size,df,max_batch):\n",
    "        self.batch_size=batch_size\n",
    "        self.df=df\n",
    "        length=df.groupby([\"RACE\",\"GROUP\"]).apply(countSize)\n",
    "        \n",
    "        self.df_length=len(df.index)-(df[\"RACE\"].nunique()*SEQUENCE_LENGTH*CARS)\n",
    "        self.max_batch=max_batch            \n",
    "        print(f'Length: {len(df.index)} races: {df[\"RACE\"].nunique()} n batches: {self.df_length} / {batch_size}')\n",
    "        self.on_epoch_end()\n",
    "        #self.generator=generator_function(sequence_length,path,totFiles)\n",
    "        \n",
    "    def __getitem__(self,index):\n",
    "        X=[]\n",
    "        Y=[]\n",
    "        for i in range(self.batch_size):\n",
    "            #while True:\n",
    "            #    x,y=next(self.generator)\n",
    "            #    x_shape=np.shape(x)\n",
    "            #    if x_shape[0]==x_shape[1]:\n",
    "            #        break\n",
    "            x,y=next(self.generator)\n",
    "            X.append(x)\n",
    "            Y.append(y)\n",
    "            \n",
    "        #print(np.shape(X))    \n",
    "        tensor_x=tf.constant(X)\n",
    "        tensor_y=tf.constant(Y)\n",
    "        return tensor_x,tensor_y\n",
    "    \n",
    "    def __len__(self):\n",
    "        value=int(self.df_length/self.batch_size-1)\n",
    "        if value>self.max_batch:\n",
    "            value=self.max_batch\n",
    "        return value\n",
    "    \n",
    "    def on_epoch_end(self):\n",
    "        self.generator=Generator(self.df)"
   ]
  },
  {
   "cell_type": "code",
   "execution_count": 59,
   "id": "9a254609-0495-44c3-85e9-52ce48782d8c",
   "metadata": {
    "tags": []
   },
   "outputs": [
    {
     "data": {
      "text/plain": [
       "2703516"
      ]
     },
     "execution_count": 59,
     "metadata": {},
     "output_type": "execute_result"
    }
   ],
   "source": [
    "#(len(df_train.index) - df_train[\"RACE\"].nunique()*SEQUENCE_LENGTH)/BATCH_SIZE\n",
    "def countSize(df):\n",
    "    return len(df.reset_index(drop=True))-SEQUENCE_LENGTH\n",
    "\n",
    "somma=df_train.groupby([\"RACE\",\"GROUP\"]).apply(countSize)\n",
    "somma.sum()"
   ]
  },
  {
   "cell_type": "code",
   "execution_count": 29,
   "id": "c5328818-c0ec-4e0b-8c9d-1b27f83d92b2",
   "metadata": {
    "tags": []
   },
   "outputs": [
    {
     "data": {
      "text/html": [
       "<div>\n",
       "<style scoped>\n",
       "    .dataframe tbody tr th:only-of-type {\n",
       "        vertical-align: middle;\n",
       "    }\n",
       "\n",
       "    .dataframe tbody tr th {\n",
       "        vertical-align: top;\n",
       "    }\n",
       "\n",
       "    .dataframe thead th {\n",
       "        text-align: right;\n",
       "    }\n",
       "</style>\n",
       "<table border=\"1\" class=\"dataframe\">\n",
       "  <thead>\n",
       "    <tr style=\"text-align: right;\">\n",
       "      <th></th>\n",
       "      <th>X</th>\n",
       "      <th>Z</th>\n",
       "      <th>VEL_X</th>\n",
       "      <th>VEL_Z</th>\n",
       "      <th>ROT</th>\n",
       "      <th>ANG_VEL_Y</th>\n",
       "      <th>ACC_X</th>\n",
       "      <th>ACC_Z</th>\n",
       "      <th>TILE</th>\n",
       "      <th>TILE_IND</th>\n",
       "      <th>X_RELATIVE</th>\n",
       "      <th>Z_RELATIVE</th>\n",
       "      <th>TIME</th>\n",
       "      <th>RACE</th>\n",
       "      <th>GROUP</th>\n",
       "    </tr>\n",
       "  </thead>\n",
       "  <tbody>\n",
       "    <tr>\n",
       "      <th>2720311</th>\n",
       "      <td>-3.02600</td>\n",
       "      <td>4.787650</td>\n",
       "      <td>0.228000</td>\n",
       "      <td>-0.06486</td>\n",
       "      <td>-0.8624</td>\n",
       "      <td>0.594987</td>\n",
       "      <td>2.488040</td>\n",
       "      <td>-1.159763</td>\n",
       "      <td>4</td>\n",
       "      <td>32</td>\n",
       "      <td>0.226296</td>\n",
       "      <td>0.376615</td>\n",
       "      <td>0.2</td>\n",
       "      <td>83</td>\n",
       "      <td>9</td>\n",
       "    </tr>\n",
       "    <tr>\n",
       "      <th>2720312</th>\n",
       "      <td>-2.67359</td>\n",
       "      <td>4.945070</td>\n",
       "      <td>2.600840</td>\n",
       "      <td>1.12468</td>\n",
       "      <td>7.7518</td>\n",
       "      <td>0.070049</td>\n",
       "      <td>5.761860</td>\n",
       "      <td>3.362847</td>\n",
       "      <td>4</td>\n",
       "      <td>32</td>\n",
       "      <td>0.190648</td>\n",
       "      <td>0.442550</td>\n",
       "      <td>0.2</td>\n",
       "      <td>83</td>\n",
       "      <td>9</td>\n",
       "    </tr>\n",
       "    <tr>\n",
       "      <th>2720313</th>\n",
       "      <td>-1.90893</td>\n",
       "      <td>5.190311</td>\n",
       "      <td>4.206075</td>\n",
       "      <td>1.07436</td>\n",
       "      <td>9.8041</td>\n",
       "      <td>-0.011295</td>\n",
       "      <td>-8.786300</td>\n",
       "      <td>-4.183674</td>\n",
       "      <td>16</td>\n",
       "      <td>0</td>\n",
       "      <td>0.165195</td>\n",
       "      <td>-0.476492</td>\n",
       "      <td>0.2</td>\n",
       "      <td>83</td>\n",
       "      <td>9</td>\n",
       "    </tr>\n",
       "    <tr>\n",
       "      <th>2720314</th>\n",
       "      <td>-1.24964</td>\n",
       "      <td>5.344787</td>\n",
       "      <td>2.852189</td>\n",
       "      <td>0.50855</td>\n",
       "      <td>6.1715</td>\n",
       "      <td>0.238537</td>\n",
       "      <td>11.289770</td>\n",
       "      <td>-2.462674</td>\n",
       "      <td>16</td>\n",
       "      <td>0</td>\n",
       "      <td>0.148534</td>\n",
       "      <td>-0.333965</td>\n",
       "      <td>0.2</td>\n",
       "      <td>83</td>\n",
       "      <td>9</td>\n",
       "    </tr>\n",
       "    <tr>\n",
       "      <th>2720315</th>\n",
       "      <td>-0.57885</td>\n",
       "      <td>5.431946</td>\n",
       "      <td>3.084546</td>\n",
       "      <td>0.64175</td>\n",
       "      <td>5.5514</td>\n",
       "      <td>-0.873222</td>\n",
       "      <td>-14.921353</td>\n",
       "      <td>2.689744</td>\n",
       "      <td>16</td>\n",
       "      <td>0</td>\n",
       "      <td>0.140815</td>\n",
       "      <td>-0.189113</td>\n",
       "      <td>0.2</td>\n",
       "      <td>83</td>\n",
       "      <td>9</td>\n",
       "    </tr>\n",
       "  </tbody>\n",
       "</table>\n",
       "</div>"
      ],
      "text/plain": [
       "               X         Z     VEL_X    VEL_Z     ROT  ANG_VEL_Y      ACC_X  \\\n",
       "2720311 -3.02600  4.787650  0.228000 -0.06486 -0.8624   0.594987   2.488040   \n",
       "2720312 -2.67359  4.945070  2.600840  1.12468  7.7518   0.070049   5.761860   \n",
       "2720313 -1.90893  5.190311  4.206075  1.07436  9.8041  -0.011295  -8.786300   \n",
       "2720314 -1.24964  5.344787  2.852189  0.50855  6.1715   0.238537  11.289770   \n",
       "2720315 -0.57885  5.431946  3.084546  0.64175  5.5514  -0.873222 -14.921353   \n",
       "\n",
       "            ACC_Z  TILE  TILE_IND  X_RELATIVE  Z_RELATIVE  TIME  RACE  GROUP  \n",
       "2720311 -1.159763     4        32    0.226296    0.376615   0.2    83      9  \n",
       "2720312  3.362847     4        32    0.190648    0.442550   0.2    83      9  \n",
       "2720313 -4.183674    16         0    0.165195   -0.476492   0.2    83      9  \n",
       "2720314 -2.462674    16         0    0.148534   -0.333965   0.2    83      9  \n",
       "2720315  2.689744    16         0    0.140815   -0.189113   0.2    83      9  "
      ]
     },
     "execution_count": 29,
     "metadata": {},
     "output_type": "execute_result"
    }
   ],
   "source": [
    "df_train.tail()"
   ]
  }
 ],
 "metadata": {
  "kernelspec": {
   "display_name": "Python 3 (ipykernel)",
   "language": "python",
   "name": "python3"
  },
  "language_info": {
   "codemirror_mode": {
    "name": "ipython",
    "version": 3
   },
   "file_extension": ".py",
   "mimetype": "text/x-python",
   "name": "python",
   "nbconvert_exporter": "python",
   "pygments_lexer": "ipython3",
   "version": "3.9.16"
  }
 },
 "nbformat": 4,
 "nbformat_minor": 5
}
