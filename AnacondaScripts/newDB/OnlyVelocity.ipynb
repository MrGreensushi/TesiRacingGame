{
 "cells": [
  {
   "cell_type": "code",
   "execution_count": 1,
   "id": "20fea2a4-8e09-4803-be40-899fe4695d84",
   "metadata": {
    "tags": []
   },
   "outputs": [],
   "source": [
    "%load_ext autoreload\n",
    "%autoreload 2\n",
    "#%reload_ext autoreload"
   ]
  },
  {
   "cell_type": "code",
   "execution_count": 2,
   "id": "45d2e55b",
   "metadata": {
    "tags": []
   },
   "outputs": [],
   "source": [
    "import tensorflow as tf\n",
    "import tensorflow.keras.layers as layers\n",
    "import numpy as np\n",
    "import matplotlib.pyplot as plt\n",
    "import pandas as pd\n",
    "import Generator\n",
    "import model_definitions"
   ]
  },
  {
   "cell_type": "markdown",
   "id": "4b7f6852",
   "metadata": {},
   "source": [
    "### Open input file"
   ]
  },
  {
   "cell_type": "code",
   "execution_count": 53,
   "id": "41825ca2",
   "metadata": {
    "tags": []
   },
   "outputs": [],
   "source": [
    "SEQUENCE_LENGTH=20\n",
    "ONE_CAR=True\n",
    "PATH=r\"D:\\Users\\Students\\Daniele\\records\\OneCar_db.txt\"\n",
    "BATCH_SIZE=256*2\n",
    "FEATURES=7 \n",
    "FEATURES_PREDICTED=3\n",
    "DISCARD=4"
   ]
  },
  {
   "cell_type": "code",
   "execution_count": 24,
   "id": "0c7b14b0-98d5-49ff-8b88-14abd0632982",
   "metadata": {
    "tags": []
   },
   "outputs": [
    {
     "name": "stdout",
     "output_type": "stream",
     "text": [
      "Max speed diff: 0.8\n",
      "Max x/z diff: 0.8\n",
      "Max rot diff: 2.8000000000000003\n"
     ]
    }
   ],
   "source": [
    "maxSpeed=40\n",
    "frequency=0.02\n",
    "maxdiff=maxSpeed*frequency\n",
    "maxAngularVelocity=140 #140 degrees for second\n",
    "maxAngDiff=maxAngularVelocity*frequency\n",
    "print(f\"Max speed diff: {maxdiff}\\nMax x/z diff: {maxdiff}\\nMax rot diff: {maxAngDiff}\")"
   ]
  },
  {
   "cell_type": "code",
   "execution_count": 54,
   "id": "252787ad-4829-467c-8bfa-c15a35435c94",
   "metadata": {
    "tags": []
   },
   "outputs": [],
   "source": [
    "Generator.SEQUENCE_LENGTH=SEQUENCE_LENGTH\n",
    "Generator.FEATURES=FEATURES\n",
    "Generator.DISCARD=DISCARD\n",
    "df=Generator.single_care_dataframe(PATH)"
   ]
  },
  {
   "cell_type": "code",
   "execution_count": 55,
   "id": "c606f34c",
   "metadata": {
    "tags": []
   },
   "outputs": [],
   "source": [
    "def SubtractDF(df):\n",
    "    return df.groupby(\"RACE\",group_keys=False).apply(Generator.subtraction_columns)\n",
    "\n",
    "dfs=[]\n",
    "for i in range(len(df)):\n",
    "    dfs.append(SubtractDF(df[i]))\n",
    "    #dfs.append(df[i])\n",
    "\n",
    "united=dfs[0]\n",
    "for i in range(1,len(df)):\n",
    "    united=pd.concat([united,dfs[i] ],ignore_index=True)"
   ]
  },
  {
   "cell_type": "code",
   "execution_count": 56,
   "id": "125a142c-90ad-41ed-bdd0-89476ac9e60c",
   "metadata": {
    "tags": []
   },
   "outputs": [
    {
     "data": {
      "text/html": [
       "<div>\n",
       "<style scoped>\n",
       "    .dataframe tbody tr th:only-of-type {\n",
       "        vertical-align: middle;\n",
       "    }\n",
       "\n",
       "    .dataframe tbody tr th {\n",
       "        vertical-align: top;\n",
       "    }\n",
       "\n",
       "    .dataframe thead th {\n",
       "        text-align: right;\n",
       "    }\n",
       "</style>\n",
       "<table border=\"1\" class=\"dataframe\">\n",
       "  <thead>\n",
       "    <tr style=\"text-align: right;\">\n",
       "      <th></th>\n",
       "      <th>X</th>\n",
       "      <th>Z</th>\n",
       "      <th>VEL_X</th>\n",
       "      <th>VEL_Z</th>\n",
       "      <th>ROT</th>\n",
       "      <th>ANG_VEL_Y</th>\n",
       "      <th>ACC_X</th>\n",
       "      <th>ACC_Z</th>\n",
       "      <th>TILE</th>\n",
       "      <th>TILE_IND</th>\n",
       "      <th>X_RELATIVE</th>\n",
       "      <th>Z_RELATIVE</th>\n",
       "      <th>TIME</th>\n",
       "      <th>RACE</th>\n",
       "      <th>GROUP</th>\n",
       "    </tr>\n",
       "  </thead>\n",
       "  <tbody>\n",
       "    <tr>\n",
       "      <th>5310813</th>\n",
       "      <td>2.3413</td>\n",
       "      <td>1.9441</td>\n",
       "      <td>-2.01551</td>\n",
       "      <td>1.05358</td>\n",
       "      <td>-5.72338</td>\n",
       "      <td>-0.186481</td>\n",
       "      <td>-5.175210</td>\n",
       "      <td>4.720117</td>\n",
       "      <td>8</td>\n",
       "      <td>16</td>\n",
       "      <td>0.375339</td>\n",
       "      <td>0.048882</td>\n",
       "      <td>0.1</td>\n",
       "      <td>167</td>\n",
       "      <td>4</td>\n",
       "    </tr>\n",
       "    <tr>\n",
       "      <th>5310814</th>\n",
       "      <td>2.1217</td>\n",
       "      <td>2.0481</td>\n",
       "      <td>-2.21052</td>\n",
       "      <td>0.99515</td>\n",
       "      <td>-4.38789</td>\n",
       "      <td>0.364591</td>\n",
       "      <td>0.109960</td>\n",
       "      <td>-1.190663</td>\n",
       "      <td>8</td>\n",
       "      <td>16</td>\n",
       "      <td>0.389484</td>\n",
       "      <td>0.062536</td>\n",
       "      <td>0.1</td>\n",
       "      <td>167</td>\n",
       "      <td>4</td>\n",
       "    </tr>\n",
       "    <tr>\n",
       "      <th>5310815</th>\n",
       "      <td>1.8849</td>\n",
       "      <td>2.1230</td>\n",
       "      <td>-2.58824</td>\n",
       "      <td>0.61740</td>\n",
       "      <td>-4.11937</td>\n",
       "      <td>-0.222150</td>\n",
       "      <td>-14.392850</td>\n",
       "      <td>-1.562214</td>\n",
       "      <td>8</td>\n",
       "      <td>16</td>\n",
       "      <td>0.402050</td>\n",
       "      <td>0.076690</td>\n",
       "      <td>0.1</td>\n",
       "      <td>167</td>\n",
       "      <td>4</td>\n",
       "    </tr>\n",
       "    <tr>\n",
       "      <th>5310816</th>\n",
       "      <td>1.7305</td>\n",
       "      <td>2.1145</td>\n",
       "      <td>-0.75562</td>\n",
       "      <td>-0.61419</td>\n",
       "      <td>0.49810</td>\n",
       "      <td>1.193877</td>\n",
       "      <td>19.567770</td>\n",
       "      <td>-7.124043</td>\n",
       "      <td>8</td>\n",
       "      <td>16</td>\n",
       "      <td>0.413586</td>\n",
       "      <td>0.090786</td>\n",
       "      <td>0.1</td>\n",
       "      <td>167</td>\n",
       "      <td>4</td>\n",
       "    </tr>\n",
       "    <tr>\n",
       "      <th>5310817</th>\n",
       "      <td>1.7298</td>\n",
       "      <td>1.9934</td>\n",
       "      <td>0.56784</td>\n",
       "      <td>-1.62790</td>\n",
       "      <td>4.00287</td>\n",
       "      <td>0.507888</td>\n",
       "      <td>22.937017</td>\n",
       "      <td>-19.221210</td>\n",
       "      <td>8</td>\n",
       "      <td>16</td>\n",
       "      <td>0.425119</td>\n",
       "      <td>0.104076</td>\n",
       "      <td>0.1</td>\n",
       "      <td>167</td>\n",
       "      <td>4</td>\n",
       "    </tr>\n",
       "  </tbody>\n",
       "</table>\n",
       "</div>"
      ],
      "text/plain": [
       "              X       Z    VEL_X    VEL_Z      ROT  ANG_VEL_Y      ACC_X  \\\n",
       "5310813  2.3413  1.9441 -2.01551  1.05358 -5.72338  -0.186481  -5.175210   \n",
       "5310814  2.1217  2.0481 -2.21052  0.99515 -4.38789   0.364591   0.109960   \n",
       "5310815  1.8849  2.1230 -2.58824  0.61740 -4.11937  -0.222150 -14.392850   \n",
       "5310816  1.7305  2.1145 -0.75562 -0.61419  0.49810   1.193877  19.567770   \n",
       "5310817  1.7298  1.9934  0.56784 -1.62790  4.00287   0.507888  22.937017   \n",
       "\n",
       "             ACC_Z  TILE  TILE_IND  X_RELATIVE  Z_RELATIVE  TIME  RACE  GROUP  \n",
       "5310813   4.720117     8        16    0.375339    0.048882   0.1   167      4  \n",
       "5310814  -1.190663     8        16    0.389484    0.062536   0.1   167      4  \n",
       "5310815  -1.562214     8        16    0.402050    0.076690   0.1   167      4  \n",
       "5310816  -7.124043     8        16    0.413586    0.090786   0.1   167      4  \n",
       "5310817 -19.221210     8        16    0.425119    0.104076   0.1   167      4  "
      ]
     },
     "execution_count": 56,
     "metadata": {},
     "output_type": "execute_result"
    }
   ],
   "source": [
    "united.tail()"
   ]
  },
  {
   "cell_type": "code",
   "execution_count": 57,
   "id": "e678fb09-6d88-4e8f-8793-5c52ad3987f1",
   "metadata": {
    "tags": []
   },
   "outputs": [],
   "source": [
    "df_train,df_val,df_test= Generator.split_train_validation_test(united,[\"RACE\",\"GROUP\"])"
   ]
  },
  {
   "cell_type": "code",
   "execution_count": 58,
   "id": "f87d77fd-2c1d-4c38-9211-d08d8f3f8707",
   "metadata": {
    "tags": []
   },
   "outputs": [
    {
     "data": {
      "text/html": [
       "<div>\n",
       "<style scoped>\n",
       "    .dataframe tbody tr th:only-of-type {\n",
       "        vertical-align: middle;\n",
       "    }\n",
       "\n",
       "    .dataframe tbody tr th {\n",
       "        vertical-align: top;\n",
       "    }\n",
       "\n",
       "    .dataframe thead th {\n",
       "        text-align: right;\n",
       "    }\n",
       "</style>\n",
       "<table border=\"1\" class=\"dataframe\">\n",
       "  <thead>\n",
       "    <tr style=\"text-align: right;\">\n",
       "      <th></th>\n",
       "      <th>X</th>\n",
       "      <th>Z</th>\n",
       "      <th>VEL_X</th>\n",
       "      <th>VEL_Z</th>\n",
       "      <th>ROT</th>\n",
       "      <th>ANG_VEL_Y</th>\n",
       "      <th>ACC_X</th>\n",
       "      <th>ACC_Z</th>\n",
       "      <th>TILE</th>\n",
       "      <th>TILE_IND</th>\n",
       "      <th>X_RELATIVE</th>\n",
       "      <th>Z_RELATIVE</th>\n",
       "      <th>TIME</th>\n",
       "      <th>RACE</th>\n",
       "      <th>GROUP</th>\n",
       "    </tr>\n",
       "  </thead>\n",
       "  <tbody>\n",
       "    <tr>\n",
       "      <th>0</th>\n",
       "      <td>0.00000</td>\n",
       "      <td>0.00000</td>\n",
       "      <td>0.000000</td>\n",
       "      <td>0.000000</td>\n",
       "      <td>0.0000</td>\n",
       "      <td>0.000000</td>\n",
       "      <td>0.000000</td>\n",
       "      <td>0.000000</td>\n",
       "      <td>0</td>\n",
       "      <td>0</td>\n",
       "      <td>0.000000</td>\n",
       "      <td>0.000000</td>\n",
       "      <td>0.0</td>\n",
       "      <td>0</td>\n",
       "      <td>0</td>\n",
       "    </tr>\n",
       "    <tr>\n",
       "      <th>1</th>\n",
       "      <td>-0.00005</td>\n",
       "      <td>0.09370</td>\n",
       "      <td>0.000000</td>\n",
       "      <td>1.831339</td>\n",
       "      <td>0.0000</td>\n",
       "      <td>0.000000</td>\n",
       "      <td>0.000000</td>\n",
       "      <td>21.263850</td>\n",
       "      <td>4</td>\n",
       "      <td>32</td>\n",
       "      <td>-0.124001</td>\n",
       "      <td>0.390583</td>\n",
       "      <td>0.1</td>\n",
       "      <td>0</td>\n",
       "      <td>0</td>\n",
       "    </tr>\n",
       "    <tr>\n",
       "      <th>2</th>\n",
       "      <td>-0.00061</td>\n",
       "      <td>0.29761</td>\n",
       "      <td>-0.030470</td>\n",
       "      <td>1.845064</td>\n",
       "      <td>-0.0278</td>\n",
       "      <td>-0.024275</td>\n",
       "      <td>-1.523513</td>\n",
       "      <td>-5.043560</td>\n",
       "      <td>4</td>\n",
       "      <td>32</td>\n",
       "      <td>-0.124009</td>\n",
       "      <td>0.394551</td>\n",
       "      <td>0.1</td>\n",
       "      <td>0</td>\n",
       "      <td>0</td>\n",
       "    </tr>\n",
       "    <tr>\n",
       "      <th>3</th>\n",
       "      <td>-0.11072</td>\n",
       "      <td>0.43237</td>\n",
       "      <td>-0.966261</td>\n",
       "      <td>1.363851</td>\n",
       "      <td>-3.8248</td>\n",
       "      <td>-0.440160</td>\n",
       "      <td>22.816403</td>\n",
       "      <td>4.689970</td>\n",
       "      <td>4</td>\n",
       "      <td>32</td>\n",
       "      <td>-0.125485</td>\n",
       "      <td>0.400316</td>\n",
       "      <td>0.1</td>\n",
       "      <td>0</td>\n",
       "      <td>0</td>\n",
       "    </tr>\n",
       "    <tr>\n",
       "      <th>4</th>\n",
       "      <td>-0.09253</td>\n",
       "      <td>0.55347</td>\n",
       "      <td>0.593763</td>\n",
       "      <td>0.755228</td>\n",
       "      <td>-1.9178</td>\n",
       "      <td>0.321507</td>\n",
       "      <td>12.455210</td>\n",
       "      <td>-18.515107</td>\n",
       "      <td>4</td>\n",
       "      <td>32</td>\n",
       "      <td>-0.126719</td>\n",
       "      <td>0.407695</td>\n",
       "      <td>0.1</td>\n",
       "      <td>0</td>\n",
       "      <td>0</td>\n",
       "    </tr>\n",
       "  </tbody>\n",
       "</table>\n",
       "</div>"
      ],
      "text/plain": [
       "         X        Z     VEL_X     VEL_Z     ROT  ANG_VEL_Y      ACC_X  \\\n",
       "0  0.00000  0.00000  0.000000  0.000000  0.0000   0.000000   0.000000   \n",
       "1 -0.00005  0.09370  0.000000  1.831339  0.0000   0.000000   0.000000   \n",
       "2 -0.00061  0.29761 -0.030470  1.845064 -0.0278  -0.024275  -1.523513   \n",
       "3 -0.11072  0.43237 -0.966261  1.363851 -3.8248  -0.440160  22.816403   \n",
       "4 -0.09253  0.55347  0.593763  0.755228 -1.9178   0.321507  12.455210   \n",
       "\n",
       "       ACC_Z  TILE  TILE_IND  X_RELATIVE  Z_RELATIVE  TIME  RACE  GROUP  \n",
       "0   0.000000     0         0    0.000000    0.000000   0.0     0      0  \n",
       "1  21.263850     4        32   -0.124001    0.390583   0.1     0      0  \n",
       "2  -5.043560     4        32   -0.124009    0.394551   0.1     0      0  \n",
       "3   4.689970     4        32   -0.125485    0.400316   0.1     0      0  \n",
       "4 -18.515107     4        32   -0.126719    0.407695   0.1     0      0  "
      ]
     },
     "execution_count": 58,
     "metadata": {},
     "output_type": "execute_result"
    }
   ],
   "source": [
    "df_train.head()"
   ]
  },
  {
   "cell_type": "code",
   "execution_count": 59,
   "id": "1e6c4e46-452c-46d6-9ce1-965c703e5be4",
   "metadata": {
    "tags": []
   },
   "outputs": [
    {
     "name": "stdout",
     "output_type": "stream",
     "text": [
      "Length: 2655220 races: 168 n batches: 2641780 / 512\n",
      "Length: 1327578 races: 168 n batches: 1314138 / 512\n",
      "Length: 1328020 races: 168 n batches: 1314580 / 512\n"
     ]
    }
   ],
   "source": [
    "gen_train=Generator.DataGenerator(BATCH_SIZE,df_train,16000)\n",
    "gen_val=Generator.DataGenerator(BATCH_SIZE,df_val,16000)\n",
    "gen_test=Generator.DataGenerator(BATCH_SIZE,df_test,16000)\n"
   ]
  },
  {
   "cell_type": "code",
   "execution_count": 11,
   "id": "5ba788fa-8aaf-4878-9ef8-29a427d59810",
   "metadata": {
    "tags": []
   },
   "outputs": [
    {
     "name": "stdout",
     "output_type": "stream",
     "text": [
      "tf.Tensor(\n",
      "[[-2.757810e-01  1.246600e-01 -1.306900e+00  1.200000e+01  2.700000e+01\n",
      "  -9.446694e-02  3.595443e-01]\n",
      " [ 3.736570e-01  2.366800e-01  9.810000e-01  1.200000e+01  2.700000e+01\n",
      "  -1.044873e-01  3.896078e-01]\n",
      " [-7.494500e-02  5.423100e-01  5.647000e-01  1.200000e+01  2.700000e+01\n",
      "  -1.141862e-01  4.202539e-01]\n",
      " [-3.645820e-01  4.572700e-01 -8.794000e-01  1.200000e+01  2.700000e+01\n",
      "  -1.241268e-01  4.515023e-01]\n",
      " [-3.495050e-01  3.488100e-01 -8.515000e-01  1.200000e+01  2.700000e+01\n",
      "  -1.347103e-01  4.831592e-01]\n",
      " [-2.982920e-01  5.352800e-01  4.440000e-01  1.600000e+01  2.800000e+01\n",
      "   2.088509e-01 -4.385417e-01]\n",
      " [ 1.034670e+00  5.015900e-01  3.045200e+00  1.600000e+01  2.800000e+01\n",
      "   1.883610e-01 -3.072005e-01]\n",
      " [ 2.415393e+00  3.985500e-01  5.225200e+00  1.600000e+01  2.800000e+01\n",
      "   1.718392e-01 -1.733464e-01]\n",
      " [ 2.441334e+00 -4.543300e-01  4.898400e+00  1.600000e+01  2.800000e+01\n",
      "   1.615462e-01 -3.984375e-02]\n",
      " [ 2.848220e-01  1.767500e-01 -5.762000e-01  1.600000e+01  2.800000e+01\n",
      "   1.540234e-01  9.206380e-02]\n",
      " [-5.115890e-01  3.922200e-01 -7.017000e-01  1.600000e+01  2.800000e+01\n",
      "   1.467171e-01  2.266537e-01]\n",
      " [-2.227868e+00 -5.545200e-01 -6.110300e+00  1.600000e+01  2.800000e+01\n",
      "   1.352083e-01  3.595313e-01]\n",
      " [-2.800758e+00 -1.076860e+00 -5.693700e+00  1.600000e+01  2.800000e+01\n",
      "   1.181901e-01  4.894987e-01]\n",
      " [-2.170647e+00 -1.277560e+00 -4.282500e+00  2.000000e+00  2.900000e+01\n",
      "   9.484538e-02 -4.436165e-01]\n",
      " [-9.913600e-01 -9.887400e-01 -3.322000e+00  2.000000e+00  2.900000e+01\n",
      "   6.794271e-02 -3.845313e-01]\n",
      " [-9.750100e-01 -6.867200e-01 -2.869400e+00  2.000000e+00  2.900000e+01\n",
      "   3.889486e-02 -3.275163e-01]\n",
      " [-1.277680e+00 -3.715000e-01 -2.708700e+00  2.000000e+00  2.900000e+01\n",
      "   6.816406e-03 -2.715365e-01]\n",
      " [-8.041400e-01  2.792700e-01 -7.573000e-01  2.000000e+00  2.900000e+01\n",
      "  -2.771322e-02 -2.156250e-01]\n",
      " [-1.235790e+00 -6.298700e-01 -3.442600e+00  2.000000e+00  2.900000e+01\n",
      "  -6.481608e-02 -1.605208e-01]\n",
      " [-1.476610e+00 -1.609960e+00 -4.011400e+00  2.000000e+00  2.900000e+01\n",
      "  -1.049674e-01 -1.071452e-01]], shape=(20, 7), dtype=float64)\n"
     ]
    },
    {
     "data": {
      "text/plain": [
       "<tf.Tensor: shape=(3,), dtype=float64, numpy=array([-2.32198, -2.44539, -8.118  ])>"
      ]
     },
     "execution_count": 11,
     "metadata": {},
     "output_type": "execute_result"
    }
   ],
   "source": [
    "x_y=gen_test[0]\n",
    "x=x_y[0][0]\n",
    "print(x)\n",
    "x_y[1][0]"
   ]
  },
  {
   "cell_type": "markdown",
   "id": "1ce93477",
   "metadata": {
    "tags": []
   },
   "source": [
    "### Model definition"
   ]
  },
  {
   "cell_type": "markdown",
   "id": "e9f400a4",
   "metadata": {},
   "source": [
    "#### Train and print"
   ]
  },
  {
   "cell_type": "code",
   "execution_count": 60,
   "id": "2d50ad3a",
   "metadata": {
    "tags": []
   },
   "outputs": [],
   "source": [
    "if(ONE_CAR):\n",
    "    model_definitions.cars=1\n",
    "else:\n",
    "    model_definitions.cars=4\n",
    "model_definitions.features=FEATURES\n",
    "model_definitions.sequence_length=SEQUENCE_LENGTH\n",
    "model_definitions.feat_pred=FEATURES_PREDICTED"
   ]
  },
  {
   "cell_type": "markdown",
   "id": "b1d92d02-082b-47d0-9a36-b42cf8349a43",
   "metadata": {
    "jp-MarkdownHeadingCollapsed": true,
    "tags": []
   },
   "source": [
    "### Rules Model"
   ]
  },
  {
   "cell_type": "code",
   "execution_count": null,
   "id": "cb53b762",
   "metadata": {},
   "outputs": [],
   "source": [
    "lstm,history=LSTM_Train(2,SEQUENCE_LENGTH,4,rules_train,rules_val,learning_rate=0.01,epoch=100, dropout=0.2, cells=6 )\n",
    "\n",
    "ev=lstm.evaluate(rules_test,verbose=0)\n",
    "print(f\"Loss: {ev[0]} MAE: {ev[1]} Accuracy: {ev[2]}\")"
   ]
  },
  {
   "cell_type": "code",
   "execution_count": null,
   "id": "bd1b77a7",
   "metadata": {},
   "outputs": [],
   "source": [
    "lstm2,history=LSTM_Train(2,SEQUENCE_LENGTH,4,rules_train,rules_val,learning_rate=0.002,epoch=100, dropout=0.02, cells=1)\n",
    "\n",
    "ev=lstm2.evaluate(rules_test,verbose=0)\n",
    "print(f\"Loss: {ev[0]} MAE: {ev[1]} Accuracy: {ev[2]}\")"
   ]
  },
  {
   "cell_type": "code",
   "execution_count": null,
   "id": "acc81020",
   "metadata": {},
   "outputs": [],
   "source": [
    "mlp,history=MLP_Train(2,SEQUENCE_LENGTH,4,rules_train,rules_val,learning_rate=0.001,epoch=100)\n",
    "\n",
    "ev=mlp.evaluate(rules_test,verbose=0)\n",
    "print(f\"Loss: {ev[0]} MAE: {ev[1]} Accuracy: {ev[2]}\")"
   ]
  },
  {
   "cell_type": "code",
   "execution_count": null,
   "id": "62dedac7",
   "metadata": {},
   "outputs": [],
   "source": [
    "siamese,history=LSTM_Siamese_Train(2,SEQUENCE_LENGTH,4,rules_train,rules_val,learning_rate=0.001,epoch=100, dropout=0.02, cells=2 )\n",
    "\n",
    "ev=siamese.evaluate(rules_test,verbose=0)\n",
    "print(f\"Loss: {ev[0]} MAE: {ev[1]} Accuracy: {ev[2]}\")"
   ]
  },
  {
   "cell_type": "markdown",
   "id": "995fbcaa",
   "metadata": {
    "tags": []
   },
   "source": [
    "### Physichs Model"
   ]
  },
  {
   "cell_type": "markdown",
   "id": "543ee461",
   "metadata": {},
   "source": [
    "Since physichs data can be very small, Each data is multiply by 10 "
   ]
  },
  {
   "cell_type": "code",
   "execution_count": 61,
   "id": "49bc5a7d",
   "metadata": {
    "tags": []
   },
   "outputs": [
    {
     "name": "stdout",
     "output_type": "stream",
     "text": [
      "Epoch 1/10\n",
      "5109/5109 [==============================] - 501s 98ms/step - loss: 6.7950 - mean_absolute_error: 1.3060 - accuracy: 0.0000e+00 - val_loss: 1.3284 - val_mean_absolute_error: 0.7146 - val_accuracy: 0.0000e+00 - lr: 1.0000e-04\n",
      "Epoch 2/10\n",
      "5109/5109 [==============================] - 499s 98ms/step - loss: 1.0709 - mean_absolute_error: 0.6130 - accuracy: 1.2743e-07 - val_loss: 1.0245 - val_mean_absolute_error: 0.5940 - val_accuracy: 0.0000e+00 - lr: 1.0000e-04\n",
      "Epoch 3/10\n",
      "5109/5109 [==============================] - 496s 97ms/step - loss: 0.9919 - mean_absolute_error: 0.5784 - accuracy: 0.0000e+00 - val_loss: 1.0147 - val_mean_absolute_error: 0.5892 - val_accuracy: 0.0000e+00 - lr: 1.0000e-04\n",
      "Epoch 4/10\n",
      "5109/5109 [==============================] - 495s 97ms/step - loss: 0.9888 - mean_absolute_error: 0.5769 - accuracy: 0.0000e+00 - val_loss: 1.0142 - val_mean_absolute_error: 0.5889 - val_accuracy: 0.0000e+00 - lr: 1.0000e-04\n",
      "Epoch 5/10\n",
      "5109/5109 [==============================] - 495s 97ms/step - loss: 0.9886 - mean_absolute_error: 0.5769 - accuracy: 1.2743e-07 - val_loss: 1.0142 - val_mean_absolute_error: 0.5892 - val_accuracy: 0.0000e+00 - lr: 1.0000e-04\n",
      "Epoch 6/10\n",
      "5108/5109 [============================>.] - ETA: 0s - loss: 0.9886 - mean_absolute_error: 0.5768 - accuracy: 1.2746e-07\n",
      "Epoch 6: ReduceLROnPlateau reducing learning rate to 4.999999873689376e-05.\n",
      "5109/5109 [==============================] - 495s 97ms/step - loss: 0.9886 - mean_absolute_error: 0.5768 - accuracy: 1.2743e-07 - val_loss: 1.0143 - val_mean_absolute_error: 0.5895 - val_accuracy: 0.0000e+00 - lr: 1.0000e-04\n",
      "Epoch 7/10\n",
      "5109/5109 [==============================] - 496s 97ms/step - loss: 0.9932 - mean_absolute_error: 0.5771 - accuracy: 2.5486e-07 - val_loss: 1.0105 - val_mean_absolute_error: 0.5861 - val_accuracy: 0.0000e+00 - lr: 5.0000e-05\n",
      "Epoch 8/10\n",
      "5109/5109 [==============================] - 495s 97ms/step - loss: 0.9933 - mean_absolute_error: 0.5768 - accuracy: 0.0000e+00 - val_loss: 1.0103 - val_mean_absolute_error: 0.5861 - val_accuracy: 0.0000e+00 - lr: 5.0000e-05\n",
      "Epoch 9/10\n",
      "5109/5109 [==============================] - 496s 97ms/step - loss: 0.9933 - mean_absolute_error: 0.5768 - accuracy: 1.2743e-07 - val_loss: 1.0104 - val_mean_absolute_error: 0.5861 - val_accuracy: 0.0000e+00 - lr: 5.0000e-05\n",
      "Epoch 10/10\n",
      "5109/5109 [==============================] - 495s 97ms/step - loss: 0.9934 - mean_absolute_error: 0.5768 - accuracy: 0.0000e+00 - val_loss: 1.0102 - val_mean_absolute_error: 0.5862 - val_accuracy: 0.0000e+00 - lr: 5.0000e-05\n",
      "Loss: 0.8987100720405579 MAE: 0.5735021233558655 Accuracy: 0.0\n",
      "INFO:tensorflow:Assets written to: saved_model/MLP_DISCARD_4_DELTA\\assets\n"
     ]
    }
   ],
   "source": [
    "NAME=f\"MLP_DISCARD_{DISCARD}_DELTA\"\n",
    "mlp_ph,history_mlp_ph=model_definitions.MLP_Train(gen_train,gen_val,learning_rate=0.0001,epoch=10,verbose=1,name=NAME,path=\"logs\")\n",
    "\n",
    "ev=mlp_ph.evaluate(gen_test,verbose=0)\n",
    "print(f\"Loss: {ev[0]} MAE: {ev[1]} Accuracy: {ev[2]}\")\n",
    "tf.saved_model.save(mlp_ph,f'saved_model/{NAME}')"
   ]
  },
  {
   "cell_type": "code",
   "execution_count": null,
   "id": "220477fd-dcf0-43ba-8a66-75e4d7745bca",
   "metadata": {
    "jupyter": {
     "source_hidden": true
    },
    "tags": []
   },
   "outputs": [],
   "source": [
    "units=32\n",
    "kernel_size=1\n",
    "filters=32\n",
    "normalization=False\n",
    "cnn_lstm,history_cnn_lstm=model_definitions.CNN_LSTM_Train(gen_train,gen_val,learning_rate=0.0001,patience=10,name=f\"CNN{filters}_{kernel_size}LSTM{units}_Norm{normalization}\",\n",
    "                                                           path=\"logs_350SequenceLength\",epoch=10, dropout=0.2,units=units,kernel_size=kernel_size,\n",
    "                                                           filters=filters, normalization=normalization,verbose=1\n",
    "                                                          )\n",
    "\n",
    "ev=cnn_lstm.evaluate(gen_test,verbose=0)\n",
    "print(f\"Loss: {ev[0]} MAE: {ev[1]} Accuracy: {ev[2]}\")\n",
    "\n",
    "tf.saved_model.save(cnn_lstm,f'saved_model/CNN_LSTM{units}_{kernel_size}_{filters}_PosAssoluta')"
   ]
  },
  {
   "cell_type": "code",
   "execution_count": null,
   "id": "9695dc32",
   "metadata": {
    "tags": []
   },
   "outputs": [
    {
     "name": "stdout",
     "output_type": "stream",
     "text": [
      "Epoch 1/100\n",
      "5109/5109 [==============================] - 506s 98ms/step - loss: 1.2266 - mean_absolute_error: 0.6833 - accuracy: 0.0000e+00 - val_loss: 1.0301 - val_mean_absolute_error: 0.6201 - val_accuracy: 0.0000e+00 - lr: 1.0000e-04\n",
      "Epoch 2/100\n",
      "5109/5109 [==============================] - 501s 98ms/step - loss: 0.8623 - mean_absolute_error: 0.5619 - accuracy: 0.0000e+00 - val_loss: 0.8765 - val_mean_absolute_error: 0.5639 - val_accuracy: 2.5876e-07 - lr: 1.0000e-04\n",
      "Epoch 3/100\n",
      "5109/5109 [==============================] - 501s 98ms/step - loss: 0.7485 - mean_absolute_error: 0.5205 - accuracy: 0.0000e+00 - val_loss: 0.8046 - val_mean_absolute_error: 0.5356 - val_accuracy: 0.0000e+00 - lr: 1.0000e-04\n",
      "Epoch 4/100\n",
      "5109/5109 [==============================] - 501s 98ms/step - loss: 0.6872 - mean_absolute_error: 0.4969 - accuracy: 1.2743e-07 - val_loss: 0.7680 - val_mean_absolute_error: 0.5204 - val_accuracy: 0.0000e+00 - lr: 1.0000e-04\n",
      "Epoch 5/100\n",
      "5109/5109 [==============================] - 503s 98ms/step - loss: 0.6479 - mean_absolute_error: 0.4809 - accuracy: 0.0000e+00 - val_loss: 0.7301 - val_mean_absolute_error: 0.5068 - val_accuracy: 0.0000e+00 - lr: 1.0000e-04\n",
      "Epoch 6/100\n",
      "5109/5109 [==============================] - 501s 98ms/step - loss: 0.6210 - mean_absolute_error: 0.4697 - accuracy: 1.2743e-07 - val_loss: 0.7347 - val_mean_absolute_error: 0.5077 - val_accuracy: 0.0000e+00 - lr: 1.0000e-04\n",
      "Epoch 7/100\n",
      "5108/5109 [============================>.] - ETA: 0s - loss: 0.5991 - mean_absolute_error: 0.4602 - accuracy: 0.0000e+00\n",
      "Epoch 7: ReduceLROnPlateau reducing learning rate to 4.999999873689376e-05.\n",
      "5109/5109 [==============================] - 501s 98ms/step - loss: 0.5990 - mean_absolute_error: 0.4602 - accuracy: 0.0000e+00 - val_loss: 0.7261 - val_mean_absolute_error: 0.5038 - val_accuracy: 0.0000e+00 - lr: 1.0000e-04\n",
      "Epoch 8/100\n",
      "2214/5109 [============>.................] - ETA: 3:11 - loss: 0.6356 - mean_absolute_error: 0.4638 - accuracy: 0.0000e+00"
     ]
    }
   ],
   "source": [
    "lr =1e-4\n",
    "units=64\n",
    "cells=3\n",
    "normalization=False\n",
    "name=f\"LSTM{cells}_{units}_{lr}_DISCARD_{DISCARD}_DELTA\"\n",
    "lstm_ph,history_lstm_ph=model_definitions.LSTM_Train(gen_train,gen_val,learning_rate=lr,patience=6,name=name,path=\"logs\",\n",
    "                                                     epoch=100, dropout=0.2, cells=cells,units=units, normalization=normalization,verbose=1)\n",
    "\n",
    "ev=lstm_ph.evaluate(gen_test,verbose=0)\n",
    "print(f\"Loss: {ev[0]} MAE: {ev[1]} Accuracy: {ev[2]}\")\n",
    "tf.saved_model.save(mlp_ph,f'saved_model/{name}')"
   ]
  },
  {
   "cell_type": "code",
   "execution_count": 27,
   "id": "f5df7839-f920-48fc-a703-e666e4b23d92",
   "metadata": {},
   "outputs": [
    {
     "name": "stderr",
     "output_type": "stream",
     "text": [
      "WARNING:absl:Found untraced functions such as lstm_cell_layer_call_fn, lstm_cell_layer_call_and_return_conditional_losses, lstm_cell_1_layer_call_fn, lstm_cell_1_layer_call_and_return_conditional_losses, lstm_cell_2_layer_call_fn while saving (showing 5 of 6). These functions will not be directly callable after loading.\n"
     ]
    },
    {
     "name": "stdout",
     "output_type": "stream",
     "text": [
      "INFO:tensorflow:Assets written to: saved_model/LSTM2_32_1e-05_NormFalse_PosAssoluta\\assets\n"
     ]
    },
    {
     "name": "stderr",
     "output_type": "stream",
     "text": [
      "INFO:tensorflow:Assets written to: saved_model/LSTM2_32_1e-05_NormFalse_PosAssoluta\\assets\n"
     ]
    }
   ],
   "source": [
    "tf.saved_model.save(lstm_ph,f'saved_model/{name}_PosAssoluta')"
   ]
  },
  {
   "cell_type": "code",
   "execution_count": 19,
   "id": "f7d2267f",
   "metadata": {},
   "outputs": [
    {
     "data": {
      "text/plain": [
       "<tensorflow.python.checkpoint.checkpoint.CheckpointLoadStatus at 0x294ec93b4f0>"
      ]
     },
     "execution_count": 19,
     "metadata": {},
     "output_type": "execute_result"
    }
   ],
   "source": [
    "model=model_definitions.CNN_LSTM_Model(0.2, units=32,filters=32,kernel_size=1, normalization=False)\n",
    "model.load_weights(\"saved_model\\CNN_LSTM32_1_32_PosAssoluta\")"
   ]
  },
  {
   "cell_type": "code",
   "execution_count": 20,
   "id": "615b66fa",
   "metadata": {},
   "outputs": [
    {
     "name": "stdout",
     "output_type": "stream",
     "text": [
      "Model: \"CNN32_1LSTM32\"\n",
      "_________________________________________________________________\n",
      " Layer (type)                Output Shape              Param #   \n",
      "=================================================================\n",
      " input_7 (InputLayer)        [(None, 30, 5)]           0         \n",
      "                                                                 \n",
      " conv1d (Conv1D)             (None, 30, 32)            192       \n",
      "                                                                 \n",
      " max_pooling1d (MaxPooling1D  (None, 30, 32)           0         \n",
      " )                                                               \n",
      "                                                                 \n",
      " lstm_30 (LSTM)              (None, 32)                8320      \n",
      "                                                                 \n",
      " dense_6 (Dense)             (None, 3)                 99        \n",
      "                                                                 \n",
      "=================================================================\n",
      "Total params: 8,611\n",
      "Trainable params: 8,611\n",
      "Non-trainable params: 0\n",
      "_________________________________________________________________\n"
     ]
    }
   ],
   "source": [
    "model.summary()"
   ]
  },
  {
   "cell_type": "code",
   "execution_count": null,
   "id": "8aef0b09",
   "metadata": {},
   "outputs": [],
   "source": [
    "import tf2onnx\n",
    "import onnx\n",
    "input_signature=(tf.TensorSpec([None,30,5],tf.float32,name='x'))\n",
    "onnx_model,_=tf2onnx.converter.from_keras(model,input_signature,opset=9)"
   ]
  },
  {
   "cell_type": "code",
   "execution_count": null,
   "id": "cf5ac715",
   "metadata": {},
   "outputs": [],
   "source": []
  }
 ],
 "metadata": {
  "kernelspec": {
   "display_name": "Python 3 (ipykernel)",
   "language": "python",
   "name": "python3"
  },
  "language_info": {
   "codemirror_mode": {
    "name": "ipython",
    "version": 3
   },
   "file_extension": ".py",
   "mimetype": "text/x-python",
   "name": "python",
   "nbconvert_exporter": "python",
   "pygments_lexer": "ipython3",
   "version": "3.9.16"
  }
 },
 "nbformat": 4,
 "nbformat_minor": 5
}
