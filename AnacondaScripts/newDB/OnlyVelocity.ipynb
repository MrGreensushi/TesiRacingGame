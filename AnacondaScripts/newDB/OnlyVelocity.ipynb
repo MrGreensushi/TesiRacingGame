{
 "cells": [
  {
   "cell_type": "code",
   "execution_count": 1,
   "id": "20fea2a4-8e09-4803-be40-899fe4695d84",
   "metadata": {
    "tags": []
   },
   "outputs": [],
   "source": [
    "%load_ext autoreload\n",
    "%autoreload 2\n",
    "#%reload_ext autoreload"
   ]
  },
  {
   "cell_type": "code",
   "execution_count": 1,
   "id": "45d2e55b",
   "metadata": {
    "tags": []
   },
   "outputs": [],
   "source": [
    "import tensorflow as tf\n",
    "import tensorflow.keras.layers as layers\n",
    "import numpy as np\n",
    "import matplotlib.pyplot as plt\n",
    "import pandas as pd\n",
    "import Generator as Generator \n",
    "import model_definitions"
   ]
  },
  {
   "cell_type": "markdown",
   "id": "4b7f6852",
   "metadata": {},
   "source": [
    "### Open input file"
   ]
  },
  {
   "cell_type": "code",
   "execution_count": 2,
   "id": "e7838b32",
   "metadata": {
    "tags": []
   },
   "outputs": [],
   "source": [
    "class PcPath:\n",
    "    def __init__(self,physic,commPhy):\n",
    "        self.physic=physic\n",
    "        self.commPhy=commPhy\n",
    "        \n",
    "\n",
    "\n",
    "DANIELE=PcPath(r\"C:\\Users\\dansp\\OneDrive\\Desktop\\Tesi\\Logs\\OneCar_db.txt\",\n",
    "               r\"C:\\Users\\dansp\\OneDrive\\Desktop\\Tesi\\Logs\\PhysycAndCommand_db.txt\")\n",
    "POLI=PcPath(r\"D:\\Users\\Students\\Daniele\\records\\OneCar_db.txt\",\n",
    "           r\"D:\\Users\\Students\\Daniele\\records\\PhysycAndCommand_db.txt\")\n",
    "\n",
    "PCS=[DANIELE,POLI]\n",
    "PC_INDEX=1\n",
    "\n",
    "COLUMNS_PHY=[\"Player\", \"X\", \"Z\", \"VEL_X\",\"VEL_Z\",\"ROT\",\"ANG_VEL_Y\",\"ACC_X\",\"ACC_Z\",\"TILE\",\"TILE_IND\",\"X_RELATIVE\",\"Z_RELATIVE\",\"TIME\"]\n",
    "\n",
    "COLUMNS_COMM_PHY=[\"Player\", \"X\", \"Z\", \"VEL_X\",\"VEL_Z\",\"ROT\",\"ANG_VEL_Y\",\"ACC_X\",\"ACC_Z\",\"TILE\",\"TILE_IND\",\"X_RELATIVE\",\"Z_RELATIVE\",\"TIME\",\"MOVE_X\",\"MOVE_Z\",\"BREAKING\"]\n"
   ]
  },
  {
   "cell_type": "code",
   "execution_count": 3,
   "id": "41825ca2",
   "metadata": {
    "tags": []
   },
   "outputs": [],
   "source": [
    "SEQUENCE_LENGTH=50\n",
    "ONE_CAR=True\n",
    "COMM_PHY=False\n",
    "#PATH=r\"C:\\Users\\dansp\\OneDrive\\Desktop\\Tesi\\SCRITTURA\\OneCar_tack1_db.txt\"\n",
    "BATCH_SIZE=256*2\n",
    "FEATURES=7\n",
    "FEATURES_PREDICTED=6\n",
    "DISCARD=9\n",
    "\n",
    "if(COMM_PHY):\n",
    "    PATH=PCS[PC_INDEX].commPhy\n",
    "    FEATURES +=3 #adding the command to the features \n",
    "    COLUMNS=COLUMNS_COMM_PHY\n",
    "else:\n",
    "    PATH=PATH=PCS[PC_INDEX].physic\n",
    "    COLUMNS=COLUMNS_PHY"
   ]
  },
  {
   "cell_type": "code",
   "execution_count": 4,
   "id": "252787ad-4829-467c-8bfa-c15a35435c94",
   "metadata": {
    "tags": []
   },
   "outputs": [],
   "source": [
    "Generator.SEQUENCE_LENGTH=SEQUENCE_LENGTH\n",
    "Generator.FEATURES=FEATURES\n",
    "Generator.DISCARD=DISCARD\n",
    "Generator.COLUMNS=COLUMNS\n",
    "Generator.COMM_PHY=COMM_PHY\n",
    "train,val,test=Generator.single_care_dataframe(PATH)"
   ]
  },
  {
   "cell_type": "code",
   "execution_count": 5,
   "id": "c606f34c",
   "metadata": {
    "tags": []
   },
   "outputs": [],
   "source": [
    "def SubtractDF(df):\n",
    "    return df.groupby(\"RACE\",group_keys=False).apply(Generator.subtraction_columns)\n",
    "\n",
    "def SubtractAndBuildDF(df):\n",
    "    dfs=[]\n",
    "    for i in range(len(df)):\n",
    "        dfs.append(SubtractDF(df[i]))\n",
    "        #dfs.append(df[i])\n",
    "    united=dfs[0]\n",
    "    for i in range(1,len(df)):\n",
    "        united=pd.concat([united,dfs[i] ],ignore_index=True)\n",
    "    return united\n",
    "\n",
    "df_train= SubtractAndBuildDF(train)\n",
    "df_val= SubtractAndBuildDF(val)\n",
    "df_test= SubtractAndBuildDF(test)"
   ]
  },
  {
   "cell_type": "code",
   "execution_count": 6,
   "id": "125a142c-90ad-41ed-bdd0-89476ac9e60c",
   "metadata": {
    "tags": []
   },
   "outputs": [
    {
     "data": {
      "text/html": [
       "<div>\n",
       "<style scoped>\n",
       "    .dataframe tbody tr th:only-of-type {\n",
       "        vertical-align: middle;\n",
       "    }\n",
       "\n",
       "    .dataframe tbody tr th {\n",
       "        vertical-align: top;\n",
       "    }\n",
       "\n",
       "    .dataframe thead th {\n",
       "        text-align: right;\n",
       "    }\n",
       "</style>\n",
       "<table border=\"1\" class=\"dataframe\">\n",
       "  <thead>\n",
       "    <tr style=\"text-align: right;\">\n",
       "      <th></th>\n",
       "      <th>X</th>\n",
       "      <th>Z</th>\n",
       "      <th>VEL_X</th>\n",
       "      <th>VEL_Z</th>\n",
       "      <th>ROT</th>\n",
       "      <th>ANG_VEL_Y</th>\n",
       "      <th>ACC_X</th>\n",
       "      <th>ACC_Z</th>\n",
       "      <th>TILE</th>\n",
       "      <th>TILE_IND</th>\n",
       "      <th>X_RELATIVE</th>\n",
       "      <th>Z_RELATIVE</th>\n",
       "      <th>TIME</th>\n",
       "      <th>RACE</th>\n",
       "      <th>GROUP</th>\n",
       "    </tr>\n",
       "  </thead>\n",
       "  <tbody>\n",
       "    <tr>\n",
       "      <th>0</th>\n",
       "      <td>0.00000</td>\n",
       "      <td>0.00000</td>\n",
       "      <td>0.000000</td>\n",
       "      <td>0.000000</td>\n",
       "      <td>0.0000</td>\n",
       "      <td>0.000000</td>\n",
       "      <td>0.000000</td>\n",
       "      <td>0.000000</td>\n",
       "      <td>4</td>\n",
       "      <td>32</td>\n",
       "      <td>-0.124001</td>\n",
       "      <td>0.389333</td>\n",
       "      <td>0.2</td>\n",
       "      <td>0</td>\n",
       "      <td>0</td>\n",
       "    </tr>\n",
       "    <tr>\n",
       "      <th>1</th>\n",
       "      <td>-0.00066</td>\n",
       "      <td>0.39131</td>\n",
       "      <td>-0.030470</td>\n",
       "      <td>3.676403</td>\n",
       "      <td>-0.0278</td>\n",
       "      <td>-0.024275</td>\n",
       "      <td>-1.523513</td>\n",
       "      <td>16.220290</td>\n",
       "      <td>4</td>\n",
       "      <td>32</td>\n",
       "      <td>-0.124009</td>\n",
       "      <td>0.394551</td>\n",
       "      <td>0.2</td>\n",
       "      <td>0</td>\n",
       "      <td>0</td>\n",
       "    </tr>\n",
       "    <tr>\n",
       "      <th>2</th>\n",
       "      <td>-0.20325</td>\n",
       "      <td>0.98584</td>\n",
       "      <td>-0.372497</td>\n",
       "      <td>2.119079</td>\n",
       "      <td>-5.7426</td>\n",
       "      <td>-0.118653</td>\n",
       "      <td>35.271613</td>\n",
       "      <td>-13.825137</td>\n",
       "      <td>4</td>\n",
       "      <td>32</td>\n",
       "      <td>-0.126719</td>\n",
       "      <td>0.407695</td>\n",
       "      <td>0.2</td>\n",
       "      <td>0</td>\n",
       "      <td>0</td>\n",
       "    </tr>\n",
       "    <tr>\n",
       "      <th>3</th>\n",
       "      <td>-0.27722</td>\n",
       "      <td>1.33862</td>\n",
       "      <td>-0.699331</td>\n",
       "      <td>1.527281</td>\n",
       "      <td>-3.7373</td>\n",
       "      <td>0.280035</td>\n",
       "      <td>-21.201270</td>\n",
       "      <td>1.749897</td>\n",
       "      <td>4</td>\n",
       "      <td>32</td>\n",
       "      <td>-0.130415</td>\n",
       "      <td>0.425544</td>\n",
       "      <td>0.2</td>\n",
       "      <td>0</td>\n",
       "      <td>0</td>\n",
       "    </tr>\n",
       "    <tr>\n",
       "      <th>4</th>\n",
       "      <td>-0.19885</td>\n",
       "      <td>1.60254</td>\n",
       "      <td>-0.089037</td>\n",
       "      <td>1.494527</td>\n",
       "      <td>1.7791</td>\n",
       "      <td>-0.131975</td>\n",
       "      <td>-14.416056</td>\n",
       "      <td>6.210950</td>\n",
       "      <td>4</td>\n",
       "      <td>32</td>\n",
       "      <td>-0.133066</td>\n",
       "      <td>0.446911</td>\n",
       "      <td>0.2</td>\n",
       "      <td>0</td>\n",
       "      <td>0</td>\n",
       "    </tr>\n",
       "  </tbody>\n",
       "</table>\n",
       "</div>"
      ],
      "text/plain": [
       "         X        Z     VEL_X     VEL_Z     ROT  ANG_VEL_Y      ACC_X  \\\n",
       "0  0.00000  0.00000  0.000000  0.000000  0.0000   0.000000   0.000000   \n",
       "1 -0.00066  0.39131 -0.030470  3.676403 -0.0278  -0.024275  -1.523513   \n",
       "2 -0.20325  0.98584 -0.372497  2.119079 -5.7426  -0.118653  35.271613   \n",
       "3 -0.27722  1.33862 -0.699331  1.527281 -3.7373   0.280035 -21.201270   \n",
       "4 -0.19885  1.60254 -0.089037  1.494527  1.7791  -0.131975 -14.416056   \n",
       "\n",
       "       ACC_Z  TILE  TILE_IND  X_RELATIVE  Z_RELATIVE  TIME  RACE  GROUP  \n",
       "0   0.000000     4        32   -0.124001    0.389333   0.2     0      0  \n",
       "1  16.220290     4        32   -0.124009    0.394551   0.2     0      0  \n",
       "2 -13.825137     4        32   -0.126719    0.407695   0.2     0      0  \n",
       "3   1.749897     4        32   -0.130415    0.425544   0.2     0      0  \n",
       "4   6.210950     4        32   -0.133066    0.446911   0.2     0      0  "
      ]
     },
     "execution_count": 6,
     "metadata": {},
     "output_type": "execute_result"
    }
   ],
   "source": [
    "df_train.head()"
   ]
  },
  {
   "cell_type": "code",
   "execution_count": 7,
   "id": "0a0bf9d4-5ce5-4456-b36f-a61e19f60733",
   "metadata": {
    "tags": []
   },
   "outputs": [
    {
     "name": "stdout",
     "output_type": "stream",
     "text": [
      "No NaN values found in the DataFrame.\n"
     ]
    }
   ],
   "source": [
    "def check_nan_values(dataframe):\n",
    "    nan_values = dataframe.isnull().sum()\n",
    "    if nan_values.sum() == 0:\n",
    "        print(\"No NaN values found in the DataFrame.\")\n",
    "    else:\n",
    "        print(\"NaN values found in the DataFrame:\")\n",
    "        for col, count in nan_values.items():\n",
    "            if count > 0:\n",
    "                print(f\"Column '{col}' has {count} NaN value(s) at indexes:\")\n",
    "                nan_indexes = dataframe[dataframe[col].isnull()].index.tolist()\n",
    "                print(nan_indexes)\n",
    "                return nan_indexes\n",
    "                \n",
    "ind=check_nan_values(df_test)"
   ]
  },
  {
   "cell_type": "code",
   "execution_count": 8,
   "id": "6e38c345",
   "metadata": {
    "tags": []
   },
   "outputs": [
    {
     "name": "stdout",
     "output_type": "stream",
     "text": [
      "Length: 2720316 races: 84 n batches: 2678316 / 512\n",
      "Length: 1286892 races: 42 n batches: 1265892 / 512\n",
      "Length: 1303610 races: 42 n batches: 1282610 / 512\n"
     ]
    }
   ],
   "source": [
    "gen_train=Generator.DataGenerator(BATCH_SIZE,df_train,100000)\n",
    "gen_val=Generator.DataGenerator(BATCH_SIZE,df_val,100000)\n",
    "gen_test=Generator.DataGenerator(BATCH_SIZE,df_test,100000)\n"
   ]
  },
  {
   "cell_type": "markdown",
   "id": "1ce93477",
   "metadata": {
    "tags": []
   },
   "source": [
    "### Model definition"
   ]
  },
  {
   "cell_type": "markdown",
   "id": "e9f400a4",
   "metadata": {},
   "source": [
    "#### Train and print"
   ]
  },
  {
   "cell_type": "code",
   "execution_count": 9,
   "id": "2d50ad3a",
   "metadata": {
    "tags": []
   },
   "outputs": [],
   "source": [
    "if(ONE_CAR):\n",
    "    model_definitions.cars=1\n",
    "else:\n",
    "    model_definitions.cars=4\n",
    "model_definitions.features=FEATURES\n",
    "model_definitions.sequence_length=SEQUENCE_LENGTH\n",
    "model_definitions.feat_pred=FEATURES_PREDICTED"
   ]
  },
  {
   "cell_type": "markdown",
   "id": "b1d92d02-082b-47d0-9a36-b42cf8349a43",
   "metadata": {
    "jp-MarkdownHeadingCollapsed": true,
    "tags": []
   },
   "source": [
    "### Rules Model"
   ]
  },
  {
   "cell_type": "code",
   "execution_count": null,
   "id": "cb53b762",
   "metadata": {},
   "outputs": [],
   "source": [
    "lstm,history=LSTM_Train(2,SEQUENCE_LENGTH,4,rules_train,rules_val,learning_rate=0.01,epoch=100, dropout=0.2, cells=6 )\n",
    "\n",
    "ev=lstm.evaluate(rules_test,verbose=0)\n",
    "print(f\"Loss: {ev[0]} MAE: {ev[1]} Accuracy: {ev[2]}\")"
   ]
  },
  {
   "cell_type": "code",
   "execution_count": null,
   "id": "bd1b77a7",
   "metadata": {},
   "outputs": [],
   "source": [
    "lstm2,history=LSTM_Train(2,SEQUENCE_LENGTH,4,rules_train,rules_val,learning_rate=0.002,epoch=100, dropout=0.02, cells=1)\n",
    "\n",
    "ev=lstm2.evaluate(rules_test,verbose=0)\n",
    "print(f\"Loss: {ev[0]} MAE: {ev[1]} Accuracy: {ev[2]}\")"
   ]
  },
  {
   "cell_type": "code",
   "execution_count": null,
   "id": "acc81020",
   "metadata": {},
   "outputs": [],
   "source": [
    "mlp,history=MLP_Train(2,SEQUENCE_LENGTH,4,rules_train,rules_val,learning_rate=0.001,epoch=100)\n",
    "\n",
    "ev=mlp.evaluate(rules_test,verbose=0)\n",
    "print(f\"Loss: {ev[0]} MAE: {ev[1]} Accuracy: {ev[2]}\")"
   ]
  },
  {
   "cell_type": "code",
   "execution_count": null,
   "id": "62dedac7",
   "metadata": {},
   "outputs": [],
   "source": [
    "siamese,history=LSTM_Siamese_Train(2,SEQUENCE_LENGTH,4,rules_train,rules_val,learning_rate=0.001,epoch=100, dropout=0.02, cells=2 )\n",
    "\n",
    "ev=siamese.evaluate(rules_test,verbose=0)\n",
    "print(f\"Loss: {ev[0]} MAE: {ev[1]} Accuracy: {ev[2]}\")"
   ]
  },
  {
   "cell_type": "markdown",
   "id": "995fbcaa",
   "metadata": {
    "tags": []
   },
   "source": [
    "### Physichs Model"
   ]
  },
  {
   "cell_type": "markdown",
   "id": "543ee461",
   "metadata": {},
   "source": [
    "Since physichs data can be very small, Each data is multiply by 10 "
   ]
  },
  {
   "cell_type": "code",
   "execution_count": 41,
   "id": "49bc5a7d",
   "metadata": {
    "tags": []
   },
   "outputs": [
    {
     "name": "stdout",
     "output_type": "stream",
     "text": [
      "2267/2268 [============================>.] - ETA: 0s - loss: 14.1542 - mean_absolute_error: 2.1590 - accuracy: 1.4359e-07INFO:tensorflow:Assets written to: ./new_split_tile_info_CommPhy_DISCARD9/MLP_DISCARD_9_DELTA/tmp\\checkpoint\\assets\n"
     ]
    },
    {
     "name": "stderr",
     "output_type": "stream",
     "text": [
      "INFO:tensorflow:Assets written to: ./new_split_tile_info_CommPhy_DISCARD9/MLP_DISCARD_9_DELTA/tmp\\checkpoint\\assets\n"
     ]
    },
    {
     "name": "stdout",
     "output_type": "stream",
     "text": [
      "2268/2268 [==============================] - 255s 112ms/step - loss: 14.1497 - mean_absolute_error: 2.1586 - accuracy: 1.4353e-07 - val_loss: 6.3993 - val_mean_absolute_error: 1.3000 - val_accuracy: 0.0000e+00 - lr: 1.0000e-04\n",
      "Loss: 6.83797550201416 MAE: 1.299050211906433 Accuracy: 2.8730877943417e-07\n"
     ]
    }
   ],
   "source": [
    "NAME=f\"MLP_DISCARD_{DISCARD}_DELTA\"\n",
    "mlp_ph,history_mlp_ph=model_definitions.MLP_Train(gen_train,\n",
    "                                                  gen_val,\n",
    "                                                  learning_rate=0.0001,\n",
    "                                                  epoch=1,\n",
    "                                                  verbose=1,\n",
    "                                                  name=NAME\n",
    "                                                  ,path=f\"new_split_tile_info_CommPhy_DISCARD{DISCARD}\")\n",
    "\n",
    "ev=mlp_ph.evaluate(gen_test,verbose=0)\n",
    "print(f\"Loss: {ev[0]} MAE: {ev[1]} Accuracy: {ev[2]}\")\n",
    "#tf.saved_model.save(mlp_ph,f'saved_model/{NAME}')"
   ]
  },
  {
   "cell_type": "code",
   "execution_count": null,
   "id": "220477fd-dcf0-43ba-8a66-75e4d7745bca",
   "metadata": {
    "collapsed": true,
    "jupyter": {
     "outputs_hidden": true,
     "source_hidden": true
    },
    "tags": []
   },
   "outputs": [],
   "source": [
    "units=32\n",
    "kernel_size=1\n",
    "filters=32\n",
    "normalization=False\n",
    "cnn_lstm,history_cnn_lstm=model_definitions.CNN_LSTM_Train(gen_train,gen_val,learning_rate=0.0001,patience=10,name=f\"CNN{filters}_{kernel_size}LSTM{units}_Norm{normalization}\",\n",
    "                                                           path=\"logs_350SequenceLength\",epoch=10, dropout=0.2,units=units,kernel_size=kernel_size,\n",
    "                                                           filters=filters, normalization=normalization,verbose=1\n",
    "                                                          )\n",
    "\n",
    "ev=cnn_lstm.evaluate(gen_test,verbose=0)\n",
    "print(f\"Loss: {ev[0]} MAE: {ev[1]} Accuracy: {ev[2]}\")\n",
    "\n",
    "tf.saved_model.save(cnn_lstm,f'saved_model/CNN_LSTM{units}_{kernel_size}_{filters}_PosAssoluta')"
   ]
  },
  {
   "cell_type": "code",
   "execution_count": null,
   "id": "9695dc32",
   "metadata": {
    "tags": []
   },
   "outputs": [
    {
     "name": "stdout",
     "output_type": "stream",
     "text": [
      "Epoch 1/100\n",
      "5229/5229 [==============================] - ETA: 0s - loss: 1.9480 - mean_absolute_error: 0.6611 - accuracy: 1.8676e-07"
     ]
    },
    {
     "name": "stderr",
     "output_type": "stream",
     "text": [
      "WARNING:absl:Found untraced functions such as lstm_cell_layer_call_fn, lstm_cell_layer_call_and_return_conditional_losses, lstm_cell_1_layer_call_fn, lstm_cell_1_layer_call_and_return_conditional_losses, lstm_cell_2_layer_call_fn while saving (showing 5 of 14). These functions will not be directly callable after loading.\n"
     ]
    },
    {
     "name": "stdout",
     "output_type": "stream",
     "text": [
      "INFO:tensorflow:Assets written to: ./new_split_tile_info_DISCARD9/LSTM6_512_0.0001_9_MLP_3_64_DROPOUT_0.4/tmp\\checkpoint\\assets\n"
     ]
    },
    {
     "name": "stderr",
     "output_type": "stream",
     "text": [
      "INFO:tensorflow:Assets written to: ./new_split_tile_info_DISCARD9/LSTM6_512_0.0001_9_MLP_3_64_DROPOUT_0.4/tmp\\checkpoint\\assets\n"
     ]
    },
    {
     "name": "stdout",
     "output_type": "stream",
     "text": [
      "5229/5229 [==============================] - 1072s 204ms/step - loss: 1.9480 - mean_absolute_error: 0.6611 - accuracy: 1.8676e-07 - val_loss: 8.2946 - val_mean_absolute_error: 1.5004 - val_accuracy: 0.0000e+00 - lr: 1.0000e-04\n",
      "Epoch 2/100\n",
      "5229/5229 [==============================] - ETA: 0s - loss: 1.3430 - mean_absolute_error: 0.5351 - accuracy: 5.6028e-07"
     ]
    },
    {
     "name": "stderr",
     "output_type": "stream",
     "text": [
      "WARNING:absl:Found untraced functions such as lstm_cell_layer_call_fn, lstm_cell_layer_call_and_return_conditional_losses, lstm_cell_1_layer_call_fn, lstm_cell_1_layer_call_and_return_conditional_losses, lstm_cell_2_layer_call_fn while saving (showing 5 of 14). These functions will not be directly callable after loading.\n"
     ]
    },
    {
     "name": "stdout",
     "output_type": "stream",
     "text": [
      "INFO:tensorflow:Assets written to: ./new_split_tile_info_DISCARD9/LSTM6_512_0.0001_9_MLP_3_64_DROPOUT_0.4/tmp\\checkpoint\\assets\n"
     ]
    },
    {
     "name": "stderr",
     "output_type": "stream",
     "text": [
      "INFO:tensorflow:Assets written to: ./new_split_tile_info_DISCARD9/LSTM6_512_0.0001_9_MLP_3_64_DROPOUT_0.4/tmp\\checkpoint\\assets\n"
     ]
    },
    {
     "name": "stdout",
     "output_type": "stream",
     "text": [
      "5229/5229 [==============================] - 1060s 203ms/step - loss: 1.3430 - mean_absolute_error: 0.5351 - accuracy: 5.6028e-07 - val_loss: 7.7681 - val_mean_absolute_error: 1.4469 - val_accuracy: 2.6358e-07 - lr: 1.0000e-04\n",
      "Epoch 3/100\n",
      "5229/5229 [==============================] - ETA: 0s - loss: 1.1615 - mean_absolute_error: 0.4929 - accuracy: 6.2253e-07"
     ]
    },
    {
     "name": "stderr",
     "output_type": "stream",
     "text": [
      "WARNING:absl:Found untraced functions such as lstm_cell_layer_call_fn, lstm_cell_layer_call_and_return_conditional_losses, lstm_cell_1_layer_call_fn, lstm_cell_1_layer_call_and_return_conditional_losses, lstm_cell_2_layer_call_fn while saving (showing 5 of 14). These functions will not be directly callable after loading.\n"
     ]
    },
    {
     "name": "stdout",
     "output_type": "stream",
     "text": [
      "INFO:tensorflow:Assets written to: ./new_split_tile_info_DISCARD9/LSTM6_512_0.0001_9_MLP_3_64_DROPOUT_0.4/tmp\\checkpoint\\assets\n"
     ]
    },
    {
     "name": "stderr",
     "output_type": "stream",
     "text": [
      "INFO:tensorflow:Assets written to: ./new_split_tile_info_DISCARD9/LSTM6_512_0.0001_9_MLP_3_64_DROPOUT_0.4/tmp\\checkpoint\\assets\n"
     ]
    },
    {
     "name": "stdout",
     "output_type": "stream",
     "text": [
      "5229/5229 [==============================] - 1057s 202ms/step - loss: 1.1615 - mean_absolute_error: 0.4929 - accuracy: 6.2253e-07 - val_loss: 6.1958 - val_mean_absolute_error: 1.3051 - val_accuracy: 1.3179e-07 - lr: 1.0000e-04\n",
      "Epoch 4/100\n",
      "5229/5229 [==============================] - ETA: 0s - loss: 1.0485 - mean_absolute_error: 0.4660 - accuracy: 6.8478e-07"
     ]
    },
    {
     "name": "stderr",
     "output_type": "stream",
     "text": [
      "WARNING:absl:Found untraced functions such as lstm_cell_layer_call_fn, lstm_cell_layer_call_and_return_conditional_losses, lstm_cell_1_layer_call_fn, lstm_cell_1_layer_call_and_return_conditional_losses, lstm_cell_2_layer_call_fn while saving (showing 5 of 14). These functions will not be directly callable after loading.\n"
     ]
    },
    {
     "name": "stdout",
     "output_type": "stream",
     "text": [
      "INFO:tensorflow:Assets written to: ./new_split_tile_info_DISCARD9/LSTM6_512_0.0001_9_MLP_3_64_DROPOUT_0.4/tmp\\checkpoint\\assets\n"
     ]
    },
    {
     "name": "stderr",
     "output_type": "stream",
     "text": [
      "INFO:tensorflow:Assets written to: ./new_split_tile_info_DISCARD9/LSTM6_512_0.0001_9_MLP_3_64_DROPOUT_0.4/tmp\\checkpoint\\assets\n"
     ]
    },
    {
     "name": "stdout",
     "output_type": "stream",
     "text": [
      "5229/5229 [==============================] - 1032s 197ms/step - loss: 1.0485 - mean_absolute_error: 0.4660 - accuracy: 6.8478e-07 - val_loss: 6.0817 - val_mean_absolute_error: 1.2400 - val_accuracy: 3.9537e-07 - lr: 1.0000e-04\n",
      "Epoch 5/100\n",
      "5229/5229 [==============================] - ETA: 0s - loss: 0.9638 - mean_absolute_error: 0.4445 - accuracy: 8.0929e-07"
     ]
    },
    {
     "name": "stderr",
     "output_type": "stream",
     "text": [
      "WARNING:absl:Found untraced functions such as lstm_cell_layer_call_fn, lstm_cell_layer_call_and_return_conditional_losses, lstm_cell_1_layer_call_fn, lstm_cell_1_layer_call_and_return_conditional_losses, lstm_cell_2_layer_call_fn while saving (showing 5 of 14). These functions will not be directly callable after loading.\n"
     ]
    },
    {
     "name": "stdout",
     "output_type": "stream",
     "text": [
      "INFO:tensorflow:Assets written to: ./new_split_tile_info_DISCARD9/LSTM6_512_0.0001_9_MLP_3_64_DROPOUT_0.4/tmp\\checkpoint\\assets\n"
     ]
    },
    {
     "name": "stderr",
     "output_type": "stream",
     "text": [
      "INFO:tensorflow:Assets written to: ./new_split_tile_info_DISCARD9/LSTM6_512_0.0001_9_MLP_3_64_DROPOUT_0.4/tmp\\checkpoint\\assets\n"
     ]
    },
    {
     "name": "stdout",
     "output_type": "stream",
     "text": [
      "5229/5229 [==============================] - 1024s 196ms/step - loss: 0.9638 - mean_absolute_error: 0.4445 - accuracy: 8.0929e-07 - val_loss: 4.7311 - val_mean_absolute_error: 1.1080 - val_accuracy: 3.9537e-07 - lr: 1.0000e-04\n",
      "Epoch 6/100\n",
      "5229/5229 [==============================] - ETA: 0s - loss: 0.9098 - mean_absolute_error: 0.4300 - accuracy: 6.8478e-07"
     ]
    },
    {
     "name": "stderr",
     "output_type": "stream",
     "text": [
      "WARNING:absl:Found untraced functions such as lstm_cell_layer_call_fn, lstm_cell_layer_call_and_return_conditional_losses, lstm_cell_1_layer_call_fn, lstm_cell_1_layer_call_and_return_conditional_losses, lstm_cell_2_layer_call_fn while saving (showing 5 of 14). These functions will not be directly callable after loading.\n"
     ]
    },
    {
     "name": "stdout",
     "output_type": "stream",
     "text": [
      "INFO:tensorflow:Assets written to: ./new_split_tile_info_DISCARD9/LSTM6_512_0.0001_9_MLP_3_64_DROPOUT_0.4/tmp\\checkpoint\\assets\n"
     ]
    },
    {
     "name": "stderr",
     "output_type": "stream",
     "text": [
      "INFO:tensorflow:Assets written to: ./new_split_tile_info_DISCARD9/LSTM6_512_0.0001_9_MLP_3_64_DROPOUT_0.4/tmp\\checkpoint\\assets\n"
     ]
    },
    {
     "name": "stdout",
     "output_type": "stream",
     "text": [
      "5229/5229 [==============================] - 1024s 196ms/step - loss: 0.9098 - mean_absolute_error: 0.4300 - accuracy: 6.8478e-07 - val_loss: 4.2644 - val_mean_absolute_error: 1.0242 - val_accuracy: 9.2253e-07 - lr: 1.0000e-04\n",
      "Epoch 7/100\n",
      "5229/5229 [==============================] - ETA: 0s - loss: 0.8642 - mean_absolute_error: 0.4178 - accuracy: 6.8478e-07"
     ]
    },
    {
     "name": "stderr",
     "output_type": "stream",
     "text": [
      "WARNING:absl:Found untraced functions such as lstm_cell_layer_call_fn, lstm_cell_layer_call_and_return_conditional_losses, lstm_cell_1_layer_call_fn, lstm_cell_1_layer_call_and_return_conditional_losses, lstm_cell_2_layer_call_fn while saving (showing 5 of 14). These functions will not be directly callable after loading.\n"
     ]
    },
    {
     "name": "stdout",
     "output_type": "stream",
     "text": [
      "INFO:tensorflow:Assets written to: ./new_split_tile_info_DISCARD9/LSTM6_512_0.0001_9_MLP_3_64_DROPOUT_0.4/tmp\\checkpoint\\assets\n"
     ]
    },
    {
     "name": "stderr",
     "output_type": "stream",
     "text": [
      "INFO:tensorflow:Assets written to: ./new_split_tile_info_DISCARD9/LSTM6_512_0.0001_9_MLP_3_64_DROPOUT_0.4/tmp\\checkpoint\\assets\n"
     ]
    },
    {
     "name": "stdout",
     "output_type": "stream",
     "text": [
      "5229/5229 [==============================] - 1022s 195ms/step - loss: 0.8642 - mean_absolute_error: 0.4178 - accuracy: 6.8478e-07 - val_loss: 3.3489 - val_mean_absolute_error: 0.9102 - val_accuracy: 7.9074e-07 - lr: 1.0000e-04\n",
      "Epoch 8/100\n",
      "5229/5229 [==============================] - ETA: 0s - loss: 0.8288 - mean_absolute_error: 0.4084 - accuracy: 1.2451e-06"
     ]
    },
    {
     "name": "stderr",
     "output_type": "stream",
     "text": [
      "WARNING:absl:Found untraced functions such as lstm_cell_layer_call_fn, lstm_cell_layer_call_and_return_conditional_losses, lstm_cell_1_layer_call_fn, lstm_cell_1_layer_call_and_return_conditional_losses, lstm_cell_2_layer_call_fn while saving (showing 5 of 14). These functions will not be directly callable after loading.\n"
     ]
    },
    {
     "name": "stdout",
     "output_type": "stream",
     "text": [
      "INFO:tensorflow:Assets written to: ./new_split_tile_info_DISCARD9/LSTM6_512_0.0001_9_MLP_3_64_DROPOUT_0.4/tmp\\checkpoint\\assets\n"
     ]
    },
    {
     "name": "stderr",
     "output_type": "stream",
     "text": [
      "INFO:tensorflow:Assets written to: ./new_split_tile_info_DISCARD9/LSTM6_512_0.0001_9_MLP_3_64_DROPOUT_0.4/tmp\\checkpoint\\assets\n"
     ]
    },
    {
     "name": "stdout",
     "output_type": "stream",
     "text": [
      "5229/5229 [==============================] - 1022s 195ms/step - loss: 0.8288 - mean_absolute_error: 0.4084 - accuracy: 1.2451e-06 - val_loss: 2.8749 - val_mean_absolute_error: 0.8172 - val_accuracy: 0.0000e+00 - lr: 1.0000e-04\n",
      "Epoch 9/100\n",
      "5229/5229 [==============================] - 1008s 193ms/step - loss: 0.8000 - mean_absolute_error: 0.3996 - accuracy: 1.4318e-06 - val_loss: 3.0052 - val_mean_absolute_error: 0.8315 - val_accuracy: 9.2253e-07 - lr: 1.0000e-04\n",
      "Epoch 10/100\n",
      "5229/5229 [==============================] - 1009s 193ms/step - loss: 0.7743 - mean_absolute_error: 0.3923 - accuracy: 9.9605e-07 - val_loss: 3.0718 - val_mean_absolute_error: 0.8368 - val_accuracy: 9.2253e-07 - lr: 1.0000e-04\n",
      "Epoch 11/100\n",
      "5229/5229 [==============================] - ETA: 0s - loss: 0.7544 - mean_absolute_error: 0.3866 - accuracy: 6.8478e-07"
     ]
    },
    {
     "name": "stderr",
     "output_type": "stream",
     "text": [
      "WARNING:absl:Found untraced functions such as lstm_cell_layer_call_fn, lstm_cell_layer_call_and_return_conditional_losses, lstm_cell_1_layer_call_fn, lstm_cell_1_layer_call_and_return_conditional_losses, lstm_cell_2_layer_call_fn while saving (showing 5 of 14). These functions will not be directly callable after loading.\n"
     ]
    },
    {
     "name": "stdout",
     "output_type": "stream",
     "text": [
      "INFO:tensorflow:Assets written to: ./new_split_tile_info_DISCARD9/LSTM6_512_0.0001_9_MLP_3_64_DROPOUT_0.4/tmp\\checkpoint\\assets\n"
     ]
    },
    {
     "name": "stderr",
     "output_type": "stream",
     "text": [
      "INFO:tensorflow:Assets written to: ./new_split_tile_info_DISCARD9/LSTM6_512_0.0001_9_MLP_3_64_DROPOUT_0.4/tmp\\checkpoint\\assets\n"
     ]
    },
    {
     "name": "stdout",
     "output_type": "stream",
     "text": [
      "5229/5229 [==============================] - 1024s 196ms/step - loss: 0.7544 - mean_absolute_error: 0.3866 - accuracy: 6.8478e-07 - val_loss: 2.8251 - val_mean_absolute_error: 0.7977 - val_accuracy: 2.6358e-07 - lr: 1.0000e-04\n",
      "Epoch 12/100\n",
      "5229/5229 [==============================] - ETA: 0s - loss: 0.7323 - mean_absolute_error: 0.3805 - accuracy: 8.0929e-07"
     ]
    },
    {
     "name": "stderr",
     "output_type": "stream",
     "text": [
      "WARNING:absl:Found untraced functions such as lstm_cell_layer_call_fn, lstm_cell_layer_call_and_return_conditional_losses, lstm_cell_1_layer_call_fn, lstm_cell_1_layer_call_and_return_conditional_losses, lstm_cell_2_layer_call_fn while saving (showing 5 of 14). These functions will not be directly callable after loading.\n"
     ]
    },
    {
     "name": "stdout",
     "output_type": "stream",
     "text": [
      "INFO:tensorflow:Assets written to: ./new_split_tile_info_DISCARD9/LSTM6_512_0.0001_9_MLP_3_64_DROPOUT_0.4/tmp\\checkpoint\\assets\n"
     ]
    },
    {
     "name": "stderr",
     "output_type": "stream",
     "text": [
      "INFO:tensorflow:Assets written to: ./new_split_tile_info_DISCARD9/LSTM6_512_0.0001_9_MLP_3_64_DROPOUT_0.4/tmp\\checkpoint\\assets\n"
     ]
    },
    {
     "name": "stdout",
     "output_type": "stream",
     "text": [
      "5229/5229 [==============================] - 1022s 195ms/step - loss: 0.7323 - mean_absolute_error: 0.3805 - accuracy: 8.0929e-07 - val_loss: 2.6679 - val_mean_absolute_error: 0.7740 - val_accuracy: 1.0543e-06 - lr: 1.0000e-04\n",
      "Epoch 13/100\n",
      "5229/5229 [==============================] - 1008s 192ms/step - loss: 0.7168 - mean_absolute_error: 0.3755 - accuracy: 6.2253e-07 - val_loss: 2.8258 - val_mean_absolute_error: 0.8007 - val_accuracy: 7.9074e-07 - lr: 1.0000e-04\n",
      "Epoch 14/100\n",
      "5229/5229 [==============================] - ETA: 0s - loss: 0.7026 - mean_absolute_error: 0.3713 - accuracy: 1.6808e-06"
     ]
    },
    {
     "name": "stderr",
     "output_type": "stream",
     "text": [
      "WARNING:absl:Found untraced functions such as lstm_cell_layer_call_fn, lstm_cell_layer_call_and_return_conditional_losses, lstm_cell_1_layer_call_fn, lstm_cell_1_layer_call_and_return_conditional_losses, lstm_cell_2_layer_call_fn while saving (showing 5 of 14). These functions will not be directly callable after loading.\n"
     ]
    },
    {
     "name": "stdout",
     "output_type": "stream",
     "text": [
      "INFO:tensorflow:Assets written to: ./new_split_tile_info_DISCARD9/LSTM6_512_0.0001_9_MLP_3_64_DROPOUT_0.4/tmp\\checkpoint\\assets\n"
     ]
    },
    {
     "name": "stderr",
     "output_type": "stream",
     "text": [
      "INFO:tensorflow:Assets written to: ./new_split_tile_info_DISCARD9/LSTM6_512_0.0001_9_MLP_3_64_DROPOUT_0.4/tmp\\checkpoint\\assets\n"
     ]
    },
    {
     "name": "stdout",
     "output_type": "stream",
     "text": [
      "5229/5229 [==============================] - 1023s 195ms/step - loss: 0.7026 - mean_absolute_error: 0.3713 - accuracy: 1.6808e-06 - val_loss: 2.6087 - val_mean_absolute_error: 0.7670 - val_accuracy: 1.1861e-06 - lr: 1.0000e-04\n",
      "Epoch 15/100\n",
      "5229/5229 [==============================] - ETA: 0s - loss: 0.6877 - mean_absolute_error: 0.3671 - accuracy: 7.4704e-07"
     ]
    },
    {
     "name": "stderr",
     "output_type": "stream",
     "text": [
      "WARNING:absl:Found untraced functions such as lstm_cell_layer_call_fn, lstm_cell_layer_call_and_return_conditional_losses, lstm_cell_1_layer_call_fn, lstm_cell_1_layer_call_and_return_conditional_losses, lstm_cell_2_layer_call_fn while saving (showing 5 of 14). These functions will not be directly callable after loading.\n"
     ]
    },
    {
     "name": "stdout",
     "output_type": "stream",
     "text": [
      "INFO:tensorflow:Assets written to: ./new_split_tile_info_DISCARD9/LSTM6_512_0.0001_9_MLP_3_64_DROPOUT_0.4/tmp\\checkpoint\\assets\n"
     ]
    },
    {
     "name": "stderr",
     "output_type": "stream",
     "text": [
      "INFO:tensorflow:Assets written to: ./new_split_tile_info_DISCARD9/LSTM6_512_0.0001_9_MLP_3_64_DROPOUT_0.4/tmp\\checkpoint\\assets\n"
     ]
    },
    {
     "name": "stdout",
     "output_type": "stream",
     "text": [
      "5229/5229 [==============================] - 1023s 195ms/step - loss: 0.6877 - mean_absolute_error: 0.3671 - accuracy: 7.4704e-07 - val_loss: 2.3236 - val_mean_absolute_error: 0.7139 - val_accuracy: 6.5895e-07 - lr: 1.0000e-04\n",
      "Epoch 16/100\n",
      "5229/5229 [==============================] - 1008s 193ms/step - loss: 0.6733 - mean_absolute_error: 0.3633 - accuracy: 1.1828e-06 - val_loss: 2.9369 - val_mean_absolute_error: 0.8041 - val_accuracy: 9.2253e-07 - lr: 1.0000e-04\n",
      "Epoch 17/100\n",
      "5229/5229 [==============================] - 1006s 192ms/step - loss: 0.6612 - mean_absolute_error: 0.3596 - accuracy: 1.0583e-06 - val_loss: 2.7008 - val_mean_absolute_error: 0.7672 - val_accuracy: 9.2253e-07 - lr: 1.0000e-04\n",
      "Epoch 18/100\n",
      "5198/5229 [============================>.] - ETA: 4s - loss: 0.6518 - mean_absolute_error: 0.3564 - accuracy: 1.0020e-06"
     ]
    }
   ],
   "source": [
    "lr =1e-4\n",
    "units=512\n",
    "cells=6\n",
    "normalization=False\n",
    "mlp_units=64\n",
    "mlp_cells=3\n",
    "dropout=0.4\n",
    "name=f\"LSTM{cells}_{units}_{lr}_{DISCARD}_MLP_{mlp_cells}_{mlp_units}_DROPOUT_{dropout}\"\n",
    "lstm_ph,history_lstm_ph=model_definitions.LSTM_Train(\n",
    "    gen_train,\n",
    "    gen_val,\n",
    "    learning_rate=lr,\n",
    "    patience=15,\n",
    "    name=name,\n",
    "    path=f\"new_split_tile_info_DISCARD{DISCARD}\",\n",
    "    epoch=100, \n",
    "    dropout=dropout,\n",
    "    cells=cells,\n",
    "    units=units,\n",
    "    mlp_units=mlp_units,\n",
    "    mlp_cells=mlp_cells,\n",
    "    normalization=normalization,\n",
    "    verbose=1\n",
    ")\n",
    "ev=lstm_ph.evaluate(gen_test,verbose=0)\n",
    "print(f\"Loss: {ev[0]} MAE: {ev[1]} Accuracy: {ev[2]}\")\n",
    "#tf.saved_model.save(lstm_ph,f'saved_model/{name}')"
   ]
  },
  {
   "cell_type": "code",
   "execution_count": 43,
   "id": "400ab8c7",
   "metadata": {
    "tags": []
   },
   "outputs": [
    {
     "name": "stdout",
     "output_type": "stream",
     "text": [
      "Model: \"LSTM_NN1\"\n",
      "_________________________________________________________________\n",
      " Layer (type)                Output Shape              Param #   \n",
      "=================================================================\n",
      " input_3 (InputLayer)        [(None, 20, 10)]          0         \n",
      "                                                                 \n",
      " lstm_4 (LSTM)               (None, 20, 64)            19200     \n",
      "                                                                 \n",
      " batch_normalization_2 (Batc  (None, 20, 64)           256       \n",
      " hNormalization)                                                 \n",
      "                                                                 \n",
      " lstm_5 (LSTM)               (None, 64)                33024     \n",
      "                                                                 \n",
      " flatten_2 (Flatten)         (None, 64)                0         \n",
      "                                                                 \n",
      " dense_4 (Dense)             (None, 64)                4160      \n",
      "                                                                 \n",
      " dense_5 (Dense)             (None, 64)                4160      \n",
      "                                                                 \n",
      " dense_6 (Dense)             (None, 6)                 390       \n",
      "                                                                 \n",
      "=================================================================\n",
      "Total params: 61,190\n",
      "Trainable params: 61,062\n",
      "Non-trainable params: 128\n",
      "_________________________________________________________________\n"
     ]
    }
   ],
   "source": [
    "lstm_ph.summary()"
   ]
  },
  {
   "cell_type": "code",
   "execution_count": null,
   "id": "d94b465e",
   "metadata": {},
   "outputs": [],
   "source": [
    "test[1].shape"
   ]
  },
  {
   "cell_type": "code",
   "execution_count": null,
   "id": "6f170073",
   "metadata": {},
   "outputs": [],
   "source": [
    "y_pred = lstm_ph.predict(gen_test)\n"
   ]
  },
  {
   "cell_type": "code",
   "execution_count": null,
   "id": "f789c05e",
   "metadata": {},
   "outputs": [],
   "source": [
    "y_pred"
   ]
  },
  {
   "cell_type": "code",
   "execution_count": null,
   "id": "13f0fa34",
   "metadata": {},
   "outputs": [],
   "source": [
    "ev"
   ]
  },
  {
   "cell_type": "code",
   "execution_count": null,
   "id": "f5df7839-f920-48fc-a703-e666e4b23d92",
   "metadata": {},
   "outputs": [],
   "source": [
    "lr =1e-3\n",
    "units=512\n",
    "cells=8\n",
    "normalization=False\n",
    "name=f\"LSTM{cells}_{units}_{lr}_DISCARD_{DISCARD}_DELTA\"\n",
    "lstm_ph,history_lstm_ph=model_definitions.LSTM_Train(gen_train,gen_val,learning_rate=lr,patience=50,name=name,path=\"logs\",\n",
    "                                                     epoch=100, dropout=0.2, cells=cells,units=units, normalization=normalization,verbose=1)\n",
    "\n",
    "ev=lstm_ph.evaluate(gen_test,verbose=0)\n",
    "print(f\"Loss: {ev[0]} MAE: {ev[1]} Accuracy: {ev[2]}\")\n",
    "tf.saved_model.save(lstm_ph,f'saved_model/{name}')"
   ]
  },
  {
   "cell_type": "code",
   "execution_count": null,
   "id": "2290a708",
   "metadata": {
    "tags": []
   },
   "outputs": [],
   "source": [
    "tf.saved_model.save(lstm_ph,f'saved_model/{name}')"
   ]
  },
  {
   "cell_type": "code",
   "execution_count": null,
   "id": "f7d2267f",
   "metadata": {},
   "outputs": [],
   "source": [
    "model=model_definitions.MLP_Model(32)\n",
    "model.load_weights(\"saved_model\\MLP0001_PosAssoluta\")"
   ]
  },
  {
   "cell_type": "code",
   "execution_count": null,
   "id": "615b66fa",
   "metadata": {},
   "outputs": [],
   "source": [
    "model.summary()"
   ]
  },
  {
   "cell_type": "code",
   "execution_count": null,
   "id": "8aef0b09",
   "metadata": {},
   "outputs": [],
   "source": [
    "zero=gen_test[0]\n",
    "toP=zero[0][0]\n",
    "pred=zero[1][0]\n",
    "print(toP)\n",
    "print(pred)\n",
    "model.predict(toP)"
   ]
  },
  {
   "cell_type": "code",
   "execution_count": null,
   "id": "cf5ac715",
   "metadata": {},
   "outputs": [],
   "source": [
    "import tf2onnx\n",
    "import onnx\n",
    "input_signature=(tf.TensorSpec([None,SEQUENCE_LENGTH,FEATURES],tf.float32,name='x'))\n",
    "onnx_model,_=tf2onnx.converter.from_keras(model,input_signature,opset=9)"
   ]
  },
  {
   "cell_type": "code",
   "execution_count": null,
   "id": "8be7adab",
   "metadata": {},
   "outputs": [],
   "source": []
  },
  {
   "cell_type": "code",
   "execution_count": null,
   "id": "fa35bac2",
   "metadata": {},
   "outputs": [],
   "source": [
    "races=united[\"RACE\"].max()\n",
    "print(races*0.5)\n",
    "training=united.loc[united['RACE'] <= races*0.5]\n",
    "training.tail(10)"
   ]
  },
  {
   "cell_type": "code",
   "execution_count": null,
   "id": "d08b491a",
   "metadata": {},
   "outputs": [],
   "source": [
    "t=df_train[\"ROT\"].idxmax()\n",
    "df_train.iloc[t-2:t+3]"
   ]
  }
 ],
 "metadata": {
  "kernelspec": {
   "display_name": "Python 3 (ipykernel)",
   "language": "python",
   "name": "python3"
  },
  "language_info": {
   "codemirror_mode": {
    "name": "ipython",
    "version": 3
   },
   "file_extension": ".py",
   "mimetype": "text/x-python",
   "name": "python",
   "nbconvert_exporter": "python",
   "pygments_lexer": "ipython3",
   "version": "3.9.16"
  }
 },
 "nbformat": 4,
 "nbformat_minor": 5
}
